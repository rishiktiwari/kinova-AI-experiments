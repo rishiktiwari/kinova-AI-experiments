{
 "cells": [
  {
   "cell_type": "code",
   "execution_count": 1,
   "metadata": {},
   "outputs": [],
   "source": [
    "import time\n",
    "import ast\n",
    "from llama_cpp import Llama\n",
    "import re\n",
    "import pandas as pd\n",
    "\n",
    "from IPython.display import display, HTML"
   ]
  },
  {
   "cell_type": "code",
   "execution_count": 2,
   "metadata": {},
   "outputs": [
    {
     "name": "stderr",
     "output_type": "stream",
     "text": [
      "llama_model_loader: loaded meta data with 25 key-value pairs and 291 tensors from ./llm_models/Phi-3-mini-4k-instruct-q4.gguf (version GGUF V3 (latest))\n",
      "llama_model_loader: Dumping metadata keys/values. Note: KV overrides do not apply in this output.\n",
      "llama_model_loader: - kv   0:                       general.architecture str              = llama\n",
      "llama_model_loader: - kv   1:                               general.name str              = LLaMA v2\n",
      "llama_model_loader: - kv   2:                           llama.vocab_size u32              = 32064\n",
      "llama_model_loader: - kv   3:                       llama.context_length u32              = 4096\n",
      "llama_model_loader: - kv   4:                     llama.embedding_length u32              = 3072\n",
      "llama_model_loader: - kv   5:                          llama.block_count u32              = 32\n",
      "llama_model_loader: - kv   6:                  llama.feed_forward_length u32              = 8192\n",
      "llama_model_loader: - kv   7:                 llama.rope.dimension_count u32              = 96\n",
      "llama_model_loader: - kv   8:                 llama.attention.head_count u32              = 32\n",
      "llama_model_loader: - kv   9:              llama.attention.head_count_kv u32              = 32\n",
      "llama_model_loader: - kv  10:     llama.attention.layer_norm_rms_epsilon f32              = 0.000010\n",
      "llama_model_loader: - kv  11:                       llama.rope.freq_base f32              = 10000.000000\n",
      "llama_model_loader: - kv  12:                          general.file_type u32              = 15\n",
      "llama_model_loader: - kv  13:                       tokenizer.ggml.model str              = llama\n",
      "llama_model_loader: - kv  14:                      tokenizer.ggml.tokens arr[str,32064]   = [\"<unk>\", \"<s>\", \"</s>\", \"<0x00>\", \"<...\n",
      "llama_model_loader: - kv  15:                      tokenizer.ggml.scores arr[f32,32064]   = [0.000000, 0.000000, 0.000000, 0.0000...\n",
      "llama_model_loader: - kv  16:                  tokenizer.ggml.token_type arr[i32,32064]   = [2, 3, 3, 6, 6, 6, 6, 6, 6, 6, 6, 6, ...\n",
      "llama_model_loader: - kv  17:                tokenizer.ggml.bos_token_id u32              = 1\n",
      "llama_model_loader: - kv  18:                tokenizer.ggml.eos_token_id u32              = 32000\n",
      "llama_model_loader: - kv  19:            tokenizer.ggml.unknown_token_id u32              = 0\n",
      "llama_model_loader: - kv  20:            tokenizer.ggml.padding_token_id u32              = 32000\n",
      "llama_model_loader: - kv  21:               tokenizer.ggml.add_bos_token bool             = true\n",
      "llama_model_loader: - kv  22:               tokenizer.ggml.add_eos_token bool             = false\n",
      "llama_model_loader: - kv  23:                    tokenizer.chat_template str              = {{ bos_token }}{% for message in mess...\n",
      "llama_model_loader: - kv  24:               general.quantization_version u32              = 2\n",
      "llama_model_loader: - type  f32:   65 tensors\n",
      "llama_model_loader: - type q4_K:  193 tensors\n",
      "llama_model_loader: - type q6_K:   33 tensors\n",
      "llm_load_vocab: special tokens definition check successful ( 323/32064 ).\n",
      "llm_load_print_meta: format           = GGUF V3 (latest)\n",
      "llm_load_print_meta: arch             = llama\n",
      "llm_load_print_meta: vocab type       = SPM\n",
      "llm_load_print_meta: n_vocab          = 32064\n",
      "llm_load_print_meta: n_merges         = 0\n",
      "llm_load_print_meta: n_ctx_train      = 4096\n",
      "llm_load_print_meta: n_embd           = 3072\n",
      "llm_load_print_meta: n_head           = 32\n",
      "llm_load_print_meta: n_head_kv        = 32\n",
      "llm_load_print_meta: n_layer          = 32\n",
      "llm_load_print_meta: n_rot            = 96\n",
      "llm_load_print_meta: n_embd_head_k    = 96\n",
      "llm_load_print_meta: n_embd_head_v    = 96\n",
      "llm_load_print_meta: n_gqa            = 1\n",
      "llm_load_print_meta: n_embd_k_gqa     = 3072\n",
      "llm_load_print_meta: n_embd_v_gqa     = 3072\n",
      "llm_load_print_meta: f_norm_eps       = 0.0e+00\n",
      "llm_load_print_meta: f_norm_rms_eps   = 1.0e-05\n",
      "llm_load_print_meta: f_clamp_kqv      = 0.0e+00\n",
      "llm_load_print_meta: f_max_alibi_bias = 0.0e+00\n",
      "llm_load_print_meta: f_logit_scale    = 0.0e+00\n",
      "llm_load_print_meta: n_ff             = 8192\n",
      "llm_load_print_meta: n_expert         = 0\n",
      "llm_load_print_meta: n_expert_used    = 0\n",
      "llm_load_print_meta: causal attn      = 1\n",
      "llm_load_print_meta: pooling type     = 0\n",
      "llm_load_print_meta: rope type        = 0\n",
      "llm_load_print_meta: rope scaling     = linear\n",
      "llm_load_print_meta: freq_base_train  = 10000.0\n",
      "llm_load_print_meta: freq_scale_train = 1\n",
      "llm_load_print_meta: n_yarn_orig_ctx  = 4096\n",
      "llm_load_print_meta: rope_finetuned   = unknown\n",
      "llm_load_print_meta: ssm_d_conv       = 0\n",
      "llm_load_print_meta: ssm_d_inner      = 0\n",
      "llm_load_print_meta: ssm_d_state      = 0\n",
      "llm_load_print_meta: ssm_dt_rank      = 0\n",
      "llm_load_print_meta: model type       = 7B\n",
      "llm_load_print_meta: model ftype      = Q4_K - Medium\n",
      "llm_load_print_meta: model params     = 3.82 B\n",
      "llm_load_print_meta: model size       = 2.16 GiB (4.85 BPW) \n",
      "llm_load_print_meta: general.name     = LLaMA v2\n",
      "llm_load_print_meta: BOS token        = 1 '<s>'\n",
      "llm_load_print_meta: EOS token        = 32000 '<|endoftext|>'\n",
      "llm_load_print_meta: UNK token        = 0 '<unk>'\n",
      "llm_load_print_meta: PAD token        = 32000 '<|endoftext|>'\n",
      "llm_load_print_meta: LF token         = 13 '<0x0A>'\n",
      "llm_load_print_meta: EOT token        = 32007 '<|end|>'\n",
      "llm_load_tensors: ggml ctx size =    0.30 MiB\n",
      "ggml_backend_metal_buffer_from_ptr: allocated buffer, size =  2157.95 MiB, ( 2158.02 / 10922.67)\n",
      "llm_load_tensors: offloading 32 repeating layers to GPU\n",
      "llm_load_tensors: offloading non-repeating layers to GPU\n",
      "llm_load_tensors: offloaded 33/33 layers to GPU\n",
      "llm_load_tensors:        CPU buffer size =    52.84 MiB\n",
      "llm_load_tensors:      Metal buffer size =  2157.95 MiB\n",
      ".................................................................................................\n",
      "llama_new_context_with_model: n_ctx      = 4096\n",
      "llama_new_context_with_model: n_batch    = 512\n",
      "llama_new_context_with_model: n_ubatch   = 512\n",
      "llama_new_context_with_model: freq_base  = 10000.0\n",
      "llama_new_context_with_model: freq_scale = 1\n",
      "ggml_metal_init: allocating\n",
      "ggml_metal_init: found device: Apple M1 Pro\n",
      "ggml_metal_init: picking default device: Apple M1 Pro\n",
      "ggml_metal_init: using embedded metal library\n",
      "ggml_metal_init: GPU name:   Apple M1 Pro\n",
      "ggml_metal_init: GPU family: MTLGPUFamilyApple7  (1007)\n",
      "ggml_metal_init: GPU family: MTLGPUFamilyCommon3 (3003)\n",
      "ggml_metal_init: GPU family: MTLGPUFamilyMetal3  (5001)\n",
      "ggml_metal_init: simdgroup reduction support   = true\n",
      "ggml_metal_init: simdgroup matrix mul. support = true\n",
      "ggml_metal_init: hasUnifiedMemory              = true\n",
      "ggml_metal_init: recommendedMaxWorkingSetSize  = 11453.25 MB\n",
      "ggml_backend_metal_buffer_type_alloc_buffer: allocated buffer, size =  1536.00 MiB, ( 3694.95 / 10922.67)\n",
      "llama_kv_cache_init:      Metal KV buffer size =  1536.00 MiB\n",
      "llama_new_context_with_model: KV self size  = 1536.00 MiB, K (f16):  768.00 MiB, V (f16):  768.00 MiB\n",
      "llama_new_context_with_model:        CPU  output buffer size =     0.12 MiB\n",
      "ggml_backend_metal_buffer_type_alloc_buffer: allocated buffer, size =   288.02 MiB, ( 3982.97 / 10922.67)\n",
      "llama_new_context_with_model:      Metal compute buffer size =   288.00 MiB\n",
      "llama_new_context_with_model:        CPU compute buffer size =    14.01 MiB\n",
      "llama_new_context_with_model: graph nodes  = 1030\n",
      "llama_new_context_with_model: graph splits = 2\n",
      "AVX = 0 | AVX_VNNI = 0 | AVX2 = 0 | AVX512 = 0 | AVX512_VBMI = 0 | AVX512_VNNI = 0 | FMA = 0 | NEON = 1 | ARM_FMA = 1 | F16C = 0 | FP16_VA = 1 | WASM_SIMD = 0 | BLAS = 1 | SSE3 = 0 | SSSE3 = 0 | VSX = 0 | MATMUL_INT8 = 0 | LAMMAFILE = 1 | \n",
      "Model metadata: {'general.quantization_version': '2', 'tokenizer.chat_template': \"{{ bos_token }}{% for message in messages %}{% if (message['role'] == 'system') %}{{'<|system|>' + '\\n' + message['content'] + '<|end|>' + '\\n'}}{% elif (message['role'] == 'user') %}{{'<|user|>' + '\\n' + message['content'] + '<|end|>' + '\\n' + '<|assistant|>' + '\\n'}}{% elif message['role'] == 'assistant' %}{{message['content'] + '<|end|>' + '\\n'}}{% endif %}{% endfor %}\", 'tokenizer.ggml.add_eos_token': 'false', 'tokenizer.ggml.add_bos_token': 'true', 'tokenizer.ggml.padding_token_id': '32000', 'tokenizer.ggml.unknown_token_id': '0', 'tokenizer.ggml.eos_token_id': '32000', 'tokenizer.ggml.bos_token_id': '1', 'tokenizer.ggml.model': 'llama', 'llama.attention.head_count_kv': '32', 'llama.context_length': '4096', 'llama.attention.head_count': '32', 'llama.rope.freq_base': '10000.000000', 'llama.rope.dimension_count': '96', 'general.file_type': '15', 'llama.feed_forward_length': '8192', 'llama.block_count': '32', 'llama.embedding_length': '3072', 'general.architecture': 'llama', 'llama.attention.layer_norm_rms_epsilon': '0.000010', 'general.name': 'LLaMA v2', 'llama.vocab_size': '32064'}\n",
      "Using gguf chat template: {{ bos_token }}{% for message in messages %}{% if (message['role'] == 'system') %}{{'<|system|>' + '\n",
      "' + message['content'] + '<|end|>' + '\n",
      "'}}{% elif (message['role'] == 'user') %}{{'<|user|>' + '\n",
      "' + message['content'] + '<|end|>' + '\n",
      "' + '<|assistant|>' + '\n",
      "'}}{% elif message['role'] == 'assistant' %}{{message['content'] + '<|end|>' + '\n",
      "'}}{% endif %}{% endfor %}\n",
      "Using chat eos_token: <|endoftext|>\n",
      "Using chat bos_token: <s>\n"
     ]
    }
   ],
   "source": [
    "llm = Llama(\n",
    "  model_path=\"./llm_models/Phi-3-mini-4k-instruct-q4.gguf\",\n",
    "  n_ctx=4096,  # The max sequence length to use\n",
    "  n_threads=8,\n",
    "  n_gpu_layers=-1\n",
    ")"
   ]
  },
  {
   "cell_type": "code",
   "execution_count": 3,
   "metadata": {},
   "outputs": [],
   "source": [
    "def getPrompt(taskQuestion: str) -> str:\n",
    "    return '''\n",
    "        <|user|>\\nYour job is to extract actions and objects from the given task and invoke the allowed functions sequentially. Answer only with action.ignore() if no appropriate function available or you don't know what to do.\n",
    "        Do not greet, comment, explain, or elaborate your thought processes. Split the task in as many as sub-actions possible. Use semicolon to seperate the function calls. python required.\n",
    "        Always recognise task language and translate the task and the object name to English. Always check if the function is allowed.\n",
    "        Allowed functions are: action.pick(object_name), action.pick_place(object_name, target_location), action.ignore()\n",
    "        \\n<|user|>Example 1:\n",
    "        Task: Pick grapes and keep it on the plate.<|end|>\n",
    "        \\n<|assistant|>action.pick_place(\"grapes\", \"plate\")<|end|>\n",
    "        \\n<|user|>Example 2:\n",
    "        Task: Pickup the grapes.<|end|>\n",
    "        \\n<|assistant|>action.pick(\"grapes\")<|end|>\n",
    "        \\nNow translate to English and answer for task: ''' + taskQuestion + '<|end|>\\n<|assistant|>'\n"
   ]
  },
  {
   "cell_type": "code",
   "execution_count": 6,
   "metadata": {},
   "outputs": [
    {
     "name": "stderr",
     "output_type": "stream",
     "text": [
      "Llama.generate: prefix-match hit\n",
      "\n",
      "llama_print_timings:        load time =    3619.52 ms\n",
      "llama_print_timings:      sample time =       2.65 ms /    26 runs   (    0.10 ms per token,  9826.15 tokens per second)\n",
      "llama_print_timings: prompt eval time =     238.35 ms /    17 tokens (   14.02 ms per token,    71.32 tokens per second)\n",
      "llama_print_timings:        eval time =     627.54 ms /    25 runs   (   25.10 ms per token,    39.84 tokens per second)\n",
      "llama_print_timings:       total time =     906.14 ms /    42 tokens\n"
     ]
    },
    {
     "name": "stdout",
     "output_type": "stream",
     "text": [
      "inference time: 910.1ms\n",
      "\n",
      " action.pick_place(\"flower pot\", \"box\"); action.pick_place(\"bread\", \"plate\")\n"
     ]
    }
   ],
   "source": [
    "# taskQuestion = 'throw the coke cane in the garbage bin'\n",
    "# taskQuestion = 'Put the flower pot on the table'\n",
    "# taskQuestion = 'Pick up the red ball and place it on the blue box'\n",
    "# taskQuestion = 'grab the banana and keep it on the plate'\n",
    "# taskQuestion = 'pickup the banana and dance'\n",
    "# taskQuestion = 'Hold the soldering iron'\n",
    "# taskQuestion = 'Keep the apple in the tiffin box'\n",
    "# taskQuestion = 'गेंद उठाओ और बॉक्स में रखो'\n",
    "# taskQuestion = 'Tartsa az almát a tiffin dobozban' # hungarian\n",
    "# taskQuestion = 'Vedd fel a piros la/bdát és tedd a dobozba' # hungarian\n",
    "# taskQuestion = 'Guarda la manzana en la caja tiffin.' # spanish\n",
    "# taskQuestion = 'Recoge la pelota y colócala en la caja' # spanish\n",
    "# taskQuestion = 'Conserva la mela nella scatola del tiffin' # italian\n",
    "\n",
    "# taskQuestion = 'Pick the banana and then pick the apple'\n",
    "# taskQuestion = 'Pick the banana and then keep the apple on the box'\n",
    "taskQuestion = 'place the flower pot in the box, keep the bread on the plate'\n",
    "\n",
    "start_time = time.perf_counter()\n",
    "output = llm(\n",
    "  # f\"<|user|>\\n{prompt}<|end|>\\n<|assistant|>\",\n",
    "  prompt=getPrompt(taskQuestion),\n",
    "  max_tokens=160,  # Generate up to 256 tokens\n",
    "  stop=[\"<|end|>\"],\n",
    "  echo=False,\n",
    "  temperature=0.4\n",
    ")\n",
    "end_time = time.perf_counter()\n",
    "print(\"inference time: %.1fms\\n\" % ((end_time-start_time)*1000,))\n",
    "\n",
    "print(output['choices'][0]['text'])"
   ]
  },
  {
   "cell_type": "code",
   "execution_count": 140,
   "metadata": {},
   "outputs": [
    {
     "name": "stderr",
     "output_type": "stream",
     "text": [
      "Llama.generate: prefix-match hit\n",
      "\n",
      "llama_print_timings:        load time =    3619.52 ms\n",
      "llama_print_timings:      sample time =       0.79 ms /     7 runs   (    0.11 ms per token,  8827.24 tokens per second)\n",
      "llama_print_timings: prompt eval time =       0.00 ms /     1 tokens (    0.00 ms per token,      inf tokens per second)\n",
      "llama_print_timings:        eval time =     271.79 ms /     7 runs   (   38.83 ms per token,    25.76 tokens per second)\n",
      "llama_print_timings:       total time =     285.78 ms /     8 tokens\n"
     ]
    },
    {
     "name": "stdout",
     "output_type": "stream",
     "text": [
      "inference time: 288.7ms\n",
      "\n",
      " vertical cylindrical @handle\n"
     ]
    }
   ],
   "source": [
    "# graspObj = 'guava'        # ANS: vertical cylindrical @center\n",
    "# graspObj = 'banana'       # ANS: pinch @center\n",
    "graspObj = 'wine glass'   # ANS: vertical cylindrical @stem base\n",
    "# graspObj = 'pizza box'    # ANS: horizontal cylindrical @center\n",
    "# graspObj = 'dice'         # ANS: vertical cylindrical @center / pinch @center\n",
    "# graspObj = 'pen'          # ANS: pinch @center of barrel\n",
    "# graspObj = 'knife'        # ANS: pinch @handle\n",
    "\n",
    "# graspPrompt = f'''\n",
    "# You are controlling a robotic arm and have to respond how to grip the given object. Tall and narrow objects require vertical cylindrical grasp, small objects require pinch, wide and short objects require horizontal cylindrical grasp.\n",
    "# You will be given the object name and have to answer the most appropriate grasping method. Do not explain, just give the name of grasp.\n",
    "# Example:\n",
    "# Object: Water bottle, Grasp: vertical cylindrical\n",
    "# Object: Cup, Grasp: pinch\n",
    "# Object: miniature toy car, Grasp: horizontal cylindrical\n",
    "\n",
    "# You answer for object: {graspObj}\n",
    "# '''\n",
    "\n",
    "graspPrompt = f'''\n",
    "You are controlling a robotic arm and have to respond how to grip the given object. Tall and narrow objects require vertical cylindrical grasp, small objects require pinch, wide and short objects require horizontal cylindrical grasp.\n",
    "You will be given the object name and have to answer the most appropriate grasping method along with best position to grab it. Do not provide instruction or explanation or example or comment, just give the name of grasp.\n",
    "\n",
    "Example:\n",
    "Object: Water bottle, Answer: vertical cylindrical @middle\n",
    "Object: Tea cup, Answer: pinch @handle\n",
    "Object: miniature toy car, Answer: horizontal cylindrical @middle\n",
    "Object: marble ball, Answer: pinch @any\n",
    "Object: sword, Answer: pinch @middle\n",
    "Object: cardboard box, Answer: pinch @edge\n",
    "\n",
    "You answer for object: {graspObj}\n",
    "'''\n",
    "\n",
    "\n",
    "start_time = time.perf_counter()\n",
    "graspOutput = llm(\n",
    "  f\"<|user|>\\n{graspPrompt}<|end|>\\n<|assistant|>\",\n",
    "  max_tokens=160,  # Generate up to 256 tokens\n",
    "  stop=[\"<|end|>\"],\n",
    "  echo=False,\n",
    "  temperature=0.4\n",
    ")\n",
    "end_time = time.perf_counter()\n",
    "print(\"inference time: %.1fms\\n\" % ((end_time-start_time)*1000,))\n",
    "\n",
    "print(graspOutput['choices'][0]['text'])"
   ]
  },
  {
   "cell_type": "code",
   "execution_count": 183,
   "metadata": {},
   "outputs": [],
   "source": [
    "def processLLMOutput(llm_output: str) -> str:\n",
    "    cleanText = llm_output\n",
    "    newLineIdx = cleanText.find('\\n')\n",
    "    if newLineIdx != -1:\n",
    "        cleanText = cleanText[:newLineIdx]\n",
    "\n",
    "    cleanText = re.sub('[^A-Za-z0-9\\\"\\':\\{\\}\\[\\]\\_\\-\\,\\.\\(\\)\\;\\s]+', '', cleanText)\n",
    "    terminator = cleanText.find(';')\n",
    "    if terminator != -1:\n",
    "        cleanText = cleanText[:terminator]\n",
    "    cleanText = cleanText.lower().strip(' ')\n",
    "    # print(cleanText)\n",
    "    return cleanText"
   ]
  },
  {
   "cell_type": "code",
   "execution_count": null,
   "metadata": {},
   "outputs": [],
   "source": [
    "# convert text to function calls, does not check validity\n",
    "actions = processLLMOutput(output['choices'][0]['text']).split(';')\n",
    "actions = [a.strip() for a in actions if a != '']\n",
    "print(actions)"
   ]
  },
  {
   "cell_type": "code",
   "execution_count": 151,
   "metadata": {},
   "outputs": [],
   "source": [
    "REQUIRED_ARGS = {\n",
    "\t'pick': 1,\n",
    "\t'pick_place': 2,\n",
    "\t'ignore': 0\n",
    "}\n",
    "\n",
    "def isValidPython(code: str) -> bool:\n",
    "\t\t# adapted from https://stackoverflow.com/a/11854793/4036127 and https://stackoverflow.com/a/51271704/4036127\n",
    "\t\ttry:\n",
    "\t\t\tm = ast.parse(code)\n",
    "\t\t\tm_args = [a.value for a in m.body[0].value.args]\n",
    "\t\t\tid_name = m.body[0].value.func.value.id\n",
    "\t\t\tdef_name = m.body[0].value.func.attr\n",
    "\n",
    "\t\t\t# hardcoded and assumed class object is in variable named: action\n",
    "\t\t\tif (id_name != 'action' or len(m_args) != REQUIRED_ARGS[def_name]):\n",
    "\t\t\t\tprint('func def err')\n",
    "\t\t\t\treturn False\n",
    "\t\texcept Exception as e:\n",
    "\t\t\tprint('pythonic check err: ', e)\n",
    "\t\t\treturn False\n",
    "\t\treturn True"
   ]
  },
  {
   "cell_type": "markdown",
   "metadata": {},
   "source": [
    "```\n",
    "prompt = '''\n",
    "    Your job is to extract action and objects from the given task. Respond only in JSON format.\n",
    "    \\nDo not hello, comment, explain, or elaborate your thought processes. Your response should have two keys: actions and objects. Split the task in as many as sub-actions possible. Only mention the name of object.\n",
    "    \\n\n",
    "    \\nExample 1:\n",
    "    \\nTask: Pick up banana and place on the plate.\n",
    "    \\nYou: {\"actions\": [\"pick\", \"place\"], objects: [\"banana\", \"plate\"]}\n",
    "    \\n\n",
    "    \\nExample 2:\n",
    "    \\nTask: Pick up the blue box.\n",
    "    \\nYou: {\"actions\": [\"pick\"], objects: [\"blue box\"]}\n",
    "    \\n\n",
    "    \\n Question: Pick up the flower pot and place it inside the box.\n",
    "    '''\n",
    "\n",
    "prompt = '''\n",
    "    Your job is to extract actions and objects from the given task and invoke the allowed functions sequentially. Answer only with action.ignore() if no appropriate function available or you don't know what to do.\n",
    "    Do not greet, comment, explain, or elaborate your thought processes. Split the task in as many as sub-actions possible. Use semicolon to seperate the function calls.\n",
    "    Always recognise task language and translate the task and the object name to English.\n",
    "    Allowed functions are: action.pick(), action.pick_place(), action.ignore()\n",
    "    \\nExample 1:\n",
    "    Task: Pick grapes and keep it on the plate.\n",
    "    <|assistant|>Answer: action.pick_place(\"grapes\", \"plate\")\n",
    "    \\nExample 2:\n",
    "    Task: Pickup the grapes.\n",
    "    <|assistant|>Answer: action.pick(\"grapes\")\n",
    "    \\nNow translate to English and answer for task: ''' + taskQuestion\n",
    "\n",
    "prompt = '''\n",
    "    Your job is to extract actions and objects from the given task and invoke the allowed functions sequentially. Answer only with action.ignore() if no appropriate function available or you don't know what to do.\n",
    "    Do not greet, comment, explain, or elaborate your thought processes. Split the task in as many as sub-actions possible. Use semicolon to seperate the function calls.\n",
    "    Always recognise task language and translate the task and the object name to English.\n",
    "    Allowed functions are: action.pick(object_name), action.pick_place(object_name, target_location), action.ignore()\n",
    "    \\nExample 1:\n",
    "    Task: Pick grapes and keep it on the plate.\n",
    "    <|assistant|>Answer: action.pick_place(\"grapes\", \"plate\")\n",
    "    \\nExample 2:\n",
    "    Task: Pickup the grapes.\n",
    "    <|assistant|>Answer: action.pick(\"grapes\")\n",
    "    \\nNow translate to English and answer for task: ''' + taskQuestion\n",
    "\n",
    "prompt = '''\n",
    "    Your job is to extract actions and objects from the given task and invoke the allowed functions sequentially. Answer only with action.ignore() if no appropriate function available or you don't know what to do.\n",
    "    Do not greet, comment, explain, or elaborate your thought processes. Split the task in as many as sub-actions possible. Use semicolon to seperate the function calls.\n",
    "    Always recognise task language and translate the task and the object name to English. Always check if the function is allowed.\n",
    "    Allowed functions are: action.pick(object_name), action.pick_place(object_name, target_location), action.ignore()\n",
    "    \\nExample 1:\n",
    "    Task: Pick grapes and keep it on the plate.\n",
    "    <|assistant|>Answer: action.pick_place(\"grapes\", \"plate\")\n",
    "    \\nExample 2:\n",
    "    Task: Pickup the grapes.\n",
    "    <|assistant|>Answer: action.pick(\"grapes\")\n",
    "    \\nNow translate to English and answer for task: ''' + taskQuestion\n",
    "```"
   ]
  },
  {
   "cell_type": "markdown",
   "metadata": {},
   "source": [
    "## Multi-lingual test"
   ]
  },
  {
   "cell_type": "code",
   "execution_count": 178,
   "metadata": {},
   "outputs": [],
   "source": [
    "QUESTIONS = [\n",
    "    {\n",
    "        'qset': {\n",
    "            'en': 'pick the ball and place on the table'\n",
    "        },\n",
    "        'ans': 'action.pick_place(\"ball\", \"table\")'\n",
    "    },\n",
    "    {\n",
    "        'qset': {\n",
    "            'en': 'pick the red ball and place in the blue box'\n",
    "        },\n",
    "        'ans': 'action.pick_place(\"red ball\", \"blue box\")'\n",
    "    },\n",
    "    {\n",
    "        'qset': {\n",
    "            'en': 'pickup the tennis ball and place on the table'\n",
    "        },\n",
    "        'ans': 'action.pick_place(\"tennis ball\", \"table\")'\n",
    "    },\n",
    "    {\n",
    "        'qset': {\n",
    "            'en': 'pickup the banana and dance'\n",
    "        },\n",
    "        'ans': 'action.pick(\"banana\")'\n",
    "    },\n",
    "    {\n",
    "        'qset': {\n",
    "            'en': 'put the ball in the box'\n",
    "        },\n",
    "        'ans': 'action.pick_place(\"ball\", \"box\")'\n",
    "    },\n",
    "    {\n",
    "        'qset': {\n",
    "            'en': 'put the bread in tiffin'\n",
    "        },\n",
    "        'ans': 'action.pick_place(\"bread\", \"tiffin\")'\n",
    "    },\n",
    "    {\n",
    "        'qset': {\n",
    "            'en': 'put the flower pot on the table'\n",
    "        },\n",
    "        'ans': 'action.pick_place(\"flower pot\", \"table\")'\n",
    "    },\n",
    "    {\n",
    "        'qset': {\n",
    "            'en': 'keep the apple on the plate'\n",
    "        },\n",
    "        'ans': 'action.pick_place(\"apple\", \"plate\")'\n",
    "    },\n",
    "    {\n",
    "        'qset': {\n",
    "            'en': 'place the bread in the tiffin'\n",
    "        },\n",
    "        'ans': 'action.pick_place(\"bread\", \"tiffin\")'\n",
    "    },\n",
    "    {\n",
    "        'qset': {\n",
    "            'en': 'throw the coke in the bin'\n",
    "        },\n",
    "        'ans': 'action.pick_place(\"coke\", \"bin\")'\n",
    "    },\n",
    "    {\n",
    "        'qset': {\n",
    "            'en': 'grab the soldering iron'\n",
    "        },\n",
    "        'ans': 'action.pick(\"soldering iron\")'\n",
    "    },\n",
    "    {\n",
    "        'qset': {\n",
    "            'en': 'grab the bottle'\n",
    "        },\n",
    "        'ans': 'action.pick(\"bottle\")'\n",
    "    },\n",
    "    {\n",
    "        'qset': {\n",
    "            'en': 'Pick up the fallen pencil'\n",
    "        },\n",
    "        'ans': 'action.pick(\"pencil\")'\n",
    "    },\n",
    "    {\n",
    "        'qset': {\n",
    "            'en': 'Grab the remote and toss it on the couch'\n",
    "        },\n",
    "        'ans': 'action.pick_place(\"remote\", \"couch\")'\n",
    "    },\n",
    "    {\n",
    "        'qset': {\n",
    "            'en': 'Lift the book and lay it on the bedside table'\n",
    "        },\n",
    "        'ans': 'action.pick_place(\"book\", \"bedside table\")'\n",
    "    },\n",
    "    {\n",
    "        'qset': {\n",
    "            'en': 'Reach for the sunglasses sitting on the table.'\n",
    "        },\n",
    "        'ans': 'action.pick_place(\"sunglasses\", \"table\")'\n",
    "    },\n",
    "    {\n",
    "        'qset': {\n",
    "            'en': 'Grasp the towel and hang it on the hook'\n",
    "        },\n",
    "        'ans': 'action.pick_place(\"towel\", \"hook\")'\n",
    "    },\n",
    "    {\n",
    "        'qset': {\n",
    "            'en': 'Reach for the jacket and drape it over the chair.'\n",
    "        },\n",
    "        'ans': 'action.pick_place(\"jacket\", \"chair\")'\n",
    "    },\n",
    "    {\n",
    "        'qset': {\n",
    "            'en': 'Would you mind fetching that book from the shelf and placing it on the coffee table, please?'\n",
    "        },\n",
    "        'ans': 'action.pick_place(\"book\", \"coffee table\")',\n",
    "    },\n",
    "    {\n",
    "        'qset': {\n",
    "            'en': 'Please put the dish in the dishwasher'\n",
    "        },\n",
    "        'ans': 'action.pick_place(\"dish\", \"dishwasher\")'\n",
    "    },\n",
    "    {\n",
    "        'qset': {\n",
    "            'en': 'Bin the banana peel'\n",
    "        },\n",
    "        'ans': 'action.pick_place(\"banana peel\", \"bin\")'\n",
    "    },\n",
    "]"
   ]
  },
  {
   "cell_type": "code",
   "execution_count": 220,
   "metadata": {},
   "outputs": [
    {
     "name": "stdout",
     "output_type": "stream",
     "text": [
      "--> testing en: pick the ball and place on the table\n"
     ]
    },
    {
     "name": "stderr",
     "output_type": "stream",
     "text": [
      "Llama.generate: prefix-match hit\n",
      "\n",
      "llama_print_timings:        load time =    4007.51 ms\n",
      "llama_print_timings:      sample time =       1.62 ms /    12 runs   (    0.14 ms per token,  7393.72 tokens per second)\n",
      "llama_print_timings: prompt eval time =     868.05 ms /    11 tokens (   78.91 ms per token,    12.67 tokens per second)\n",
      "llama_print_timings:        eval time =     271.36 ms /    11 runs   (   24.67 ms per token,    40.54 tokens per second)\n",
      "llama_print_timings:       total time =    1165.57 ms /    22 tokens\n",
      "Llama.generate: prefix-match hit\n"
     ]
    },
    {
     "name": "stdout",
     "output_type": "stream",
     "text": [
      "--> testing hi: गेंद उठाओ और मेज़ पर रखो\n"
     ]
    },
    {
     "name": "stderr",
     "output_type": "stream",
     "text": [
      "\n",
      "llama_print_timings:        load time =    4007.51 ms\n",
      "llama_print_timings:      sample time =       2.77 ms /    22 runs   (    0.13 ms per token,  7953.72 tokens per second)\n",
      "llama_print_timings: prompt eval time =     190.23 ms /    36 tokens (    5.28 ms per token,   189.24 tokens per second)\n",
      "llama_print_timings:        eval time =     527.33 ms /    21 runs   (   25.11 ms per token,    39.82 tokens per second)\n",
      "llama_print_timings:       total time =     760.25 ms /    57 tokens\n",
      "Llama.generate: prefix-match hit\n"
     ]
    },
    {
     "name": "stdout",
     "output_type": "stream",
     "text": [
      "--> testing fr: Ramasse la balle et pose-la sur la table.\n"
     ]
    },
    {
     "name": "stderr",
     "output_type": "stream",
     "text": [
      "\n",
      "llama_print_timings:        load time =    4007.51 ms\n",
      "llama_print_timings:      sample time =       1.87 ms /    12 runs   (    0.16 ms per token,  6417.11 tokens per second)\n",
      "llama_print_timings: prompt eval time =     112.31 ms /    16 tokens (    7.02 ms per token,   142.47 tokens per second)\n",
      "llama_print_timings:        eval time =     273.10 ms /    11 runs   (   24.83 ms per token,    40.28 tokens per second)\n",
      "llama_print_timings:       total time =     413.28 ms /    27 tokens\n",
      "Llama.generate: prefix-match hit\n"
     ]
    },
    {
     "name": "stdout",
     "output_type": "stream",
     "text": [
      "--> testing es: Coge la pelota y colócala en la mesa.\n"
     ]
    },
    {
     "name": "stderr",
     "output_type": "stream",
     "text": [
      "\n",
      "llama_print_timings:        load time =    4007.51 ms\n",
      "llama_print_timings:      sample time =       1.60 ms /    12 runs   (    0.13 ms per token,  7485.96 tokens per second)\n",
      "llama_print_timings: prompt eval time =     113.03 ms /    17 tokens (    6.65 ms per token,   150.41 tokens per second)\n",
      "llama_print_timings:        eval time =     278.82 ms /    11 runs   (   25.35 ms per token,    39.45 tokens per second)\n",
      "llama_print_timings:       total time =     415.50 ms /    28 tokens\n",
      "Llama.generate: prefix-match hit\n"
     ]
    },
    {
     "name": "stdout",
     "output_type": "stream",
     "text": [
      "--> testing it: Prendi la palla e mettila sul tavolo.\n"
     ]
    },
    {
     "name": "stderr",
     "output_type": "stream",
     "text": [
      "\n",
      "llama_print_timings:        load time =    4007.51 ms\n",
      "llama_print_timings:      sample time =       1.51 ms /    12 runs   (    0.13 ms per token,  7931.26 tokens per second)\n",
      "llama_print_timings: prompt eval time =     113.92 ms /    17 tokens (    6.70 ms per token,   149.23 tokens per second)\n",
      "llama_print_timings:        eval time =     280.75 ms /    11 runs   (   25.52 ms per token,    39.18 tokens per second)\n",
      "llama_print_timings:       total time =     416.70 ms /    28 tokens\n",
      "Llama.generate: prefix-match hit\n"
     ]
    },
    {
     "name": "stdout",
     "output_type": "stream",
     "text": [
      "--> testing hi-en: gend ko uthao aur table pe rakho\n"
     ]
    },
    {
     "name": "stderr",
     "output_type": "stream",
     "text": [
      "\n",
      "llama_print_timings:        load time =    4007.51 ms\n",
      "llama_print_timings:      sample time =       1.77 ms /    14 runs   (    0.13 ms per token,  7918.55 tokens per second)\n",
      "llama_print_timings: prompt eval time =     115.98 ms /    15 tokens (    7.73 ms per token,   129.33 tokens per second)\n",
      "llama_print_timings:        eval time =     324.62 ms /    13 runs   (   24.97 ms per token,    40.05 tokens per second)\n",
      "llama_print_timings:       total time =     466.43 ms /    28 tokens\n",
      "Llama.generate: prefix-match hit\n"
     ]
    },
    {
     "name": "stdout",
     "output_type": "stream",
     "text": [
      "--> testing ms: Ambil bola dan letakkan di atas meja.\n"
     ]
    },
    {
     "name": "stderr",
     "output_type": "stream",
     "text": [
      "\n",
      "llama_print_timings:        load time =    4007.51 ms\n",
      "llama_print_timings:      sample time =       1.54 ms /    12 runs   (    0.13 ms per token,  7802.34 tokens per second)\n",
      "llama_print_timings: prompt eval time =     113.63 ms /    17 tokens (    6.68 ms per token,   149.61 tokens per second)\n",
      "llama_print_timings:        eval time =     276.42 ms /    11 runs   (   25.13 ms per token,    39.79 tokens per second)\n",
      "llama_print_timings:       total time =     411.42 ms /    28 tokens\n",
      "Llama.generate: prefix-match hit\n"
     ]
    },
    {
     "name": "stdout",
     "output_type": "stream",
     "text": [
      "--> testing ru: Возьмите мяч и положите его на стол\n"
     ]
    },
    {
     "name": "stderr",
     "output_type": "stream",
     "text": [
      "\n",
      "llama_print_timings:        load time =    4007.51 ms\n",
      "llama_print_timings:      sample time =       1.99 ms /    14 runs   (    0.14 ms per token,  7035.18 tokens per second)\n",
      "llama_print_timings: prompt eval time =     112.60 ms /    17 tokens (    6.62 ms per token,   150.98 tokens per second)\n",
      "llama_print_timings:        eval time =     331.58 ms /    13 runs   (   25.51 ms per token,    39.21 tokens per second)\n",
      "llama_print_timings:       total time =     472.94 ms /    30 tokens\n",
      "Llama.generate: prefix-match hit\n"
     ]
    },
    {
     "name": "stdout",
     "output_type": "stream",
     "text": [
      "--> testing cn: 拿起球，放到桌子上\n"
     ]
    },
    {
     "name": "stderr",
     "output_type": "stream",
     "text": [
      "\n",
      "llama_print_timings:        load time =    4007.51 ms\n",
      "llama_print_timings:      sample time =       1.18 ms /    12 runs   (    0.10 ms per token, 10186.76 tokens per second)\n",
      "llama_print_timings: prompt eval time =     112.01 ms /    17 tokens (    6.59 ms per token,   151.77 tokens per second)\n",
      "llama_print_timings:        eval time =     274.76 ms /    11 runs   (   24.98 ms per token,    40.04 tokens per second)\n",
      "llama_print_timings:       total time =     404.61 ms /    28 tokens\n",
      "Llama.generate: prefix-match hit\n"
     ]
    },
    {
     "name": "stdout",
     "output_type": "stream",
     "text": [
      "average inference: 551.2ms\n",
      "------------\n",
      "--> testing en: pick the red ball and place in the blue box\n"
     ]
    },
    {
     "name": "stderr",
     "output_type": "stream",
     "text": [
      "\n",
      "llama_print_timings:        load time =    4007.51 ms\n",
      "llama_print_timings:      sample time =       1.83 ms /    14 runs   (    0.13 ms per token,  7629.43 tokens per second)\n",
      "llama_print_timings: prompt eval time =     111.50 ms /    13 tokens (    8.58 ms per token,   116.59 tokens per second)\n",
      "llama_print_timings:        eval time =     333.01 ms /    13 runs   (   25.62 ms per token,    39.04 tokens per second)\n",
      "llama_print_timings:       total time =     471.48 ms /    26 tokens\n",
      "Llama.generate: prefix-match hit\n"
     ]
    },
    {
     "name": "stdout",
     "output_type": "stream",
     "text": [
      "--> testing hi: लाल गेंद उठाओ और नीली डिब्बे में रखो\n"
     ]
    },
    {
     "name": "stderr",
     "output_type": "stream",
     "text": [
      "\n",
      "llama_print_timings:        load time =    4007.51 ms\n",
      "llama_print_timings:      sample time =       2.85 ms /    25 runs   (    0.11 ms per token,  8762.71 tokens per second)\n",
      "llama_print_timings: prompt eval time =     196.98 ms /    48 tokens (    4.10 ms per token,   243.68 tokens per second)\n",
      "llama_print_timings:        eval time =     606.06 ms /    24 runs   (   25.25 ms per token,    39.60 tokens per second)\n",
      "llama_print_timings:       total time =     848.25 ms /    72 tokens\n",
      "Llama.generate: prefix-match hit\n"
     ]
    },
    {
     "name": "stdout",
     "output_type": "stream",
     "text": [
      "--> testing fr: Ramasse la balle rouge et mets-la dans la boîte bleue.\n"
     ]
    },
    {
     "name": "stderr",
     "output_type": "stream",
     "text": [
      "\n",
      "llama_print_timings:        load time =    4007.51 ms\n",
      "llama_print_timings:      sample time =       2.18 ms /    21 runs   (    0.10 ms per token,  9646.30 tokens per second)\n",
      "llama_print_timings: prompt eval time =     119.94 ms /    23 tokens (    5.21 ms per token,   191.76 tokens per second)\n",
      "llama_print_timings:        eval time =     509.74 ms /    20 runs   (   25.49 ms per token,    39.24 tokens per second)\n",
      "llama_print_timings:       total time =     665.53 ms /    43 tokens\n",
      "Llama.generate: prefix-match hit\n"
     ]
    },
    {
     "name": "stdout",
     "output_type": "stream",
     "text": [
      "--> testing es: Coge la pelota roja y colócala en la caja azul.\n"
     ]
    },
    {
     "name": "stderr",
     "output_type": "stream",
     "text": [
      "\n",
      "llama_print_timings:        load time =    4007.51 ms\n",
      "llama_print_timings:      sample time =       1.78 ms /    14 runs   (    0.13 ms per token,  7860.75 tokens per second)\n",
      "llama_print_timings: prompt eval time =     114.55 ms /    21 tokens (    5.45 ms per token,   183.32 tokens per second)\n",
      "llama_print_timings:        eval time =     329.96 ms /    13 runs   (   25.38 ms per token,    39.40 tokens per second)\n",
      "llama_print_timings:       total time =     470.71 ms /    34 tokens\n",
      "Llama.generate: prefix-match hit\n"
     ]
    },
    {
     "name": "stdout",
     "output_type": "stream",
     "text": [
      "--> testing it: Prendi la palla rossa e mettila nella scatola blu.\n"
     ]
    },
    {
     "name": "stderr",
     "output_type": "stream",
     "text": [
      "\n",
      "llama_print_timings:        load time =    4007.51 ms\n",
      "llama_print_timings:      sample time =       1.31 ms /    14 runs   (    0.09 ms per token, 10662.60 tokens per second)\n",
      "llama_print_timings: prompt eval time =     114.37 ms /    22 tokens (    5.20 ms per token,   192.36 tokens per second)\n",
      "llama_print_timings:        eval time =     324.21 ms /    13 runs   (   24.94 ms per token,    40.10 tokens per second)\n",
      "llama_print_timings:       total time =     458.74 ms /    35 tokens\n",
      "Llama.generate: prefix-match hit\n"
     ]
    },
    {
     "name": "stdout",
     "output_type": "stream",
     "text": [
      "--> testing hi-en: lal ball ko uthao aur neele box mein rakho\n"
     ]
    },
    {
     "name": "stderr",
     "output_type": "stream",
     "text": [
      "\n",
      "llama_print_timings:        load time =    4007.51 ms\n",
      "llama_print_timings:      sample time =       1.23 ms /    12 runs   (    0.10 ms per token,  9724.47 tokens per second)\n",
      "llama_print_timings: prompt eval time =     113.38 ms /    19 tokens (    5.97 ms per token,   167.58 tokens per second)\n",
      "llama_print_timings:        eval time =     276.13 ms /    11 runs   (   25.10 ms per token,    39.84 tokens per second)\n",
      "llama_print_timings:       total time =     407.75 ms /    30 tokens\n",
      "Llama.generate: prefix-match hit\n"
     ]
    },
    {
     "name": "stdout",
     "output_type": "stream",
     "text": [
      "--> testing ms: Ambil bola merah dan letakkan di dalam kotak biru.\n"
     ]
    },
    {
     "name": "stderr",
     "output_type": "stream",
     "text": [
      "\n",
      "llama_print_timings:        load time =    4007.51 ms\n",
      "llama_print_timings:      sample time =       2.60 ms /    14 runs   (    0.19 ms per token,  5382.55 tokens per second)\n",
      "llama_print_timings: prompt eval time =     115.15 ms /    21 tokens (    5.48 ms per token,   182.37 tokens per second)\n",
      "llama_print_timings:        eval time =     329.14 ms /    13 runs   (   25.32 ms per token,    39.50 tokens per second)\n",
      "llama_print_timings:       total time =     482.53 ms /    34 tokens\n",
      "Llama.generate: prefix-match hit\n"
     ]
    },
    {
     "name": "stdout",
     "output_type": "stream",
     "text": [
      "--> testing ru: Возьмите красный мяч и положите его в синюю коробку\n"
     ]
    },
    {
     "name": "stderr",
     "output_type": "stream",
     "text": [
      "\n",
      "llama_print_timings:        load time =    4007.51 ms\n",
      "llama_print_timings:      sample time =       1.52 ms /    14 runs   (    0.11 ms per token,  9192.38 tokens per second)\n",
      "llama_print_timings: prompt eval time =     115.74 ms /    24 tokens (    4.82 ms per token,   207.36 tokens per second)\n",
      "llama_print_timings:        eval time =     331.45 ms /    13 runs   (   25.50 ms per token,    39.22 tokens per second)\n",
      "llama_print_timings:       total time =     473.68 ms /    37 tokens\n",
      "Llama.generate: prefix-match hit\n"
     ]
    },
    {
     "name": "stdout",
     "output_type": "stream",
     "text": [
      "--> testing cn: 拿起红色的球，放到蓝色的盒子里\n"
     ]
    },
    {
     "name": "stderr",
     "output_type": "stream",
     "text": [
      "\n",
      "llama_print_timings:        load time =    4007.51 ms\n",
      "llama_print_timings:      sample time =       1.62 ms /    14 runs   (    0.12 ms per token,  8663.37 tokens per second)\n",
      "llama_print_timings: prompt eval time =     119.88 ms /    25 tokens (    4.80 ms per token,   208.55 tokens per second)\n",
      "llama_print_timings:        eval time =     329.22 ms /    13 runs   (   25.32 ms per token,    39.49 tokens per second)\n",
      "llama_print_timings:       total time =     473.95 ms /    38 tokens\n",
      "Llama.generate: prefix-match hit\n"
     ]
    },
    {
     "name": "stdout",
     "output_type": "stream",
     "text": [
      "average inference: 531.6ms\n",
      "------------\n",
      "--> testing en: pickup the tennis ball and place on the table\n"
     ]
    },
    {
     "name": "stderr",
     "output_type": "stream",
     "text": [
      "\n",
      "llama_print_timings:        load time =    4007.51 ms\n",
      "llama_print_timings:      sample time =       2.29 ms /    14 runs   (    0.16 ms per token,  6126.91 tokens per second)\n",
      "llama_print_timings: prompt eval time =     112.24 ms /    13 tokens (    8.63 ms per token,   115.82 tokens per second)\n",
      "llama_print_timings:        eval time =     326.20 ms /    13 runs   (   25.09 ms per token,    39.85 tokens per second)\n",
      "llama_print_timings:       total time =     472.14 ms /    26 tokens\n",
      "Llama.generate: prefix-match hit\n"
     ]
    },
    {
     "name": "stdout",
     "output_type": "stream",
     "text": [
      "--> testing hi: टेनिस गेंद उठाओ और मेज़ पर रखो\n"
     ]
    },
    {
     "name": "stderr",
     "output_type": "stream",
     "text": [
      "\n",
      "llama_print_timings:        load time =    4007.51 ms\n",
      "llama_print_timings:      sample time =       2.56 ms /    14 runs   (    0.18 ms per token,  5479.45 tokens per second)\n",
      "llama_print_timings: prompt eval time =     197.93 ms /    42 tokens (    4.71 ms per token,   212.19 tokens per second)\n",
      "llama_print_timings:        eval time =     335.50 ms /    13 runs   (   25.81 ms per token,    38.75 tokens per second)\n",
      "llama_print_timings:       total time =     572.04 ms /    55 tokens\n",
      "Llama.generate: prefix-match hit\n"
     ]
    },
    {
     "name": "stdout",
     "output_type": "stream",
     "text": [
      "--> testing fr: Ramasse la balle de tennis et pose-la sur la table.\n"
     ]
    },
    {
     "name": "stderr",
     "output_type": "stream",
     "text": [
      "\n",
      "llama_print_timings:        load time =    4007.51 ms\n",
      "llama_print_timings:      sample time =       2.36 ms /    14 runs   (    0.17 ms per token,  5942.28 tokens per second)\n",
      "llama_print_timings: prompt eval time =     114.52 ms /    18 tokens (    6.36 ms per token,   157.18 tokens per second)\n",
      "llama_print_timings:        eval time =     333.39 ms /    13 runs   (   25.65 ms per token,    38.99 tokens per second)\n",
      "llama_print_timings:       total time =     481.27 ms /    31 tokens\n",
      "Llama.generate: prefix-match hit\n"
     ]
    },
    {
     "name": "stdout",
     "output_type": "stream",
     "text": [
      "--> testing es: Recoge la pelota de tenis y colócala en la mesa.\n"
     ]
    },
    {
     "name": "stderr",
     "output_type": "stream",
     "text": [
      "\n",
      "llama_print_timings:        load time =    4007.51 ms\n",
      "llama_print_timings:      sample time =       2.34 ms /    14 runs   (    0.17 ms per token,  5982.91 tokens per second)\n",
      "llama_print_timings: prompt eval time =     116.39 ms /    20 tokens (    5.82 ms per token,   171.83 tokens per second)\n",
      "llama_print_timings:        eval time =     331.12 ms /    13 runs   (   25.47 ms per token,    39.26 tokens per second)\n",
      "llama_print_timings:       total time =     481.82 ms /    33 tokens\n",
      "Llama.generate: prefix-match hit\n"
     ]
    },
    {
     "name": "stdout",
     "output_type": "stream",
     "text": [
      "--> testing it: Raccogli la palla da tennis e mettila sul tavolo.\n"
     ]
    },
    {
     "name": "stderr",
     "output_type": "stream",
     "text": [
      "\n",
      "llama_print_timings:        load time =    4007.51 ms\n",
      "llama_print_timings:      sample time =       1.89 ms /    14 runs   (    0.13 ms per token,  7427.06 tokens per second)\n",
      "llama_print_timings: prompt eval time =     115.58 ms /    20 tokens (    5.78 ms per token,   173.04 tokens per second)\n",
      "llama_print_timings:        eval time =     326.51 ms /    13 runs   (   25.12 ms per token,    39.81 tokens per second)\n",
      "llama_print_timings:       total time =     472.31 ms /    33 tokens\n",
      "Llama.generate: prefix-match hit\n"
     ]
    },
    {
     "name": "stdout",
     "output_type": "stream",
     "text": [
      "--> testing hi-en: tennis ball pick karo and table pe rakho\n"
     ]
    },
    {
     "name": "stderr",
     "output_type": "stream",
     "text": [
      "\n",
      "llama_print_timings:        load time =    4007.51 ms\n",
      "llama_print_timings:      sample time =       2.61 ms /    22 runs   (    0.12 ms per token,  8422.66 tokens per second)\n",
      "llama_print_timings: prompt eval time =     112.33 ms /    14 tokens (    8.02 ms per token,   124.64 tokens per second)\n",
      "llama_print_timings:        eval time =     528.70 ms /    21 runs   (   25.18 ms per token,    39.72 tokens per second)\n",
      "llama_print_timings:       total time =     679.24 ms /    35 tokens\n",
      "Llama.generate: prefix-match hit\n"
     ]
    },
    {
     "name": "stdout",
     "output_type": "stream",
     "text": [
      "--> testing ms: Ambil bola tenis dan letakkan di atas meja.\n"
     ]
    },
    {
     "name": "stderr",
     "output_type": "stream",
     "text": [
      "\n",
      "llama_print_timings:        load time =    4007.51 ms\n",
      "llama_print_timings:      sample time =       1.55 ms /    14 runs   (    0.11 ms per token,  9014.81 tokens per second)\n",
      "llama_print_timings: prompt eval time =     115.58 ms /    19 tokens (    6.08 ms per token,   164.39 tokens per second)\n",
      "llama_print_timings:        eval time =     336.73 ms /    13 runs   (   25.90 ms per token,    38.61 tokens per second)\n",
      "llama_print_timings:       total time =     475.11 ms /    32 tokens\n",
      "Llama.generate: prefix-match hit\n"
     ]
    },
    {
     "name": "stdout",
     "output_type": "stream",
     "text": [
      "--> testing ru: Поднимите теннисный мяч и положите его на стол\n"
     ]
    },
    {
     "name": "stderr",
     "output_type": "stream",
     "text": [
      "\n",
      "llama_print_timings:        load time =    4007.51 ms\n",
      "llama_print_timings:      sample time =       1.53 ms /    14 runs   (    0.11 ms per token,  9168.30 tokens per second)\n",
      "llama_print_timings: prompt eval time =     118.04 ms /    21 tokens (    5.62 ms per token,   177.91 tokens per second)\n",
      "llama_print_timings:        eval time =     337.27 ms /    13 runs   (   25.94 ms per token,    38.54 tokens per second)\n",
      "llama_print_timings:       total time =     479.42 ms /    34 tokens\n",
      "Llama.generate: prefix-match hit\n"
     ]
    },
    {
     "name": "stdout",
     "output_type": "stream",
     "text": [
      "--> testing cn: 捡起网球，放到桌子上\n"
     ]
    },
    {
     "name": "stderr",
     "output_type": "stream",
     "text": [
      "\n",
      "llama_print_timings:        load time =    4007.51 ms\n",
      "llama_print_timings:      sample time =       1.67 ms /    14 runs   (    0.12 ms per token,  8368.20 tokens per second)\n",
      "llama_print_timings: prompt eval time =     116.48 ms /    18 tokens (    6.47 ms per token,   154.54 tokens per second)\n",
      "llama_print_timings:        eval time =     336.83 ms /    13 runs   (   25.91 ms per token,    38.60 tokens per second)\n",
      "llama_print_timings:       total time =     477.84 ms /    31 tokens\n",
      "Llama.generate: prefix-match hit\n"
     ]
    },
    {
     "name": "stdout",
     "output_type": "stream",
     "text": [
      "average inference: 514.0ms\n",
      "------------\n",
      "--> testing en: pickup the banana and dance\n"
     ]
    },
    {
     "name": "stderr",
     "output_type": "stream",
     "text": [
      "\n",
      "llama_print_timings:        load time =    4007.51 ms\n",
      "llama_print_timings:      sample time =       1.31 ms /    12 runs   (    0.11 ms per token,  9181.33 tokens per second)\n",
      "llama_print_timings: prompt eval time =     113.42 ms /    10 tokens (   11.34 ms per token,    88.17 tokens per second)\n",
      "llama_print_timings:        eval time =     281.57 ms /    11 runs   (   25.60 ms per token,    39.07 tokens per second)\n",
      "llama_print_timings:       total time =     416.59 ms /    21 tokens\n",
      "Llama.generate: prefix-match hit\n"
     ]
    },
    {
     "name": "stdout",
     "output_type": "stream",
     "text": [
      "--> testing hi: केला उठाओ और नाचो\n"
     ]
    },
    {
     "name": "stderr",
     "output_type": "stream",
     "text": [
      "\n",
      "llama_print_timings:        load time =    4007.51 ms\n",
      "llama_print_timings:      sample time =       3.11 ms /    27 runs   (    0.12 ms per token,  8670.52 tokens per second)\n",
      "llama_print_timings: prompt eval time =     119.53 ms /    29 tokens (    4.12 ms per token,   242.61 tokens per second)\n",
      "llama_print_timings:        eval time =     668.98 ms /    26 runs   (   25.73 ms per token,    38.87 tokens per second)\n",
      "llama_print_timings:       total time =     836.36 ms /    55 tokens\n",
      "Llama.generate: prefix-match hit\n"
     ]
    },
    {
     "name": "stdout",
     "output_type": "stream",
     "text": [
      "--> testing fr: Ramasse la banane et danse.\n"
     ]
    },
    {
     "name": "stderr",
     "output_type": "stream",
     "text": [
      "\n",
      "llama_print_timings:        load time =    4007.51 ms\n",
      "llama_print_timings:      sample time =       2.76 ms /    21 runs   (    0.13 ms per token,  7603.19 tokens per second)\n",
      "llama_print_timings: prompt eval time =     114.72 ms /    12 tokens (    9.56 ms per token,   104.61 tokens per second)\n",
      "llama_print_timings:        eval time =     501.61 ms /    20 runs   (   25.08 ms per token,    39.87 tokens per second)\n",
      "llama_print_timings:       total time =     655.11 ms /    32 tokens\n",
      "Llama.generate: prefix-match hit\n"
     ]
    },
    {
     "name": "stdout",
     "output_type": "stream",
     "text": [
      "--> testing es: Recoge el plátano y baila.\n"
     ]
    },
    {
     "name": "stderr",
     "output_type": "stream",
     "text": [
      "\n",
      "llama_print_timings:        load time =    4007.51 ms\n",
      "llama_print_timings:      sample time =       5.30 ms /    38 runs   (    0.14 ms per token,  7168.46 tokens per second)\n",
      "llama_print_timings: prompt eval time =     114.19 ms /    14 tokens (    8.16 ms per token,   122.60 tokens per second)\n",
      "llama_print_timings:        eval time =     942.50 ms /    37 runs   (   25.47 ms per token,    39.26 tokens per second)\n",
      "llama_print_timings:       total time =    1138.75 ms /    51 tokens\n",
      "Llama.generate: prefix-match hit\n"
     ]
    },
    {
     "name": "stdout",
     "output_type": "stream",
     "text": [
      "--> testing it: Raccogli la banana e balla.\n"
     ]
    },
    {
     "name": "stderr",
     "output_type": "stream",
     "text": [
      "\n",
      "llama_print_timings:        load time =    4007.51 ms\n",
      "llama_print_timings:      sample time =       3.21 ms /    29 runs   (    0.11 ms per token,  9031.45 tokens per second)\n",
      "llama_print_timings: prompt eval time =     113.27 ms /    13 tokens (    8.71 ms per token,   114.77 tokens per second)\n",
      "llama_print_timings:        eval time =     701.78 ms /    28 runs   (   25.06 ms per token,    39.90 tokens per second)\n",
      "llama_print_timings:       total time =     864.27 ms /    41 tokens\n",
      "Llama.generate: prefix-match hit\n"
     ]
    },
    {
     "name": "stdout",
     "output_type": "stream",
     "text": [
      "--> testing hi-en: kela pick karo and dance karo\n"
     ]
    },
    {
     "name": "stderr",
     "output_type": "stream",
     "text": [
      "\n",
      "llama_print_timings:        load time =    4007.51 ms\n",
      "llama_print_timings:      sample time =       1.26 ms /    13 runs   (    0.10 ms per token, 10317.46 tokens per second)\n",
      "llama_print_timings: prompt eval time =     111.70 ms /    12 tokens (    9.31 ms per token,   107.43 tokens per second)\n",
      "llama_print_timings:        eval time =     298.60 ms /    12 runs   (   24.88 ms per token,    40.19 tokens per second)\n",
      "llama_print_timings:       total time =     429.50 ms /    24 tokens\n",
      "Llama.generate: prefix-match hit\n"
     ]
    },
    {
     "name": "stdout",
     "output_type": "stream",
     "text": [
      "--> testing ms: Ambil pisang dan menari.\n"
     ]
    },
    {
     "name": "stderr",
     "output_type": "stream",
     "text": [
      "\n",
      "llama_print_timings:        load time =    4007.51 ms\n",
      "llama_print_timings:      sample time =       2.19 ms /    21 runs   (    0.10 ms per token,  9571.56 tokens per second)\n",
      "llama_print_timings: prompt eval time =     112.79 ms /    11 tokens (   10.25 ms per token,    97.53 tokens per second)\n",
      "llama_print_timings:        eval time =     497.46 ms /    20 runs   (   24.87 ms per token,    40.20 tokens per second)\n",
      "llama_print_timings:       total time =     641.80 ms /    31 tokens\n",
      "Llama.generate: prefix-match hit\n"
     ]
    },
    {
     "name": "stdout",
     "output_type": "stream",
     "text": [
      "--> testing ru: Возьмите банан и потанцуйте\n"
     ]
    },
    {
     "name": "stderr",
     "output_type": "stream",
     "text": [
      "\n",
      "llama_print_timings:        load time =    4007.51 ms\n",
      "llama_print_timings:      sample time =       0.93 ms /     8 runs   (    0.12 ms per token,  8620.69 tokens per second)\n",
      "llama_print_timings: prompt eval time =     114.41 ms /    15 tokens (    7.63 ms per token,   131.11 tokens per second)\n",
      "llama_print_timings:        eval time =     174.96 ms /     7 runs   (   24.99 ms per token,    40.01 tokens per second)\n",
      "llama_print_timings:       total time =     303.05 ms /    22 tokens\n",
      "Llama.generate: prefix-match hit\n"
     ]
    },
    {
     "name": "stdout",
     "output_type": "stream",
     "text": [
      "--> testing cn: 拿起香蕉，然后跳舞\n"
     ]
    },
    {
     "name": "stderr",
     "output_type": "stream",
     "text": [
      "\n",
      "llama_print_timings:        load time =    4007.51 ms\n",
      "llama_print_timings:      sample time =       4.27 ms /    51 runs   (    0.08 ms per token, 11954.99 tokens per second)\n",
      "llama_print_timings: prompt eval time =     115.85 ms /    19 tokens (    6.10 ms per token,   164.01 tokens per second)\n",
      "llama_print_timings:        eval time =    1256.68 ms /    50 runs   (   25.13 ms per token,    39.79 tokens per second)\n",
      "llama_print_timings:       total time =    1448.75 ms /    69 tokens\n",
      "Llama.generate: prefix-match hit\n"
     ]
    },
    {
     "name": "stdout",
     "output_type": "stream",
     "text": [
      "average inference: 751.7ms\n",
      "------------\n",
      "--> testing en: put the ball in the box\n"
     ]
    },
    {
     "name": "stderr",
     "output_type": "stream",
     "text": [
      "\n",
      "llama_print_timings:        load time =    4007.51 ms\n",
      "llama_print_timings:      sample time =       1.23 ms /    12 runs   (    0.10 ms per token,  9740.26 tokens per second)\n",
      "llama_print_timings: prompt eval time =     112.05 ms /     9 tokens (   12.45 ms per token,    80.32 tokens per second)\n",
      "llama_print_timings:        eval time =     281.68 ms /    11 runs   (   25.61 ms per token,    39.05 tokens per second)\n",
      "llama_print_timings:       total time =     414.60 ms /    20 tokens\n",
      "Llama.generate: prefix-match hit\n"
     ]
    },
    {
     "name": "stdout",
     "output_type": "stream",
     "text": [
      "--> testing hi: गेंद को डिब्बे में रखो\n"
     ]
    },
    {
     "name": "stderr",
     "output_type": "stream",
     "text": [
      "\n",
      "llama_print_timings:        load time =    4007.51 ms\n",
      "llama_print_timings:      sample time =       1.84 ms /    14 runs   (    0.13 ms per token,  7612.83 tokens per second)\n",
      "llama_print_timings: prompt eval time =     117.19 ms /    26 tokens (    4.51 ms per token,   221.87 tokens per second)\n",
      "llama_print_timings:        eval time =     325.93 ms /    13 runs   (   25.07 ms per token,    39.89 tokens per second)\n",
      "llama_print_timings:       total time =     470.58 ms /    39 tokens\n",
      "Llama.generate: prefix-match hit\n"
     ]
    },
    {
     "name": "stdout",
     "output_type": "stream",
     "text": [
      "--> testing fr:  Mets la balle dans la boîte.\n"
     ]
    },
    {
     "name": "stderr",
     "output_type": "stream",
     "text": [
      "\n",
      "llama_print_timings:        load time =    4007.51 ms\n",
      "llama_print_timings:      sample time =       1.25 ms /    12 runs   (    0.10 ms per token,  9638.55 tokens per second)\n",
      "llama_print_timings: prompt eval time =     112.06 ms /    14 tokens (    8.00 ms per token,   124.93 tokens per second)\n",
      "llama_print_timings:        eval time =     274.73 ms /    11 runs   (   24.98 ms per token,    40.04 tokens per second)\n",
      "llama_print_timings:       total time =     405.17 ms /    25 tokens\n",
      "Llama.generate: prefix-match hit\n"
     ]
    },
    {
     "name": "stdout",
     "output_type": "stream",
     "text": [
      "--> testing es: Pon la pelota en la caja.\n"
     ]
    },
    {
     "name": "stderr",
     "output_type": "stream",
     "text": [
      "\n",
      "llama_print_timings:        load time =    4007.51 ms\n",
      "llama_print_timings:      sample time =       1.24 ms /    12 runs   (    0.10 ms per token,  9646.30 tokens per second)\n",
      "llama_print_timings: prompt eval time =     112.25 ms /    12 tokens (    9.35 ms per token,   106.90 tokens per second)\n",
      "llama_print_timings:        eval time =     273.06 ms /    11 runs   (   24.82 ms per token,    40.28 tokens per second)\n",
      "llama_print_timings:       total time =     403.35 ms /    23 tokens\n",
      "Llama.generate: prefix-match hit\n"
     ]
    },
    {
     "name": "stdout",
     "output_type": "stream",
     "text": [
      "--> testing it: Metti la palla nella scatola.\n"
     ]
    },
    {
     "name": "stderr",
     "output_type": "stream",
     "text": [
      "\n",
      "llama_print_timings:        load time =    4007.51 ms\n",
      "llama_print_timings:      sample time =       1.28 ms /    12 runs   (    0.11 ms per token,  9382.33 tokens per second)\n",
      "llama_print_timings: prompt eval time =     112.04 ms /    13 tokens (    8.62 ms per token,   116.03 tokens per second)\n",
      "llama_print_timings:        eval time =     269.63 ms /    11 runs   (   24.51 ms per token,    40.80 tokens per second)\n",
      "llama_print_timings:       total time =     400.26 ms /    24 tokens\n",
      "Llama.generate: prefix-match hit\n"
     ]
    },
    {
     "name": "stdout",
     "output_type": "stream",
     "text": [
      "--> testing hi-en: ball box mein rakho\n"
     ]
    },
    {
     "name": "stderr",
     "output_type": "stream",
     "text": [
      "\n",
      "llama_print_timings:        load time =    4007.51 ms\n",
      "llama_print_timings:      sample time =       1.27 ms /    12 runs   (    0.11 ms per token,  9426.55 tokens per second)\n",
      "llama_print_timings: prompt eval time =     111.41 ms /    10 tokens (   11.14 ms per token,    89.76 tokens per second)\n",
      "llama_print_timings:        eval time =     271.15 ms /    11 runs   (   24.65 ms per token,    40.57 tokens per second)\n",
      "llama_print_timings:       total time =     400.90 ms /    21 tokens\n",
      "Llama.generate: prefix-match hit\n"
     ]
    },
    {
     "name": "stdout",
     "output_type": "stream",
     "text": [
      "--> testing ms: Masukkan bola ke dalam kotak.\n"
     ]
    },
    {
     "name": "stderr",
     "output_type": "stream",
     "text": [
      "\n",
      "llama_print_timings:        load time =    4007.51 ms\n",
      "llama_print_timings:      sample time =       1.46 ms /    12 runs   (    0.12 ms per token,  8247.42 tokens per second)\n",
      "llama_print_timings: prompt eval time =     112.49 ms /    14 tokens (    8.04 ms per token,   124.46 tokens per second)\n",
      "llama_print_timings:        eval time =     275.99 ms /    11 runs   (   25.09 ms per token,    39.86 tokens per second)\n",
      "llama_print_timings:       total time =     409.64 ms /    25 tokens\n",
      "Llama.generate: prefix-match hit\n"
     ]
    },
    {
     "name": "stdout",
     "output_type": "stream",
     "text": [
      "--> testing ru: Положите мяч в коробку\n"
     ]
    },
    {
     "name": "stderr",
     "output_type": "stream",
     "text": [
      "\n",
      "llama_print_timings:        load time =    4007.51 ms\n",
      "llama_print_timings:      sample time =       1.66 ms /    15 runs   (    0.11 ms per token,  9014.42 tokens per second)\n",
      "llama_print_timings: prompt eval time =     112.43 ms /    13 tokens (    8.65 ms per token,   115.63 tokens per second)\n",
      "llama_print_timings:        eval time =     350.16 ms /    14 runs   (   25.01 ms per token,    39.98 tokens per second)\n",
      "llama_print_timings:       total time =     487.10 ms /    27 tokens\n",
      "Llama.generate: prefix-match hit\n"
     ]
    },
    {
     "name": "stdout",
     "output_type": "stream",
     "text": [
      "--> testing cn: 把球放到盒子里\n"
     ]
    },
    {
     "name": "stderr",
     "output_type": "stream",
     "text": [
      "\n",
      "llama_print_timings:        load time =    4007.51 ms\n",
      "llama_print_timings:      sample time =       1.24 ms /    12 runs   (    0.10 ms per token,  9685.23 tokens per second)\n",
      "llama_print_timings: prompt eval time =     112.38 ms /    15 tokens (    7.49 ms per token,   133.48 tokens per second)\n",
      "llama_print_timings:        eval time =     273.90 ms /    11 runs   (   24.90 ms per token,    40.16 tokens per second)\n",
      "llama_print_timings:       total time =     404.63 ms /    26 tokens\n",
      "Llama.generate: prefix-match hit\n"
     ]
    },
    {
     "name": "stdout",
     "output_type": "stream",
     "text": [
      "average inference: 424.8ms\n",
      "------------\n",
      "--> testing en: put the bread in tiffin\n"
     ]
    },
    {
     "name": "stderr",
     "output_type": "stream",
     "text": [
      "\n",
      "llama_print_timings:        load time =    4007.51 ms\n",
      "llama_print_timings:      sample time =       1.70 ms /    15 runs   (    0.11 ms per token,  8849.56 tokens per second)\n",
      "llama_print_timings: prompt eval time =     111.74 ms /    10 tokens (   11.17 ms per token,    89.49 tokens per second)\n",
      "llama_print_timings:        eval time =     347.98 ms /    14 runs   (   24.86 ms per token,    40.23 tokens per second)\n",
      "llama_print_timings:       total time =     485.38 ms /    24 tokens\n",
      "Llama.generate: prefix-match hit\n"
     ]
    },
    {
     "name": "stdout",
     "output_type": "stream",
     "text": [
      "--> testing hi: टिफिन में ब्रेड डालो\n"
     ]
    },
    {
     "name": "stderr",
     "output_type": "stream",
     "text": [
      "\n",
      "llama_print_timings:        load time =    4007.51 ms\n",
      "llama_print_timings:      sample time =       0.86 ms /     8 runs   (    0.11 ms per token,  9324.01 tokens per second)\n",
      "llama_print_timings: prompt eval time =     116.98 ms /    26 tokens (    4.50 ms per token,   222.27 tokens per second)\n",
      "llama_print_timings:        eval time =     175.58 ms /     7 runs   (   25.08 ms per token,    39.87 tokens per second)\n",
      "llama_print_timings:       total time =     304.72 ms /    33 tokens\n",
      "Llama.generate: prefix-match hit\n"
     ]
    },
    {
     "name": "stdout",
     "output_type": "stream",
     "text": [
      "--> testing fr:  Mets le pain dans le tiffin.\n"
     ]
    },
    {
     "name": "stderr",
     "output_type": "stream",
     "text": [
      "\n",
      "llama_print_timings:        load time =    4007.51 ms\n",
      "llama_print_timings:      sample time =       1.55 ms /    15 runs   (    0.10 ms per token,  9696.19 tokens per second)\n",
      "llama_print_timings: prompt eval time =     111.96 ms /    13 tokens (    8.61 ms per token,   116.11 tokens per second)\n",
      "llama_print_timings:        eval time =     348.36 ms /    14 runs   (   24.88 ms per token,    40.19 tokens per second)\n",
      "llama_print_timings:       total time =     482.95 ms /    27 tokens\n",
      "Llama.generate: prefix-match hit\n"
     ]
    },
    {
     "name": "stdout",
     "output_type": "stream",
     "text": [
      "--> testing es: Pon el pan en la fiambrera.\n"
     ]
    },
    {
     "name": "stderr",
     "output_type": "stream",
     "text": [
      "\n",
      "llama_print_timings:        load time =    4007.51 ms\n",
      "llama_print_timings:      sample time =       1.86 ms /    15 runs   (    0.12 ms per token,  8081.90 tokens per second)\n",
      "llama_print_timings: prompt eval time =     113.54 ms /    12 tokens (    9.46 ms per token,   105.69 tokens per second)\n",
      "llama_print_timings:        eval time =     351.09 ms /    14 runs   (   25.08 ms per token,    39.88 tokens per second)\n",
      "llama_print_timings:       total time =     491.28 ms /    26 tokens\n",
      "Llama.generate: prefix-match hit\n"
     ]
    },
    {
     "name": "stdout",
     "output_type": "stream",
     "text": [
      "--> testing it: Metti il pane nella scatola del pranzo.\n"
     ]
    },
    {
     "name": "stderr",
     "output_type": "stream",
     "text": [
      "\n",
      "llama_print_timings:        load time =    4007.51 ms\n",
      "llama_print_timings:      sample time =       1.48 ms /    15 runs   (    0.10 ms per token, 10141.99 tokens per second)\n",
      "llama_print_timings: prompt eval time =     114.04 ms /    17 tokens (    6.71 ms per token,   149.07 tokens per second)\n",
      "llama_print_timings:        eval time =     347.94 ms /    14 runs   (   24.85 ms per token,    40.24 tokens per second)\n",
      "llama_print_timings:       total time =     484.58 ms /    31 tokens\n",
      "Llama.generate: prefix-match hit\n"
     ]
    },
    {
     "name": "stdout",
     "output_type": "stream",
     "text": [
      "--> testing hi-en: bread ko tiffin mein rakho\n"
     ]
    },
    {
     "name": "stderr",
     "output_type": "stream",
     "text": [
      "\n",
      "llama_print_timings:        load time =    4007.51 ms\n",
      "llama_print_timings:      sample time =       1.78 ms /    15 runs   (    0.12 ms per token,  8441.19 tokens per second)\n",
      "llama_print_timings: prompt eval time =     112.05 ms /    13 tokens (    8.62 ms per token,   116.02 tokens per second)\n",
      "llama_print_timings:        eval time =     349.61 ms /    14 runs   (   24.97 ms per token,    40.04 tokens per second)\n",
      "llama_print_timings:       total time =     487.10 ms /    27 tokens\n",
      "Llama.generate: prefix-match hit\n"
     ]
    },
    {
     "name": "stdout",
     "output_type": "stream",
     "text": [
      "--> testing ms: Masukkan roti ke dalam tiffin.\n"
     ]
    },
    {
     "name": "stderr",
     "output_type": "stream",
     "text": [
      "\n",
      "llama_print_timings:        load time =    4007.51 ms\n",
      "llama_print_timings:      sample time =       1.58 ms /    15 runs   (    0.11 ms per token,  9475.68 tokens per second)\n",
      "llama_print_timings: prompt eval time =     112.52 ms /    15 tokens (    7.50 ms per token,   133.31 tokens per second)\n",
      "llama_print_timings:        eval time =     349.71 ms /    14 runs   (   24.98 ms per token,    40.03 tokens per second)\n",
      "llama_print_timings:       total time =     484.60 ms /    29 tokens\n",
      "Llama.generate: prefix-match hit\n"
     ]
    },
    {
     "name": "stdout",
     "output_type": "stream",
     "text": [
      "--> testing ru: Положите хлеб в ланч-бокс\n"
     ]
    },
    {
     "name": "stderr",
     "output_type": "stream",
     "text": [
      "\n",
      "llama_print_timings:        load time =    4007.51 ms\n",
      "llama_print_timings:      sample time =       1.83 ms /    18 runs   (    0.10 ms per token,  9830.69 tokens per second)\n",
      "llama_print_timings: prompt eval time =     114.60 ms /    17 tokens (    6.74 ms per token,   148.35 tokens per second)\n",
      "llama_print_timings:        eval time =     425.33 ms /    17 runs   (   25.02 ms per token,    39.97 tokens per second)\n",
      "llama_print_timings:       total time =     566.32 ms /    34 tokens\n",
      "Llama.generate: prefix-match hit\n"
     ]
    },
    {
     "name": "stdout",
     "output_type": "stream",
     "text": [
      "--> testing cn: 把面包放到饭盒里\n"
     ]
    },
    {
     "name": "stderr",
     "output_type": "stream",
     "text": [
      "\n",
      "llama_print_timings:        load time =    4007.51 ms\n",
      "llama_print_timings:      sample time =       1.84 ms /    18 runs   (    0.10 ms per token,  9777.29 tokens per second)\n",
      "llama_print_timings: prompt eval time =     113.69 ms /    18 tokens (    6.32 ms per token,   158.33 tokens per second)\n",
      "llama_print_timings:        eval time =     422.48 ms /    17 runs   (   24.85 ms per token,    40.24 tokens per second)\n",
      "llama_print_timings:       total time =     563.80 ms /    35 tokens\n",
      "Llama.generate: prefix-match hit\n"
     ]
    },
    {
     "name": "stdout",
     "output_type": "stream",
     "text": [
      "average inference: 486.4ms\n",
      "------------\n",
      "--> testing en: put the flower pot on the table\n"
     ]
    },
    {
     "name": "stderr",
     "output_type": "stream",
     "text": [
      "\n",
      "llama_print_timings:        load time =    4007.51 ms\n",
      "llama_print_timings:      sample time =       1.62 ms /    14 runs   (    0.12 ms per token,  8647.31 tokens per second)\n",
      "llama_print_timings: prompt eval time =     112.96 ms /    10 tokens (   11.30 ms per token,    88.53 tokens per second)\n",
      "llama_print_timings:        eval time =     324.29 ms /    13 runs   (   24.95 ms per token,    40.09 tokens per second)\n",
      "llama_print_timings:       total time =     461.80 ms /    23 tokens\n",
      "Llama.generate: prefix-match hit\n"
     ]
    },
    {
     "name": "stdout",
     "output_type": "stream",
     "text": [
      "--> testing hi: फूलदान को मेज़ पर रखो\n"
     ]
    },
    {
     "name": "stderr",
     "output_type": "stream",
     "text": [
      "\n",
      "llama_print_timings:        load time =    4007.51 ms\n",
      "llama_print_timings:      sample time =       1.58 ms /    15 runs   (    0.11 ms per token,  9469.70 tokens per second)\n",
      "llama_print_timings: prompt eval time =     117.69 ms /    27 tokens (    4.36 ms per token,   229.41 tokens per second)\n",
      "llama_print_timings:        eval time =     349.23 ms /    14 runs   (   24.95 ms per token,    40.09 tokens per second)\n",
      "llama_print_timings:       total time =     490.77 ms /    41 tokens\n",
      "Llama.generate: prefix-match hit\n"
     ]
    },
    {
     "name": "stdout",
     "output_type": "stream",
     "text": [
      "--> testing fr: Pose le pot de fleurs sur la table.\n"
     ]
    },
    {
     "name": "stderr",
     "output_type": "stream",
     "text": [
      "\n",
      "llama_print_timings:        load time =    4007.51 ms\n",
      "llama_print_timings:      sample time =       1.65 ms /    14 runs   (    0.12 ms per token,  8479.71 tokens per second)\n",
      "llama_print_timings: prompt eval time =     113.05 ms /    14 tokens (    8.07 ms per token,   123.84 tokens per second)\n",
      "llama_print_timings:        eval time =     327.26 ms /    13 runs   (   25.17 ms per token,    39.72 tokens per second)\n",
      "llama_print_timings:       total time =     464.36 ms /    27 tokens\n",
      "Llama.generate: prefix-match hit\n"
     ]
    },
    {
     "name": "stdout",
     "output_type": "stream",
     "text": [
      "--> testing es: Pon la maceta en la mesa.\n"
     ]
    },
    {
     "name": "stderr",
     "output_type": "stream",
     "text": [
      "\n",
      "llama_print_timings:        load time =    4007.51 ms\n",
      "llama_print_timings:      sample time =       1.27 ms /    12 runs   (    0.11 ms per token,  9471.19 tokens per second)\n",
      "llama_print_timings: prompt eval time =     112.24 ms /    12 tokens (    9.35 ms per token,   106.92 tokens per second)\n",
      "llama_print_timings:        eval time =     275.57 ms /    11 runs   (   25.05 ms per token,    39.92 tokens per second)\n",
      "llama_print_timings:       total time =     405.94 ms /    23 tokens\n",
      "Llama.generate: prefix-match hit\n"
     ]
    },
    {
     "name": "stdout",
     "output_type": "stream",
     "text": [
      "--> testing it: Metti il vaso di fiori sul tavolo.\n"
     ]
    },
    {
     "name": "stderr",
     "output_type": "stream",
     "text": [
      "\n",
      "llama_print_timings:        load time =    4007.51 ms\n",
      "llama_print_timings:      sample time =       2.25 ms /    19 runs   (    0.12 ms per token,  8444.44 tokens per second)\n",
      "llama_print_timings: prompt eval time =     115.25 ms /    17 tokens (    6.78 ms per token,   147.51 tokens per second)\n",
      "llama_print_timings:        eval time =     466.56 ms /    18 runs   (   25.92 ms per token,    38.58 tokens per second)\n",
      "llama_print_timings:       total time =     627.51 ms /    35 tokens\n",
      "Llama.generate: prefix-match hit\n"
     ]
    },
    {
     "name": "stdout",
     "output_type": "stream",
     "text": [
      "--> testing hi-en: flower pot table pe rakho\n"
     ]
    },
    {
     "name": "stderr",
     "output_type": "stream",
     "text": [
      "\n",
      "llama_print_timings:        load time =    4007.51 ms\n",
      "llama_print_timings:      sample time =       1.45 ms /    14 runs   (    0.10 ms per token,  9641.87 tokens per second)\n",
      "llama_print_timings: prompt eval time =     113.86 ms /    10 tokens (   11.39 ms per token,    87.83 tokens per second)\n",
      "llama_print_timings:        eval time =     325.25 ms /    13 runs   (   25.02 ms per token,    39.97 tokens per second)\n",
      "llama_print_timings:       total time =     462.78 ms /    23 tokens\n",
      "Llama.generate: prefix-match hit\n"
     ]
    },
    {
     "name": "stdout",
     "output_type": "stream",
     "text": [
      "--> testing ms: Letakkan pasu bunga di atas meja.\n"
     ]
    },
    {
     "name": "stderr",
     "output_type": "stream",
     "text": [
      "\n",
      "llama_print_timings:        load time =    4007.51 ms\n",
      "llama_print_timings:      sample time =       2.25 ms /    14 runs   (    0.16 ms per token,  6219.46 tokens per second)\n",
      "llama_print_timings: prompt eval time =     115.33 ms /    17 tokens (    6.78 ms per token,   147.40 tokens per second)\n",
      "llama_print_timings:        eval time =     329.66 ms /    13 runs   (   25.36 ms per token,    39.43 tokens per second)\n",
      "llama_print_timings:       total time =     472.80 ms /    30 tokens\n",
      "Llama.generate: prefix-match hit\n"
     ]
    },
    {
     "name": "stdout",
     "output_type": "stream",
     "text": [
      "--> testing ru: Поставьте цветочный горшок на стол\n"
     ]
    },
    {
     "name": "stderr",
     "output_type": "stream",
     "text": [
      "\n",
      "llama_print_timings:        load time =    4007.51 ms\n",
      "llama_print_timings:      sample time =       1.68 ms /    14 runs   (    0.12 ms per token,  8353.22 tokens per second)\n",
      "llama_print_timings: prompt eval time =     114.26 ms /    17 tokens (    6.72 ms per token,   148.78 tokens per second)\n",
      "llama_print_timings:        eval time =     326.17 ms /    13 runs   (   25.09 ms per token,    39.86 tokens per second)\n",
      "llama_print_timings:       total time =     466.47 ms /    30 tokens\n",
      "Llama.generate: prefix-match hit\n"
     ]
    },
    {
     "name": "stdout",
     "output_type": "stream",
     "text": [
      "--> testing cn: 把花盆放到桌子上\n"
     ]
    },
    {
     "name": "stderr",
     "output_type": "stream",
     "text": [
      "\n",
      "llama_print_timings:        load time =    4007.51 ms\n",
      "llama_print_timings:      sample time =       1.56 ms /    15 runs   (    0.10 ms per token,  9603.07 tokens per second)\n",
      "llama_print_timings: prompt eval time =     123.77 ms /    18 tokens (    6.88 ms per token,   145.43 tokens per second)\n",
      "llama_print_timings:        eval time =     347.60 ms /    14 runs   (   24.83 ms per token,    40.28 tokens per second)\n",
      "llama_print_timings:       total time =     495.93 ms /    32 tokens\n",
      "Llama.generate: prefix-match hit\n"
     ]
    },
    {
     "name": "stdout",
     "output_type": "stream",
     "text": [
      "average inference: 487.1ms\n",
      "------------\n",
      "--> testing en: keep the apple on the plate\n"
     ]
    },
    {
     "name": "stderr",
     "output_type": "stream",
     "text": [
      "\n",
      "llama_print_timings:        load time =    4007.51 ms\n",
      "llama_print_timings:      sample time =       1.34 ms /    12 runs   (    0.11 ms per token,  8968.61 tokens per second)\n",
      "llama_print_timings: prompt eval time =     112.99 ms /     9 tokens (   12.55 ms per token,    79.66 tokens per second)\n",
      "llama_print_timings:        eval time =     280.39 ms /    11 runs   (   25.49 ms per token,    39.23 tokens per second)\n",
      "llama_print_timings:       total time =     413.05 ms /    20 tokens\n",
      "Llama.generate: prefix-match hit\n"
     ]
    },
    {
     "name": "stdout",
     "output_type": "stream",
     "text": [
      "--> testing hi: सेब को प्लेट पर रखो\n"
     ]
    },
    {
     "name": "stderr",
     "output_type": "stream",
     "text": [
      "\n",
      "llama_print_timings:        load time =    4007.51 ms\n",
      "llama_print_timings:      sample time =       1.82 ms /    14 runs   (    0.13 ms per token,  7683.86 tokens per second)\n",
      "llama_print_timings: prompt eval time =     118.91 ms /    23 tokens (    5.17 ms per token,   193.42 tokens per second)\n",
      "llama_print_timings:        eval time =     324.87 ms /    13 runs   (   24.99 ms per token,    40.02 tokens per second)\n",
      "llama_print_timings:       total time =     473.72 ms /    36 tokens\n",
      "Llama.generate: prefix-match hit\n"
     ]
    },
    {
     "name": "stdout",
     "output_type": "stream",
     "text": [
      "--> testing fr: Garde la pomme sur l'assiette.\n"
     ]
    },
    {
     "name": "stderr",
     "output_type": "stream",
     "text": [
      "\n",
      "llama_print_timings:        load time =    4007.51 ms\n",
      "llama_print_timings:      sample time =       1.81 ms /    12 runs   (    0.15 ms per token,  6640.84 tokens per second)\n",
      "llama_print_timings: prompt eval time =     114.19 ms /    15 tokens (    7.61 ms per token,   131.37 tokens per second)\n",
      "llama_print_timings:        eval time =     273.39 ms /    11 runs   (   24.85 ms per token,    40.24 tokens per second)\n",
      "llama_print_timings:       total time =     413.73 ms /    26 tokens\n",
      "Llama.generate: prefix-match hit\n"
     ]
    },
    {
     "name": "stdout",
     "output_type": "stream",
     "text": [
      "--> testing es: Deja la manzana en el plato.\n"
     ]
    },
    {
     "name": "stderr",
     "output_type": "stream",
     "text": [
      "\n",
      "llama_print_timings:        load time =    4007.51 ms\n",
      "llama_print_timings:      sample time =       1.67 ms /    12 runs   (    0.14 ms per token,  7177.03 tokens per second)\n",
      "llama_print_timings: prompt eval time =     115.36 ms /    14 tokens (    8.24 ms per token,   121.36 tokens per second)\n",
      "llama_print_timings:        eval time =     275.44 ms /    11 runs   (   25.04 ms per token,    39.94 tokens per second)\n",
      "llama_print_timings:       total time =     415.06 ms /    25 tokens\n",
      "Llama.generate: prefix-match hit\n"
     ]
    },
    {
     "name": "stdout",
     "output_type": "stream",
     "text": [
      "--> testing it: Tieni la mela sul piatto.\n"
     ]
    },
    {
     "name": "stderr",
     "output_type": "stream",
     "text": [
      "\n",
      "llama_print_timings:        load time =    4007.51 ms\n",
      "llama_print_timings:      sample time =       1.50 ms /    12 runs   (    0.13 ms per token,  7984.03 tokens per second)\n",
      "llama_print_timings: prompt eval time =     113.62 ms /    13 tokens (    8.74 ms per token,   114.42 tokens per second)\n",
      "llama_print_timings:        eval time =     277.29 ms /    11 runs   (   25.21 ms per token,    39.67 tokens per second)\n",
      "llama_print_timings:       total time =     413.51 ms /    24 tokens\n",
      "Llama.generate: prefix-match hit\n"
     ]
    },
    {
     "name": "stdout",
     "output_type": "stream",
     "text": [
      "--> testing hi-en: seb plate pe rakho\n"
     ]
    },
    {
     "name": "stderr",
     "output_type": "stream",
     "text": [
      "\n",
      "llama_print_timings:        load time =    4007.51 ms\n",
      "llama_print_timings:      sample time =       1.46 ms /    14 runs   (    0.10 ms per token,  9608.79 tokens per second)\n",
      "llama_print_timings: prompt eval time =     111.11 ms /    10 tokens (   11.11 ms per token,    90.00 tokens per second)\n",
      "llama_print_timings:        eval time =     321.30 ms /    13 runs   (   24.72 ms per token,    40.46 tokens per second)\n",
      "llama_print_timings:       total time =     454.74 ms /    23 tokens\n",
      "Llama.generate: prefix-match hit\n"
     ]
    },
    {
     "name": "stdout",
     "output_type": "stream",
     "text": [
      "--> testing ms: Simpan epal di atas pinggan.\n"
     ]
    },
    {
     "name": "stderr",
     "output_type": "stream",
     "text": [
      "\n",
      "llama_print_timings:        load time =    4007.51 ms\n",
      "llama_print_timings:      sample time =       1.66 ms /    16 runs   (    0.10 ms per token,  9650.18 tokens per second)\n",
      "llama_print_timings: prompt eval time =     113.11 ms /    13 tokens (    8.70 ms per token,   114.93 tokens per second)\n",
      "llama_print_timings:        eval time =     374.36 ms /    15 runs   (   24.96 ms per token,    40.07 tokens per second)\n",
      "llama_print_timings:       total time =     512.46 ms /    28 tokens\n",
      "Llama.generate: prefix-match hit\n"
     ]
    },
    {
     "name": "stdout",
     "output_type": "stream",
     "text": [
      "--> testing ru: Оставьте яблоко на тарелке\n"
     ]
    },
    {
     "name": "stderr",
     "output_type": "stream",
     "text": [
      "\n",
      "llama_print_timings:        load time =    4007.51 ms\n",
      "llama_print_timings:      sample time =       1.47 ms /    12 runs   (    0.12 ms per token,  8152.17 tokens per second)\n",
      "llama_print_timings: prompt eval time =     113.87 ms /    16 tokens (    7.12 ms per token,   140.51 tokens per second)\n",
      "llama_print_timings:        eval time =     272.96 ms /    11 runs   (   24.81 ms per token,    40.30 tokens per second)\n",
      "llama_print_timings:       total time =     408.42 ms /    27 tokens\n",
      "Llama.generate: prefix-match hit\n"
     ]
    },
    {
     "name": "stdout",
     "output_type": "stream",
     "text": [
      "--> testing cn: 把苹果放在盘子里\n"
     ]
    },
    {
     "name": "stderr",
     "output_type": "stream",
     "text": [
      "\n",
      "llama_print_timings:        load time =    4007.51 ms\n",
      "llama_print_timings:      sample time =       1.46 ms /    12 runs   (    0.12 ms per token,  8236.10 tokens per second)\n",
      "llama_print_timings: prompt eval time =     115.92 ms /    18 tokens (    6.44 ms per token,   155.28 tokens per second)\n",
      "llama_print_timings:        eval time =     274.61 ms /    11 runs   (   24.96 ms per token,    40.06 tokens per second)\n",
      "llama_print_timings:       total time =     412.54 ms /    29 tokens\n",
      "Llama.generate: prefix-match hit\n"
     ]
    },
    {
     "name": "stdout",
     "output_type": "stream",
     "text": [
      "average inference: 438.5ms\n",
      "------------\n",
      "--> testing en: place the bread in the tiffin\n"
     ]
    },
    {
     "name": "stderr",
     "output_type": "stream",
     "text": [
      "\n",
      "llama_print_timings:        load time =    4007.51 ms\n",
      "llama_print_timings:      sample time =       1.88 ms /    15 runs   (    0.13 ms per token,  7995.74 tokens per second)\n",
      "llama_print_timings: prompt eval time =     111.30 ms /    11 tokens (   10.12 ms per token,    98.83 tokens per second)\n",
      "llama_print_timings:        eval time =     348.91 ms /    14 runs   (   24.92 ms per token,    40.12 tokens per second)\n",
      "llama_print_timings:       total time =     489.17 ms /    25 tokens\n",
      "Llama.generate: prefix-match hit\n"
     ]
    },
    {
     "name": "stdout",
     "output_type": "stream",
     "text": [
      "--> testing hi: ब्रेड को टिफिन में रखो\n"
     ]
    },
    {
     "name": "stderr",
     "output_type": "stream",
     "text": [
      "\n",
      "llama_print_timings:        load time =    4007.51 ms\n",
      "llama_print_timings:      sample time =       1.52 ms /    13 runs   (    0.12 ms per token,  8563.90 tokens per second)\n",
      "llama_print_timings: prompt eval time =     117.29 ms /    28 tokens (    4.19 ms per token,   238.73 tokens per second)\n",
      "llama_print_timings:        eval time =     305.12 ms /    12 runs   (   25.43 ms per token,    39.33 tokens per second)\n",
      "llama_print_timings:       total time =     448.25 ms /    40 tokens\n",
      "Llama.generate: prefix-match hit\n"
     ]
    },
    {
     "name": "stdout",
     "output_type": "stream",
     "text": [
      "--> testing fr: Place le pain dans le tiffin.\n"
     ]
    },
    {
     "name": "stderr",
     "output_type": "stream",
     "text": [
      "\n",
      "llama_print_timings:        load time =    4007.51 ms\n",
      "llama_print_timings:      sample time =       1.77 ms /    15 runs   (    0.12 ms per token,  8498.58 tokens per second)\n",
      "llama_print_timings: prompt eval time =     111.75 ms /    12 tokens (    9.31 ms per token,   107.38 tokens per second)\n",
      "llama_print_timings:        eval time =     346.33 ms /    14 runs   (   24.74 ms per token,    40.42 tokens per second)\n",
      "llama_print_timings:       total time =     484.82 ms /    26 tokens\n",
      "Llama.generate: prefix-match hit\n"
     ]
    },
    {
     "name": "stdout",
     "output_type": "stream",
     "text": [
      "--> testing es: Coloca el pan en la fiambrera.\n"
     ]
    },
    {
     "name": "stderr",
     "output_type": "stream",
     "text": [
      "\n",
      "llama_print_timings:        load time =    4007.51 ms\n",
      "llama_print_timings:      sample time =       1.58 ms /    14 runs   (    0.11 ms per token,  8866.37 tokens per second)\n",
      "llama_print_timings: prompt eval time =     111.77 ms /    13 tokens (    8.60 ms per token,   116.31 tokens per second)\n",
      "llama_print_timings:        eval time =     324.26 ms /    13 runs   (   24.94 ms per token,    40.09 tokens per second)\n",
      "llama_print_timings:       total time =     459.35 ms /    26 tokens\n",
      "Llama.generate: prefix-match hit\n"
     ]
    },
    {
     "name": "stdout",
     "output_type": "stream",
     "text": [
      "--> testing it: Metti il pane nella scatola del pranzo.\n"
     ]
    },
    {
     "name": "stderr",
     "output_type": "stream",
     "text": [
      "\n",
      "llama_print_timings:        load time =    4007.51 ms\n",
      "llama_print_timings:      sample time =       1.60 ms /    15 runs   (    0.11 ms per token,  9357.45 tokens per second)\n",
      "llama_print_timings: prompt eval time =     113.16 ms /    17 tokens (    6.66 ms per token,   150.23 tokens per second)\n",
      "llama_print_timings:        eval time =     348.78 ms /    14 runs   (   24.91 ms per token,    40.14 tokens per second)\n",
      "llama_print_timings:       total time =     486.33 ms /    31 tokens\n",
      "Llama.generate: prefix-match hit\n"
     ]
    },
    {
     "name": "stdout",
     "output_type": "stream",
     "text": [
      "--> testing hi-en: bread ko tiffin mein rakho\n"
     ]
    },
    {
     "name": "stderr",
     "output_type": "stream",
     "text": [
      "\n",
      "llama_print_timings:        load time =    4007.51 ms\n",
      "llama_print_timings:      sample time =       1.60 ms /    15 runs   (    0.11 ms per token,  9380.86 tokens per second)\n",
      "llama_print_timings: prompt eval time =     112.04 ms /    13 tokens (    8.62 ms per token,   116.03 tokens per second)\n",
      "llama_print_timings:        eval time =     348.46 ms /    14 runs   (   24.89 ms per token,    40.18 tokens per second)\n",
      "llama_print_timings:       total time =     483.80 ms /    27 tokens\n",
      "Llama.generate: prefix-match hit\n"
     ]
    },
    {
     "name": "stdout",
     "output_type": "stream",
     "text": [
      "--> testing ms: Letakkan roti ke dalam tiffin.\n"
     ]
    },
    {
     "name": "stderr",
     "output_type": "stream",
     "text": [
      "\n",
      "llama_print_timings:        load time =    4007.51 ms\n",
      "llama_print_timings:      sample time =       1.91 ms /    15 runs   (    0.13 ms per token,  7845.19 tokens per second)\n",
      "llama_print_timings: prompt eval time =     113.66 ms /    15 tokens (    7.58 ms per token,   131.98 tokens per second)\n",
      "llama_print_timings:        eval time =     349.44 ms /    14 runs   (   24.96 ms per token,    40.06 tokens per second)\n",
      "llama_print_timings:       total time =     490.62 ms /    29 tokens\n",
      "Llama.generate: prefix-match hit\n"
     ]
    },
    {
     "name": "stdout",
     "output_type": "stream",
     "text": [
      "--> testing ru: Положите хлеб в ланч-бокс\n"
     ]
    },
    {
     "name": "stderr",
     "output_type": "stream",
     "text": [
      "\n",
      "llama_print_timings:        load time =    4007.51 ms\n",
      "llama_print_timings:      sample time =       1.89 ms /    18 runs   (    0.10 ms per token,  9528.85 tokens per second)\n",
      "llama_print_timings: prompt eval time =     112.13 ms /    17 tokens (    6.60 ms per token,   151.61 tokens per second)\n",
      "llama_print_timings:        eval time =     421.57 ms /    17 runs   (   24.80 ms per token,    40.33 tokens per second)\n",
      "llama_print_timings:       total time =     561.04 ms /    34 tokens\n",
      "Llama.generate: prefix-match hit\n"
     ]
    },
    {
     "name": "stdout",
     "output_type": "stream",
     "text": [
      "--> testing cn: 把面包放到饭盒里\n"
     ]
    },
    {
     "name": "stderr",
     "output_type": "stream",
     "text": [
      "\n",
      "llama_print_timings:        load time =    4007.51 ms\n",
      "llama_print_timings:      sample time =       1.75 ms /    16 runs   (    0.11 ms per token,  9127.21 tokens per second)\n",
      "llama_print_timings: prompt eval time =     113.71 ms /    18 tokens (    6.32 ms per token,   158.29 tokens per second)\n",
      "llama_print_timings:        eval time =     374.26 ms /    15 runs   (   24.95 ms per token,    40.08 tokens per second)\n",
      "llama_print_timings:       total time =     515.28 ms /    33 tokens\n",
      "Llama.generate: prefix-match hit\n"
     ]
    },
    {
     "name": "stdout",
     "output_type": "stream",
     "text": [
      "average inference: 495.7ms\n",
      "------------\n",
      "--> testing en: throw the coke in the bin\n"
     ]
    },
    {
     "name": "stderr",
     "output_type": "stream",
     "text": [
      "\n",
      "llama_print_timings:        load time =    4007.51 ms\n",
      "llama_print_timings:      sample time =       3.52 ms /    36 runs   (    0.10 ms per token, 10238.91 tokens per second)\n",
      "llama_print_timings: prompt eval time =     112.68 ms /    10 tokens (   11.27 ms per token,    88.75 tokens per second)\n",
      "llama_print_timings:        eval time =     873.31 ms /    35 runs   (   24.95 ms per token,    40.08 tokens per second)\n",
      "llama_print_timings:       total time =    1041.96 ms /    45 tokens\n",
      "Llama.generate: prefix-match hit\n"
     ]
    },
    {
     "name": "stdout",
     "output_type": "stream",
     "text": [
      "--> testing hi: कोक को कूड़े में डालो\n"
     ]
    },
    {
     "name": "stderr",
     "output_type": "stream",
     "text": [
      "\n",
      "llama_print_timings:        load time =    4007.51 ms\n",
      "llama_print_timings:      sample time =       1.67 ms /    15 runs   (    0.11 ms per token,  8960.57 tokens per second)\n",
      "llama_print_timings: prompt eval time =     117.09 ms /    25 tokens (    4.68 ms per token,   213.52 tokens per second)\n",
      "llama_print_timings:        eval time =     350.16 ms /    14 runs   (   25.01 ms per token,    39.98 tokens per second)\n",
      "llama_print_timings:       total time =     493.53 ms /    39 tokens\n",
      "Llama.generate: prefix-match hit\n"
     ]
    },
    {
     "name": "stdout",
     "output_type": "stream",
     "text": [
      "--> testing fr: Jette le coca dans la poubelle.\n"
     ]
    },
    {
     "name": "stderr",
     "output_type": "stream",
     "text": [
      "\n",
      "llama_print_timings:        load time =    4007.51 ms\n",
      "llama_print_timings:      sample time =       1.66 ms /    15 runs   (    0.11 ms per token,  9036.14 tokens per second)\n",
      "llama_print_timings: prompt eval time =     113.63 ms /    14 tokens (    8.12 ms per token,   123.21 tokens per second)\n",
      "llama_print_timings:        eval time =     355.96 ms /    14 runs   (   25.43 ms per token,    39.33 tokens per second)\n",
      "llama_print_timings:       total time =     497.33 ms /    28 tokens\n",
      "Llama.generate: prefix-match hit\n"
     ]
    },
    {
     "name": "stdout",
     "output_type": "stream",
     "text": [
      "--> testing es: Tira la coca en la basura.\n"
     ]
    },
    {
     "name": "stderr",
     "output_type": "stream",
     "text": [
      "\n",
      "llama_print_timings:        load time =    4007.51 ms\n",
      "llama_print_timings:      sample time =       7.84 ms /    73 runs   (    0.11 ms per token,  9314.79 tokens per second)\n",
      "llama_print_timings: prompt eval time =     113.38 ms /    13 tokens (    8.72 ms per token,   114.66 tokens per second)\n",
      "llama_print_timings:        eval time =    1824.21 ms /    72 runs   (   25.34 ms per token,    39.47 tokens per second)\n",
      "llama_print_timings:       total time =    2066.20 ms /    85 tokens\n",
      "Llama.generate: prefix-match hit\n"
     ]
    },
    {
     "name": "stdout",
     "output_type": "stream",
     "text": [
      "--> testing it: Getta la coca nella spazzatura.\n"
     ]
    },
    {
     "name": "stderr",
     "output_type": "stream",
     "text": [
      "\n",
      "llama_print_timings:        load time =    4007.51 ms\n",
      "llama_print_timings:      sample time =       5.56 ms /    15 runs   (    0.37 ms per token,  2699.30 tokens per second)\n",
      "llama_print_timings: prompt eval time =     113.50 ms /    13 tokens (    8.73 ms per token,   114.54 tokens per second)\n",
      "llama_print_timings:        eval time =     371.47 ms /    14 runs   (   26.53 ms per token,    37.69 tokens per second)\n",
      "llama_print_timings:       total time =     561.80 ms /    27 tokens\n",
      "Llama.generate: prefix-match hit\n"
     ]
    },
    {
     "name": "stdout",
     "output_type": "stream",
     "text": [
      "--> testing hi-en: coke ko dustbin mein fenk do\n"
     ]
    },
    {
     "name": "stderr",
     "output_type": "stream",
     "text": [
      "\n",
      "llama_print_timings:        load time =    4007.51 ms\n",
      "llama_print_timings:      sample time =       4.28 ms /    15 runs   (    0.29 ms per token,  3507.13 tokens per second)\n",
      "llama_print_timings: prompt eval time =     113.62 ms /    13 tokens (    8.74 ms per token,   114.42 tokens per second)\n",
      "llama_print_timings:        eval time =     357.95 ms /    14 runs   (   25.57 ms per token,    39.11 tokens per second)\n",
      "llama_print_timings:       total time =     533.37 ms /    27 tokens\n",
      "Llama.generate: prefix-match hit\n"
     ]
    },
    {
     "name": "stdout",
     "output_type": "stream",
     "text": [
      "--> testing ms: Buang coke ke dalam tong sampah.\n"
     ]
    },
    {
     "name": "stderr",
     "output_type": "stream",
     "text": [
      "\n",
      "llama_print_timings:        load time =    4007.51 ms\n",
      "llama_print_timings:      sample time =       1.56 ms /    15 runs   (    0.10 ms per token,  9603.07 tokens per second)\n",
      "llama_print_timings: prompt eval time =     112.48 ms /    15 tokens (    7.50 ms per token,   133.36 tokens per second)\n",
      "llama_print_timings:        eval time =     348.11 ms /    14 runs   (   24.87 ms per token,    40.22 tokens per second)\n",
      "llama_print_timings:       total time =     483.91 ms /    29 tokens\n",
      "Llama.generate: prefix-match hit\n"
     ]
    },
    {
     "name": "stdout",
     "output_type": "stream",
     "text": [
      "--> testing ru: Выбросьте кока-колу в мусорное ведро\n"
     ]
    },
    {
     "name": "stderr",
     "output_type": "stream",
     "text": [
      "\n",
      "llama_print_timings:        load time =    4007.51 ms\n",
      "llama_print_timings:      sample time =       1.82 ms /    17 runs   (    0.11 ms per token,  9345.79 tokens per second)\n",
      "llama_print_timings: prompt eval time =     115.79 ms /    18 tokens (    6.43 ms per token,   155.46 tokens per second)\n",
      "llama_print_timings:        eval time =     402.41 ms /    16 runs   (   25.15 ms per token,    39.76 tokens per second)\n",
      "llama_print_timings:       total time =     547.35 ms /    34 tokens\n",
      "Llama.generate: prefix-match hit\n"
     ]
    },
    {
     "name": "stdout",
     "output_type": "stream",
     "text": [
      "--> testing cn: 把可乐扔进垃圾桶\n"
     ]
    },
    {
     "name": "stderr",
     "output_type": "stream",
     "text": [
      "\n",
      "llama_print_timings:        load time =    4007.51 ms\n",
      "llama_print_timings:      sample time =       2.59 ms /    15 runs   (    0.17 ms per token,  5789.27 tokens per second)\n",
      "llama_print_timings: prompt eval time =     116.49 ms /    22 tokens (    5.29 ms per token,   188.86 tokens per second)\n",
      "llama_print_timings:        eval time =     353.52 ms /    14 runs   (   25.25 ms per token,    39.60 tokens per second)\n",
      "llama_print_timings:       total time =     508.91 ms /    36 tokens\n",
      "Llama.generate: prefix-match hit\n"
     ]
    },
    {
     "name": "stdout",
     "output_type": "stream",
     "text": [
      "average inference: 752.1ms\n",
      "------------\n",
      "--> testing en: grab the soldering iron\n"
     ]
    },
    {
     "name": "stderr",
     "output_type": "stream",
     "text": [
      "\n",
      "llama_print_timings:        load time =    4007.51 ms\n",
      "llama_print_timings:      sample time =       1.38 ms /    10 runs   (    0.14 ms per token,  7241.13 tokens per second)\n",
      "llama_print_timings: prompt eval time =     112.54 ms /     9 tokens (   12.50 ms per token,    79.97 tokens per second)\n",
      "llama_print_timings:        eval time =     222.35 ms /     9 runs   (   24.71 ms per token,    40.48 tokens per second)\n",
      "llama_print_timings:       total time =     356.22 ms /    18 tokens\n",
      "Llama.generate: prefix-match hit\n"
     ]
    },
    {
     "name": "stdout",
     "output_type": "stream",
     "text": [
      "--> testing hi: सोल्डरिंग आयरन पकड़ो\n"
     ]
    },
    {
     "name": "stderr",
     "output_type": "stream",
     "text": [
      "\n",
      "llama_print_timings:        load time =    4007.51 ms\n",
      "llama_print_timings:      sample time =       2.27 ms /     9 runs   (    0.25 ms per token,  3959.52 tokens per second)\n",
      "llama_print_timings: prompt eval time =     127.20 ms /    24 tokens (    5.30 ms per token,   188.68 tokens per second)\n",
      "llama_print_timings:        eval time =     205.58 ms /     8 runs   (   25.70 ms per token,    38.91 tokens per second)\n",
      "llama_print_timings:       total time =     366.11 ms /    32 tokens\n",
      "Llama.generate: prefix-match hit\n"
     ]
    },
    {
     "name": "stdout",
     "output_type": "stream",
     "text": [
      "--> testing fr: Attrape le fer à souder.\n"
     ]
    },
    {
     "name": "stderr",
     "output_type": "stream",
     "text": [
      "\n",
      "llama_print_timings:        load time =    4007.51 ms\n",
      "llama_print_timings:      sample time =       2.78 ms /    10 runs   (    0.28 ms per token,  3598.42 tokens per second)\n",
      "llama_print_timings: prompt eval time =     116.69 ms /    12 tokens (    9.72 ms per token,   102.84 tokens per second)\n",
      "llama_print_timings:        eval time =     235.76 ms /     9 runs   (   26.20 ms per token,    38.17 tokens per second)\n",
      "llama_print_timings:       total time =     397.24 ms /    21 tokens\n",
      "Llama.generate: prefix-match hit\n"
     ]
    },
    {
     "name": "stdout",
     "output_type": "stream",
     "text": [
      "--> testing es: Agarra el soldador.\n"
     ]
    },
    {
     "name": "stderr",
     "output_type": "stream",
     "text": [
      "\n",
      "llama_print_timings:        load time =    4007.51 ms\n",
      "llama_print_timings:      sample time =       2.09 ms /     8 runs   (    0.26 ms per token,  3822.26 tokens per second)\n",
      "llama_print_timings: prompt eval time =     113.79 ms /    10 tokens (   11.38 ms per token,    87.88 tokens per second)\n",
      "llama_print_timings:        eval time =     180.42 ms /     7 runs   (   25.77 ms per token,    38.80 tokens per second)\n",
      "llama_print_timings:       total time =     334.14 ms /    17 tokens\n",
      "Llama.generate: prefix-match hit\n"
     ]
    },
    {
     "name": "stdout",
     "output_type": "stream",
     "text": [
      "--> testing it: Prendi il saldatore.\n"
     ]
    },
    {
     "name": "stderr",
     "output_type": "stream",
     "text": [
      "\n",
      "llama_print_timings:        load time =    4007.51 ms\n",
      "llama_print_timings:      sample time =       1.10 ms /    10 runs   (    0.11 ms per token,  9049.77 tokens per second)\n",
      "llama_print_timings: prompt eval time =     113.00 ms /    10 tokens (   11.30 ms per token,    88.50 tokens per second)\n",
      "llama_print_timings:        eval time =     224.38 ms /     9 runs   (   24.93 ms per token,    40.11 tokens per second)\n",
      "llama_print_timings:       total time =     358.72 ms /    19 tokens\n",
      "Llama.generate: prefix-match hit\n"
     ]
    },
    {
     "name": "stdout",
     "output_type": "stream",
     "text": [
      "--> testing hi-en: soldering iron pakdo\n"
     ]
    },
    {
     "name": "stderr",
     "output_type": "stream",
     "text": [
      "\n",
      "llama_print_timings:        load time =    4007.51 ms\n",
      "llama_print_timings:      sample time =       4.34 ms /    23 runs   (    0.19 ms per token,  5301.98 tokens per second)\n",
      "llama_print_timings: prompt eval time =     111.72 ms /     9 tokens (   12.41 ms per token,    80.56 tokens per second)\n",
      "llama_print_timings:        eval time =     556.03 ms /    22 runs   (   25.27 ms per token,    39.57 tokens per second)\n",
      "llama_print_timings:       total time =     727.84 ms /    31 tokens\n",
      "Llama.generate: prefix-match hit\n"
     ]
    },
    {
     "name": "stdout",
     "output_type": "stream",
     "text": [
      "--> testing ms: Pegang seterika pemateri.\n"
     ]
    },
    {
     "name": "stderr",
     "output_type": "stream",
     "text": [
      "\n",
      "llama_print_timings:        load time =    4007.51 ms\n",
      "llama_print_timings:      sample time =       4.65 ms /    47 runs   (    0.10 ms per token, 10105.35 tokens per second)\n",
      "llama_print_timings: prompt eval time =     113.46 ms /    13 tokens (    8.73 ms per token,   114.58 tokens per second)\n",
      "llama_print_timings:        eval time =    1144.60 ms /    46 runs   (   24.88 ms per token,    40.19 tokens per second)\n",
      "llama_print_timings:       total time =    1336.26 ms /    59 tokens\n",
      "Llama.generate: prefix-match hit\n"
     ]
    },
    {
     "name": "stdout",
     "output_type": "stream",
     "text": [
      "--> testing ru: Возьмите паяльник\n"
     ]
    },
    {
     "name": "stderr",
     "output_type": "stream",
     "text": [
      "\n",
      "llama_print_timings:        load time =    4007.51 ms\n",
      "llama_print_timings:      sample time =       2.76 ms /    10 runs   (    0.28 ms per token,  3623.19 tokens per second)\n",
      "llama_print_timings: prompt eval time =     111.77 ms /    11 tokens (   10.16 ms per token,    98.42 tokens per second)\n",
      "llama_print_timings:        eval time =     249.36 ms /     9 runs   (   27.71 ms per token,    36.09 tokens per second)\n",
      "llama_print_timings:       total time =     398.46 ms /    20 tokens\n",
      "Llama.generate: prefix-match hit\n"
     ]
    },
    {
     "name": "stdout",
     "output_type": "stream",
     "text": [
      "--> testing cn: 拿烙铁\n"
     ]
    },
    {
     "name": "stderr",
     "output_type": "stream",
     "text": [
      "\n",
      "llama_print_timings:        load time =    4007.51 ms\n",
      "llama_print_timings:      sample time =       5.27 ms /    36 runs   (    0.15 ms per token,  6832.42 tokens per second)\n",
      "llama_print_timings: prompt eval time =     112.68 ms /    13 tokens (    8.67 ms per token,   115.37 tokens per second)\n",
      "llama_print_timings:        eval time =     877.94 ms /    35 runs   (   25.08 ms per token,    39.87 tokens per second)\n",
      "llama_print_timings:       total time =    1071.31 ms /    48 tokens\n",
      "Llama.generate: prefix-match hit\n"
     ]
    },
    {
     "name": "stdout",
     "output_type": "stream",
     "text": [
      "average inference: 600.5ms\n",
      "------------\n",
      "--> testing en: grab the bottle\n"
     ]
    },
    {
     "name": "stderr",
     "output_type": "stream",
     "text": [
      "\n",
      "llama_print_timings:        load time =    4007.51 ms\n",
      "llama_print_timings:      sample time =       1.37 ms /     9 runs   (    0.15 ms per token,  6583.76 tokens per second)\n",
      "llama_print_timings: prompt eval time =     114.36 ms /     7 tokens (   16.34 ms per token,    61.21 tokens per second)\n",
      "llama_print_timings:        eval time =     223.80 ms /     8 runs   (   27.97 ms per token,    35.75 tokens per second)\n",
      "llama_print_timings:       total time =     370.16 ms /    15 tokens\n",
      "Llama.generate: prefix-match hit\n"
     ]
    },
    {
     "name": "stdout",
     "output_type": "stream",
     "text": [
      "--> testing hi: बोतल को पकड़ो\n"
     ]
    },
    {
     "name": "stderr",
     "output_type": "stream",
     "text": [
      "\n",
      "llama_print_timings:        load time =    4007.51 ms\n",
      "llama_print_timings:      sample time =       1.78 ms /    14 runs   (    0.13 ms per token,  7847.53 tokens per second)\n",
      "llama_print_timings: prompt eval time =     115.69 ms /    17 tokens (    6.80 ms per token,   146.95 tokens per second)\n",
      "llama_print_timings:        eval time =     324.89 ms /    13 runs   (   24.99 ms per token,    40.01 tokens per second)\n",
      "llama_print_timings:       total time =     467.91 ms /    30 tokens\n",
      "Llama.generate: prefix-match hit\n"
     ]
    },
    {
     "name": "stdout",
     "output_type": "stream",
     "text": [
      "--> testing fr: Attrape la bouteille.\n"
     ]
    },
    {
     "name": "stderr",
     "output_type": "stream",
     "text": [
      "\n",
      "llama_print_timings:        load time =    4007.51 ms\n",
      "llama_print_timings:      sample time =       1.05 ms /     9 runs   (    0.12 ms per token,  8604.21 tokens per second)\n",
      "llama_print_timings: prompt eval time =     112.53 ms /    11 tokens (   10.23 ms per token,    97.75 tokens per second)\n",
      "llama_print_timings:        eval time =     198.56 ms /     8 runs   (   24.82 ms per token,    40.29 tokens per second)\n",
      "llama_print_timings:       total time =     327.67 ms /    19 tokens\n",
      "Llama.generate: prefix-match hit\n"
     ]
    },
    {
     "name": "stdout",
     "output_type": "stream",
     "text": [
      "--> testing es: Agarra la botella.\n"
     ]
    },
    {
     "name": "stderr",
     "output_type": "stream",
     "text": [
      "\n",
      "llama_print_timings:        load time =    4007.51 ms\n",
      "llama_print_timings:      sample time =       1.01 ms /     9 runs   (    0.11 ms per token,  8928.57 tokens per second)\n",
      "llama_print_timings: prompt eval time =     111.58 ms /    10 tokens (   11.16 ms per token,    89.63 tokens per second)\n",
      "llama_print_timings:        eval time =     197.00 ms /     8 runs   (   24.63 ms per token,    40.61 tokens per second)\n",
      "llama_print_timings:       total time =     324.73 ms /    18 tokens\n",
      "Llama.generate: prefix-match hit\n"
     ]
    },
    {
     "name": "stdout",
     "output_type": "stream",
     "text": [
      "--> testing it: Prendi la bottiglia.\n"
     ]
    },
    {
     "name": "stderr",
     "output_type": "stream",
     "text": [
      "\n",
      "llama_print_timings:        load time =    4007.51 ms\n",
      "llama_print_timings:      sample time =       1.05 ms /     9 runs   (    0.12 ms per token,  8604.21 tokens per second)\n",
      "llama_print_timings: prompt eval time =     111.34 ms /     9 tokens (   12.37 ms per token,    80.84 tokens per second)\n",
      "llama_print_timings:        eval time =     196.40 ms /     8 runs   (   24.55 ms per token,    40.73 tokens per second)\n",
      "llama_print_timings:       total time =     324.88 ms /    17 tokens\n",
      "Llama.generate: prefix-match hit\n"
     ]
    },
    {
     "name": "stdout",
     "output_type": "stream",
     "text": [
      "--> testing hi-en: bottle pakdo\n"
     ]
    },
    {
     "name": "stderr",
     "output_type": "stream",
     "text": [
      "\n",
      "llama_print_timings:        load time =    4007.51 ms\n",
      "llama_print_timings:      sample time =       4.02 ms /    17 runs   (    0.24 ms per token,  4227.80 tokens per second)\n",
      "llama_print_timings: prompt eval time =     110.44 ms /     7 tokens (   15.78 ms per token,    63.38 tokens per second)\n",
      "llama_print_timings:        eval time =     413.64 ms /    16 runs   (   25.85 ms per token,    38.68 tokens per second)\n",
      "llama_print_timings:       total time =     586.77 ms /    23 tokens\n",
      "Llama.generate: prefix-match hit\n"
     ]
    },
    {
     "name": "stdout",
     "output_type": "stream",
     "text": [
      "--> testing ms: Pegang botol.\n"
     ]
    },
    {
     "name": "stderr",
     "output_type": "stream",
     "text": [
      "\n",
      "llama_print_timings:        load time =    4007.51 ms\n",
      "llama_print_timings:      sample time =       1.16 ms /    11 runs   (    0.11 ms per token,  9474.59 tokens per second)\n",
      "llama_print_timings: prompt eval time =     111.48 ms /     8 tokens (   13.93 ms per token,    71.76 tokens per second)\n",
      "llama_print_timings:        eval time =     267.48 ms /    10 runs   (   26.75 ms per token,    37.39 tokens per second)\n",
      "llama_print_timings:       total time =     401.59 ms /    18 tokens\n",
      "Llama.generate: prefix-match hit\n"
     ]
    },
    {
     "name": "stdout",
     "output_type": "stream",
     "text": [
      "--> testing ru: Возьмите бутылку\n"
     ]
    },
    {
     "name": "stderr",
     "output_type": "stream",
     "text": [
      "\n",
      "llama_print_timings:        load time =    4007.51 ms\n",
      "llama_print_timings:      sample time =       1.02 ms /     9 runs   (    0.11 ms per token,  8797.65 tokens per second)\n",
      "llama_print_timings: prompt eval time =     114.16 ms /    11 tokens (   10.38 ms per token,    96.35 tokens per second)\n",
      "llama_print_timings:        eval time =     217.12 ms /     8 runs   (   27.14 ms per token,    36.85 tokens per second)\n",
      "llama_print_timings:       total time =     368.71 ms /    19 tokens\n",
      "Llama.generate: prefix-match hit\n"
     ]
    },
    {
     "name": "stdout",
     "output_type": "stream",
     "text": [
      "--> testing cn: 拿水瓶\n"
     ]
    },
    {
     "name": "stderr",
     "output_type": "stream",
     "text": [
      "\n",
      "llama_print_timings:        load time =    4007.51 ms\n",
      "llama_print_timings:      sample time =       1.25 ms /     9 runs   (    0.14 ms per token,  7182.76 tokens per second)\n",
      "llama_print_timings: prompt eval time =     112.59 ms /    11 tokens (   10.24 ms per token,    97.70 tokens per second)\n",
      "llama_print_timings:        eval time =     198.74 ms /     8 runs   (   24.84 ms per token,    40.25 tokens per second)\n",
      "llama_print_timings:       total time =     330.95 ms /    19 tokens\n",
      "Llama.generate: prefix-match hit\n"
     ]
    },
    {
     "name": "stdout",
     "output_type": "stream",
     "text": [
      "average inference: 393.9ms\n",
      "------------\n",
      "--> testing en: Pick up the fallen pencil\n"
     ]
    },
    {
     "name": "stderr",
     "output_type": "stream",
     "text": [
      "\n",
      "llama_print_timings:        load time =    4007.51 ms\n",
      "llama_print_timings:      sample time =       1.39 ms /     8 runs   (    0.17 ms per token,  5759.54 tokens per second)\n",
      "llama_print_timings: prompt eval time =     114.10 ms /    10 tokens (   11.41 ms per token,    87.64 tokens per second)\n",
      "llama_print_timings:        eval time =     175.69 ms /     7 runs   (   25.10 ms per token,    39.84 tokens per second)\n",
      "llama_print_timings:       total time =     308.84 ms /    17 tokens\n",
      "Llama.generate: prefix-match hit\n"
     ]
    },
    {
     "name": "stdout",
     "output_type": "stream",
     "text": [
      "--> testing hi: गिरी हुई पेंसिल उठाओ\n"
     ]
    },
    {
     "name": "stderr",
     "output_type": "stream",
     "text": [
      "\n",
      "llama_print_timings:        load time =    4007.51 ms\n",
      "llama_print_timings:      sample time =       5.12 ms /    21 runs   (    0.24 ms per token,  4097.56 tokens per second)\n",
      "llama_print_timings: prompt eval time =     113.79 ms /    32 tokens (    3.56 ms per token,   281.21 tokens per second)\n",
      "llama_print_timings:        eval time =     528.81 ms /    20 runs   (   26.44 ms per token,    37.82 tokens per second)\n",
      "llama_print_timings:       total time =     710.68 ms /    52 tokens\n",
      "Llama.generate: prefix-match hit\n"
     ]
    },
    {
     "name": "stdout",
     "output_type": "stream",
     "text": [
      "--> testing fr: Ramasse le crayon tombé.\n"
     ]
    },
    {
     "name": "stderr",
     "output_type": "stream",
     "text": [
      "\n",
      "llama_print_timings:        load time =    4007.51 ms\n",
      "llama_print_timings:      sample time =       0.98 ms /     9 runs   (    0.11 ms per token,  9174.31 tokens per second)\n",
      "llama_print_timings: prompt eval time =     112.73 ms /    12 tokens (    9.39 ms per token,   106.45 tokens per second)\n",
      "llama_print_timings:        eval time =     201.10 ms /     8 runs   (   25.14 ms per token,    39.78 tokens per second)\n",
      "llama_print_timings:       total time =     329.33 ms /    20 tokens\n",
      "Llama.generate: prefix-match hit\n"
     ]
    },
    {
     "name": "stdout",
     "output_type": "stream",
     "text": [
      "--> testing es: Recoge el lápiz que se ha caído.\n"
     ]
    },
    {
     "name": "stderr",
     "output_type": "stream",
     "text": [
      "\n",
      "llama_print_timings:        load time =    4007.51 ms\n",
      "llama_print_timings:      sample time =       2.60 ms /     8 runs   (    0.32 ms per token,  3082.85 tokens per second)\n",
      "llama_print_timings: prompt eval time =     113.23 ms /    15 tokens (    7.55 ms per token,   132.47 tokens per second)\n",
      "llama_print_timings:        eval time =     180.38 ms /     7 runs   (   25.77 ms per token,    38.81 tokens per second)\n",
      "llama_print_timings:       total time =     325.40 ms /    22 tokens\n",
      "Llama.generate: prefix-match hit\n"
     ]
    },
    {
     "name": "stdout",
     "output_type": "stream",
     "text": [
      "--> testing it: Raccogli la matita caduta.\n"
     ]
    },
    {
     "name": "stderr",
     "output_type": "stream",
     "text": [
      "\n",
      "llama_print_timings:        load time =    4007.51 ms\n",
      "llama_print_timings:      sample time =       0.98 ms /     8 runs   (    0.12 ms per token,  8130.08 tokens per second)\n",
      "llama_print_timings: prompt eval time =     113.44 ms /    12 tokens (    9.45 ms per token,   105.78 tokens per second)\n",
      "llama_print_timings:        eval time =     174.00 ms /     7 runs   (   24.86 ms per token,    40.23 tokens per second)\n",
      "llama_print_timings:       total time =     301.62 ms /    19 tokens\n",
      "Llama.generate: prefix-match hit\n"
     ]
    },
    {
     "name": "stdout",
     "output_type": "stream",
     "text": [
      "--> testing hi-en: giri hui pencil uthao\n"
     ]
    },
    {
     "name": "stderr",
     "output_type": "stream",
     "text": [
      "\n",
      "llama_print_timings:        load time =    4007.51 ms\n",
      "llama_print_timings:      sample time =       2.28 ms /    18 runs   (    0.13 ms per token,  7901.67 tokens per second)\n",
      "llama_print_timings: prompt eval time =     112.32 ms /    13 tokens (    8.64 ms per token,   115.74 tokens per second)\n",
      "llama_print_timings:        eval time =     434.03 ms /    17 runs   (   25.53 ms per token,    39.17 tokens per second)\n",
      "llama_print_timings:       total time =     588.21 ms /    30 tokens\n",
      "Llama.generate: prefix-match hit\n"
     ]
    },
    {
     "name": "stdout",
     "output_type": "stream",
     "text": [
      "--> testing ms: Ambil pensel yang terjatuh.\n"
     ]
    },
    {
     "name": "stderr",
     "output_type": "stream",
     "text": [
      "\n",
      "llama_print_timings:        load time =    4007.51 ms\n",
      "llama_print_timings:      sample time =       2.59 ms /     9 runs   (    0.29 ms per token,  3469.55 tokens per second)\n",
      "llama_print_timings: prompt eval time =     114.04 ms /    14 tokens (    8.15 ms per token,   122.76 tokens per second)\n",
      "llama_print_timings:        eval time =     213.50 ms /     8 runs   (   26.69 ms per token,    37.47 tokens per second)\n",
      "llama_print_timings:       total time =     362.59 ms /    22 tokens\n",
      "Llama.generate: prefix-match hit\n"
     ]
    },
    {
     "name": "stdout",
     "output_type": "stream",
     "text": [
      "--> testing ru: Поднимите упавший карандаш\n"
     ]
    },
    {
     "name": "stderr",
     "output_type": "stream",
     "text": [
      "\n",
      "llama_print_timings:        load time =    4007.51 ms\n",
      "llama_print_timings:      sample time =       8.67 ms /    11 runs   (    0.79 ms per token,  1268.45 tokens per second)\n",
      "llama_print_timings: prompt eval time =     112.49 ms /    13 tokens (    8.65 ms per token,   115.57 tokens per second)\n",
      "llama_print_timings:        eval time =     260.66 ms /    10 runs   (   26.07 ms per token,    38.36 tokens per second)\n",
      "llama_print_timings:       total time =     434.29 ms /    23 tokens\n",
      "Llama.generate: prefix-match hit\n"
     ]
    },
    {
     "name": "stdout",
     "output_type": "stream",
     "text": [
      "--> testing cn: 捡起掉在地上的铅笔\n"
     ]
    },
    {
     "name": "stderr",
     "output_type": "stream",
     "text": [
      "\n",
      "llama_print_timings:        load time =    4007.51 ms\n",
      "llama_print_timings:      sample time =       2.82 ms /    11 runs   (    0.26 ms per token,  3902.09 tokens per second)\n",
      "llama_print_timings: prompt eval time =     117.52 ms /    21 tokens (    5.60 ms per token,   178.69 tokens per second)\n",
      "llama_print_timings:        eval time =     255.39 ms /    10 runs   (   25.54 ms per token,    39.16 tokens per second)\n",
      "llama_print_timings:       total time =     409.39 ms /    31 tokens\n",
      "Llama.generate: prefix-match hit\n"
     ]
    },
    {
     "name": "stdout",
     "output_type": "stream",
     "text": [
      "average inference: 424.4ms\n",
      "------------\n",
      "--> testing en: Grab the remote and toss it on the couch\n"
     ]
    },
    {
     "name": "stderr",
     "output_type": "stream",
     "text": [
      "\n",
      "llama_print_timings:        load time =    4007.51 ms\n",
      "llama_print_timings:      sample time =       3.15 ms /    13 runs   (    0.24 ms per token,  4133.55 tokens per second)\n",
      "llama_print_timings: prompt eval time =     115.50 ms /    13 tokens (    8.88 ms per token,   112.55 tokens per second)\n",
      "llama_print_timings:        eval time =     314.48 ms /    12 runs   (   26.21 ms per token,    38.16 tokens per second)\n",
      "llama_print_timings:       total time =     481.56 ms /    25 tokens\n",
      "Llama.generate: prefix-match hit\n"
     ]
    },
    {
     "name": "stdout",
     "output_type": "stream",
     "text": [
      "--> testing hi: रिमोट पकड़ो और सोफ़े पर फेंक दो\n"
     ]
    },
    {
     "name": "stderr",
     "output_type": "stream",
     "text": [
      "\n",
      "llama_print_timings:        load time =    4007.51 ms\n",
      "llama_print_timings:      sample time =       1.73 ms /    14 runs   (    0.12 ms per token,  8097.17 tokens per second)\n",
      "llama_print_timings: prompt eval time =     192.73 ms /    41 tokens (    4.70 ms per token,   212.73 tokens per second)\n",
      "llama_print_timings:        eval time =     326.72 ms /    13 runs   (   25.13 ms per token,    39.79 tokens per second)\n",
      "llama_print_timings:       total time =     545.58 ms /    54 tokens\n",
      "Llama.generate: prefix-match hit\n"
     ]
    },
    {
     "name": "stdout",
     "output_type": "stream",
     "text": [
      "--> testing fr: Attrape la télécommande et jette-la sur le canapé.\n"
     ]
    },
    {
     "name": "stderr",
     "output_type": "stream",
     "text": [
      "\n",
      "llama_print_timings:        load time =    4007.51 ms\n",
      "llama_print_timings:      sample time =       1.43 ms /    15 runs   (    0.10 ms per token, 10496.85 tokens per second)\n",
      "llama_print_timings: prompt eval time =     117.40 ms /    21 tokens (    5.59 ms per token,   178.88 tokens per second)\n",
      "llama_print_timings:        eval time =     367.10 ms /    14 runs   (   26.22 ms per token,    38.14 tokens per second)\n",
      "llama_print_timings:       total time =     527.44 ms /    35 tokens\n",
      "Llama.generate: prefix-match hit\n"
     ]
    },
    {
     "name": "stdout",
     "output_type": "stream",
     "text": [
      "--> testing es: Coge el mando a distancia y tíralo en el sofá.\n"
     ]
    },
    {
     "name": "stderr",
     "output_type": "stream",
     "text": [
      "\n",
      "llama_print_timings:        load time =    4007.51 ms\n",
      "llama_print_timings:      sample time =       1.63 ms /    14 runs   (    0.12 ms per token,  8610.09 tokens per second)\n",
      "llama_print_timings: prompt eval time =     115.71 ms /    22 tokens (    5.26 ms per token,   190.13 tokens per second)\n",
      "llama_print_timings:        eval time =     324.68 ms /    13 runs   (   24.98 ms per token,    40.04 tokens per second)\n",
      "llama_print_timings:       total time =     467.74 ms /    35 tokens\n",
      "Llama.generate: prefix-match hit\n"
     ]
    },
    {
     "name": "stdout",
     "output_type": "stream",
     "text": [
      "--> testing it: Prendi il telecomando e gettalo sul divano.\n"
     ]
    },
    {
     "name": "stderr",
     "output_type": "stream",
     "text": [
      "\n",
      "llama_print_timings:        load time =    4007.51 ms\n",
      "llama_print_timings:      sample time =       2.79 ms /    15 runs   (    0.19 ms per token,  5380.20 tokens per second)\n",
      "llama_print_timings: prompt eval time =     113.15 ms /    17 tokens (    6.66 ms per token,   150.24 tokens per second)\n",
      "llama_print_timings:        eval time =     362.23 ms /    14 runs   (   25.87 ms per token,    38.65 tokens per second)\n",
      "llama_print_timings:       total time =     523.90 ms /    31 tokens\n",
      "Llama.generate: prefix-match hit\n"
     ]
    },
    {
     "name": "stdout",
     "output_type": "stream",
     "text": [
      "--> testing hi-en: remote uthao and sofa pe phenko\n"
     ]
    },
    {
     "name": "stderr",
     "output_type": "stream",
     "text": [
      "\n",
      "llama_print_timings:        load time =    4007.51 ms\n",
      "llama_print_timings:      sample time =       3.77 ms /    27 runs   (    0.14 ms per token,  7171.31 tokens per second)\n",
      "llama_print_timings: prompt eval time =     128.64 ms /    13 tokens (    9.90 ms per token,   101.05 tokens per second)\n",
      "llama_print_timings:        eval time =     662.38 ms /    26 runs   (   25.48 ms per token,    39.25 tokens per second)\n",
      "llama_print_timings:       total time =     857.11 ms /    39 tokens\n",
      "Llama.generate: prefix-match hit\n"
     ]
    },
    {
     "name": "stdout",
     "output_type": "stream",
     "text": [
      "--> testing ms: Ambil remote dan campakkannya ke atas sofa.\n"
     ]
    },
    {
     "name": "stderr",
     "output_type": "stream",
     "text": [
      "\n",
      "llama_print_timings:        load time =    4007.51 ms\n",
      "llama_print_timings:      sample time =       3.55 ms /    13 runs   (    0.27 ms per token,  3664.04 tokens per second)\n",
      "llama_print_timings: prompt eval time =     114.75 ms /    18 tokens (    6.38 ms per token,   156.86 tokens per second)\n",
      "llama_print_timings:        eval time =     305.37 ms /    12 runs   (   25.45 ms per token,    39.30 tokens per second)\n",
      "llama_print_timings:       total time =     468.04 ms /    30 tokens\n",
      "Llama.generate: prefix-match hit\n"
     ]
    },
    {
     "name": "stdout",
     "output_type": "stream",
     "text": [
      "--> testing ru: Возьмите пульт и бросьте его на диван\n"
     ]
    },
    {
     "name": "stderr",
     "output_type": "stream",
     "text": [
      "\n",
      "llama_print_timings:        load time =    4007.51 ms\n",
      "llama_print_timings:      sample time =       2.97 ms /    15 runs   (    0.20 ms per token,  5053.91 tokens per second)\n",
      "llama_print_timings: prompt eval time =     117.06 ms /    18 tokens (    6.50 ms per token,   153.77 tokens per second)\n",
      "llama_print_timings:        eval time =     356.62 ms /    14 runs   (   25.47 ms per token,    39.26 tokens per second)\n",
      "llama_print_timings:       total time =     520.43 ms /    32 tokens\n",
      "Llama.generate: prefix-match hit\n"
     ]
    },
    {
     "name": "stdout",
     "output_type": "stream",
     "text": [
      "--> testing cn: 拿遥控器扔到沙发上\n"
     ]
    },
    {
     "name": "stderr",
     "output_type": "stream",
     "text": [
      "\n",
      "llama_print_timings:        load time =    4007.51 ms\n",
      "llama_print_timings:      sample time =       1.54 ms /    14 runs   (    0.11 ms per token,  9073.23 tokens per second)\n",
      "llama_print_timings: prompt eval time =     114.88 ms /    19 tokens (    6.05 ms per token,   165.39 tokens per second)\n",
      "llama_print_timings:        eval time =     335.49 ms /    13 runs   (   25.81 ms per token,    38.75 tokens per second)\n",
      "llama_print_timings:       total time =     482.08 ms /    32 tokens\n",
      "Llama.generate: prefix-match hit\n"
     ]
    },
    {
     "name": "stdout",
     "output_type": "stream",
     "text": [
      "average inference: 548.0ms\n",
      "------------\n",
      "--> testing en: Lift the book and lay it on the bedside table\n"
     ]
    },
    {
     "name": "stderr",
     "output_type": "stream",
     "text": [
      "\n",
      "llama_print_timings:        load time =    4007.51 ms\n",
      "llama_print_timings:      sample time =       2.33 ms /    14 runs   (    0.17 ms per token,  5995.72 tokens per second)\n",
      "llama_print_timings: prompt eval time =     114.17 ms /    15 tokens (    7.61 ms per token,   131.38 tokens per second)\n",
      "llama_print_timings:        eval time =     342.49 ms /    13 runs   (   26.35 ms per token,    37.96 tokens per second)\n",
      "llama_print_timings:       total time =     492.06 ms /    28 tokens\n",
      "Llama.generate: prefix-match hit\n"
     ]
    },
    {
     "name": "stdout",
     "output_type": "stream",
     "text": [
      "--> testing hi: किताब उठाओ और बिस्तर के ऊपर रख दो\n"
     ]
    },
    {
     "name": "stderr",
     "output_type": "stream",
     "text": [
      "\n",
      "llama_print_timings:        load time =    4007.51 ms\n",
      "llama_print_timings:      sample time =       1.32 ms /    12 runs   (    0.11 ms per token,  9104.70 tokens per second)\n",
      "llama_print_timings: prompt eval time =     195.37 ms /    47 tokens (    4.16 ms per token,   240.57 tokens per second)\n",
      "llama_print_timings:        eval time =     278.13 ms /    11 runs   (   25.28 ms per token,    39.55 tokens per second)\n",
      "llama_print_timings:       total time =     499.99 ms /    58 tokens\n",
      "Llama.generate: prefix-match hit\n"
     ]
    },
    {
     "name": "stdout",
     "output_type": "stream",
     "text": [
      "--> testing fr: Soulève le livre et pose-le sur la table de chevet.\n"
     ]
    },
    {
     "name": "stderr",
     "output_type": "stream",
     "text": [
      "\n",
      "llama_print_timings:        load time =    4007.51 ms\n",
      "llama_print_timings:      sample time =       1.64 ms /    14 runs   (    0.12 ms per token,  8541.79 tokens per second)\n",
      "llama_print_timings: prompt eval time =     115.73 ms /    18 tokens (    6.43 ms per token,   155.54 tokens per second)\n",
      "llama_print_timings:        eval time =     331.32 ms /    13 runs   (   25.49 ms per token,    39.24 tokens per second)\n",
      "llama_print_timings:       total time =     472.53 ms /    31 tokens\n",
      "Llama.generate: prefix-match hit\n"
     ]
    },
    {
     "name": "stdout",
     "output_type": "stream",
     "text": [
      "--> testing es: Levanta el libro y déjalo en la mesita de noche.\n"
     ]
    },
    {
     "name": "stderr",
     "output_type": "stream",
     "text": [
      "\n",
      "llama_print_timings:        load time =    4007.51 ms\n",
      "llama_print_timings:      sample time =       1.47 ms /    13 runs   (    0.11 ms per token,  8843.54 tokens per second)\n",
      "llama_print_timings: prompt eval time =     115.68 ms /    19 tokens (    6.09 ms per token,   164.25 tokens per second)\n",
      "llama_print_timings:        eval time =     301.22 ms /    12 runs   (   25.10 ms per token,    39.84 tokens per second)\n",
      "llama_print_timings:       total time =     443.66 ms /    31 tokens\n",
      "Llama.generate: prefix-match hit\n"
     ]
    },
    {
     "name": "stdout",
     "output_type": "stream",
     "text": [
      "--> testing it: Solleva il libro e poggialo sul comodino.\n"
     ]
    },
    {
     "name": "stderr",
     "output_type": "stream",
     "text": [
      "\n",
      "llama_print_timings:        load time =    4007.51 ms\n",
      "llama_print_timings:      sample time =       1.75 ms /    13 runs   (    0.13 ms per token,  7432.82 tokens per second)\n",
      "llama_print_timings: prompt eval time =     114.62 ms /    18 tokens (    6.37 ms per token,   157.04 tokens per second)\n",
      "llama_print_timings:        eval time =     304.32 ms /    12 runs   (   25.36 ms per token,    39.43 tokens per second)\n",
      "llama_print_timings:       total time =     444.61 ms /    30 tokens\n",
      "Llama.generate: prefix-match hit\n"
     ]
    },
    {
     "name": "stdout",
     "output_type": "stream",
     "text": [
      "--> testing hi-en: pustak uthao and bedside table pe rakho\n"
     ]
    },
    {
     "name": "stderr",
     "output_type": "stream",
     "text": [
      "\n",
      "llama_print_timings:        load time =    4007.51 ms\n",
      "llama_print_timings:      sample time =       2.33 ms /    14 runs   (    0.17 ms per token,  6018.92 tokens per second)\n",
      "llama_print_timings: prompt eval time =     115.02 ms /    17 tokens (    6.77 ms per token,   147.80 tokens per second)\n",
      "llama_print_timings:        eval time =     350.92 ms /    13 runs   (   26.99 ms per token,    37.05 tokens per second)\n",
      "llama_print_timings:       total time =     518.45 ms /    30 tokens\n",
      "Llama.generate: prefix-match hit\n"
     ]
    },
    {
     "name": "stdout",
     "output_type": "stream",
     "text": [
      "--> testing ms: Angkat buku dan letakkannya di atas meja tepi katil.\n"
     ]
    },
    {
     "name": "stderr",
     "output_type": "stream",
     "text": [
      "\n",
      "llama_print_timings:        load time =    4007.51 ms\n",
      "llama_print_timings:      sample time =       1.99 ms /    14 runs   (    0.14 ms per token,  7035.18 tokens per second)\n",
      "llama_print_timings: prompt eval time =     119.35 ms /    24 tokens (    4.97 ms per token,   201.09 tokens per second)\n",
      "llama_print_timings:        eval time =     332.54 ms /    13 runs   (   25.58 ms per token,    39.09 tokens per second)\n",
      "llama_print_timings:       total time =     487.80 ms /    37 tokens\n",
      "Llama.generate: prefix-match hit\n"
     ]
    },
    {
     "name": "stdout",
     "output_type": "stream",
     "text": [
      "--> testing ru: Поднимите книгу и положите ее на тумбочку\n"
     ]
    },
    {
     "name": "stderr",
     "output_type": "stream",
     "text": [
      "\n",
      "llama_print_timings:        load time =    4007.51 ms\n",
      "llama_print_timings:      sample time =       1.60 ms /    14 runs   (    0.11 ms per token,  8750.00 tokens per second)\n",
      "llama_print_timings: prompt eval time =     115.49 ms /    20 tokens (    5.77 ms per token,   173.18 tokens per second)\n",
      "llama_print_timings:        eval time =     329.69 ms /    13 runs   (   25.36 ms per token,    39.43 tokens per second)\n",
      "llama_print_timings:       total time =     469.10 ms /    33 tokens\n",
      "Llama.generate: prefix-match hit\n"
     ]
    },
    {
     "name": "stdout",
     "output_type": "stream",
     "text": [
      "--> testing cn: 抬起书本，放到床头柜上\n"
     ]
    },
    {
     "name": "stderr",
     "output_type": "stream",
     "text": [
      "\n",
      "llama_print_timings:        load time =    4007.51 ms\n",
      "llama_print_timings:      sample time =       1.54 ms /    14 runs   (    0.11 ms per token,  9090.91 tokens per second)\n",
      "llama_print_timings: prompt eval time =     116.46 ms /    21 tokens (    5.55 ms per token,   180.32 tokens per second)\n",
      "llama_print_timings:        eval time =     321.79 ms /    13 runs   (   24.75 ms per token,    40.40 tokens per second)\n",
      "llama_print_timings:       total time =     462.52 ms /    34 tokens\n",
      "Llama.generate: prefix-match hit\n"
     ]
    },
    {
     "name": "stdout",
     "output_type": "stream",
     "text": [
      "average inference: 481.6ms\n",
      "------------\n",
      "--> testing en: Reach for the sunglasses sitting on the table.\n"
     ]
    },
    {
     "name": "stderr",
     "output_type": "stream",
     "text": [
      "\n",
      "llama_print_timings:        load time =    4007.51 ms\n",
      "llama_print_timings:      sample time =       4.40 ms /    15 runs   (    0.29 ms per token,  3409.09 tokens per second)\n",
      "llama_print_timings: prompt eval time =     115.34 ms /    16 tokens (    7.21 ms per token,   138.72 tokens per second)\n",
      "llama_print_timings:        eval time =     353.42 ms /    14 runs   (   25.24 ms per token,    39.61 tokens per second)\n",
      "llama_print_timings:       total time =     551.42 ms /    30 tokens\n",
      "Llama.generate: prefix-match hit\n"
     ]
    },
    {
     "name": "stdout",
     "output_type": "stream",
     "text": [
      "--> testing hi: मेज़ पर बैठे सनग्लास को छूने के लिए हाथ बढ़ाओ\n"
     ]
    },
    {
     "name": "stderr",
     "output_type": "stream",
     "text": [
      "\n",
      "llama_print_timings:        load time =    4007.51 ms\n",
      "llama_print_timings:      sample time =       2.81 ms /    15 runs   (    0.19 ms per token,  5332.39 tokens per second)\n",
      "llama_print_timings: prompt eval time =     201.51 ms /    59 tokens (    3.42 ms per token,   292.79 tokens per second)\n",
      "llama_print_timings:        eval time =     373.83 ms /    14 runs   (   26.70 ms per token,    37.45 tokens per second)\n",
      "llama_print_timings:       total time =     629.77 ms /    73 tokens\n",
      "Llama.generate: prefix-match hit\n"
     ]
    },
    {
     "name": "stdout",
     "output_type": "stream",
     "text": [
      "--> testing fr: Attrape les lunettes de soleil posées sur la table.\n"
     ]
    },
    {
     "name": "stderr",
     "output_type": "stream",
     "text": [
      "\n",
      "llama_print_timings:        load time =    4007.51 ms\n",
      "llama_print_timings:      sample time =       2.14 ms /    15 runs   (    0.14 ms per token,  7009.35 tokens per second)\n",
      "llama_print_timings: prompt eval time =     115.63 ms /    18 tokens (    6.42 ms per token,   155.67 tokens per second)\n",
      "llama_print_timings:        eval time =     351.58 ms /    14 runs   (   25.11 ms per token,    39.82 tokens per second)\n",
      "llama_print_timings:       total time =     498.94 ms /    32 tokens\n",
      "Llama.generate: prefix-match hit\n"
     ]
    },
    {
     "name": "stdout",
     "output_type": "stream",
     "text": [
      "--> testing es: Coge las gafas de sol que están en la mesa.\n"
     ]
    },
    {
     "name": "stderr",
     "output_type": "stream",
     "text": [
      "\n",
      "llama_print_timings:        load time =    4007.51 ms\n",
      "llama_print_timings:      sample time =       2.14 ms /    15 runs   (    0.14 ms per token,  7015.90 tokens per second)\n",
      "llama_print_timings: prompt eval time =     114.72 ms /    18 tokens (    6.37 ms per token,   156.90 tokens per second)\n",
      "llama_print_timings:        eval time =     351.89 ms /    14 runs   (   25.13 ms per token,    39.79 tokens per second)\n",
      "llama_print_timings:       total time =     498.18 ms /    32 tokens\n",
      "Llama.generate: prefix-match hit\n"
     ]
    },
    {
     "name": "stdout",
     "output_type": "stream",
     "text": [
      "--> testing it: Prendi gli occhiali da sole che sono sul tavolo.\n"
     ]
    },
    {
     "name": "stderr",
     "output_type": "stream",
     "text": [
      "\n",
      "llama_print_timings:        load time =    4007.51 ms\n",
      "llama_print_timings:      sample time =       3.26 ms /    28 runs   (    0.12 ms per token,  8599.51 tokens per second)\n",
      "llama_print_timings: prompt eval time =     115.02 ms /    18 tokens (    6.39 ms per token,   156.50 tokens per second)\n",
      "llama_print_timings:        eval time =     678.37 ms /    27 runs   (   25.12 ms per token,    39.80 tokens per second)\n",
      "llama_print_timings:       total time =     843.73 ms /    45 tokens\n",
      "Llama.generate: prefix-match hit\n"
     ]
    },
    {
     "name": "stdout",
     "output_type": "stream",
     "text": [
      "--> testing hi-en: table pe rakhe hue sunglasses le lo\n"
     ]
    },
    {
     "name": "stderr",
     "output_type": "stream",
     "text": [
      "\n",
      "llama_print_timings:        load time =    4007.51 ms\n",
      "llama_print_timings:      sample time =       1.88 ms /    15 runs   (    0.13 ms per token,  7987.22 tokens per second)\n",
      "llama_print_timings: prompt eval time =     112.61 ms /    16 tokens (    7.04 ms per token,   142.08 tokens per second)\n",
      "llama_print_timings:        eval time =     350.03 ms /    14 runs   (   25.00 ms per token,    40.00 tokens per second)\n",
      "llama_print_timings:       total time =     491.19 ms /    30 tokens\n",
      "Llama.generate: prefix-match hit\n"
     ]
    },
    {
     "name": "stdout",
     "output_type": "stream",
     "text": [
      "--> testing ms: Ambil cermin mata hitam yang ada di atas meja.\n"
     ]
    },
    {
     "name": "stderr",
     "output_type": "stream",
     "text": [
      "\n",
      "llama_print_timings:        load time =    4007.51 ms\n",
      "llama_print_timings:      sample time =       2.30 ms /    20 runs   (    0.11 ms per token,  8707.01 tokens per second)\n",
      "llama_print_timings: prompt eval time =     116.15 ms /    22 tokens (    5.28 ms per token,   189.42 tokens per second)\n",
      "llama_print_timings:        eval time =     475.35 ms /    19 runs   (   25.02 ms per token,    39.97 tokens per second)\n",
      "llama_print_timings:       total time =     629.06 ms /    41 tokens\n",
      "Llama.generate: prefix-match hit\n"
     ]
    },
    {
     "name": "stdout",
     "output_type": "stream",
     "text": [
      "--> testing ru: Возьмите солнцезащитные очки, которые лежат на столе\n"
     ]
    },
    {
     "name": "stderr",
     "output_type": "stream",
     "text": [
      "\n",
      "llama_print_timings:        load time =    4007.51 ms\n",
      "llama_print_timings:      sample time =       1.86 ms /    15 runs   (    0.12 ms per token,  8060.18 tokens per second)\n",
      "llama_print_timings: prompt eval time =     120.83 ms /    24 tokens (    5.03 ms per token,   198.62 tokens per second)\n",
      "llama_print_timings:        eval time =     370.67 ms /    14 runs   (   26.48 ms per token,    37.77 tokens per second)\n",
      "llama_print_timings:       total time =     541.59 ms /    38 tokens\n",
      "Llama.generate: prefix-match hit\n"
     ]
    },
    {
     "name": "stdout",
     "output_type": "stream",
     "text": [
      "--> testing cn: 拿放在桌子上的太阳眼镜\n"
     ]
    },
    {
     "name": "stderr",
     "output_type": "stream",
     "text": [
      "\n",
      "llama_print_timings:        load time =    4007.51 ms\n",
      "llama_print_timings:      sample time =       3.10 ms /    14 runs   (    0.22 ms per token,  4513.22 tokens per second)\n",
      "llama_print_timings: prompt eval time =     117.65 ms /    23 tokens (    5.12 ms per token,   195.50 tokens per second)\n",
      "llama_print_timings:        eval time =     339.70 ms /    13 runs   (   26.13 ms per token,    38.27 tokens per second)\n",
      "llama_print_timings:       total time =     499.06 ms /    36 tokens\n",
      "Llama.generate: prefix-match hit\n"
     ]
    },
    {
     "name": "stdout",
     "output_type": "stream",
     "text": [
      "average inference: 582.0ms\n",
      "------------\n",
      "--> testing en: Grasp the towel and hang it on the hook\n"
     ]
    },
    {
     "name": "stderr",
     "output_type": "stream",
     "text": [
      "\n",
      "llama_print_timings:        load time =    4007.51 ms\n",
      "llama_print_timings:      sample time =       2.03 ms /    13 runs   (    0.16 ms per token,  6397.64 tokens per second)\n",
      "llama_print_timings: prompt eval time =     113.20 ms /    14 tokens (    8.09 ms per token,   123.67 tokens per second)\n",
      "llama_print_timings:        eval time =     306.55 ms /    12 runs   (   25.55 ms per token,    39.15 tokens per second)\n",
      "llama_print_timings:       total time =     451.89 ms /    26 tokens\n",
      "Llama.generate: prefix-match hit\n"
     ]
    },
    {
     "name": "stdout",
     "output_type": "stream",
     "text": [
      "--> testing hi: तौलिया पकड़ो और हुक पर लटका दो\n"
     ]
    },
    {
     "name": "stderr",
     "output_type": "stream",
     "text": [
      "\n",
      "llama_print_timings:        load time =    4007.51 ms\n",
      "llama_print_timings:      sample time =       2.51 ms /    22 runs   (    0.11 ms per token,  8778.93 tokens per second)\n",
      "llama_print_timings: prompt eval time =     192.41 ms /    38 tokens (    5.06 ms per token,   197.49 tokens per second)\n",
      "llama_print_timings:        eval time =     527.34 ms /    21 runs   (   25.11 ms per token,    39.82 tokens per second)\n",
      "llama_print_timings:       total time =     756.99 ms /    59 tokens\n",
      "Llama.generate: prefix-match hit\n"
     ]
    },
    {
     "name": "stdout",
     "output_type": "stream",
     "text": [
      "--> testing fr: Saisis la serviette et accroche-la au crochet.\n"
     ]
    },
    {
     "name": "stderr",
     "output_type": "stream",
     "text": [
      "\n",
      "llama_print_timings:        load time =    4007.51 ms\n",
      "llama_print_timings:      sample time =       1.62 ms /    13 runs   (    0.12 ms per token,  8044.55 tokens per second)\n",
      "llama_print_timings: prompt eval time =     116.04 ms /    20 tokens (    5.80 ms per token,   172.36 tokens per second)\n",
      "llama_print_timings:        eval time =     303.89 ms /    12 runs   (   25.32 ms per token,    39.49 tokens per second)\n",
      "llama_print_timings:       total time =     442.72 ms /    32 tokens\n",
      "Llama.generate: prefix-match hit\n"
     ]
    },
    {
     "name": "stdout",
     "output_type": "stream",
     "text": [
      "--> testing es: Toma la toalla y cuélgala en el gancho.\n"
     ]
    },
    {
     "name": "stderr",
     "output_type": "stream",
     "text": [
      "\n",
      "llama_print_timings:        load time =    4007.51 ms\n",
      "llama_print_timings:      sample time =       1.96 ms /    13 runs   (    0.15 ms per token,  6619.14 tokens per second)\n",
      "llama_print_timings: prompt eval time =     114.70 ms /    18 tokens (    6.37 ms per token,   156.93 tokens per second)\n",
      "llama_print_timings:        eval time =     301.12 ms /    12 runs   (   25.09 ms per token,    39.85 tokens per second)\n",
      "llama_print_timings:       total time =     444.79 ms /    30 tokens\n",
      "Llama.generate: prefix-match hit\n"
     ]
    },
    {
     "name": "stdout",
     "output_type": "stream",
     "text": [
      "--> testing it: Afferra l'asciugamano e appendilo al gancio.\n"
     ]
    },
    {
     "name": "stderr",
     "output_type": "stream",
     "text": [
      "\n",
      "llama_print_timings:        load time =    4007.51 ms\n",
      "llama_print_timings:      sample time =       1.49 ms /    13 runs   (    0.11 ms per token,  8724.83 tokens per second)\n",
      "llama_print_timings: prompt eval time =     116.98 ms /    20 tokens (    5.85 ms per token,   170.98 tokens per second)\n",
      "llama_print_timings:        eval time =     302.84 ms /    12 runs   (   25.24 ms per token,    39.62 tokens per second)\n",
      "llama_print_timings:       total time =     445.38 ms /    32 tokens\n",
      "Llama.generate: prefix-match hit\n"
     ]
    },
    {
     "name": "stdout",
     "output_type": "stream",
     "text": [
      "--> testing hi-en: towel pakdo and hook pe taango\n"
     ]
    },
    {
     "name": "stderr",
     "output_type": "stream",
     "text": [
      "\n",
      "llama_print_timings:        load time =    4007.51 ms\n",
      "llama_print_timings:      sample time =       5.55 ms /    26 runs   (    0.21 ms per token,  4687.22 tokens per second)\n",
      "llama_print_timings: prompt eval time =     113.24 ms /    12 tokens (    9.44 ms per token,   105.97 tokens per second)\n",
      "llama_print_timings:        eval time =     638.95 ms /    25 runs   (   25.56 ms per token,    39.13 tokens per second)\n",
      "llama_print_timings:       total time =     831.15 ms /    37 tokens\n",
      "Llama.generate: prefix-match hit\n"
     ]
    },
    {
     "name": "stdout",
     "output_type": "stream",
     "text": [
      "--> testing ms: Pegang tuala dan gantungkannya pada penyangkut.\n"
     ]
    },
    {
     "name": "stderr",
     "output_type": "stream",
     "text": [
      "\n",
      "llama_print_timings:        load time =    4007.51 ms\n",
      "llama_print_timings:      sample time =       2.78 ms /    18 runs   (    0.15 ms per token,  6467.84 tokens per second)\n",
      "llama_print_timings: prompt eval time =     116.14 ms /    23 tokens (    5.05 ms per token,   198.04 tokens per second)\n",
      "llama_print_timings:        eval time =     428.47 ms /    17 runs   (   25.20 ms per token,    39.68 tokens per second)\n",
      "llama_print_timings:       total time =     583.30 ms /    40 tokens\n",
      "Llama.generate: prefix-match hit\n"
     ]
    },
    {
     "name": "stdout",
     "output_type": "stream",
     "text": [
      "--> testing ru: Возьмите полотенце и повесьте его на крючок\n"
     ]
    },
    {
     "name": "stderr",
     "output_type": "stream",
     "text": [
      "\n",
      "llama_print_timings:        load time =    4007.51 ms\n",
      "llama_print_timings:      sample time =       1.70 ms /    13 runs   (    0.13 ms per token,  7638.07 tokens per second)\n",
      "llama_print_timings: prompt eval time =     117.34 ms /    20 tokens (    5.87 ms per token,   170.45 tokens per second)\n",
      "llama_print_timings:        eval time =     300.34 ms /    12 runs   (   25.03 ms per token,    39.95 tokens per second)\n",
      "llama_print_timings:       total time =     442.19 ms /    32 tokens\n",
      "Llama.generate: prefix-match hit\n"
     ]
    },
    {
     "name": "stdout",
     "output_type": "stream",
     "text": [
      "--> testing cn: 拿毛巾把它挂在钩子上\n"
     ]
    },
    {
     "name": "stderr",
     "output_type": "stream",
     "text": [
      "\n",
      "llama_print_timings:        load time =    4007.51 ms\n",
      "llama_print_timings:      sample time =       1.67 ms /    13 runs   (    0.13 ms per token,  7793.76 tokens per second)\n",
      "llama_print_timings: prompt eval time =     117.60 ms /    28 tokens (    4.20 ms per token,   238.09 tokens per second)\n",
      "llama_print_timings:        eval time =     300.95 ms /    12 runs   (   25.08 ms per token,    39.87 tokens per second)\n",
      "llama_print_timings:       total time =     444.42 ms /    40 tokens\n",
      "Llama.generate: prefix-match hit\n"
     ]
    },
    {
     "name": "stdout",
     "output_type": "stream",
     "text": [
      "average inference: 541.6ms\n",
      "------------\n",
      "--> testing en: Reach for the jacket and drape it over the chair.\n"
     ]
    },
    {
     "name": "stderr",
     "output_type": "stream",
     "text": [
      "\n",
      "llama_print_timings:        load time =    4007.51 ms\n",
      "llama_print_timings:      sample time =       4.40 ms /    14 runs   (    0.31 ms per token,  3185.44 tokens per second)\n",
      "llama_print_timings: prompt eval time =     115.25 ms /    17 tokens (    6.78 ms per token,   147.50 tokens per second)\n",
      "llama_print_timings:        eval time =     339.13 ms /    13 runs   (   26.09 ms per token,    38.33 tokens per second)\n",
      "llama_print_timings:       total time =     516.30 ms /    30 tokens\n",
      "Llama.generate: prefix-match hit\n"
     ]
    },
    {
     "name": "stdout",
     "output_type": "stream",
     "text": [
      "--> testing hi: जैकेट के लिए हाथ बढ़ाओ और कुर्सी पर ढाल दो\n"
     ]
    },
    {
     "name": "stderr",
     "output_type": "stream",
     "text": [
      "\n",
      "llama_print_timings:        load time =    4007.51 ms\n",
      "llama_print_timings:      sample time =       3.00 ms /    27 runs   (    0.11 ms per token,  9000.00 tokens per second)\n",
      "llama_print_timings: prompt eval time =     201.06 ms /    56 tokens (    3.59 ms per token,   278.52 tokens per second)\n",
      "llama_print_timings:        eval time =     663.70 ms /    26 runs   (   25.53 ms per token,    39.17 tokens per second)\n",
      "llama_print_timings:       total time =     917.00 ms /    82 tokens\n",
      "Llama.generate: prefix-match hit\n"
     ]
    },
    {
     "name": "stdout",
     "output_type": "stream",
     "text": [
      "--> testing fr: Attrape la veste et drape-la sur la chaise.\n"
     ]
    },
    {
     "name": "stderr",
     "output_type": "stream",
     "text": [
      "\n",
      "llama_print_timings:        load time =    4007.51 ms\n",
      "llama_print_timings:      sample time =       1.84 ms /    13 runs   (    0.14 ms per token,  7046.07 tokens per second)\n",
      "llama_print_timings: prompt eval time =     114.87 ms /    19 tokens (    6.05 ms per token,   165.40 tokens per second)\n",
      "llama_print_timings:        eval time =     300.66 ms /    12 runs   (   25.05 ms per token,    39.91 tokens per second)\n",
      "llama_print_timings:       total time =     443.01 ms /    31 tokens\n",
      "Llama.generate: prefix-match hit\n"
     ]
    },
    {
     "name": "stdout",
     "output_type": "stream",
     "text": [
      "--> testing es: Coge la chaqueta y colócala sobre la silla.\n"
     ]
    },
    {
     "name": "stderr",
     "output_type": "stream",
     "text": [
      "\n",
      "llama_print_timings:        load time =    4007.51 ms\n",
      "llama_print_timings:      sample time =       2.37 ms /    14 runs   (    0.17 ms per token,  5917.16 tokens per second)\n",
      "llama_print_timings: prompt eval time =     119.17 ms /    18 tokens (    6.62 ms per token,   151.04 tokens per second)\n",
      "llama_print_timings:        eval time =     328.78 ms /    13 runs   (   25.29 ms per token,    39.54 tokens per second)\n",
      "llama_print_timings:       total time =     481.76 ms /    31 tokens\n",
      "Llama.generate: prefix-match hit\n"
     ]
    },
    {
     "name": "stdout",
     "output_type": "stream",
     "text": [
      "--> testing it: Prendi la giacca e drappeggiala sulla sedia.\n"
     ]
    },
    {
     "name": "stderr",
     "output_type": "stream",
     "text": [
      "\n",
      "llama_print_timings:        load time =    4007.51 ms\n",
      "llama_print_timings:      sample time =       1.84 ms /    14 runs   (    0.13 ms per token,  7588.08 tokens per second)\n",
      "llama_print_timings: prompt eval time =     115.47 ms /    20 tokens (    5.77 ms per token,   173.20 tokens per second)\n",
      "llama_print_timings:        eval time =     327.32 ms /    13 runs   (   25.18 ms per token,    39.72 tokens per second)\n",
      "llama_print_timings:       total time =     470.38 ms /    33 tokens\n",
      "Llama.generate: prefix-match hit\n"
     ]
    },
    {
     "name": "stdout",
     "output_type": "stream",
     "text": [
      "--> testing hi-en: jacket pakdo and kursi pe latkao\n"
     ]
    },
    {
     "name": "stderr",
     "output_type": "stream",
     "text": [
      "\n",
      "llama_print_timings:        load time =    4007.51 ms\n",
      "llama_print_timings:      sample time =       4.97 ms /    29 runs   (    0.17 ms per token,  5838.53 tokens per second)\n",
      "llama_print_timings: prompt eval time =     113.18 ms /    14 tokens (    8.08 ms per token,   123.70 tokens per second)\n",
      "llama_print_timings:        eval time =     710.72 ms /    28 runs   (   25.38 ms per token,    39.40 tokens per second)\n",
      "llama_print_timings:       total time =     898.62 ms /    42 tokens\n",
      "Llama.generate: prefix-match hit\n"
     ]
    },
    {
     "name": "stdout",
     "output_type": "stream",
     "text": [
      "--> testing ms: Ambil jaket dan sangkutkannya di atas kerusi.\n"
     ]
    },
    {
     "name": "stderr",
     "output_type": "stream",
     "text": [
      "\n",
      "llama_print_timings:        load time =    4007.51 ms\n",
      "llama_print_timings:      sample time =       2.50 ms /    17 runs   (    0.15 ms per token,  6791.85 tokens per second)\n",
      "llama_print_timings: prompt eval time =     115.73 ms /    21 tokens (    5.51 ms per token,   181.46 tokens per second)\n",
      "llama_print_timings:        eval time =     399.12 ms /    16 runs   (   24.95 ms per token,    40.09 tokens per second)\n",
      "llama_print_timings:       total time =     550.47 ms /    37 tokens\n",
      "Llama.generate: prefix-match hit\n"
     ]
    },
    {
     "name": "stdout",
     "output_type": "stream",
     "text": [
      "--> testing ru: Возьмите куртку и накиньте ее на стул\n"
     ]
    },
    {
     "name": "stderr",
     "output_type": "stream",
     "text": [
      "\n",
      "llama_print_timings:        load time =    4007.51 ms\n",
      "llama_print_timings:      sample time =       1.80 ms /    14 runs   (    0.13 ms per token,  7764.84 tokens per second)\n",
      "llama_print_timings: prompt eval time =     116.15 ms /    19 tokens (    6.11 ms per token,   163.58 tokens per second)\n",
      "llama_print_timings:        eval time =     331.78 ms /    13 runs   (   25.52 ms per token,    39.18 tokens per second)\n",
      "llama_print_timings:       total time =     475.60 ms /    32 tokens\n",
      "Llama.generate: prefix-match hit\n"
     ]
    },
    {
     "name": "stdout",
     "output_type": "stream",
     "text": [
      "--> testing cn: 拿夹克衫把它披在椅子上\n"
     ]
    },
    {
     "name": "stderr",
     "output_type": "stream",
     "text": [
      "\n",
      "llama_print_timings:        load time =    4007.51 ms\n",
      "llama_print_timings:      sample time =       3.98 ms /    16 runs   (    0.25 ms per token,  4020.10 tokens per second)\n",
      "llama_print_timings: prompt eval time =     118.99 ms /    29 tokens (    4.10 ms per token,   243.72 tokens per second)\n",
      "llama_print_timings:        eval time =     396.44 ms /    15 runs   (   26.43 ms per token,    37.84 tokens per second)\n",
      "llama_print_timings:       total time =     570.08 ms /    44 tokens\n",
      "Llama.generate: prefix-match hit\n"
     ]
    },
    {
     "name": "stdout",
     "output_type": "stream",
     "text": [
      "average inference: 595.8ms\n",
      "------------\n",
      "--> testing en: Would you mind fetching that book from the shelf and placing it on the coffee table, please?\n"
     ]
    },
    {
     "name": "stderr",
     "output_type": "stream",
     "text": [
      "\n",
      "llama_print_timings:        load time =    4007.51 ms\n",
      "llama_print_timings:      sample time =       5.57 ms /    15 runs   (    0.37 ms per token,  2692.03 tokens per second)\n",
      "llama_print_timings: prompt eval time =     118.37 ms /    24 tokens (    4.93 ms per token,   202.76 tokens per second)\n",
      "llama_print_timings:        eval time =     369.97 ms /    14 runs   (   26.43 ms per token,    37.84 tokens per second)\n",
      "llama_print_timings:       total time =     557.75 ms /    38 tokens\n",
      "Llama.generate: prefix-match hit\n"
     ]
    },
    {
     "name": "stdout",
     "output_type": "stream",
     "text": [
      "--> testing hi: क्या आप उस किताब को शेल्फ से लेकर कॉफी टेबल पर रख सकते हैं?\n"
     ]
    },
    {
     "name": "stderr",
     "output_type": "stream",
     "text": [
      "\n",
      "llama_print_timings:        load time =    4007.51 ms\n",
      "llama_print_timings:      sample time =       1.89 ms /    13 runs   (    0.15 ms per token,  6885.59 tokens per second)\n",
      "llama_print_timings: prompt eval time =     280.30 ms /    71 tokens (    3.95 ms per token,   253.30 tokens per second)\n",
      "llama_print_timings:        eval time =     309.79 ms /    12 runs   (   25.82 ms per token,    38.74 tokens per second)\n",
      "llama_print_timings:       total time =     619.65 ms /    83 tokens\n",
      "Llama.generate: prefix-match hit\n"
     ]
    },
    {
     "name": "stdout",
     "output_type": "stream",
     "text": [
      "--> testing fr: Pourriez-vous avoir la gentillesse de prendre ce livre sur l'étagère et de le poser sur la table basse, s'il vous plaît ?\n"
     ]
    },
    {
     "name": "stderr",
     "output_type": "stream",
     "text": [
      "\n",
      "llama_print_timings:        load time =    4007.51 ms\n",
      "llama_print_timings:      sample time =       2.26 ms /    25 runs   (    0.09 ms per token, 11052.17 tokens per second)\n",
      "llama_print_timings: prompt eval time =     196.29 ms /    41 tokens (    4.79 ms per token,   208.88 tokens per second)\n",
      "llama_print_timings:        eval time =     604.14 ms /    24 runs   (   25.17 ms per token,    39.73 tokens per second)\n",
      "llama_print_timings:       total time =     841.26 ms /    65 tokens\n",
      "Llama.generate: prefix-match hit\n"
     ]
    },
    {
     "name": "stdout",
     "output_type": "stream",
     "text": [
      "--> testing es: ¿Te importaría coger ese libro del estante y ponerlo en la mesa de centro, por favor?\n"
     ]
    },
    {
     "name": "stderr",
     "output_type": "stream",
     "text": [
      "\n",
      "llama_print_timings:        load time =    4007.51 ms\n",
      "llama_print_timings:      sample time =       1.54 ms /    13 runs   (    0.12 ms per token,  8419.69 tokens per second)\n",
      "llama_print_timings: prompt eval time =     119.82 ms /    29 tokens (    4.13 ms per token,   242.03 tokens per second)\n",
      "llama_print_timings:        eval time =     300.92 ms /    12 runs   (   25.08 ms per token,    39.88 tokens per second)\n",
      "llama_print_timings:       total time =     447.37 ms /    41 tokens\n",
      "Llama.generate: prefix-match hit\n"
     ]
    },
    {
     "name": "stdout",
     "output_type": "stream",
     "text": [
      "--> testing it: Ti dispiace prendere quel libro dallo scaffale e metterlo sul tavolino, per favore?\n"
     ]
    },
    {
     "name": "stderr",
     "output_type": "stream",
     "text": [
      "\n",
      "llama_print_timings:        load time =    4007.51 ms\n",
      "llama_print_timings:      sample time =       1.59 ms /    16 runs   (    0.10 ms per token, 10043.94 tokens per second)\n",
      "llama_print_timings: prompt eval time =     119.88 ms /    30 tokens (    4.00 ms per token,   250.26 tokens per second)\n",
      "llama_print_timings:        eval time =     375.85 ms /    15 runs   (   25.06 ms per token,    39.91 tokens per second)\n",
      "llama_print_timings:       total time =     524.54 ms /    45 tokens\n",
      "Llama.generate: prefix-match hit\n"
     ]
    },
    {
     "name": "stdout",
     "output_type": "stream",
     "text": [
      "--> testing hi-en: kya aap woh book shelf se lekar coffee table pe rakh sakte hain, please?\n"
     ]
    },
    {
     "name": "stderr",
     "output_type": "stream",
     "text": [
      "\n",
      "llama_print_timings:        load time =    4007.51 ms\n",
      "llama_print_timings:      sample time =       1.40 ms /    15 runs   (    0.09 ms per token, 10737.29 tokens per second)\n",
      "llama_print_timings: prompt eval time =     117.67 ms /    27 tokens (    4.36 ms per token,   229.45 tokens per second)\n",
      "llama_print_timings:        eval time =     352.11 ms /    14 runs   (   25.15 ms per token,    39.76 tokens per second)\n",
      "llama_print_timings:       total time =     496.71 ms /    41 tokens\n",
      "Llama.generate: prefix-match hit\n"
     ]
    },
    {
     "name": "stdout",
     "output_type": "stream",
     "text": [
      "--> testing ms: Bolehkah anda tolong ambil buku itu dari rak dan letakkannya di atas meja kopi, sila? (Bolehkan anda tolong ambil buku itu dari rak dan letakkannya di atas meja kopi, sila?)\n"
     ]
    },
    {
     "name": "stderr",
     "output_type": "stream",
     "text": [
      "\n",
      "llama_print_timings:        load time =    4007.51 ms\n",
      "llama_print_timings:      sample time =       7.30 ms /    15 runs   (    0.49 ms per token,  2054.79 tokens per second)\n",
      "llama_print_timings: prompt eval time =     282.86 ms /    75 tokens (    3.77 ms per token,   265.15 tokens per second)\n",
      "llama_print_timings:        eval time =     392.70 ms /    14 runs   (   28.05 ms per token,    35.65 tokens per second)\n",
      "llama_print_timings:       total time =     728.25 ms /    89 tokens\n",
      "Llama.generate: prefix-match hit\n"
     ]
    },
    {
     "name": "stdout",
     "output_type": "stream",
     "text": [
      "--> testing ru: Не могли бы вы взять эту книгу с полки и положить ее на журнальный столик, пожалуйста?\n"
     ]
    },
    {
     "name": "stderr",
     "output_type": "stream",
     "text": [
      "\n",
      "llama_print_timings:        load time =    4007.51 ms\n",
      "llama_print_timings:      sample time =       6.51 ms /    29 runs   (    0.22 ms per token,  4456.74 tokens per second)\n",
      "llama_print_timings: prompt eval time =     198.29 ms /    35 tokens (    5.67 ms per token,   176.51 tokens per second)\n",
      "llama_print_timings:        eval time =     749.63 ms /    28 runs   (   26.77 ms per token,    37.35 tokens per second)\n",
      "llama_print_timings:       total time =    1083.55 ms /    63 tokens\n",
      "Llama.generate: prefix-match hit\n"
     ]
    },
    {
     "name": "stdout",
     "output_type": "stream",
     "text": [
      "--> testing cn: 请问可以麻烦您把那个架子上的书拿下来放到茶几上吗\n"
     ]
    },
    {
     "name": "stderr",
     "output_type": "stream",
     "text": [
      "\n",
      "llama_print_timings:        load time =    4007.51 ms\n",
      "llama_print_timings:      sample time =       3.47 ms /    15 runs   (    0.23 ms per token,  4321.52 tokens per second)\n",
      "llama_print_timings: prompt eval time =     196.85 ms /    42 tokens (    4.69 ms per token,   213.36 tokens per second)\n",
      "llama_print_timings:        eval time =     369.30 ms /    14 runs   (   26.38 ms per token,    37.91 tokens per second)\n",
      "llama_print_timings:       total time =     634.38 ms /    56 tokens\n",
      "Llama.generate: prefix-match hit\n"
     ]
    },
    {
     "name": "stdout",
     "output_type": "stream",
     "text": [
      "average inference: 663.0ms\n",
      "------------\n",
      "--> testing en: Please put the dish in the dishwasher\n"
     ]
    },
    {
     "name": "stderr",
     "output_type": "stream",
     "text": [
      "\n",
      "llama_print_timings:        load time =    4007.51 ms\n",
      "llama_print_timings:      sample time =       3.50 ms /    17 runs   (    0.21 ms per token,  4861.31 tokens per second)\n",
      "llama_print_timings: prompt eval time =     120.73 ms /    15 tokens (    8.05 ms per token,   124.25 tokens per second)\n",
      "llama_print_timings:        eval time =     408.86 ms /    16 runs   (   25.55 ms per token,    39.13 tokens per second)\n",
      "llama_print_timings:       total time =     581.32 ms /    31 tokens\n",
      "Llama.generate: prefix-match hit\n"
     ]
    },
    {
     "name": "stdout",
     "output_type": "stream",
     "text": [
      "--> testing hi: कृपया डिश को डिशवॉशर में डालें\n"
     ]
    },
    {
     "name": "stderr",
     "output_type": "stream",
     "text": [
      "\n",
      "llama_print_timings:        load time =    4007.51 ms\n",
      "llama_print_timings:      sample time =       0.77 ms /     7 runs   (    0.11 ms per token,  9067.36 tokens per second)\n",
      "llama_print_timings: prompt eval time =     192.59 ms /    38 tokens (    5.07 ms per token,   197.31 tokens per second)\n",
      "llama_print_timings:        eval time =     153.95 ms /     6 runs   (   25.66 ms per token,    38.97 tokens per second)\n",
      "llama_print_timings:       total time =     359.34 ms /    44 tokens\n",
      "Llama.generate: prefix-match hit\n"
     ]
    },
    {
     "name": "stdout",
     "output_type": "stream",
     "text": [
      "--> testing fr: Veuillez mettre le plat au lave-vaisselle, s'il vous plaît.\n"
     ]
    },
    {
     "name": "stderr",
     "output_type": "stream",
     "text": [
      "\n",
      "llama_print_timings:        load time =    4007.51 ms\n",
      "llama_print_timings:      sample time =       1.95 ms /    16 runs   (    0.12 ms per token,  8226.22 tokens per second)\n",
      "llama_print_timings: prompt eval time =     118.29 ms /    26 tokens (    4.55 ms per token,   219.79 tokens per second)\n",
      "llama_print_timings:        eval time =     382.02 ms /    15 runs   (   25.47 ms per token,    39.27 tokens per second)\n",
      "llama_print_timings:       total time =     535.12 ms /    41 tokens\n",
      "Llama.generate: prefix-match hit\n"
     ]
    },
    {
     "name": "stdout",
     "output_type": "stream",
     "text": [
      "--> testing es: Por favor, pon el plato en el lavavajillas.\n"
     ]
    },
    {
     "name": "stderr",
     "output_type": "stream",
     "text": [
      "\n",
      "llama_print_timings:        load time =    4007.51 ms\n",
      "llama_print_timings:      sample time =       2.25 ms /    16 runs   (    0.14 ms per token,  7107.95 tokens per second)\n",
      "llama_print_timings: prompt eval time =     118.84 ms /    17 tokens (    6.99 ms per token,   143.04 tokens per second)\n",
      "llama_print_timings:        eval time =     377.30 ms /    15 runs   (   25.15 ms per token,    39.76 tokens per second)\n",
      "llama_print_timings:       total time =     529.79 ms /    32 tokens\n",
      "Llama.generate: prefix-match hit\n"
     ]
    },
    {
     "name": "stdout",
     "output_type": "stream",
     "text": [
      "--> testing it: Per favore, metti il piatto in lavastoviglie.\n"
     ]
    },
    {
     "name": "stderr",
     "output_type": "stream",
     "text": [
      "\n",
      "llama_print_timings:        load time =    4007.51 ms\n",
      "llama_print_timings:      sample time =       2.03 ms /    19 runs   (    0.11 ms per token,  9341.20 tokens per second)\n",
      "llama_print_timings: prompt eval time =     117.83 ms /    20 tokens (    5.89 ms per token,   169.74 tokens per second)\n",
      "llama_print_timings:        eval time =     462.92 ms /    18 runs   (   25.72 ms per token,    38.88 tokens per second)\n",
      "llama_print_timings:       total time =     618.17 ms /    38 tokens\n",
      "Llama.generate: prefix-match hit\n"
     ]
    },
    {
     "name": "stdout",
     "output_type": "stream",
     "text": [
      "--> testing hi-en: kripya, bartan ko dishwasher mein rakhen\n"
     ]
    },
    {
     "name": "stderr",
     "output_type": "stream",
     "text": [
      "\n",
      "llama_print_timings:        load time =    4007.51 ms\n",
      "llama_print_timings:      sample time =       2.30 ms /    18 runs   (    0.13 ms per token,  7815.89 tokens per second)\n",
      "llama_print_timings: prompt eval time =     117.06 ms /    22 tokens (    5.32 ms per token,   187.94 tokens per second)\n",
      "llama_print_timings:        eval time =     438.05 ms /    17 runs   (   25.77 ms per token,    38.81 tokens per second)\n",
      "llama_print_timings:       total time =     594.36 ms /    39 tokens\n",
      "Llama.generate: prefix-match hit\n"
     ]
    },
    {
     "name": "stdout",
     "output_type": "stream",
     "text": [
      "--> testing ms: Silakan masukkan pinggan ke dalam mesin basuh pinggan mangkuk.\n"
     ]
    },
    {
     "name": "stderr",
     "output_type": "stream",
     "text": [
      "\n",
      "llama_print_timings:        load time =    4007.51 ms\n",
      "llama_print_timings:      sample time =       1.88 ms /    16 runs   (    0.12 ms per token,  8519.70 tokens per second)\n",
      "llama_print_timings: prompt eval time =     118.24 ms /    24 tokens (    4.93 ms per token,   202.98 tokens per second)\n",
      "llama_print_timings:        eval time =     372.31 ms /    15 runs   (   24.82 ms per token,    40.29 tokens per second)\n",
      "llama_print_timings:       total time =     519.69 ms /    39 tokens\n",
      "Llama.generate: prefix-match hit\n"
     ]
    },
    {
     "name": "stdout",
     "output_type": "stream",
     "text": [
      "--> testing ru: Пожалуйста, поставьте посуду в посудомоечную машину\n"
     ]
    },
    {
     "name": "stderr",
     "output_type": "stream",
     "text": [
      "\n",
      "llama_print_timings:        load time =    4007.51 ms\n",
      "llama_print_timings:      sample time =       2.21 ms /    22 runs   (    0.10 ms per token,  9936.77 tokens per second)\n",
      "llama_print_timings: prompt eval time =     117.85 ms /    27 tokens (    4.36 ms per token,   229.10 tokens per second)\n",
      "llama_print_timings:        eval time =     527.97 ms /    21 runs   (   25.14 ms per token,    39.77 tokens per second)\n",
      "llama_print_timings:       total time =     683.99 ms /    48 tokens\n",
      "Llama.generate: prefix-match hit\n"
     ]
    },
    {
     "name": "stdout",
     "output_type": "stream",
     "text": [
      "--> testing cn: 请把盘子放进洗碗机\n"
     ]
    },
    {
     "name": "stderr",
     "output_type": "stream",
     "text": [
      "\n",
      "llama_print_timings:        load time =    4007.51 ms\n",
      "llama_print_timings:      sample time =       3.27 ms /    13 runs   (    0.25 ms per token,  3981.62 tokens per second)\n",
      "llama_print_timings: prompt eval time =     116.64 ms /    21 tokens (    5.55 ms per token,   180.04 tokens per second)\n",
      "llama_print_timings:        eval time =     311.65 ms /    12 runs   (   25.97 ms per token,    38.50 tokens per second)\n",
      "llama_print_timings:       total time =     471.19 ms /    33 tokens\n",
      "Llama.generate: prefix-match hit\n"
     ]
    },
    {
     "name": "stdout",
     "output_type": "stream",
     "text": [
      "average inference: 547.9ms\n",
      "------------\n",
      "--> testing en: Bin the banana peel\n"
     ]
    },
    {
     "name": "stderr",
     "output_type": "stream",
     "text": [
      "\n",
      "llama_print_timings:        load time =    4007.51 ms\n",
      "llama_print_timings:      sample time =       2.95 ms /    15 runs   (    0.20 ms per token,  5083.02 tokens per second)\n",
      "llama_print_timings: prompt eval time =     110.63 ms /     9 tokens (   12.29 ms per token,    81.36 tokens per second)\n",
      "llama_print_timings:        eval time =     363.00 ms /    14 runs   (   25.93 ms per token,    38.57 tokens per second)\n",
      "llama_print_timings:       total time =     541.58 ms /    23 tokens\n",
      "Llama.generate: prefix-match hit\n"
     ]
    },
    {
     "name": "stdout",
     "output_type": "stream",
     "text": [
      "--> testing hi: केले की छिलका कूड़े में डाल दो\n"
     ]
    },
    {
     "name": "stderr",
     "output_type": "stream",
     "text": [
      "\n",
      "llama_print_timings:        load time =    4007.51 ms\n",
      "llama_print_timings:      sample time =       3.15 ms /    14 runs   (    0.23 ms per token,  4443.03 tokens per second)\n",
      "llama_print_timings: prompt eval time =     193.14 ms /    36 tokens (    5.37 ms per token,   186.39 tokens per second)\n",
      "llama_print_timings:        eval time =     330.35 ms /    13 runs   (   25.41 ms per token,    39.35 tokens per second)\n",
      "llama_print_timings:       total time =     562.81 ms /    49 tokens\n",
      "Llama.generate: prefix-match hit\n"
     ]
    },
    {
     "name": "stdout",
     "output_type": "stream",
     "text": [
      "--> testing fr: Jette la peau de banane à la poubelle.\n"
     ]
    },
    {
     "name": "stderr",
     "output_type": "stream",
     "text": [
      "\n",
      "llama_print_timings:        load time =    4007.51 ms\n",
      "llama_print_timings:      sample time =       1.88 ms /    16 runs   (    0.12 ms per token,  8519.70 tokens per second)\n",
      "llama_print_timings: prompt eval time =     113.64 ms /    17 tokens (    6.68 ms per token,   149.60 tokens per second)\n",
      "llama_print_timings:        eval time =     389.47 ms /    15 runs   (   25.96 ms per token,    38.51 tokens per second)\n",
      "llama_print_timings:       total time =     534.36 ms /    32 tokens\n",
      "Llama.generate: prefix-match hit\n"
     ]
    },
    {
     "name": "stdout",
     "output_type": "stream",
     "text": [
      "--> testing es: Tira la cáscara de plátano a la basura.\n"
     ]
    },
    {
     "name": "stderr",
     "output_type": "stream",
     "text": [
      "\n",
      "llama_print_timings:        load time =    4007.51 ms\n",
      "llama_print_timings:      sample time =       2.60 ms /    17 runs   (    0.15 ms per token,  6525.91 tokens per second)\n",
      "llama_print_timings: prompt eval time =     115.79 ms /    19 tokens (    6.09 ms per token,   164.09 tokens per second)\n",
      "llama_print_timings:        eval time =     401.25 ms /    16 runs   (   25.08 ms per token,    39.87 tokens per second)\n",
      "llama_print_timings:       total time =     556.53 ms /    35 tokens\n",
      "Llama.generate: prefix-match hit\n"
     ]
    },
    {
     "name": "stdout",
     "output_type": "stream",
     "text": [
      "--> testing it: Getta la buccia di banana nella spazzatura.\n"
     ]
    },
    {
     "name": "stderr",
     "output_type": "stream",
     "text": [
      "\n",
      "llama_print_timings:        load time =    4007.51 ms\n",
      "llama_print_timings:      sample time =       4.68 ms /    17 runs   (    0.28 ms per token,  3635.59 tokens per second)\n",
      "llama_print_timings: prompt eval time =     113.80 ms /    17 tokens (    6.69 ms per token,   149.38 tokens per second)\n",
      "llama_print_timings:        eval time =     414.63 ms /    16 runs   (   25.91 ms per token,    38.59 tokens per second)\n",
      "llama_print_timings:       total time =     595.28 ms /    33 tokens\n",
      "Llama.generate: prefix-match hit\n"
     ]
    },
    {
     "name": "stdout",
     "output_type": "stream",
     "text": [
      "--> testing hi-en: kela ke chilke ko dustbin mein fenk do\n"
     ]
    },
    {
     "name": "stderr",
     "output_type": "stream",
     "text": [
      "\n",
      "llama_print_timings:        load time =    4007.51 ms\n",
      "llama_print_timings:      sample time =       3.57 ms /    16 runs   (    0.22 ms per token,  4486.82 tokens per second)\n",
      "llama_print_timings: prompt eval time =     114.65 ms /    17 tokens (    6.74 ms per token,   148.28 tokens per second)\n",
      "llama_print_timings:        eval time =     404.41 ms /    15 runs   (   26.96 ms per token,    37.09 tokens per second)\n",
      "llama_print_timings:       total time =     572.67 ms /    32 tokens\n",
      "Llama.generate: prefix-match hit\n"
     ]
    },
    {
     "name": "stdout",
     "output_type": "stream",
     "text": [
      "--> testing ms: Buang kulit pisang ke dalam tong sampah.\n"
     ]
    },
    {
     "name": "stderr",
     "output_type": "stream",
     "text": [
      "\n",
      "llama_print_timings:        load time =    4007.51 ms\n",
      "llama_print_timings:      sample time =       3.77 ms /    17 runs   (    0.22 ms per token,  4503.31 tokens per second)\n",
      "llama_print_timings: prompt eval time =     113.27 ms /    18 tokens (    6.29 ms per token,   158.91 tokens per second)\n",
      "llama_print_timings:        eval time =     429.32 ms /    16 runs   (   26.83 ms per token,    37.27 tokens per second)\n",
      "llama_print_timings:       total time =     602.77 ms /    34 tokens\n",
      "Llama.generate: prefix-match hit\n"
     ]
    },
    {
     "name": "stdout",
     "output_type": "stream",
     "text": [
      "--> testing ru: Выбросьте банановую кожуру в мусорное ведро\n"
     ]
    },
    {
     "name": "stderr",
     "output_type": "stream",
     "text": [
      "\n",
      "llama_print_timings:        load time =    4007.51 ms\n",
      "llama_print_timings:      sample time =       2.96 ms /    15 runs   (    0.20 ms per token,  5067.57 tokens per second)\n",
      "llama_print_timings: prompt eval time =     114.99 ms /    20 tokens (    5.75 ms per token,   173.93 tokens per second)\n",
      "llama_print_timings:        eval time =     391.60 ms /    14 runs   (   27.97 ms per token,    35.75 tokens per second)\n",
      "llama_print_timings:       total time =     550.28 ms /    34 tokens\n",
      "Llama.generate: prefix-match hit\n"
     ]
    },
    {
     "name": "stdout",
     "output_type": "stream",
     "text": [
      "--> testing cn: 把香蕉皮扔进垃圾桶\n"
     ]
    },
    {
     "name": "stderr",
     "output_type": "stream",
     "text": [
      "\n",
      "llama_print_timings:        load time =    4007.51 ms\n",
      "llama_print_timings:      sample time =       4.77 ms /    46 runs   (    0.10 ms per token,  9635.53 tokens per second)\n",
      "llama_print_timings: prompt eval time =     119.71 ms /    27 tokens (    4.43 ms per token,   225.54 tokens per second)\n",
      "llama_print_timings:        eval time =    1165.93 ms /    45 runs   (   25.91 ms per token,    38.60 tokens per second)\n",
      "llama_print_timings:       total time =    1387.16 ms /    72 tokens\n"
     ]
    },
    {
     "name": "stdout",
     "output_type": "stream",
     "text": [
      "average inference: 661.4ms\n",
      "------------\n"
     ]
    }
   ],
   "source": [
    "RESULTS = []\n",
    "\n",
    "for qblock in QUESTIONS:\n",
    "    inference_times = []\n",
    "    block_result = {\n",
    "        'task': qblock['qset']['en'],\n",
    "        'ans': qblock['ans']\n",
    "    }\n",
    "    for (lang, q) in qblock['qset'].items():\n",
    "        if q == '':\n",
    "            continue\n",
    "        \n",
    "        print('--> testing %s: %s' % (lang, q))\n",
    "        start_time = time.perf_counter()\n",
    "        output = llm(\n",
    "            prompt=getPrompt(q),\n",
    "            max_tokens=160,  # Generate up to 256 tokens\n",
    "            stop=[\"<|end|>\"],\n",
    "            echo=False,\n",
    "            temperature=0.4\n",
    "        )\n",
    "        end_time = time.perf_counter()\n",
    "        inference_times.append( (end_time-start_time)*1000 )\n",
    "        # print(\"inference time: %.1fms\\n\" % ((end_time-start_time)*1000,))\n",
    "        \n",
    "        llmAns = processLLMOutput(output['choices'][0]['text'])\n",
    "        block_result[lang+'_raw'] = llmAns\n",
    "        block_result[lang] = llmAns == qblock['ans'] and isValidPython(llmAns)\n",
    "\n",
    "    block_result['avg_inference_ms'] = round(sum(inference_times)/len(inference_times), 1)\n",
    "    RESULTS.append(block_result)\n",
    "    print('average inference: %.1fms' % block_result['avg_inference_ms'])\n",
    "\n",
    "    print('------------')"
   ]
  },
  {
   "cell_type": "markdown",
   "metadata": {},
   "source": [
    "## Result"
   ]
  },
  {
   "cell_type": "code",
   "execution_count": 223,
   "metadata": {},
   "outputs": [
    {
     "data": {
      "text/html": [
       "<div>\n",
       "<style scoped>\n",
       "    .dataframe tbody tr th:only-of-type {\n",
       "        vertical-align: middle;\n",
       "    }\n",
       "\n",
       "    .dataframe tbody tr th {\n",
       "        vertical-align: top;\n",
       "    }\n",
       "\n",
       "    .dataframe thead th {\n",
       "        text-align: right;\n",
       "    }\n",
       "</style>\n",
       "<table border=\"1\" class=\"dataframe\">\n",
       "  <thead>\n",
       "    <tr style=\"text-align: right;\">\n",
       "      <th></th>\n",
       "      <th>task</th>\n",
       "      <th>ans</th>\n",
       "      <th>en_raw</th>\n",
       "      <th>en</th>\n",
       "      <th>hi_raw</th>\n",
       "      <th>hi</th>\n",
       "      <th>fr_raw</th>\n",
       "      <th>fr</th>\n",
       "      <th>es_raw</th>\n",
       "      <th>es</th>\n",
       "      <th>it_raw</th>\n",
       "      <th>it</th>\n",
       "      <th>hi-en_raw</th>\n",
       "      <th>hi-en</th>\n",
       "      <th>ms_raw</th>\n",
       "      <th>ms</th>\n",
       "      <th>ru_raw</th>\n",
       "      <th>ru</th>\n",
       "      <th>cn_raw</th>\n",
       "      <th>cn</th>\n",
       "      <th>avg_inference_ms</th>\n",
       "    </tr>\n",
       "  </thead>\n",
       "  <tbody>\n",
       "    <tr>\n",
       "      <th>1</th>\n",
       "      <td>pick the ball and place on the table</td>\n",
       "      <td>action.pick_place(\"ball\", \"table\")</td>\n",
       "      <td>action.pick_place(\"ball\", \"table\")</td>\n",
       "      <td>True</td>\n",
       "      <td>action.pick(\"grapes\")</td>\n",
       "      <td>False</td>\n",
       "      <td>action.pick_place(\"ball\", \"table\")</td>\n",
       "      <td>True</td>\n",
       "      <td>action.pick_place(\"ball\", \"table\")</td>\n",
       "      <td>True</td>\n",
       "      <td>action.pick_place(\"ball\", \"table\")</td>\n",
       "      <td>True</td>\n",
       "      <td>action.pick_place(\"grapes\", \"table\")</td>\n",
       "      <td>False</td>\n",
       "      <td>action.pick_place(\"ball\", \"table\")</td>\n",
       "      <td>True</td>\n",
       "      <td>action.pick_place(\"\", \"\")</td>\n",
       "      <td>False</td>\n",
       "      <td>action.pick_place(\"ball\", \"table\")</td>\n",
       "      <td>True</td>\n",
       "      <td>551.2</td>\n",
       "    </tr>\n",
       "    <tr>\n",
       "      <th>2</th>\n",
       "      <td>pick the red ball and place in the blue box</td>\n",
       "      <td>action.pick_place(\"red ball\", \"blue box\")</td>\n",
       "      <td>action.pick_place(\"red ball\", \"blue box\")</td>\n",
       "      <td>True</td>\n",
       "      <td>action.pick(\"red grapes\") action.pick_place(\"r...</td>\n",
       "      <td>False</td>\n",
       "      <td>action.pick(\"red ball\")</td>\n",
       "      <td>False</td>\n",
       "      <td>action.pick_place(\"red ball\", \"blue box\")</td>\n",
       "      <td>True</td>\n",
       "      <td>action.pick_place(\"red ball\", \"blue box\")</td>\n",
       "      <td>True</td>\n",
       "      <td>action.pick_place(\"ball\", \"box\")</td>\n",
       "      <td>False</td>\n",
       "      <td>action.pick_place(\"red ball\", \"blue box\")</td>\n",
       "      <td>True</td>\n",
       "      <td>action.pick_place(\"red ball\", \"blue box\")</td>\n",
       "      <td>True</td>\n",
       "      <td>action.pick_place(\"red ball\", \"blue box\")</td>\n",
       "      <td>True</td>\n",
       "      <td>531.6</td>\n",
       "    </tr>\n",
       "    <tr>\n",
       "      <th>3</th>\n",
       "      <td>pickup the tennis ball and place on the table</td>\n",
       "      <td>action.pick_place(\"tennis ball\", \"table\")</td>\n",
       "      <td>action.pick_place(\"tennis ball\", \"table\")</td>\n",
       "      <td>True</td>\n",
       "      <td>action.pick_place(\"grapes\", \"table\")</td>\n",
       "      <td>False</td>\n",
       "      <td>action.pick_place(\"tennis ball\", \"table\")</td>\n",
       "      <td>True</td>\n",
       "      <td>action.pick_place(\"tennis ball\", \"table\")</td>\n",
       "      <td>True</td>\n",
       "      <td>action.pick_place(\"tennis ball\", \"table\")</td>\n",
       "      <td>True</td>\n",
       "      <td>action.pick(\"tennis ball\")</td>\n",
       "      <td>False</td>\n",
       "      <td>action.pick_place(\"tenis ball\", \"table\")</td>\n",
       "      <td>False</td>\n",
       "      <td>action.pick_place(\"tennis ball\", \"table\")</td>\n",
       "      <td>True</td>\n",
       "      <td>action.pick_place(\"web tennis ball\", \"table\")</td>\n",
       "      <td>False</td>\n",
       "      <td>514.0</td>\n",
       "    </tr>\n",
       "    <tr>\n",
       "      <th>4</th>\n",
       "      <td>pickup the banana and dance</td>\n",
       "      <td>action.pick(\"banana\")</td>\n",
       "      <td>action.pick(\"banana\")</td>\n",
       "      <td>True</td>\n",
       "      <td>action.pick_place(\"kala\", \"above\")</td>\n",
       "      <td>False</td>\n",
       "      <td>action.pick(\"banana\")</td>\n",
       "      <td>True</td>\n",
       "      <td>action.pick(\"banana\")</td>\n",
       "      <td>True</td>\n",
       "      <td>action.pick(\"banana\")</td>\n",
       "      <td>True</td>\n",
       "      <td>action.pick(\"grapes\")</td>\n",
       "      <td>False</td>\n",
       "      <td>action.pick_place(\"bananas\", \"location where t...</td>\n",
       "      <td>False</td>\n",
       "      <td>action.pick(\"banana\")</td>\n",
       "      <td>True</td>\n",
       "      <td>ignore</td>\n",
       "      <td>False</td>\n",
       "      <td>751.7</td>\n",
       "    </tr>\n",
       "    <tr>\n",
       "      <th>5</th>\n",
       "      <td>put the ball in the box</td>\n",
       "      <td>action.pick_place(\"ball\", \"box\")</td>\n",
       "      <td>action.pick_place(\"ball\", \"box\")</td>\n",
       "      <td>True</td>\n",
       "      <td>action.pick_place(\"grapes\", \"box\")</td>\n",
       "      <td>False</td>\n",
       "      <td>action.pick_place(\"ball\", \"box\")</td>\n",
       "      <td>True</td>\n",
       "      <td>action.pick_place(\"ball\", \"box\")</td>\n",
       "      <td>True</td>\n",
       "      <td>action.pick_place(\"ball\", \"box\")</td>\n",
       "      <td>True</td>\n",
       "      <td>action.pick_place(\"ball\", \"box\")</td>\n",
       "      <td>True</td>\n",
       "      <td>action.pick_place(\"ball\", \"box\")</td>\n",
       "      <td>True</td>\n",
       "      <td>action.pick_place(\"\", \"\")</td>\n",
       "      <td>False</td>\n",
       "      <td>action.pick_place(\"ball\", \"box\")</td>\n",
       "      <td>True</td>\n",
       "      <td>424.8</td>\n",
       "    </tr>\n",
       "    <tr>\n",
       "      <th>6</th>\n",
       "      <td>put the bread in tiffin</td>\n",
       "      <td>action.pick_place(\"bread\", \"tiffin\")</td>\n",
       "      <td>action.pick_place(\"bread\", \"tiffin\")</td>\n",
       "      <td>True</td>\n",
       "      <td>action.pick(\"brad\")</td>\n",
       "      <td>False</td>\n",
       "      <td>action.pick_place(\"bread\", \"tiffin\")</td>\n",
       "      <td>True</td>\n",
       "      <td>action.pick_place(\"pan\", \"dish rack\")</td>\n",
       "      <td>False</td>\n",
       "      <td>action.pick_place(\"bread\", \"lunchbox\")</td>\n",
       "      <td>False</td>\n",
       "      <td>action.pick_place(\"bread\", \"tiffin\")</td>\n",
       "      <td>True</td>\n",
       "      <td>action.pick_place(\"roti\", \"tiffin\")</td>\n",
       "      <td>False</td>\n",
       "      <td>action.pick_place(\"\", \"-\")</td>\n",
       "      <td>False</td>\n",
       "      <td>action.pick_place(\"\", \"\")</td>\n",
       "      <td>False</td>\n",
       "      <td>486.4</td>\n",
       "    </tr>\n",
       "    <tr>\n",
       "      <th>7</th>\n",
       "      <td>put the flower pot on the table</td>\n",
       "      <td>action.pick_place(\"flower pot\", \"table\")</td>\n",
       "      <td>action.pick_place(\"flower pot\", \"table\")</td>\n",
       "      <td>True</td>\n",
       "      <td>action.pick_place(\"flower bouquet\", \"table\")</td>\n",
       "      <td>False</td>\n",
       "      <td>action.pick_place(\"pot of flowers\", \"table\")</td>\n",
       "      <td>False</td>\n",
       "      <td>action.pick_place(\"plant\", \"table\")</td>\n",
       "      <td>False</td>\n",
       "      <td>action.pick_place(\"vaso di fiori\", \"tavolo\")</td>\n",
       "      <td>False</td>\n",
       "      <td>action.pick_place(\"flower pot\", \"table\")</td>\n",
       "      <td>True</td>\n",
       "      <td>action.pick_place(\"passion fruit\", \"table\")</td>\n",
       "      <td>False</td>\n",
       "      <td>action.pick_place(\"flower pot\", \"table\")</td>\n",
       "      <td>True</td>\n",
       "      <td>action.pick_place(\"flower vase\", \"table\")</td>\n",
       "      <td>False</td>\n",
       "      <td>487.1</td>\n",
       "    </tr>\n",
       "    <tr>\n",
       "      <th>8</th>\n",
       "      <td>keep the apple on the plate</td>\n",
       "      <td>action.pick_place(\"apple\", \"plate\")</td>\n",
       "      <td>action.pick_place(\"apple\", \"plate\")</td>\n",
       "      <td>True</td>\n",
       "      <td>action.pick_place(\"\", \"plate\")</td>\n",
       "      <td>False</td>\n",
       "      <td>action.pick_place(\"apple\", \"plate\")</td>\n",
       "      <td>True</td>\n",
       "      <td>action.pick_place(\"apple\", \"plate\")</td>\n",
       "      <td>True</td>\n",
       "      <td>action.pick_place(\"apple\", \"plate\")</td>\n",
       "      <td>True</td>\n",
       "      <td>action.pick_place(\"grapes\", \"plate\")</td>\n",
       "      <td>False</td>\n",
       "      <td>action.pick_place(\"paper\", \"on top of the table\")</td>\n",
       "      <td>False</td>\n",
       "      <td>action.pick_place(\"apple\", \"plate\")</td>\n",
       "      <td>True</td>\n",
       "      <td>action.pick_place(\"apple\", \"plate\")</td>\n",
       "      <td>True</td>\n",
       "      <td>438.5</td>\n",
       "    </tr>\n",
       "    <tr>\n",
       "      <th>9</th>\n",
       "      <td>place the bread in the tiffin</td>\n",
       "      <td>action.pick_place(\"bread\", \"tiffin\")</td>\n",
       "      <td>action.pick_place(\"bread\", \"tiffin\")</td>\n",
       "      <td>True</td>\n",
       "      <td>action.pick_place(\"brief\", \"folder\")</td>\n",
       "      <td>False</td>\n",
       "      <td>action.pick_place(\"bread\", \"tiffin\")</td>\n",
       "      <td>True</td>\n",
       "      <td>action.pick_place(\"pan\", \"lunchbox\")</td>\n",
       "      <td>False</td>\n",
       "      <td>action.pick_place(\"bread\", \"lunchbox\")</td>\n",
       "      <td>False</td>\n",
       "      <td>action.pick_place(\"bread\", \"tiffin\")</td>\n",
       "      <td>True</td>\n",
       "      <td>action.pick_place(\"roti\", \"tiffin\")</td>\n",
       "      <td>False</td>\n",
       "      <td>action.pick_place(\"\", \"-\")</td>\n",
       "      <td>False</td>\n",
       "      <td>action.pick_place(\"bread\", \"dish drawer\")</td>\n",
       "      <td>False</td>\n",
       "      <td>495.7</td>\n",
       "    </tr>\n",
       "    <tr>\n",
       "      <th>10</th>\n",
       "      <td>throw the coke in the bin</td>\n",
       "      <td>action.pick_place(\"coke\", \"bin\")</td>\n",
       "      <td>action.ignore()</td>\n",
       "      <td>False</td>\n",
       "      <td>action.pick_place(\"crow\", \"thorns\")</td>\n",
       "      <td>False</td>\n",
       "      <td>action.pick_place(\"coca\", \"trash can\")</td>\n",
       "      <td>False</td>\n",
       "      <td>action.ignore()</td>\n",
       "      <td>False</td>\n",
       "      <td>action.pick_place(\"coca\", \"trash can\")</td>\n",
       "      <td>False</td>\n",
       "      <td>action.pick_place(\"coke\", \"dustbin\")</td>\n",
       "      <td>False</td>\n",
       "      <td>action.pick_place(\"coke\", \"trash bin\")</td>\n",
       "      <td>False</td>\n",
       "      <td>action.pick_place(\"kakoluk\", \"trash bin\")</td>\n",
       "      <td>False</td>\n",
       "      <td>action.pick_place(\"\", \"trash can\")</td>\n",
       "      <td>False</td>\n",
       "      <td>752.1</td>\n",
       "    </tr>\n",
       "    <tr>\n",
       "      <th>11</th>\n",
       "      <td>grab the soldering iron</td>\n",
       "      <td>action.pick(\"soldering iron\")</td>\n",
       "      <td>action.pick(\"soldering iron\")</td>\n",
       "      <td>True</td>\n",
       "      <td>action.pick(\"airring\")</td>\n",
       "      <td>False</td>\n",
       "      <td>action.pick(\"screwdriver\")</td>\n",
       "      <td>False</td>\n",
       "      <td>action.pick(\"solder\")</td>\n",
       "      <td>False</td>\n",
       "      <td>action.pick(\"soldering iron\")</td>\n",
       "      <td>True</td>\n",
       "      <td>action.ignore() (no function available for \"so...</td>\n",
       "      <td>False</td>\n",
       "      <td>action.pick_place(\"seterika pemateri\", \"target...</td>\n",
       "      <td>False</td>\n",
       "      <td>action.pick(\"painelik\")</td>\n",
       "      <td>False</td>\n",
       "      <td>ignore() (as \"\" does not seem to correspond to...</td>\n",
       "      <td>False</td>\n",
       "      <td>600.5</td>\n",
       "    </tr>\n",
       "    <tr>\n",
       "      <th>12</th>\n",
       "      <td>grab the bottle</td>\n",
       "      <td>action.pick(\"bottle\")</td>\n",
       "      <td>action.pick(\"bottle\")</td>\n",
       "      <td>True</td>\n",
       "      <td>action.pick_place(\"bottle\", \"location\")</td>\n",
       "      <td>False</td>\n",
       "      <td>action.pick(\"bottle\")</td>\n",
       "      <td>True</td>\n",
       "      <td>action.pick(\"bottle\")</td>\n",
       "      <td>True</td>\n",
       "      <td>action.pick(\"bottle\")</td>\n",
       "      <td>True</td>\n",
       "      <td>action.pick_place(\"bottle pakdo\", \"target loca...</td>\n",
       "      <td>False</td>\n",
       "      <td>action.pick_place(\"bottle\")</td>\n",
       "      <td>False</td>\n",
       "      <td>action.pick(\"bottle\")</td>\n",
       "      <td>True</td>\n",
       "      <td>action.pick(\"water bottle\")</td>\n",
       "      <td>False</td>\n",
       "      <td>393.9</td>\n",
       "    </tr>\n",
       "    <tr>\n",
       "      <th>13</th>\n",
       "      <td>Pick up the fallen pencil</td>\n",
       "      <td>action.pick(\"pencil\")</td>\n",
       "      <td>action.pick(\"pencil\")</td>\n",
       "      <td>True</td>\n",
       "      <td>action.pick_place(\"plastic bag\", \"location whe...</td>\n",
       "      <td>False</td>\n",
       "      <td>action.pick(\"crayon\")</td>\n",
       "      <td>False</td>\n",
       "      <td>action.pick(\"pencil\")</td>\n",
       "      <td>True</td>\n",
       "      <td>action.pick(\"pencil\")</td>\n",
       "      <td>True</td>\n",
       "      <td>pick_pencil</td>\n",
       "      <td>False</td>\n",
       "      <td>action.pick(\"fallen pen\")</td>\n",
       "      <td>False</td>\n",
       "      <td>action.pick(\"fallen pencil\")</td>\n",
       "      <td>False</td>\n",
       "      <td>action.pick(\"lead pencil\")</td>\n",
       "      <td>False</td>\n",
       "      <td>424.4</td>\n",
       "    </tr>\n",
       "    <tr>\n",
       "      <th>14</th>\n",
       "      <td>Grab the remote and toss it on the couch</td>\n",
       "      <td>action.pick_place(\"remote\", \"couch\")</td>\n",
       "      <td>action.pick_place(\"remote\", \"couch\")</td>\n",
       "      <td>True</td>\n",
       "      <td>action.pick_place(\"rimot\", \"sofe\")</td>\n",
       "      <td>False</td>\n",
       "      <td>action.pick_place(\"television remote\", \"couch\")</td>\n",
       "      <td>False</td>\n",
       "      <td>action.pick_place(\"remote control\", \"sofa\")</td>\n",
       "      <td>False</td>\n",
       "      <td>action.pick_place(\"telecomando\", \"divano\")</td>\n",
       "      <td>False</td>\n",
       "      <td>action.pick_place(\"uthao\", \"remote\")</td>\n",
       "      <td>False</td>\n",
       "      <td>action.pick_place(\"remote\", \"sofa\")</td>\n",
       "      <td>False</td>\n",
       "      <td>action.pick_place(\"\", \"\")</td>\n",
       "      <td>False</td>\n",
       "      <td>action.pick_place(\"remote control\", \"sofa\")</td>\n",
       "      <td>False</td>\n",
       "      <td>548.0</td>\n",
       "    </tr>\n",
       "    <tr>\n",
       "      <th>15</th>\n",
       "      <td>Lift the book and lay it on the bedside table</td>\n",
       "      <td>action.pick_place(\"book\", \"bedside table\")</td>\n",
       "      <td>action.pick_place(\"book\", \"bedside table\")</td>\n",
       "      <td>True</td>\n",
       "      <td>action.pick_place(\"book\", \"bed\")</td>\n",
       "      <td>False</td>\n",
       "      <td>action.pick_place(\"book\", \"bedside table\")</td>\n",
       "      <td>True</td>\n",
       "      <td>action.pick_place(\"book\", \"nightstand\")</td>\n",
       "      <td>False</td>\n",
       "      <td>action.pick_place(\"book\", \"nightstand\")</td>\n",
       "      <td>False</td>\n",
       "      <td>action.pick_place(\"books\", \"bedside table\")</td>\n",
       "      <td>False</td>\n",
       "      <td>action.pick_place(\"book\", \"bedside table\")</td>\n",
       "      <td>True</td>\n",
       "      <td>action.pick_place(\"book\", \"bedside table\")</td>\n",
       "      <td>True</td>\n",
       "      <td>action.pick_place(\"book\", \"bedside table\")</td>\n",
       "      <td>True</td>\n",
       "      <td>481.6</td>\n",
       "    </tr>\n",
       "    <tr>\n",
       "      <th>16</th>\n",
       "      <td>Reach for the sunglasses sitting on the table.</td>\n",
       "      <td>action.pick_place(\"sunglasses\", \"table\")</td>\n",
       "      <td>action.pick_place(\"sunglasses\", \"table\")</td>\n",
       "      <td>True</td>\n",
       "      <td>action.pick_place(\"san glauza\", \"table\")</td>\n",
       "      <td>False</td>\n",
       "      <td>action.pick_place(\"sunglasses\", \"table\")</td>\n",
       "      <td>True</td>\n",
       "      <td>action.pick_place(\"sunglasses\", \"table\")</td>\n",
       "      <td>True</td>\n",
       "      <td>action.pick(\"sunglasses\")</td>\n",
       "      <td>False</td>\n",
       "      <td>action.pick_place(\"sunglasses\", \"table\")</td>\n",
       "      <td>True</td>\n",
       "      <td>action.pick_place(\"crown of black eye glasses\"...</td>\n",
       "      <td>False</td>\n",
       "      <td>action.pick_place(\"sun protection glasses\", \"t...</td>\n",
       "      <td>False</td>\n",
       "      <td>action.pick_place(\"sun glasses\", \"table\")</td>\n",
       "      <td>False</td>\n",
       "      <td>582.0</td>\n",
       "    </tr>\n",
       "    <tr>\n",
       "      <th>17</th>\n",
       "      <td>Grasp the towel and hang it on the hook</td>\n",
       "      <td>action.pick_place(\"towel\", \"hook\")</td>\n",
       "      <td>action.pick_place(\"towel\", \"hook\")</td>\n",
       "      <td>True</td>\n",
       "      <td>action.pick(\"grapes\")</td>\n",
       "      <td>False</td>\n",
       "      <td>action.pick_place(\"towel\", \"hook\")</td>\n",
       "      <td>True</td>\n",
       "      <td>action.pick_place(\"towel\", \"hook\")</td>\n",
       "      <td>True</td>\n",
       "      <td>action.pick_place(\"towel\", \"hook\")</td>\n",
       "      <td>True</td>\n",
       "      <td>action.pick_place(\"towel\", \"pakdo\")</td>\n",
       "      <td>False</td>\n",
       "      <td>action.pick_place(\"tuala\", \"penyangkut\")</td>\n",
       "      <td>False</td>\n",
       "      <td>action.pick_place(\"towel\", \"hook\")</td>\n",
       "      <td>True</td>\n",
       "      <td>action.pick_place(\"towel\", \"hook\")</td>\n",
       "      <td>True</td>\n",
       "      <td>541.6</td>\n",
       "    </tr>\n",
       "    <tr>\n",
       "      <th>18</th>\n",
       "      <td>Reach for the jacket and drape it over the chair.</td>\n",
       "      <td>action.pick_place(\"jacket\", \"chair\")</td>\n",
       "      <td>action.pick_place(\"jacket\", \"chair\")</td>\n",
       "      <td>True</td>\n",
       "      <td>action.pick_place(\"hands\", \"table\")</td>\n",
       "      <td>False</td>\n",
       "      <td>action.pick_place(\"vest\", \"chair\")</td>\n",
       "      <td>False</td>\n",
       "      <td>action.pick_place(\"jacket\", \"chair\")</td>\n",
       "      <td>True</td>\n",
       "      <td>action.pick_place(\"jacket\", \"chair\")</td>\n",
       "      <td>True</td>\n",
       "      <td>action.pick_place(\"jacket\", \"pillow\")</td>\n",
       "      <td>False</td>\n",
       "      <td>action.pick_place(\"jacket\", \"on top of the cha...</td>\n",
       "      <td>False</td>\n",
       "      <td>action.pick_place(\"jacket\", \"chair\")</td>\n",
       "      <td>True</td>\n",
       "      <td>action.pick_place(\"t-shirt\", \"chair\")</td>\n",
       "      <td>False</td>\n",
       "      <td>595.8</td>\n",
       "    </tr>\n",
       "    <tr>\n",
       "      <th>19</th>\n",
       "      <td>Would you mind fetching that book from the she...</td>\n",
       "      <td>action.pick_place(\"book\", \"coffee table\")</td>\n",
       "      <td>action.pick_place(\"book\", \"coffee table\")</td>\n",
       "      <td>True</td>\n",
       "      <td>action.pick_place(\"book\", \"shelf\")</td>\n",
       "      <td>False</td>\n",
       "      <td>action.pick_place(\"book\", \"shelf\")</td>\n",
       "      <td>False</td>\n",
       "      <td>action.pick_place(\"book\", \"center table\")</td>\n",
       "      <td>False</td>\n",
       "      <td>action.pick_place(\"that book\", \"coffee table\")</td>\n",
       "      <td>False</td>\n",
       "      <td>action.pick_place(\"book\", \"coffee table\")</td>\n",
       "      <td>True</td>\n",
       "      <td>action.pick_place(\"book\", \"coffee table\")</td>\n",
       "      <td>True</td>\n",
       "      <td>action.pick_place(\"that book\", \"bookshelf\")</td>\n",
       "      <td>False</td>\n",
       "      <td>action.pick_place(\"\", \"\")</td>\n",
       "      <td>False</td>\n",
       "      <td>663.0</td>\n",
       "    </tr>\n",
       "    <tr>\n",
       "      <th>20</th>\n",
       "      <td>Please put the dish in the dishwasher</td>\n",
       "      <td>action.pick_place(\"dish\", \"dishwasher\")</td>\n",
       "      <td>action.pick_place(\"dish\", \"dishwasher\")</td>\n",
       "      <td>True</td>\n",
       "      <td>action.pick(\"dis\")</td>\n",
       "      <td>False</td>\n",
       "      <td>action.pick_place(\"plate\", \"dishwasher\")</td>\n",
       "      <td>False</td>\n",
       "      <td>action.pick_place(\"plate\", \"dishwasher\")</td>\n",
       "      <td>False</td>\n",
       "      <td>action.ignore() (as there is no actionable fun...</td>\n",
       "      <td>False</td>\n",
       "      <td>action.pick_place(\"grapes\", \"dishwasher\")</td>\n",
       "      <td>False</td>\n",
       "      <td>action.pick_place(\"plate\", \"dishwasher\")</td>\n",
       "      <td>False</td>\n",
       "      <td>action.pick_place(\"\", \" \")</td>\n",
       "      <td>False</td>\n",
       "      <td>action.pick_place(\"plate\", \"sink\")</td>\n",
       "      <td>False</td>\n",
       "      <td>547.9</td>\n",
       "    </tr>\n",
       "    <tr>\n",
       "      <th>21</th>\n",
       "      <td>Bin the banana peel</td>\n",
       "      <td>action.pick_place(\"banana peel\", \"bin\")</td>\n",
       "      <td>action.pick_place(\"banana peel\", \"bin\")</td>\n",
       "      <td>True</td>\n",
       "      <td>action.pick_place(\"grapes\", \"hand\")</td>\n",
       "      <td>False</td>\n",
       "      <td>action.pick_place(\"banana skin\", \"trash bin\")</td>\n",
       "      <td>False</td>\n",
       "      <td>action.pick_place(\"banana peel\", \"trash can\")</td>\n",
       "      <td>False</td>\n",
       "      <td>action.pick_place(\"banana peel\", \"trash can\")</td>\n",
       "      <td>False</td>\n",
       "      <td>action.pick_place(\"grapes\", \"trash bin\")</td>\n",
       "      <td>False</td>\n",
       "      <td>action.pick_place(\"banana peel\", \"garbage bin\")</td>\n",
       "      <td>False</td>\n",
       "      <td>action.pick_place(\"bananas\", \"trash can\")</td>\n",
       "      <td>False</td>\n",
       "      <td>action.ignore() (as there is no function that ...</td>\n",
       "      <td>False</td>\n",
       "      <td>661.4</td>\n",
       "    </tr>\n",
       "  </tbody>\n",
       "</table>\n",
       "</div>"
      ],
      "text/plain": [
       "                                                 task  \\\n",
       "1                pick the ball and place on the table   \n",
       "2         pick the red ball and place in the blue box   \n",
       "3       pickup the tennis ball and place on the table   \n",
       "4                         pickup the banana and dance   \n",
       "5                             put the ball in the box   \n",
       "6                             put the bread in tiffin   \n",
       "7                     put the flower pot on the table   \n",
       "8                         keep the apple on the plate   \n",
       "9                       place the bread in the tiffin   \n",
       "10                          throw the coke in the bin   \n",
       "11                            grab the soldering iron   \n",
       "12                                    grab the bottle   \n",
       "13                          Pick up the fallen pencil   \n",
       "14           Grab the remote and toss it on the couch   \n",
       "15      Lift the book and lay it on the bedside table   \n",
       "16     Reach for the sunglasses sitting on the table.   \n",
       "17            Grasp the towel and hang it on the hook   \n",
       "18  Reach for the jacket and drape it over the chair.   \n",
       "19  Would you mind fetching that book from the she...   \n",
       "20              Please put the dish in the dishwasher   \n",
       "21                                Bin the banana peel   \n",
       "\n",
       "                                           ans  \\\n",
       "1           action.pick_place(\"ball\", \"table\")   \n",
       "2    action.pick_place(\"red ball\", \"blue box\")   \n",
       "3    action.pick_place(\"tennis ball\", \"table\")   \n",
       "4                        action.pick(\"banana\")   \n",
       "5             action.pick_place(\"ball\", \"box\")   \n",
       "6         action.pick_place(\"bread\", \"tiffin\")   \n",
       "7     action.pick_place(\"flower pot\", \"table\")   \n",
       "8          action.pick_place(\"apple\", \"plate\")   \n",
       "9         action.pick_place(\"bread\", \"tiffin\")   \n",
       "10            action.pick_place(\"coke\", \"bin\")   \n",
       "11               action.pick(\"soldering iron\")   \n",
       "12                       action.pick(\"bottle\")   \n",
       "13                       action.pick(\"pencil\")   \n",
       "14        action.pick_place(\"remote\", \"couch\")   \n",
       "15  action.pick_place(\"book\", \"bedside table\")   \n",
       "16    action.pick_place(\"sunglasses\", \"table\")   \n",
       "17          action.pick_place(\"towel\", \"hook\")   \n",
       "18        action.pick_place(\"jacket\", \"chair\")   \n",
       "19   action.pick_place(\"book\", \"coffee table\")   \n",
       "20     action.pick_place(\"dish\", \"dishwasher\")   \n",
       "21     action.pick_place(\"banana peel\", \"bin\")   \n",
       "\n",
       "                                        en_raw     en  \\\n",
       "1           action.pick_place(\"ball\", \"table\")   True   \n",
       "2    action.pick_place(\"red ball\", \"blue box\")   True   \n",
       "3    action.pick_place(\"tennis ball\", \"table\")   True   \n",
       "4                        action.pick(\"banana\")   True   \n",
       "5             action.pick_place(\"ball\", \"box\")   True   \n",
       "6         action.pick_place(\"bread\", \"tiffin\")   True   \n",
       "7     action.pick_place(\"flower pot\", \"table\")   True   \n",
       "8          action.pick_place(\"apple\", \"plate\")   True   \n",
       "9         action.pick_place(\"bread\", \"tiffin\")   True   \n",
       "10                             action.ignore()  False   \n",
       "11               action.pick(\"soldering iron\")   True   \n",
       "12                       action.pick(\"bottle\")   True   \n",
       "13                       action.pick(\"pencil\")   True   \n",
       "14        action.pick_place(\"remote\", \"couch\")   True   \n",
       "15  action.pick_place(\"book\", \"bedside table\")   True   \n",
       "16    action.pick_place(\"sunglasses\", \"table\")   True   \n",
       "17          action.pick_place(\"towel\", \"hook\")   True   \n",
       "18        action.pick_place(\"jacket\", \"chair\")   True   \n",
       "19   action.pick_place(\"book\", \"coffee table\")   True   \n",
       "20     action.pick_place(\"dish\", \"dishwasher\")   True   \n",
       "21     action.pick_place(\"banana peel\", \"bin\")   True   \n",
       "\n",
       "                                               hi_raw     hi  \\\n",
       "1                               action.pick(\"grapes\")  False   \n",
       "2   action.pick(\"red grapes\") action.pick_place(\"r...  False   \n",
       "3                action.pick_place(\"grapes\", \"table\")  False   \n",
       "4                  action.pick_place(\"kala\", \"above\")  False   \n",
       "5                  action.pick_place(\"grapes\", \"box\")  False   \n",
       "6                                 action.pick(\"brad\")  False   \n",
       "7        action.pick_place(\"flower bouquet\", \"table\")  False   \n",
       "8                      action.pick_place(\"\", \"plate\")  False   \n",
       "9                action.pick_place(\"brief\", \"folder\")  False   \n",
       "10                action.pick_place(\"crow\", \"thorns\")  False   \n",
       "11                             action.pick(\"airring\")  False   \n",
       "12            action.pick_place(\"bottle\", \"location\")  False   \n",
       "13  action.pick_place(\"plastic bag\", \"location whe...  False   \n",
       "14                 action.pick_place(\"rimot\", \"sofe\")  False   \n",
       "15                   action.pick_place(\"book\", \"bed\")  False   \n",
       "16           action.pick_place(\"san glauza\", \"table\")  False   \n",
       "17                              action.pick(\"grapes\")  False   \n",
       "18                action.pick_place(\"hands\", \"table\")  False   \n",
       "19                 action.pick_place(\"book\", \"shelf\")  False   \n",
       "20                                 action.pick(\"dis\")  False   \n",
       "21                action.pick_place(\"grapes\", \"hand\")  False   \n",
       "\n",
       "                                             fr_raw     fr  \\\n",
       "1                action.pick_place(\"ball\", \"table\")   True   \n",
       "2                           action.pick(\"red ball\")  False   \n",
       "3         action.pick_place(\"tennis ball\", \"table\")   True   \n",
       "4                             action.pick(\"banana\")   True   \n",
       "5                  action.pick_place(\"ball\", \"box\")   True   \n",
       "6              action.pick_place(\"bread\", \"tiffin\")   True   \n",
       "7      action.pick_place(\"pot of flowers\", \"table\")  False   \n",
       "8               action.pick_place(\"apple\", \"plate\")   True   \n",
       "9              action.pick_place(\"bread\", \"tiffin\")   True   \n",
       "10           action.pick_place(\"coca\", \"trash can\")  False   \n",
       "11                       action.pick(\"screwdriver\")  False   \n",
       "12                            action.pick(\"bottle\")   True   \n",
       "13                            action.pick(\"crayon\")  False   \n",
       "14  action.pick_place(\"television remote\", \"couch\")  False   \n",
       "15       action.pick_place(\"book\", \"bedside table\")   True   \n",
       "16         action.pick_place(\"sunglasses\", \"table\")   True   \n",
       "17               action.pick_place(\"towel\", \"hook\")   True   \n",
       "18               action.pick_place(\"vest\", \"chair\")  False   \n",
       "19               action.pick_place(\"book\", \"shelf\")  False   \n",
       "20         action.pick_place(\"plate\", \"dishwasher\")  False   \n",
       "21    action.pick_place(\"banana skin\", \"trash bin\")  False   \n",
       "\n",
       "                                           es_raw     es  \\\n",
       "1              action.pick_place(\"ball\", \"table\")   True   \n",
       "2       action.pick_place(\"red ball\", \"blue box\")   True   \n",
       "3       action.pick_place(\"tennis ball\", \"table\")   True   \n",
       "4                           action.pick(\"banana\")   True   \n",
       "5                action.pick_place(\"ball\", \"box\")   True   \n",
       "6           action.pick_place(\"pan\", \"dish rack\")  False   \n",
       "7             action.pick_place(\"plant\", \"table\")  False   \n",
       "8             action.pick_place(\"apple\", \"plate\")   True   \n",
       "9            action.pick_place(\"pan\", \"lunchbox\")  False   \n",
       "10                                action.ignore()  False   \n",
       "11                          action.pick(\"solder\")  False   \n",
       "12                          action.pick(\"bottle\")   True   \n",
       "13                          action.pick(\"pencil\")   True   \n",
       "14    action.pick_place(\"remote control\", \"sofa\")  False   \n",
       "15        action.pick_place(\"book\", \"nightstand\")  False   \n",
       "16       action.pick_place(\"sunglasses\", \"table\")   True   \n",
       "17             action.pick_place(\"towel\", \"hook\")   True   \n",
       "18           action.pick_place(\"jacket\", \"chair\")   True   \n",
       "19      action.pick_place(\"book\", \"center table\")  False   \n",
       "20       action.pick_place(\"plate\", \"dishwasher\")  False   \n",
       "21  action.pick_place(\"banana peel\", \"trash can\")  False   \n",
       "\n",
       "                                               it_raw     it  \\\n",
       "1                  action.pick_place(\"ball\", \"table\")   True   \n",
       "2           action.pick_place(\"red ball\", \"blue box\")   True   \n",
       "3           action.pick_place(\"tennis ball\", \"table\")   True   \n",
       "4                               action.pick(\"banana\")   True   \n",
       "5                    action.pick_place(\"ball\", \"box\")   True   \n",
       "6              action.pick_place(\"bread\", \"lunchbox\")  False   \n",
       "7        action.pick_place(\"vaso di fiori\", \"tavolo\")  False   \n",
       "8                 action.pick_place(\"apple\", \"plate\")   True   \n",
       "9              action.pick_place(\"bread\", \"lunchbox\")  False   \n",
       "10             action.pick_place(\"coca\", \"trash can\")  False   \n",
       "11                      action.pick(\"soldering iron\")   True   \n",
       "12                              action.pick(\"bottle\")   True   \n",
       "13                              action.pick(\"pencil\")   True   \n",
       "14         action.pick_place(\"telecomando\", \"divano\")  False   \n",
       "15            action.pick_place(\"book\", \"nightstand\")  False   \n",
       "16                          action.pick(\"sunglasses\")  False   \n",
       "17                 action.pick_place(\"towel\", \"hook\")   True   \n",
       "18               action.pick_place(\"jacket\", \"chair\")   True   \n",
       "19     action.pick_place(\"that book\", \"coffee table\")  False   \n",
       "20  action.ignore() (as there is no actionable fun...  False   \n",
       "21      action.pick_place(\"banana peel\", \"trash can\")  False   \n",
       "\n",
       "                                            hi-en_raw  hi-en  \\\n",
       "1                action.pick_place(\"grapes\", \"table\")  False   \n",
       "2                    action.pick_place(\"ball\", \"box\")  False   \n",
       "3                          action.pick(\"tennis ball\")  False   \n",
       "4                               action.pick(\"grapes\")  False   \n",
       "5                    action.pick_place(\"ball\", \"box\")   True   \n",
       "6                action.pick_place(\"bread\", \"tiffin\")   True   \n",
       "7            action.pick_place(\"flower pot\", \"table\")   True   \n",
       "8                action.pick_place(\"grapes\", \"plate\")  False   \n",
       "9                action.pick_place(\"bread\", \"tiffin\")   True   \n",
       "10               action.pick_place(\"coke\", \"dustbin\")  False   \n",
       "11  action.ignore() (no function available for \"so...  False   \n",
       "12  action.pick_place(\"bottle pakdo\", \"target loca...  False   \n",
       "13                                        pick_pencil  False   \n",
       "14               action.pick_place(\"uthao\", \"remote\")  False   \n",
       "15        action.pick_place(\"books\", \"bedside table\")  False   \n",
       "16           action.pick_place(\"sunglasses\", \"table\")   True   \n",
       "17                action.pick_place(\"towel\", \"pakdo\")  False   \n",
       "18              action.pick_place(\"jacket\", \"pillow\")  False   \n",
       "19          action.pick_place(\"book\", \"coffee table\")   True   \n",
       "20          action.pick_place(\"grapes\", \"dishwasher\")  False   \n",
       "21           action.pick_place(\"grapes\", \"trash bin\")  False   \n",
       "\n",
       "                                               ms_raw     ms  \\\n",
       "1                  action.pick_place(\"ball\", \"table\")   True   \n",
       "2           action.pick_place(\"red ball\", \"blue box\")   True   \n",
       "3            action.pick_place(\"tenis ball\", \"table\")  False   \n",
       "4   action.pick_place(\"bananas\", \"location where t...  False   \n",
       "5                    action.pick_place(\"ball\", \"box\")   True   \n",
       "6                 action.pick_place(\"roti\", \"tiffin\")  False   \n",
       "7         action.pick_place(\"passion fruit\", \"table\")  False   \n",
       "8   action.pick_place(\"paper\", \"on top of the table\")  False   \n",
       "9                 action.pick_place(\"roti\", \"tiffin\")  False   \n",
       "10             action.pick_place(\"coke\", \"trash bin\")  False   \n",
       "11  action.pick_place(\"seterika pemateri\", \"target...  False   \n",
       "12                        action.pick_place(\"bottle\")  False   \n",
       "13                          action.pick(\"fallen pen\")  False   \n",
       "14                action.pick_place(\"remote\", \"sofa\")  False   \n",
       "15         action.pick_place(\"book\", \"bedside table\")   True   \n",
       "16  action.pick_place(\"crown of black eye glasses\"...  False   \n",
       "17           action.pick_place(\"tuala\", \"penyangkut\")  False   \n",
       "18  action.pick_place(\"jacket\", \"on top of the cha...  False   \n",
       "19          action.pick_place(\"book\", \"coffee table\")   True   \n",
       "20           action.pick_place(\"plate\", \"dishwasher\")  False   \n",
       "21    action.pick_place(\"banana peel\", \"garbage bin\")  False   \n",
       "\n",
       "                                               ru_raw     ru  \\\n",
       "1                           action.pick_place(\"\", \"\")  False   \n",
       "2           action.pick_place(\"red ball\", \"blue box\")   True   \n",
       "3           action.pick_place(\"tennis ball\", \"table\")   True   \n",
       "4                               action.pick(\"banana\")   True   \n",
       "5                           action.pick_place(\"\", \"\")  False   \n",
       "6                          action.pick_place(\"\", \"-\")  False   \n",
       "7            action.pick_place(\"flower pot\", \"table\")   True   \n",
       "8                 action.pick_place(\"apple\", \"plate\")   True   \n",
       "9                          action.pick_place(\"\", \"-\")  False   \n",
       "10          action.pick_place(\"kakoluk\", \"trash bin\")  False   \n",
       "11                            action.pick(\"painelik\")  False   \n",
       "12                              action.pick(\"bottle\")   True   \n",
       "13                       action.pick(\"fallen pencil\")  False   \n",
       "14                          action.pick_place(\"\", \"\")  False   \n",
       "15         action.pick_place(\"book\", \"bedside table\")   True   \n",
       "16  action.pick_place(\"sun protection glasses\", \"t...  False   \n",
       "17                 action.pick_place(\"towel\", \"hook\")   True   \n",
       "18               action.pick_place(\"jacket\", \"chair\")   True   \n",
       "19        action.pick_place(\"that book\", \"bookshelf\")  False   \n",
       "20                         action.pick_place(\"\", \" \")  False   \n",
       "21          action.pick_place(\"bananas\", \"trash can\")  False   \n",
       "\n",
       "                                               cn_raw     cn  avg_inference_ms  \n",
       "1                  action.pick_place(\"ball\", \"table\")   True             551.2  \n",
       "2           action.pick_place(\"red ball\", \"blue box\")   True             531.6  \n",
       "3       action.pick_place(\"web tennis ball\", \"table\")  False             514.0  \n",
       "4                                              ignore  False             751.7  \n",
       "5                    action.pick_place(\"ball\", \"box\")   True             424.8  \n",
       "6                           action.pick_place(\"\", \"\")  False             486.4  \n",
       "7           action.pick_place(\"flower vase\", \"table\")  False             487.1  \n",
       "8                 action.pick_place(\"apple\", \"plate\")   True             438.5  \n",
       "9           action.pick_place(\"bread\", \"dish drawer\")  False             495.7  \n",
       "10                 action.pick_place(\"\", \"trash can\")  False             752.1  \n",
       "11  ignore() (as \"\" does not seem to correspond to...  False             600.5  \n",
       "12                        action.pick(\"water bottle\")  False             393.9  \n",
       "13                         action.pick(\"lead pencil\")  False             424.4  \n",
       "14        action.pick_place(\"remote control\", \"sofa\")  False             548.0  \n",
       "15         action.pick_place(\"book\", \"bedside table\")   True             481.6  \n",
       "16          action.pick_place(\"sun glasses\", \"table\")  False             582.0  \n",
       "17                 action.pick_place(\"towel\", \"hook\")   True             541.6  \n",
       "18              action.pick_place(\"t-shirt\", \"chair\")  False             595.8  \n",
       "19                          action.pick_place(\"\", \"\")  False             663.0  \n",
       "20                 action.pick_place(\"plate\", \"sink\")  False             547.9  \n",
       "21  action.ignore() (as there is no function that ...  False             661.4  "
      ]
     },
     "execution_count": 223,
     "metadata": {},
     "output_type": "execute_result"
    }
   ],
   "source": [
    "pd.set_option('display.max_columns', None)\n",
    "RESULTS_DF = pd.DataFrame(RESULTS)\n",
    "RESULTS_DF.index += 1 # to count from 1\n",
    "RESULTS_DF"
   ]
  },
  {
   "cell_type": "code",
   "execution_count": 224,
   "metadata": {},
   "outputs": [
    {
     "name": "stdout",
     "output_type": "stream",
     "text": [
      "=== RESULT ===\n",
      "en: 20/21 = 95.2%\n",
      "hi: 0/21 = 0.0%\n",
      "fr: 11/21 = 52.4%\n",
      "es: 11/21 = 52.4%\n",
      "it: 11/21 = 52.4%\n",
      "hi-en: 6/21 = 28.6%\n",
      "ms: 5/21 = 23.8%\n",
      "ru: 9/21 = 42.9%\n",
      "cn: 6/21 = 28.6%\n"
     ]
    }
   ],
   "source": [
    "correct_count = {}\n",
    "for lang in QUESTIONS[0]['qset']:\n",
    "    correct_count[lang] = 0\n",
    "\n",
    "num_of_questions = len(QUESTIONS)\n",
    "\n",
    "print('=== RESULT ===')\n",
    "for lang in correct_count:\n",
    "    if not lang in RESULTS_DF.columns:\n",
    "        continue\n",
    "\n",
    "    correct_count[lang] = RESULTS_DF[lang].sum()\n",
    "    print('%s: %d/%d = %.1f%%' % (lang, correct_count[lang], num_of_questions, (correct_count[lang]/num_of_questions)*100))\n"
   ]
  },
  {
   "cell_type": "markdown",
   "metadata": {},
   "source": [
    "### Another prompt"
   ]
  },
  {
   "cell_type": "code",
   "execution_count": 237,
   "metadata": {},
   "outputs": [],
   "source": [
    "def getPrompt2(taskQuestion: str) -> str:\n",
    "    return '''\n",
    "        <|user|>\\nYour job is to extract actions and objects from the given task and invoke the allowed functions sequentially. Answer only with action.ignore() if no appropriate function available or you don't know what to do.\n",
    "        Do not greet, comment, explain, or elaborate your thought processes. Split the task in as many as sub-actions possible. Use semicolon to seperate the function calls.\n",
    "        Always recognise task language and translate the task and the object name to English.\n",
    "        Allowed functions are: action.pick(), action.pick_place(), action.ignore()\n",
    "        \\nExample 1:\n",
    "        Task: pickup toy car and keep inside the box\n",
    "        Answer: action.pick_place(\"toy car\", \"box\")\n",
    "        \\nExample 2:\n",
    "        Task: grab the packet\n",
    "        Answer: action.pick(\"packet\")\n",
    "        \\nNow translate and answer for task: ''' + taskQuestion + '<|end|>\\n<|assistant|>'"
   ]
  },
  {
   "cell_type": "code",
   "execution_count": 240,
   "metadata": {},
   "outputs": [
    {
     "name": "stdout",
     "output_type": "stream",
     "text": [
      "--> testing en: pick the ball and place on the table\n"
     ]
    },
    {
     "name": "stderr",
     "output_type": "stream",
     "text": [
      "Llama.generate: prefix-match hit\n",
      "\n",
      "llama_print_timings:        load time =    4007.51 ms\n",
      "llama_print_timings:      sample time =       1.45 ms /    12 runs   (    0.12 ms per token,  8264.46 tokens per second)\n",
      "llama_print_timings: prompt eval time =     303.25 ms /    11 tokens (   27.57 ms per token,    36.27 tokens per second)\n",
      "llama_print_timings:        eval time =     275.88 ms /    11 runs   (   25.08 ms per token,    39.87 tokens per second)\n",
      "llama_print_timings:       total time =     602.34 ms /    22 tokens\n",
      "Llama.generate: prefix-match hit\n"
     ]
    },
    {
     "name": "stdout",
     "output_type": "stream",
     "text": [
      "--> testing hi: गेंद उठाओ और मेज़ पर रखो\n"
     ]
    },
    {
     "name": "stderr",
     "output_type": "stream",
     "text": [
      "\n",
      "llama_print_timings:        load time =    4007.51 ms\n",
      "llama_print_timings:      sample time =       2.86 ms /    21 runs   (    0.14 ms per token,  7340.09 tokens per second)\n",
      "llama_print_timings: prompt eval time =     189.50 ms /    36 tokens (    5.26 ms per token,   189.97 tokens per second)\n",
      "llama_print_timings:        eval time =     499.31 ms /    20 runs   (   24.97 ms per token,    40.06 tokens per second)\n",
      "llama_print_timings:       total time =     732.29 ms /    56 tokens\n",
      "Llama.generate: prefix-match hit\n"
     ]
    },
    {
     "name": "stdout",
     "output_type": "stream",
     "text": [
      "--> testing fr: Ramasse la balle et pose-la sur la table.\n"
     ]
    },
    {
     "name": "stderr",
     "output_type": "stream",
     "text": [
      "\n",
      "llama_print_timings:        load time =    4007.51 ms\n",
      "llama_print_timings:      sample time =       1.87 ms /    15 runs   (    0.12 ms per token,  8021.39 tokens per second)\n",
      "llama_print_timings: prompt eval time =     111.62 ms /    16 tokens (    6.98 ms per token,   143.35 tokens per second)\n",
      "llama_print_timings:        eval time =     356.21 ms /    14 runs   (   25.44 ms per token,    39.30 tokens per second)\n",
      "llama_print_timings:       total time =     495.92 ms /    30 tokens\n",
      "Llama.generate: prefix-match hit\n"
     ]
    },
    {
     "name": "stdout",
     "output_type": "stream",
     "text": [
      "--> testing es: Coge la pelota y colócala en la mesa.\n"
     ]
    },
    {
     "name": "stderr",
     "output_type": "stream",
     "text": [
      "\n",
      "llama_print_timings:        load time =    4007.51 ms\n",
      "llama_print_timings:      sample time =       1.61 ms /    12 runs   (    0.13 ms per token,  7458.05 tokens per second)\n",
      "llama_print_timings: prompt eval time =     114.70 ms /    17 tokens (    6.75 ms per token,   148.22 tokens per second)\n",
      "llama_print_timings:        eval time =     271.35 ms /    11 runs   (   24.67 ms per token,    40.54 tokens per second)\n",
      "llama_print_timings:       total time =     409.16 ms /    28 tokens\n",
      "Llama.generate: prefix-match hit\n"
     ]
    },
    {
     "name": "stdout",
     "output_type": "stream",
     "text": [
      "--> testing it: Prendi la palla e mettila sul tavolo.\n"
     ]
    },
    {
     "name": "stderr",
     "output_type": "stream",
     "text": [
      "\n",
      "llama_print_timings:        load time =    4007.51 ms\n",
      "llama_print_timings:      sample time =       2.39 ms /    18 runs   (    0.13 ms per token,  7518.80 tokens per second)\n",
      "llama_print_timings: prompt eval time =     112.41 ms /    17 tokens (    6.61 ms per token,   151.23 tokens per second)\n",
      "llama_print_timings:        eval time =     420.58 ms /    17 runs   (   24.74 ms per token,    40.42 tokens per second)\n",
      "llama_print_timings:       total time =     567.45 ms /    34 tokens\n",
      "Llama.generate: prefix-match hit\n"
     ]
    },
    {
     "name": "stdout",
     "output_type": "stream",
     "text": [
      "--> testing hi-en: gend ko uthao aur table pe rakho\n"
     ]
    },
    {
     "name": "stderr",
     "output_type": "stream",
     "text": [
      "\n",
      "llama_print_timings:        load time =    4007.51 ms\n",
      "llama_print_timings:      sample time =       3.94 ms /    20 runs   (    0.20 ms per token,  5072.28 tokens per second)\n",
      "llama_print_timings: prompt eval time =     115.37 ms /    15 tokens (    7.69 ms per token,   130.02 tokens per second)\n",
      "llama_print_timings:        eval time =     474.58 ms /    19 runs   (   24.98 ms per token,    40.04 tokens per second)\n",
      "llama_print_timings:       total time =     645.27 ms /    34 tokens\n",
      "Llama.generate: prefix-match hit\n"
     ]
    },
    {
     "name": "stdout",
     "output_type": "stream",
     "text": [
      "--> testing ms: Ambil bola dan letakkan di atas meja.\n"
     ]
    },
    {
     "name": "stderr",
     "output_type": "stream",
     "text": [
      "\n",
      "llama_print_timings:        load time =    4007.51 ms\n",
      "llama_print_timings:      sample time =       2.78 ms /    22 runs   (    0.13 ms per token,  7916.52 tokens per second)\n",
      "llama_print_timings: prompt eval time =     112.53 ms /    17 tokens (    6.62 ms per token,   151.07 tokens per second)\n",
      "llama_print_timings:        eval time =     520.76 ms /    21 runs   (   24.80 ms per token,    40.33 tokens per second)\n",
      "llama_print_timings:       total time =     674.40 ms /    38 tokens\n",
      "Llama.generate: prefix-match hit\n"
     ]
    },
    {
     "name": "stdout",
     "output_type": "stream",
     "text": [
      "--> testing ru: Возьмите мяч и положите его на стол\n"
     ]
    },
    {
     "name": "stderr",
     "output_type": "stream",
     "text": [
      "\n",
      "llama_print_timings:        load time =    4007.51 ms\n",
      "llama_print_timings:      sample time =       1.67 ms /    14 runs   (    0.12 ms per token,  8363.20 tokens per second)\n",
      "llama_print_timings: prompt eval time =     113.45 ms /    17 tokens (    6.67 ms per token,   149.84 tokens per second)\n",
      "llama_print_timings:        eval time =     325.85 ms /    13 runs   (   25.07 ms per token,    39.90 tokens per second)\n",
      "llama_print_timings:       total time =     464.62 ms /    30 tokens\n",
      "Llama.generate: prefix-match hit\n"
     ]
    },
    {
     "name": "stdout",
     "output_type": "stream",
     "text": [
      "--> testing cn: 拿起球，放到桌子上\n"
     ]
    },
    {
     "name": "stderr",
     "output_type": "stream",
     "text": [
      "\n",
      "llama_print_timings:        load time =    4007.51 ms\n",
      "llama_print_timings:      sample time =       2.93 ms /    18 runs   (    0.16 ms per token,  6149.64 tokens per second)\n",
      "llama_print_timings: prompt eval time =     112.14 ms /    17 tokens (    6.60 ms per token,   151.59 tokens per second)\n",
      "llama_print_timings:        eval time =     425.65 ms /    17 runs   (   25.04 ms per token,    39.94 tokens per second)\n",
      "llama_print_timings:       total time =     579.70 ms /    34 tokens\n",
      "Llama.generate: prefix-match hit\n"
     ]
    },
    {
     "name": "stdout",
     "output_type": "stream",
     "text": [
      "average inference: 578.3ms\n",
      "------------\n",
      "--> testing en: pick the red ball and place in the blue box\n"
     ]
    },
    {
     "name": "stderr",
     "output_type": "stream",
     "text": [
      "\n",
      "llama_print_timings:        load time =    4007.51 ms\n",
      "llama_print_timings:      sample time =       1.62 ms /    14 runs   (    0.12 ms per token,  8631.32 tokens per second)\n",
      "llama_print_timings: prompt eval time =     111.98 ms /    13 tokens (    8.61 ms per token,   116.09 tokens per second)\n",
      "llama_print_timings:        eval time =     324.60 ms /    13 runs   (   24.97 ms per token,    40.05 tokens per second)\n",
      "llama_print_timings:       total time =     461.47 ms /    26 tokens\n",
      "Llama.generate: prefix-match hit\n"
     ]
    },
    {
     "name": "stdout",
     "output_type": "stream",
     "text": [
      "--> testing hi: लाल गेंद उठाओ और नीली डिब्बे में रखो\n"
     ]
    },
    {
     "name": "stderr",
     "output_type": "stream",
     "text": [
      "\n",
      "llama_print_timings:        load time =    4007.51 ms\n",
      "llama_print_timings:      sample time =       1.95 ms /    13 runs   (    0.15 ms per token,  6670.09 tokens per second)\n",
      "llama_print_timings: prompt eval time =     192.19 ms /    48 tokens (    4.00 ms per token,   249.75 tokens per second)\n",
      "llama_print_timings:        eval time =     298.93 ms /    12 runs   (   24.91 ms per token,    40.14 tokens per second)\n",
      "llama_print_timings:       total time =     520.09 ms /    60 tokens\n",
      "Llama.generate: prefix-match hit\n"
     ]
    },
    {
     "name": "stdout",
     "output_type": "stream",
     "text": [
      "--> testing fr: Ramasse la balle rouge et mets-la dans la boîte bleue.\n"
     ]
    },
    {
     "name": "stderr",
     "output_type": "stream",
     "text": [
      "\n",
      "llama_print_timings:        load time =    4007.51 ms\n",
      "llama_print_timings:      sample time =       2.07 ms /    21 runs   (    0.10 ms per token, 10159.65 tokens per second)\n",
      "llama_print_timings: prompt eval time =     114.69 ms /    23 tokens (    4.99 ms per token,   200.54 tokens per second)\n",
      "llama_print_timings:        eval time =     495.77 ms /    20 runs   (   24.79 ms per token,    40.34 tokens per second)\n",
      "llama_print_timings:       total time =     643.23 ms /    43 tokens\n",
      "Llama.generate: prefix-match hit\n"
     ]
    },
    {
     "name": "stdout",
     "output_type": "stream",
     "text": [
      "--> testing es: Coge la pelota roja y colócala en la caja azul.\n"
     ]
    },
    {
     "name": "stderr",
     "output_type": "stream",
     "text": [
      "\n",
      "llama_print_timings:        load time =    4007.51 ms\n",
      "llama_print_timings:      sample time =       1.42 ms /    14 runs   (    0.10 ms per token,  9845.29 tokens per second)\n",
      "llama_print_timings: prompt eval time =     113.93 ms /    21 tokens (    5.43 ms per token,   184.32 tokens per second)\n",
      "llama_print_timings:        eval time =     323.80 ms /    13 runs   (   24.91 ms per token,    40.15 tokens per second)\n",
      "llama_print_timings:       total time =     460.56 ms /    34 tokens\n",
      "Llama.generate: prefix-match hit\n"
     ]
    },
    {
     "name": "stdout",
     "output_type": "stream",
     "text": [
      "--> testing it: Prendi la palla rossa e mettila nella scatola blu.\n"
     ]
    },
    {
     "name": "stderr",
     "output_type": "stream",
     "text": [
      "\n",
      "llama_print_timings:        load time =    4007.51 ms\n",
      "llama_print_timings:      sample time =       3.16 ms /    21 runs   (    0.15 ms per token,  6656.10 tokens per second)\n",
      "llama_print_timings: prompt eval time =     114.24 ms /    22 tokens (    5.19 ms per token,   192.57 tokens per second)\n",
      "llama_print_timings:        eval time =     495.97 ms /    20 runs   (   24.80 ms per token,    40.33 tokens per second)\n",
      "llama_print_timings:       total time =     656.37 ms /    42 tokens\n",
      "Llama.generate: prefix-match hit\n"
     ]
    },
    {
     "name": "stdout",
     "output_type": "stream",
     "text": [
      "--> testing hi-en: lal ball ko uthao aur neele box mein rakho\n"
     ]
    },
    {
     "name": "stderr",
     "output_type": "stream",
     "text": [
      "\n",
      "llama_print_timings:        load time =    4007.51 ms\n",
      "llama_print_timings:      sample time =       1.48 ms /    12 runs   (    0.12 ms per token,  8108.11 tokens per second)\n",
      "llama_print_timings: prompt eval time =     112.97 ms /    19 tokens (    5.95 ms per token,   168.18 tokens per second)\n",
      "llama_print_timings:        eval time =     272.94 ms /    11 runs   (   24.81 ms per token,    40.30 tokens per second)\n",
      "llama_print_timings:       total time =     412.53 ms /    30 tokens\n",
      "Llama.generate: prefix-match hit\n"
     ]
    },
    {
     "name": "stdout",
     "output_type": "stream",
     "text": [
      "--> testing ms: Ambil bola merah dan letakkan di dalam kotak biru.\n"
     ]
    },
    {
     "name": "stderr",
     "output_type": "stream",
     "text": [
      "\n",
      "llama_print_timings:        load time =    4007.51 ms\n",
      "llama_print_timings:      sample time =       1.82 ms /    14 runs   (    0.13 ms per token,  7709.25 tokens per second)\n",
      "llama_print_timings: prompt eval time =     114.43 ms /    21 tokens (    5.45 ms per token,   183.52 tokens per second)\n",
      "llama_print_timings:        eval time =     333.31 ms /    13 runs   (   25.64 ms per token,    39.00 tokens per second)\n",
      "llama_print_timings:       total time =     479.32 ms /    34 tokens\n",
      "Llama.generate: prefix-match hit\n"
     ]
    },
    {
     "name": "stdout",
     "output_type": "stream",
     "text": [
      "--> testing ru: Возьмите красный мяч и положите его в синюю коробку\n"
     ]
    },
    {
     "name": "stderr",
     "output_type": "stream",
     "text": [
      "\n",
      "llama_print_timings:        load time =    4007.51 ms\n",
      "llama_print_timings:      sample time =       1.77 ms /    14 runs   (    0.13 ms per token,  7914.08 tokens per second)\n",
      "llama_print_timings: prompt eval time =     117.99 ms /    24 tokens (    4.92 ms per token,   203.41 tokens per second)\n",
      "llama_print_timings:        eval time =     326.45 ms /    13 runs   (   25.11 ms per token,    39.82 tokens per second)\n",
      "llama_print_timings:       total time =     477.06 ms /    37 tokens\n",
      "Llama.generate: prefix-match hit\n"
     ]
    },
    {
     "name": "stdout",
     "output_type": "stream",
     "text": [
      "--> testing cn: 拿起红色的球，放到蓝色的盒子里\n"
     ]
    },
    {
     "name": "stderr",
     "output_type": "stream",
     "text": [
      "\n",
      "llama_print_timings:        load time =    4007.51 ms\n",
      "llama_print_timings:      sample time =       2.31 ms /    21 runs   (    0.11 ms per token,  9086.98 tokens per second)\n",
      "llama_print_timings: prompt eval time =     116.38 ms /    25 tokens (    4.66 ms per token,   214.82 tokens per second)\n",
      "llama_print_timings:        eval time =     497.22 ms /    20 runs   (   24.86 ms per token,    40.22 tokens per second)\n",
      "llama_print_timings:       total time =     653.09 ms /    45 tokens\n",
      "Llama.generate: prefix-match hit\n"
     ]
    },
    {
     "name": "stdout",
     "output_type": "stream",
     "text": [
      "average inference: 534.6ms\n",
      "------------\n",
      "--> testing en: pickup the tennis ball and place on the table\n"
     ]
    },
    {
     "name": "stderr",
     "output_type": "stream",
     "text": [
      "\n",
      "llama_print_timings:        load time =    4007.51 ms\n",
      "llama_print_timings:      sample time =       1.75 ms /    14 runs   (    0.12 ms per token,  8009.15 tokens per second)\n",
      "llama_print_timings: prompt eval time =     111.47 ms /    13 tokens (    8.57 ms per token,   116.62 tokens per second)\n",
      "llama_print_timings:        eval time =     320.85 ms /    13 runs   (   24.68 ms per token,    40.52 tokens per second)\n",
      "llama_print_timings:       total time =     459.55 ms /    26 tokens\n",
      "Llama.generate: prefix-match hit\n"
     ]
    },
    {
     "name": "stdout",
     "output_type": "stream",
     "text": [
      "--> testing hi: टेनिस गेंद उठाओ और मेज़ पर रखो\n"
     ]
    },
    {
     "name": "stderr",
     "output_type": "stream",
     "text": [
      "\n",
      "llama_print_timings:        load time =    4007.51 ms\n",
      "llama_print_timings:      sample time =       4.15 ms /    39 runs   (    0.11 ms per token,  9395.33 tokens per second)\n",
      "llama_print_timings: prompt eval time =     192.25 ms /    42 tokens (    4.58 ms per token,   218.46 tokens per second)\n",
      "llama_print_timings:        eval time =     944.55 ms /    38 runs   (   24.86 ms per token,    40.23 tokens per second)\n",
      "llama_print_timings:       total time =    1200.66 ms /    80 tokens\n",
      "Llama.generate: prefix-match hit\n"
     ]
    },
    {
     "name": "stdout",
     "output_type": "stream",
     "text": [
      "--> testing fr: Ramasse la balle de tennis et pose-la sur la table.\n"
     ]
    },
    {
     "name": "stderr",
     "output_type": "stream",
     "text": [
      "\n",
      "llama_print_timings:        load time =    4007.51 ms\n",
      "llama_print_timings:      sample time =       4.58 ms /    14 runs   (    0.33 ms per token,  3058.10 tokens per second)\n",
      "llama_print_timings: prompt eval time =     113.45 ms /    18 tokens (    6.30 ms per token,   158.67 tokens per second)\n",
      "llama_print_timings:        eval time =     335.64 ms /    13 runs   (   25.82 ms per token,    38.73 tokens per second)\n",
      "llama_print_timings:       total time =     513.93 ms /    31 tokens\n",
      "Llama.generate: prefix-match hit\n"
     ]
    },
    {
     "name": "stdout",
     "output_type": "stream",
     "text": [
      "--> testing es: Recoge la pelota de tenis y colócala en la mesa.\n"
     ]
    },
    {
     "name": "stderr",
     "output_type": "stream",
     "text": [
      "\n",
      "llama_print_timings:        load time =    4007.51 ms\n",
      "llama_print_timings:      sample time =       3.10 ms /    14 runs   (    0.22 ms per token,  4520.50 tokens per second)\n",
      "llama_print_timings: prompt eval time =     115.78 ms /    20 tokens (    5.79 ms per token,   172.75 tokens per second)\n",
      "llama_print_timings:        eval time =     333.75 ms /    13 runs   (   25.67 ms per token,    38.95 tokens per second)\n",
      "llama_print_timings:       total time =     500.07 ms /    33 tokens\n",
      "Llama.generate: prefix-match hit\n"
     ]
    },
    {
     "name": "stdout",
     "output_type": "stream",
     "text": [
      "--> testing it: Raccogli la palla da tennis e mettila sul tavolo.\n"
     ]
    },
    {
     "name": "stderr",
     "output_type": "stream",
     "text": [
      "\n",
      "llama_print_timings:        load time =    4007.51 ms\n",
      "llama_print_timings:      sample time =       2.18 ms /    22 runs   (    0.10 ms per token, 10110.29 tokens per second)\n",
      "llama_print_timings: prompt eval time =     113.94 ms /    20 tokens (    5.70 ms per token,   175.54 tokens per second)\n",
      "llama_print_timings:        eval time =     520.05 ms /    21 runs   (   24.76 ms per token,    40.38 tokens per second)\n",
      "llama_print_timings:       total time =     667.03 ms /    41 tokens\n",
      "Llama.generate: prefix-match hit\n"
     ]
    },
    {
     "name": "stdout",
     "output_type": "stream",
     "text": [
      "--> testing hi-en: tennis ball pick karo and table pe rakho\n"
     ]
    },
    {
     "name": "stderr",
     "output_type": "stream",
     "text": [
      "\n",
      "llama_print_timings:        load time =    4007.51 ms\n",
      "llama_print_timings:      sample time =       2.67 ms /    26 runs   (    0.10 ms per token,  9752.44 tokens per second)\n",
      "llama_print_timings: prompt eval time =     112.12 ms /    14 tokens (    8.01 ms per token,   124.87 tokens per second)\n",
      "llama_print_timings:        eval time =     617.10 ms /    25 runs   (   24.68 ms per token,    40.51 tokens per second)\n",
      "llama_print_timings:       total time =     767.84 ms /    39 tokens\n",
      "Llama.generate: prefix-match hit\n"
     ]
    },
    {
     "name": "stdout",
     "output_type": "stream",
     "text": [
      "--> testing ms: Ambil bola tenis dan letakkan di atas meja.\n"
     ]
    },
    {
     "name": "stderr",
     "output_type": "stream",
     "text": [
      "\n",
      "llama_print_timings:        load time =    4007.51 ms\n",
      "llama_print_timings:      sample time =       1.51 ms /    14 runs   (    0.11 ms per token,  9247.03 tokens per second)\n",
      "llama_print_timings: prompt eval time =     114.21 ms /    19 tokens (    6.01 ms per token,   166.36 tokens per second)\n",
      "llama_print_timings:        eval time =     322.58 ms /    13 runs   (   24.81 ms per token,    40.30 tokens per second)\n",
      "llama_print_timings:       total time =     462.87 ms /    32 tokens\n",
      "Llama.generate: prefix-match hit\n"
     ]
    },
    {
     "name": "stdout",
     "output_type": "stream",
     "text": [
      "--> testing ru: Поднимите теннисный мяч и положите его на стол\n"
     ]
    },
    {
     "name": "stderr",
     "output_type": "stream",
     "text": [
      "\n",
      "llama_print_timings:        load time =    4007.51 ms\n",
      "llama_print_timings:      sample time =       1.47 ms /    14 runs   (    0.10 ms per token,  9556.31 tokens per second)\n",
      "llama_print_timings: prompt eval time =     114.15 ms /    21 tokens (    5.44 ms per token,   183.97 tokens per second)\n",
      "llama_print_timings:        eval time =     322.55 ms /    13 runs   (   24.81 ms per token,    40.30 tokens per second)\n",
      "llama_print_timings:       total time =     461.62 ms /    34 tokens\n",
      "Llama.generate: prefix-match hit\n"
     ]
    },
    {
     "name": "stdout",
     "output_type": "stream",
     "text": [
      "--> testing cn: 捡起网球，放到桌子上\n"
     ]
    },
    {
     "name": "stderr",
     "output_type": "stream",
     "text": [
      "\n",
      "llama_print_timings:        load time =    4007.51 ms\n",
      "llama_print_timings:      sample time =       1.50 ms /    14 runs   (    0.11 ms per token,  9320.91 tokens per second)\n",
      "llama_print_timings: prompt eval time =     112.72 ms /    18 tokens (    6.26 ms per token,   159.69 tokens per second)\n",
      "llama_print_timings:        eval time =     321.93 ms /    13 runs   (   24.76 ms per token,    40.38 tokens per second)\n",
      "llama_print_timings:       total time =     456.12 ms /    31 tokens\n",
      "Llama.generate: prefix-match hit\n"
     ]
    },
    {
     "name": "stdout",
     "output_type": "stream",
     "text": [
      "average inference: 613.9ms\n",
      "------------\n",
      "--> testing en: pickup the banana and dance\n"
     ]
    },
    {
     "name": "stderr",
     "output_type": "stream",
     "text": [
      "\n",
      "llama_print_timings:        load time =    4007.51 ms\n",
      "llama_print_timings:      sample time =       2.42 ms /    14 runs   (    0.17 ms per token,  5789.91 tokens per second)\n",
      "llama_print_timings: prompt eval time =     112.68 ms /    10 tokens (   11.27 ms per token,    88.75 tokens per second)\n",
      "llama_print_timings:        eval time =     325.09 ms /    13 runs   (   25.01 ms per token,    39.99 tokens per second)\n",
      "llama_print_timings:       total time =     470.63 ms /    23 tokens\n",
      "Llama.generate: prefix-match hit\n"
     ]
    },
    {
     "name": "stdout",
     "output_type": "stream",
     "text": [
      "--> testing hi: केला उठाओ और नाचो\n"
     ]
    },
    {
     "name": "stderr",
     "output_type": "stream",
     "text": [
      "\n",
      "llama_print_timings:        load time =    4007.51 ms\n",
      "llama_print_timings:      sample time =       3.14 ms /    26 runs   (    0.12 ms per token,  8277.62 tokens per second)\n",
      "llama_print_timings: prompt eval time =     119.16 ms /    29 tokens (    4.11 ms per token,   243.37 tokens per second)\n",
      "llama_print_timings:        eval time =     624.80 ms /    25 runs   (   24.99 ms per token,    40.01 tokens per second)\n",
      "llama_print_timings:       total time =     790.84 ms /    54 tokens\n",
      "Llama.generate: prefix-match hit\n"
     ]
    },
    {
     "name": "stdout",
     "output_type": "stream",
     "text": [
      "--> testing fr: Ramasse la banane et danse.\n"
     ]
    },
    {
     "name": "stderr",
     "output_type": "stream",
     "text": [
      "\n",
      "llama_print_timings:        load time =    4007.51 ms\n",
      "llama_print_timings:      sample time =       1.49 ms /    13 runs   (    0.11 ms per token,  8713.14 tokens per second)\n",
      "llama_print_timings: prompt eval time =     116.94 ms /    12 tokens (    9.74 ms per token,   102.62 tokens per second)\n",
      "llama_print_timings:        eval time =     296.87 ms /    12 runs   (   24.74 ms per token,    40.42 tokens per second)\n",
      "llama_print_timings:       total time =     435.02 ms /    24 tokens\n",
      "Llama.generate: prefix-match hit\n"
     ]
    },
    {
     "name": "stdout",
     "output_type": "stream",
     "text": [
      "--> testing es: Recoge el plátano y baila.\n"
     ]
    },
    {
     "name": "stderr",
     "output_type": "stream",
     "text": [
      "\n",
      "llama_print_timings:        load time =    4007.51 ms\n",
      "llama_print_timings:      sample time =       1.50 ms /    13 runs   (    0.12 ms per token,  8678.24 tokens per second)\n",
      "llama_print_timings: prompt eval time =     113.33 ms /    14 tokens (    8.10 ms per token,   123.53 tokens per second)\n",
      "llama_print_timings:        eval time =     296.06 ms /    12 runs   (   24.67 ms per token,    40.53 tokens per second)\n",
      "llama_print_timings:       total time =     430.24 ms /    26 tokens\n",
      "Llama.generate: prefix-match hit\n"
     ]
    },
    {
     "name": "stdout",
     "output_type": "stream",
     "text": [
      "--> testing it: Raccogli la banana e balla.\n"
     ]
    },
    {
     "name": "stderr",
     "output_type": "stream",
     "text": [
      "\n",
      "llama_print_timings:        load time =    4007.51 ms\n",
      "llama_print_timings:      sample time =       1.79 ms /    13 runs   (    0.14 ms per token,  7274.76 tokens per second)\n",
      "llama_print_timings: prompt eval time =     111.99 ms /    13 tokens (    8.61 ms per token,   116.08 tokens per second)\n",
      "llama_print_timings:        eval time =     298.03 ms /    12 runs   (   24.84 ms per token,    40.26 tokens per second)\n",
      "llama_print_timings:       total time =     435.26 ms /    25 tokens\n",
      "Llama.generate: prefix-match hit\n"
     ]
    },
    {
     "name": "stdout",
     "output_type": "stream",
     "text": [
      "--> testing hi-en: kela pick karo and dance karo\n"
     ]
    },
    {
     "name": "stderr",
     "output_type": "stream",
     "text": [
      "\n",
      "llama_print_timings:        load time =    4007.51 ms\n",
      "llama_print_timings:      sample time =       1.52 ms /    16 runs   (    0.09 ms per token, 10540.18 tokens per second)\n",
      "llama_print_timings: prompt eval time =     111.95 ms /    12 tokens (    9.33 ms per token,   107.19 tokens per second)\n",
      "llama_print_timings:        eval time =     370.14 ms /    15 runs   (   24.68 ms per token,    40.53 tokens per second)\n",
      "llama_print_timings:       total time =     504.88 ms /    27 tokens\n",
      "Llama.generate: prefix-match hit\n"
     ]
    },
    {
     "name": "stdout",
     "output_type": "stream",
     "text": [
      "--> testing ms: Ambil pisang dan menari.\n"
     ]
    },
    {
     "name": "stderr",
     "output_type": "stream",
     "text": [
      "\n",
      "llama_print_timings:        load time =    4007.51 ms\n",
      "llama_print_timings:      sample time =       1.15 ms /    12 runs   (    0.10 ms per token, 10407.63 tokens per second)\n",
      "llama_print_timings: prompt eval time =     112.29 ms /    11 tokens (   10.21 ms per token,    97.96 tokens per second)\n",
      "llama_print_timings:        eval time =     272.80 ms /    11 runs   (   24.80 ms per token,    40.32 tokens per second)\n",
      "llama_print_timings:       total time =     401.38 ms /    22 tokens\n",
      "Llama.generate: prefix-match hit\n"
     ]
    },
    {
     "name": "stdout",
     "output_type": "stream",
     "text": [
      "--> testing ru: Возьмите банан и потанцуйте\n"
     ]
    },
    {
     "name": "stderr",
     "output_type": "stream",
     "text": [
      "\n",
      "llama_print_timings:        load time =    4007.51 ms\n",
      "llama_print_timings:      sample time =       1.55 ms /    15 runs   (    0.10 ms per token,  9696.19 tokens per second)\n",
      "llama_print_timings: prompt eval time =     113.31 ms /    15 tokens (    7.55 ms per token,   132.38 tokens per second)\n",
      "llama_print_timings:        eval time =     346.22 ms /    14 runs   (   24.73 ms per token,    40.44 tokens per second)\n",
      "llama_print_timings:       total time =     480.00 ms /    29 tokens\n",
      "Llama.generate: prefix-match hit\n"
     ]
    },
    {
     "name": "stdout",
     "output_type": "stream",
     "text": [
      "--> testing cn: 拿起香蕉，然后跳舞\n"
     ]
    },
    {
     "name": "stderr",
     "output_type": "stream",
     "text": [
      "\n",
      "llama_print_timings:        load time =    4007.51 ms\n",
      "llama_print_timings:      sample time =       2.97 ms /    29 runs   (    0.10 ms per token,  9774.18 tokens per second)\n",
      "llama_print_timings: prompt eval time =     114.98 ms /    19 tokens (    6.05 ms per token,   165.25 tokens per second)\n",
      "llama_print_timings:        eval time =     699.57 ms /    28 runs   (   24.98 ms per token,    40.02 tokens per second)\n",
      "llama_print_timings:       total time =     860.37 ms /    47 tokens\n",
      "Llama.generate: prefix-match hit\n"
     ]
    },
    {
     "name": "stdout",
     "output_type": "stream",
     "text": [
      "average inference: 537.5ms\n",
      "------------\n",
      "--> testing en: put the ball in the box\n"
     ]
    },
    {
     "name": "stderr",
     "output_type": "stream",
     "text": [
      "\n",
      "llama_print_timings:        load time =    4007.51 ms\n",
      "llama_print_timings:      sample time =       1.12 ms /    12 runs   (    0.09 ms per token, 10743.06 tokens per second)\n",
      "llama_print_timings: prompt eval time =     111.38 ms /     9 tokens (   12.38 ms per token,    80.80 tokens per second)\n",
      "llama_print_timings:        eval time =     271.18 ms /    11 runs   (   24.65 ms per token,    40.56 tokens per second)\n",
      "llama_print_timings:       total time =     399.72 ms /    20 tokens\n",
      "Llama.generate: prefix-match hit\n"
     ]
    },
    {
     "name": "stdout",
     "output_type": "stream",
     "text": [
      "--> testing hi: गेंद को डिब्बे में रखो\n"
     ]
    },
    {
     "name": "stderr",
     "output_type": "stream",
     "text": [
      "\n",
      "llama_print_timings:        load time =    4007.51 ms\n",
      "llama_print_timings:      sample time =       1.20 ms /    12 runs   (    0.10 ms per token,  9991.67 tokens per second)\n",
      "llama_print_timings: prompt eval time =     115.79 ms /    26 tokens (    4.45 ms per token,   224.54 tokens per second)\n",
      "llama_print_timings:        eval time =     273.44 ms /    11 runs   (   24.86 ms per token,    40.23 tokens per second)\n",
      "llama_print_timings:       total time =     406.31 ms /    37 tokens\n",
      "Llama.generate: prefix-match hit\n"
     ]
    },
    {
     "name": "stdout",
     "output_type": "stream",
     "text": [
      "--> testing fr:  Mets la balle dans la boîte.\n"
     ]
    },
    {
     "name": "stderr",
     "output_type": "stream",
     "text": [
      "\n",
      "llama_print_timings:        load time =    4007.51 ms\n",
      "llama_print_timings:      sample time =       1.19 ms /    12 runs   (    0.10 ms per token, 10084.03 tokens per second)\n",
      "llama_print_timings: prompt eval time =     112.31 ms /    14 tokens (    8.02 ms per token,   124.66 tokens per second)\n",
      "llama_print_timings:        eval time =     270.55 ms /    11 runs   (   24.60 ms per token,    40.66 tokens per second)\n",
      "llama_print_timings:       total time =     399.50 ms /    25 tokens\n",
      "Llama.generate: prefix-match hit\n"
     ]
    },
    {
     "name": "stdout",
     "output_type": "stream",
     "text": [
      "--> testing es: Pon la pelota en la caja.\n"
     ]
    },
    {
     "name": "stderr",
     "output_type": "stream",
     "text": [
      "\n",
      "llama_print_timings:        load time =    4007.51 ms\n",
      "llama_print_timings:      sample time =       1.35 ms /    14 runs   (    0.10 ms per token, 10355.03 tokens per second)\n",
      "llama_print_timings: prompt eval time =     112.24 ms /    12 tokens (    9.35 ms per token,   106.91 tokens per second)\n",
      "llama_print_timings:        eval time =     322.01 ms /    13 runs   (   24.77 ms per token,    40.37 tokens per second)\n",
      "llama_print_timings:       total time =     453.17 ms /    25 tokens\n",
      "Llama.generate: prefix-match hit\n"
     ]
    },
    {
     "name": "stdout",
     "output_type": "stream",
     "text": [
      "--> testing it: Metti la palla nella scatola.\n"
     ]
    },
    {
     "name": "stderr",
     "output_type": "stream",
     "text": [
      "\n",
      "llama_print_timings:        load time =    4007.51 ms\n",
      "llama_print_timings:      sample time =       1.17 ms /    12 runs   (    0.10 ms per token, 10273.97 tokens per second)\n",
      "llama_print_timings: prompt eval time =     111.46 ms /    13 tokens (    8.57 ms per token,   116.63 tokens per second)\n",
      "llama_print_timings:        eval time =     271.06 ms /    11 runs   (   24.64 ms per token,    40.58 tokens per second)\n",
      "llama_print_timings:       total time =     399.53 ms /    24 tokens\n",
      "Llama.generate: prefix-match hit\n"
     ]
    },
    {
     "name": "stdout",
     "output_type": "stream",
     "text": [
      "--> testing hi-en: ball box mein rakho\n"
     ]
    },
    {
     "name": "stderr",
     "output_type": "stream",
     "text": [
      "\n",
      "llama_print_timings:        load time =    4007.51 ms\n",
      "llama_print_timings:      sample time =       1.75 ms /    18 runs   (    0.10 ms per token, 10291.60 tokens per second)\n",
      "llama_print_timings: prompt eval time =     110.70 ms /    10 tokens (   11.07 ms per token,    90.33 tokens per second)\n",
      "llama_print_timings:        eval time =     420.29 ms /    17 runs   (   24.72 ms per token,    40.45 tokens per second)\n",
      "llama_print_timings:       total time =     556.42 ms /    27 tokens\n",
      "Llama.generate: prefix-match hit\n"
     ]
    },
    {
     "name": "stdout",
     "output_type": "stream",
     "text": [
      "--> testing ms: Masukkan bola ke dalam kotak.\n"
     ]
    },
    {
     "name": "stderr",
     "output_type": "stream",
     "text": [
      "\n",
      "llama_print_timings:        load time =    4007.51 ms\n",
      "llama_print_timings:      sample time =       1.22 ms /    12 runs   (    0.10 ms per token,  9828.01 tokens per second)\n",
      "llama_print_timings: prompt eval time =     112.86 ms /    14 tokens (    8.06 ms per token,   124.05 tokens per second)\n",
      "llama_print_timings:        eval time =     271.14 ms /    11 runs   (   24.65 ms per token,    40.57 tokens per second)\n",
      "llama_print_timings:       total time =     401.59 ms /    25 tokens\n",
      "Llama.generate: prefix-match hit\n"
     ]
    },
    {
     "name": "stdout",
     "output_type": "stream",
     "text": [
      "--> testing ru: Положите мяч в коробку\n"
     ]
    },
    {
     "name": "stderr",
     "output_type": "stream",
     "text": [
      "\n",
      "llama_print_timings:        load time =    4007.51 ms\n",
      "llama_print_timings:      sample time =       1.73 ms /    15 runs   (    0.12 ms per token,  8690.61 tokens per second)\n",
      "llama_print_timings: prompt eval time =     112.56 ms /    13 tokens (    8.66 ms per token,   115.50 tokens per second)\n",
      "llama_print_timings:        eval time =     351.55 ms /    14 runs   (   25.11 ms per token,    39.82 tokens per second)\n",
      "llama_print_timings:       total time =     490.72 ms /    27 tokens\n",
      "Llama.generate: prefix-match hit\n"
     ]
    },
    {
     "name": "stdout",
     "output_type": "stream",
     "text": [
      "--> testing cn: 把球放到盒子里\n"
     ]
    },
    {
     "name": "stderr",
     "output_type": "stream",
     "text": [
      "\n",
      "llama_print_timings:        load time =    4007.51 ms\n",
      "llama_print_timings:      sample time =       1.18 ms /    12 runs   (    0.10 ms per token, 10212.77 tokens per second)\n",
      "llama_print_timings: prompt eval time =     112.33 ms /    15 tokens (    7.49 ms per token,   133.54 tokens per second)\n",
      "llama_print_timings:        eval time =     271.63 ms /    11 runs   (   24.69 ms per token,    40.50 tokens per second)\n",
      "llama_print_timings:       total time =     401.36 ms /    26 tokens\n",
      "Llama.generate: prefix-match hit\n"
     ]
    },
    {
     "name": "stdout",
     "output_type": "stream",
     "text": [
      "average inference: 437.0ms\n",
      "------------\n",
      "--> testing en: put the bread in tiffin\n"
     ]
    },
    {
     "name": "stderr",
     "output_type": "stream",
     "text": [
      "\n",
      "llama_print_timings:        load time =    4007.51 ms\n",
      "llama_print_timings:      sample time =       1.42 ms /    15 runs   (    0.09 ms per token, 10533.71 tokens per second)\n",
      "llama_print_timings: prompt eval time =     111.16 ms /    10 tokens (   11.12 ms per token,    89.96 tokens per second)\n",
      "llama_print_timings:        eval time =     345.18 ms /    14 runs   (   24.66 ms per token,    40.56 tokens per second)\n",
      "llama_print_timings:       total time =     477.68 ms /    24 tokens\n",
      "Llama.generate: prefix-match hit\n"
     ]
    },
    {
     "name": "stdout",
     "output_type": "stream",
     "text": [
      "--> testing hi: टिफिन में ब्रेड डालो\n"
     ]
    },
    {
     "name": "stderr",
     "output_type": "stream",
     "text": [
      "\n",
      "llama_print_timings:        load time =    4007.51 ms\n",
      "llama_print_timings:      sample time =       1.33 ms /    14 runs   (    0.10 ms per token, 10486.89 tokens per second)\n",
      "llama_print_timings: prompt eval time =     115.99 ms /    26 tokens (    4.46 ms per token,   224.16 tokens per second)\n",
      "llama_print_timings:        eval time =     323.47 ms /    13 runs   (   24.88 ms per token,    40.19 tokens per second)\n",
      "llama_print_timings:       total time =     458.59 ms /    39 tokens\n",
      "Llama.generate: prefix-match hit\n"
     ]
    },
    {
     "name": "stdout",
     "output_type": "stream",
     "text": [
      "--> testing fr:  Mets le pain dans le tiffin.\n"
     ]
    },
    {
     "name": "stderr",
     "output_type": "stream",
     "text": [
      "\n",
      "llama_print_timings:        load time =    4007.51 ms\n",
      "llama_print_timings:      sample time =       1.44 ms /    15 runs   (    0.10 ms per token, 10445.68 tokens per second)\n",
      "llama_print_timings: prompt eval time =     112.56 ms /    13 tokens (    8.66 ms per token,   115.50 tokens per second)\n",
      "llama_print_timings:        eval time =     346.22 ms /    14 runs   (   24.73 ms per token,    40.44 tokens per second)\n",
      "llama_print_timings:       total time =     479.89 ms /    27 tokens\n",
      "Llama.generate: prefix-match hit\n"
     ]
    },
    {
     "name": "stdout",
     "output_type": "stream",
     "text": [
      "--> testing es: Pon el pan en la fiambrera.\n"
     ]
    },
    {
     "name": "stderr",
     "output_type": "stream",
     "text": [
      "\n",
      "llama_print_timings:        load time =    4007.51 ms\n",
      "llama_print_timings:      sample time =       1.43 ms /    14 runs   (    0.10 ms per token,  9810.79 tokens per second)\n",
      "llama_print_timings: prompt eval time =     112.35 ms /    12 tokens (    9.36 ms per token,   106.81 tokens per second)\n",
      "llama_print_timings:        eval time =     320.78 ms /    13 runs   (   24.68 ms per token,    40.53 tokens per second)\n",
      "llama_print_timings:       total time =     454.14 ms /    25 tokens\n",
      "Llama.generate: prefix-match hit\n"
     ]
    },
    {
     "name": "stdout",
     "output_type": "stream",
     "text": [
      "--> testing it: Metti il pane nella scatola del pranzo.\n"
     ]
    },
    {
     "name": "stderr",
     "output_type": "stream",
     "text": [
      "\n",
      "llama_print_timings:        load time =    4007.51 ms\n",
      "llama_print_timings:      sample time =       1.50 ms /    14 runs   (    0.11 ms per token,  9352.04 tokens per second)\n",
      "llama_print_timings: prompt eval time =     112.64 ms /    17 tokens (    6.63 ms per token,   150.92 tokens per second)\n",
      "llama_print_timings:        eval time =     323.34 ms /    13 runs   (   24.87 ms per token,    40.21 tokens per second)\n",
      "llama_print_timings:       total time =     460.03 ms /    30 tokens\n",
      "Llama.generate: prefix-match hit\n"
     ]
    },
    {
     "name": "stdout",
     "output_type": "stream",
     "text": [
      "--> testing hi-en: bread ko tiffin mein rakho\n"
     ]
    },
    {
     "name": "stderr",
     "output_type": "stream",
     "text": [
      "\n",
      "llama_print_timings:        load time =    4007.51 ms\n",
      "llama_print_timings:      sample time =       2.14 ms /    22 runs   (    0.10 ms per token, 10285.18 tokens per second)\n",
      "llama_print_timings: prompt eval time =     111.77 ms /    13 tokens (    8.60 ms per token,   116.31 tokens per second)\n",
      "llama_print_timings:        eval time =     518.92 ms /    21 runs   (   24.71 ms per token,    40.47 tokens per second)\n",
      "llama_print_timings:       total time =     660.95 ms /    34 tokens\n",
      "Llama.generate: prefix-match hit\n"
     ]
    },
    {
     "name": "stdout",
     "output_type": "stream",
     "text": [
      "--> testing ms: Masukkan roti ke dalam tiffin.\n"
     ]
    },
    {
     "name": "stderr",
     "output_type": "stream",
     "text": [
      "\n",
      "llama_print_timings:        load time =    4007.51 ms\n",
      "llama_print_timings:      sample time =       1.92 ms /    15 runs   (    0.13 ms per token,  7796.26 tokens per second)\n",
      "llama_print_timings: prompt eval time =     112.39 ms /    15 tokens (    7.49 ms per token,   133.47 tokens per second)\n",
      "llama_print_timings:        eval time =     347.28 ms /    14 runs   (   24.81 ms per token,    40.31 tokens per second)\n",
      "llama_print_timings:       total time =     485.84 ms /    29 tokens\n",
      "Llama.generate: prefix-match hit\n"
     ]
    },
    {
     "name": "stdout",
     "output_type": "stream",
     "text": [
      "--> testing ru: Положите хлеб в ланч-бокс\n"
     ]
    },
    {
     "name": "stderr",
     "output_type": "stream",
     "text": [
      "\n",
      "llama_print_timings:        load time =    4007.51 ms\n",
      "llama_print_timings:      sample time =       1.42 ms /    15 runs   (    0.09 ms per token, 10600.71 tokens per second)\n",
      "llama_print_timings: prompt eval time =     114.48 ms /    17 tokens (    6.73 ms per token,   148.49 tokens per second)\n",
      "llama_print_timings:        eval time =     345.97 ms /    14 runs   (   24.71 ms per token,    40.47 tokens per second)\n",
      "llama_print_timings:       total time =     482.06 ms /    31 tokens\n",
      "Llama.generate: prefix-match hit\n"
     ]
    },
    {
     "name": "stdout",
     "output_type": "stream",
     "text": [
      "--> testing cn: 把面包放到饭盒里\n"
     ]
    },
    {
     "name": "stderr",
     "output_type": "stream",
     "text": [
      "\n",
      "llama_print_timings:        load time =    4007.51 ms\n",
      "llama_print_timings:      sample time =       1.74 ms /    18 runs   (    0.10 ms per token, 10356.73 tokens per second)\n",
      "llama_print_timings: prompt eval time =     114.55 ms /    18 tokens (    6.36 ms per token,   157.13 tokens per second)\n",
      "llama_print_timings:        eval time =     419.66 ms /    17 runs   (   24.69 ms per token,    40.51 tokens per second)\n",
      "llama_print_timings:       total time =     559.67 ms /    35 tokens\n",
      "Llama.generate: prefix-match hit\n"
     ]
    },
    {
     "name": "stdout",
     "output_type": "stream",
     "text": [
      "average inference: 504.9ms\n",
      "------------\n",
      "--> testing en: put the flower pot on the table\n"
     ]
    },
    {
     "name": "stderr",
     "output_type": "stream",
     "text": [
      "\n",
      "llama_print_timings:        load time =    4007.51 ms\n",
      "llama_print_timings:      sample time =       1.29 ms /    14 runs   (    0.09 ms per token, 10810.81 tokens per second)\n",
      "llama_print_timings: prompt eval time =     110.93 ms /    10 tokens (   11.09 ms per token,    90.15 tokens per second)\n",
      "llama_print_timings:        eval time =     321.48 ms /    13 runs   (   24.73 ms per token,    40.44 tokens per second)\n",
      "llama_print_timings:       total time =     451.56 ms /    23 tokens\n",
      "Llama.generate: prefix-match hit\n"
     ]
    },
    {
     "name": "stdout",
     "output_type": "stream",
     "text": [
      "--> testing hi: फूलदान को मेज़ पर रखो\n"
     ]
    },
    {
     "name": "stderr",
     "output_type": "stream",
     "text": [
      "\n",
      "llama_print_timings:        load time =    4007.51 ms\n",
      "llama_print_timings:      sample time =       1.42 ms /    15 runs   (    0.09 ms per token, 10585.74 tokens per second)\n",
      "llama_print_timings: prompt eval time =     117.51 ms /    27 tokens (    4.35 ms per token,   229.77 tokens per second)\n",
      "llama_print_timings:        eval time =     347.83 ms /    14 runs   (   24.84 ms per token,    40.25 tokens per second)\n",
      "llama_print_timings:       total time =     486.91 ms /    41 tokens\n",
      "Llama.generate: prefix-match hit\n"
     ]
    },
    {
     "name": "stdout",
     "output_type": "stream",
     "text": [
      "--> testing fr: Pose le pot de fleurs sur la table.\n"
     ]
    },
    {
     "name": "stderr",
     "output_type": "stream",
     "text": [
      "\n",
      "llama_print_timings:        load time =    4007.51 ms\n",
      "llama_print_timings:      sample time =       1.61 ms /    17 runs   (    0.09 ms per token, 10545.91 tokens per second)\n",
      "llama_print_timings: prompt eval time =     113.17 ms /    14 tokens (    8.08 ms per token,   123.70 tokens per second)\n",
      "llama_print_timings:        eval time =     398.77 ms /    16 runs   (   24.92 ms per token,    40.12 tokens per second)\n",
      "llama_print_timings:       total time =     535.61 ms /    30 tokens\n",
      "Llama.generate: prefix-match hit\n"
     ]
    },
    {
     "name": "stdout",
     "output_type": "stream",
     "text": [
      "--> testing es: Pon la maceta en la mesa.\n"
     ]
    },
    {
     "name": "stderr",
     "output_type": "stream",
     "text": [
      "\n",
      "llama_print_timings:        load time =    4007.51 ms\n",
      "llama_print_timings:      sample time =       1.37 ms /    14 runs   (    0.10 ms per token, 10233.92 tokens per second)\n",
      "llama_print_timings: prompt eval time =     112.33 ms /    12 tokens (    9.36 ms per token,   106.82 tokens per second)\n",
      "llama_print_timings:        eval time =     320.35 ms /    13 runs   (   24.64 ms per token,    40.58 tokens per second)\n",
      "llama_print_timings:       total time =     452.24 ms /    25 tokens\n",
      "Llama.generate: prefix-match hit\n"
     ]
    },
    {
     "name": "stdout",
     "output_type": "stream",
     "text": [
      "--> testing it: Metti il vaso di fiori sul tavolo.\n"
     ]
    },
    {
     "name": "stderr",
     "output_type": "stream",
     "text": [
      "\n",
      "llama_print_timings:        load time =    4007.51 ms\n",
      "llama_print_timings:      sample time =       1.80 ms /    19 runs   (    0.09 ms per token, 10567.30 tokens per second)\n",
      "llama_print_timings: prompt eval time =     113.55 ms /    17 tokens (    6.68 ms per token,   149.72 tokens per second)\n",
      "llama_print_timings:        eval time =     444.40 ms /    18 runs   (   24.69 ms per token,    40.50 tokens per second)\n",
      "llama_print_timings:       total time =     584.23 ms /    35 tokens\n",
      "Llama.generate: prefix-match hit\n"
     ]
    },
    {
     "name": "stdout",
     "output_type": "stream",
     "text": [
      "--> testing hi-en: flower pot table pe rakho\n"
     ]
    },
    {
     "name": "stderr",
     "output_type": "stream",
     "text": [
      "\n",
      "llama_print_timings:        load time =    4007.51 ms\n",
      "llama_print_timings:      sample time =       2.69 ms /    28 runs   (    0.10 ms per token, 10405.05 tokens per second)\n",
      "llama_print_timings: prompt eval time =     110.30 ms /    10 tokens (   11.03 ms per token,    90.66 tokens per second)\n",
      "llama_print_timings:        eval time =     666.17 ms /    27 runs   (   24.67 ms per token,    40.53 tokens per second)\n",
      "llama_print_timings:       total time =     815.27 ms /    37 tokens\n",
      "Llama.generate: prefix-match hit\n"
     ]
    },
    {
     "name": "stdout",
     "output_type": "stream",
     "text": [
      "--> testing ms: Letakkan pasu bunga di atas meja.\n"
     ]
    },
    {
     "name": "stderr",
     "output_type": "stream",
     "text": [
      "\n",
      "llama_print_timings:        load time =    4007.51 ms\n",
      "llama_print_timings:      sample time =       1.64 ms /    14 runs   (    0.12 ms per token,  8515.82 tokens per second)\n",
      "llama_print_timings: prompt eval time =     113.75 ms /    17 tokens (    6.69 ms per token,   149.45 tokens per second)\n",
      "llama_print_timings:        eval time =     325.51 ms /    13 runs   (   25.04 ms per token,    39.94 tokens per second)\n",
      "llama_print_timings:       total time =     464.62 ms /    30 tokens\n",
      "Llama.generate: prefix-match hit\n"
     ]
    },
    {
     "name": "stdout",
     "output_type": "stream",
     "text": [
      "--> testing ru: Поставьте цветочный горшок на стол\n"
     ]
    },
    {
     "name": "stderr",
     "output_type": "stream",
     "text": [
      "\n",
      "llama_print_timings:        load time =    4007.51 ms\n",
      "llama_print_timings:      sample time =       1.14 ms /    14 runs   (    0.08 ms per token, 12269.94 tokens per second)\n",
      "llama_print_timings: prompt eval time =     114.74 ms /    17 tokens (    6.75 ms per token,   148.16 tokens per second)\n",
      "llama_print_timings:        eval time =     321.35 ms /    13 runs   (   24.72 ms per token,    40.45 tokens per second)\n",
      "llama_print_timings:       total time =     456.84 ms /    30 tokens\n",
      "Llama.generate: prefix-match hit\n"
     ]
    },
    {
     "name": "stdout",
     "output_type": "stream",
     "text": [
      "--> testing cn: 把花盆放到桌子上\n"
     ]
    },
    {
     "name": "stderr",
     "output_type": "stream",
     "text": [
      "\n",
      "llama_print_timings:        load time =    4007.51 ms\n",
      "llama_print_timings:      sample time =       1.46 ms /    15 runs   (    0.10 ms per token, 10309.28 tokens per second)\n",
      "llama_print_timings: prompt eval time =     114.03 ms /    18 tokens (    6.33 ms per token,   157.86 tokens per second)\n",
      "llama_print_timings:        eval time =     344.08 ms /    14 runs   (   24.58 ms per token,    40.69 tokens per second)\n",
      "llama_print_timings:       total time =     479.24 ms /    32 tokens\n",
      "Llama.generate: prefix-match hit\n"
     ]
    },
    {
     "name": "stdout",
     "output_type": "stream",
     "text": [
      "average inference: 528.0ms\n",
      "------------\n",
      "--> testing en: keep the apple on the plate\n"
     ]
    },
    {
     "name": "stderr",
     "output_type": "stream",
     "text": [
      "\n",
      "llama_print_timings:        load time =    4007.51 ms\n",
      "llama_print_timings:      sample time =       1.16 ms /    12 runs   (    0.10 ms per token, 10327.02 tokens per second)\n",
      "llama_print_timings: prompt eval time =     112.86 ms /     9 tokens (   12.54 ms per token,    79.74 tokens per second)\n",
      "llama_print_timings:        eval time =     271.43 ms /    11 runs   (   24.68 ms per token,    40.53 tokens per second)\n",
      "llama_print_timings:       total time =     401.40 ms /    20 tokens\n",
      "Llama.generate: prefix-match hit\n"
     ]
    },
    {
     "name": "stdout",
     "output_type": "stream",
     "text": [
      "--> testing hi: सेब को प्लेट पर रखो\n"
     ]
    },
    {
     "name": "stderr",
     "output_type": "stream",
     "text": [
      "\n",
      "llama_print_timings:        load time =    4007.51 ms\n",
      "llama_print_timings:      sample time =       1.18 ms /    12 runs   (    0.10 ms per token, 10178.12 tokens per second)\n",
      "llama_print_timings: prompt eval time =     115.18 ms /    23 tokens (    5.01 ms per token,   199.68 tokens per second)\n",
      "llama_print_timings:        eval time =     272.85 ms /    11 runs   (   24.80 ms per token,    40.32 tokens per second)\n",
      "llama_print_timings:       total time =     405.07 ms /    34 tokens\n",
      "Llama.generate: prefix-match hit\n"
     ]
    },
    {
     "name": "stdout",
     "output_type": "stream",
     "text": [
      "--> testing fr: Garde la pomme sur l'assiette.\n"
     ]
    },
    {
     "name": "stderr",
     "output_type": "stream",
     "text": [
      "\n",
      "llama_print_timings:        load time =    4007.51 ms\n",
      "llama_print_timings:      sample time =       1.20 ms /    12 runs   (    0.10 ms per token,  9983.36 tokens per second)\n",
      "llama_print_timings: prompt eval time =     113.30 ms /    15 tokens (    7.55 ms per token,   132.40 tokens per second)\n",
      "llama_print_timings:        eval time =     271.47 ms /    11 runs   (   24.68 ms per token,    40.52 tokens per second)\n",
      "llama_print_timings:       total time =     401.70 ms /    26 tokens\n",
      "Llama.generate: prefix-match hit\n"
     ]
    },
    {
     "name": "stdout",
     "output_type": "stream",
     "text": [
      "--> testing es: Deja la manzana en el plato.\n"
     ]
    },
    {
     "name": "stderr",
     "output_type": "stream",
     "text": [
      "\n",
      "llama_print_timings:        load time =    4007.51 ms\n",
      "llama_print_timings:      sample time =       1.20 ms /    12 runs   (    0.10 ms per token, 10025.06 tokens per second)\n",
      "llama_print_timings: prompt eval time =     113.51 ms /    14 tokens (    8.11 ms per token,   123.34 tokens per second)\n",
      "llama_print_timings:        eval time =     271.51 ms /    11 runs   (   24.68 ms per token,    40.51 tokens per second)\n",
      "llama_print_timings:       total time =     401.30 ms /    25 tokens\n",
      "Llama.generate: prefix-match hit\n"
     ]
    },
    {
     "name": "stdout",
     "output_type": "stream",
     "text": [
      "--> testing it: Tieni la mela sul piatto.\n"
     ]
    },
    {
     "name": "stderr",
     "output_type": "stream",
     "text": [
      "\n",
      "llama_print_timings:        load time =    4007.51 ms\n",
      "llama_print_timings:      sample time =       1.17 ms /    12 runs   (    0.10 ms per token, 10256.41 tokens per second)\n",
      "llama_print_timings: prompt eval time =     112.93 ms /    13 tokens (    8.69 ms per token,   115.12 tokens per second)\n",
      "llama_print_timings:        eval time =     271.41 ms /    11 runs   (   24.67 ms per token,    40.53 tokens per second)\n",
      "llama_print_timings:       total time =     400.46 ms /    24 tokens\n",
      "Llama.generate: prefix-match hit\n"
     ]
    },
    {
     "name": "stdout",
     "output_type": "stream",
     "text": [
      "--> testing hi-en: seb plate pe rakho\n"
     ]
    },
    {
     "name": "stderr",
     "output_type": "stream",
     "text": [
      "\n",
      "llama_print_timings:        load time =    4007.51 ms\n",
      "llama_print_timings:      sample time =       1.94 ms /    20 runs   (    0.10 ms per token, 10330.58 tokens per second)\n",
      "llama_print_timings: prompt eval time =     110.53 ms /    10 tokens (   11.05 ms per token,    90.47 tokens per second)\n",
      "llama_print_timings:        eval time =     469.84 ms /    19 runs   (   24.73 ms per token,    40.44 tokens per second)\n",
      "llama_print_timings:       total time =     607.92 ms /    29 tokens\n",
      "Llama.generate: prefix-match hit\n"
     ]
    },
    {
     "name": "stdout",
     "output_type": "stream",
     "text": [
      "--> testing ms: Simpan epal di atas pinggan.\n"
     ]
    },
    {
     "name": "stderr",
     "output_type": "stream",
     "text": [
      "\n",
      "llama_print_timings:        load time =    4007.51 ms\n",
      "llama_print_timings:      sample time =       2.21 ms /    19 runs   (    0.12 ms per token,  8581.75 tokens per second)\n",
      "llama_print_timings: prompt eval time =     113.06 ms /    13 tokens (    8.70 ms per token,   114.98 tokens per second)\n",
      "llama_print_timings:        eval time =     447.92 ms /    18 runs   (   24.88 ms per token,    40.19 tokens per second)\n",
      "llama_print_timings:       total time =     593.13 ms /    31 tokens\n",
      "Llama.generate: prefix-match hit\n"
     ]
    },
    {
     "name": "stdout",
     "output_type": "stream",
     "text": [
      "--> testing ru: Оставьте яблоко на тарелке\n"
     ]
    },
    {
     "name": "stderr",
     "output_type": "stream",
     "text": [
      "\n",
      "llama_print_timings:        load time =    4007.51 ms\n",
      "llama_print_timings:      sample time =       1.90 ms /    15 runs   (    0.13 ms per token,  7903.06 tokens per second)\n",
      "llama_print_timings: prompt eval time =     112.77 ms /    16 tokens (    7.05 ms per token,   141.88 tokens per second)\n",
      "llama_print_timings:        eval time =     347.39 ms /    14 runs   (   24.81 ms per token,    40.30 tokens per second)\n",
      "llama_print_timings:       total time =     490.41 ms /    30 tokens\n",
      "Llama.generate: prefix-match hit\n"
     ]
    },
    {
     "name": "stdout",
     "output_type": "stream",
     "text": [
      "--> testing cn: 把苹果放在盘子里\n"
     ]
    },
    {
     "name": "stderr",
     "output_type": "stream",
     "text": [
      "\n",
      "llama_print_timings:        load time =    4007.51 ms\n",
      "llama_print_timings:      sample time =       1.14 ms /    12 runs   (    0.09 ms per token, 10572.69 tokens per second)\n",
      "llama_print_timings: prompt eval time =     113.11 ms /    18 tokens (    6.28 ms per token,   159.14 tokens per second)\n",
      "llama_print_timings:        eval time =     271.76 ms /    11 runs   (   24.71 ms per token,    40.48 tokens per second)\n",
      "llama_print_timings:       total time =     401.36 ms /    29 tokens\n",
      "Llama.generate: prefix-match hit\n"
     ]
    },
    {
     "name": "stdout",
     "output_type": "stream",
     "text": [
      "average inference: 458.7ms\n",
      "------------\n",
      "--> testing en: place the bread in the tiffin\n"
     ]
    },
    {
     "name": "stderr",
     "output_type": "stream",
     "text": [
      "\n",
      "llama_print_timings:        load time =    4007.51 ms\n",
      "llama_print_timings:      sample time =       1.48 ms /    15 runs   (    0.10 ms per token, 10121.46 tokens per second)\n",
      "llama_print_timings: prompt eval time =     110.51 ms /    11 tokens (   10.05 ms per token,    99.53 tokens per second)\n",
      "llama_print_timings:        eval time =     342.50 ms /    14 runs   (   24.46 ms per token,    40.88 tokens per second)\n",
      "llama_print_timings:       total time =     474.73 ms /    25 tokens\n",
      "Llama.generate: prefix-match hit\n"
     ]
    },
    {
     "name": "stdout",
     "output_type": "stream",
     "text": [
      "--> testing hi: ब्रेड को टिफिन में रखो\n"
     ]
    },
    {
     "name": "stderr",
     "output_type": "stream",
     "text": [
      "\n",
      "llama_print_timings:        load time =    4007.51 ms\n",
      "llama_print_timings:      sample time =       2.06 ms /    21 runs   (    0.10 ms per token, 10179.35 tokens per second)\n",
      "llama_print_timings: prompt eval time =     116.41 ms /    28 tokens (    4.16 ms per token,   240.53 tokens per second)\n",
      "llama_print_timings:        eval time =     497.28 ms /    20 runs   (   24.86 ms per token,    40.22 tokens per second)\n",
      "llama_print_timings:       total time =     643.03 ms /    48 tokens\n",
      "Llama.generate: prefix-match hit\n"
     ]
    },
    {
     "name": "stdout",
     "output_type": "stream",
     "text": [
      "--> testing fr: Place le pain dans le tiffin.\n"
     ]
    },
    {
     "name": "stderr",
     "output_type": "stream",
     "text": [
      "\n",
      "llama_print_timings:        load time =    4007.51 ms\n",
      "llama_print_timings:      sample time =       1.48 ms /    15 runs   (    0.10 ms per token, 10128.29 tokens per second)\n",
      "llama_print_timings: prompt eval time =     111.76 ms /    12 tokens (    9.31 ms per token,   107.37 tokens per second)\n",
      "llama_print_timings:        eval time =     344.85 ms /    14 runs   (   24.63 ms per token,    40.60 tokens per second)\n",
      "llama_print_timings:       total time =     477.78 ms /    26 tokens\n",
      "Llama.generate: prefix-match hit\n"
     ]
    },
    {
     "name": "stdout",
     "output_type": "stream",
     "text": [
      "--> testing es: Coloca el pan en la fiambrera.\n"
     ]
    },
    {
     "name": "stderr",
     "output_type": "stream",
     "text": [
      "\n",
      "llama_print_timings:        load time =    4007.51 ms\n",
      "llama_print_timings:      sample time =       1.42 ms /    14 runs   (    0.10 ms per token,  9880.03 tokens per second)\n",
      "llama_print_timings: prompt eval time =     112.99 ms /    13 tokens (    8.69 ms per token,   115.06 tokens per second)\n",
      "llama_print_timings:        eval time =     319.46 ms /    13 runs   (   24.57 ms per token,    40.69 tokens per second)\n",
      "llama_print_timings:       total time =     452.31 ms /    26 tokens\n",
      "Llama.generate: prefix-match hit\n"
     ]
    },
    {
     "name": "stdout",
     "output_type": "stream",
     "text": [
      "--> testing it: Metti il pane nella scatola del pranzo.\n"
     ]
    },
    {
     "name": "stderr",
     "output_type": "stream",
     "text": [
      "\n",
      "llama_print_timings:        load time =    4007.51 ms\n",
      "llama_print_timings:      sample time =       1.79 ms /    19 runs   (    0.09 ms per token, 10620.46 tokens per second)\n",
      "llama_print_timings: prompt eval time =     112.62 ms /    17 tokens (    6.62 ms per token,   150.96 tokens per second)\n",
      "llama_print_timings:        eval time =     445.27 ms /    18 runs   (   24.74 ms per token,    40.42 tokens per second)\n",
      "llama_print_timings:       total time =     584.46 ms /    35 tokens\n",
      "Llama.generate: prefix-match hit\n"
     ]
    },
    {
     "name": "stdout",
     "output_type": "stream",
     "text": [
      "--> testing hi-en: bread ko tiffin mein rakho\n"
     ]
    },
    {
     "name": "stderr",
     "output_type": "stream",
     "text": [
      "\n",
      "llama_print_timings:        load time =    4007.51 ms\n",
      "llama_print_timings:      sample time =       1.47 ms /    15 runs   (    0.10 ms per token, 10231.92 tokens per second)\n",
      "llama_print_timings: prompt eval time =     111.49 ms /    13 tokens (    8.58 ms per token,   116.61 tokens per second)\n",
      "llama_print_timings:        eval time =     345.33 ms /    14 runs   (   24.67 ms per token,    40.54 tokens per second)\n",
      "llama_print_timings:       total time =     478.06 ms /    27 tokens\n",
      "Llama.generate: prefix-match hit\n"
     ]
    },
    {
     "name": "stdout",
     "output_type": "stream",
     "text": [
      "--> testing ms: Letakkan roti ke dalam tiffin.\n"
     ]
    },
    {
     "name": "stderr",
     "output_type": "stream",
     "text": [
      "\n",
      "llama_print_timings:        load time =    4007.51 ms\n",
      "llama_print_timings:      sample time =       1.85 ms /    15 runs   (    0.12 ms per token,  8116.88 tokens per second)\n",
      "llama_print_timings: prompt eval time =     111.87 ms /    15 tokens (    7.46 ms per token,   134.08 tokens per second)\n",
      "llama_print_timings:        eval time =     345.09 ms /    14 runs   (   24.65 ms per token,    40.57 tokens per second)\n",
      "llama_print_timings:       total time =     483.50 ms /    29 tokens\n",
      "Llama.generate: prefix-match hit\n"
     ]
    },
    {
     "name": "stdout",
     "output_type": "stream",
     "text": [
      "--> testing ru: Положите хлеб в ланч-бокс\n"
     ]
    },
    {
     "name": "stderr",
     "output_type": "stream",
     "text": [
      "\n",
      "llama_print_timings:        load time =    4007.51 ms\n",
      "llama_print_timings:      sample time =       1.37 ms /    15 runs   (    0.09 ms per token, 10964.91 tokens per second)\n",
      "llama_print_timings: prompt eval time =     112.51 ms /    17 tokens (    6.62 ms per token,   151.09 tokens per second)\n",
      "llama_print_timings:        eval time =     345.68 ms /    14 runs   (   24.69 ms per token,    40.50 tokens per second)\n",
      "llama_print_timings:       total time =     479.61 ms /    31 tokens\n",
      "Llama.generate: prefix-match hit\n"
     ]
    },
    {
     "name": "stdout",
     "output_type": "stream",
     "text": [
      "--> testing cn: 把面包放到饭盒里\n"
     ]
    },
    {
     "name": "stderr",
     "output_type": "stream",
     "text": [
      "\n",
      "llama_print_timings:        load time =    4007.51 ms\n",
      "llama_print_timings:      sample time =       1.73 ms /    18 runs   (    0.10 ms per token, 10422.70 tokens per second)\n",
      "llama_print_timings: prompt eval time =     112.32 ms /    18 tokens (    6.24 ms per token,   160.26 tokens per second)\n",
      "llama_print_timings:        eval time =     419.42 ms /    17 runs   (   24.67 ms per token,    40.53 tokens per second)\n",
      "llama_print_timings:       total time =     557.46 ms /    35 tokens\n",
      "Llama.generate: prefix-match hit\n"
     ]
    },
    {
     "name": "stdout",
     "output_type": "stream",
     "text": [
      "average inference: 517.2ms\n",
      "------------\n",
      "--> testing en: throw the coke in the bin\n"
     ]
    },
    {
     "name": "stderr",
     "output_type": "stream",
     "text": [
      "\n",
      "llama_print_timings:        load time =    4007.51 ms\n",
      "llama_print_timings:      sample time =       1.23 ms /    13 runs   (    0.09 ms per token, 10612.24 tokens per second)\n",
      "llama_print_timings: prompt eval time =     112.10 ms /    10 tokens (   11.21 ms per token,    89.21 tokens per second)\n",
      "llama_print_timings:        eval time =     296.72 ms /    12 runs   (   24.73 ms per token,    40.44 tokens per second)\n",
      "llama_print_timings:       total time =     426.75 ms /    22 tokens\n",
      "Llama.generate: prefix-match hit\n"
     ]
    },
    {
     "name": "stdout",
     "output_type": "stream",
     "text": [
      "--> testing hi: कोक को कूड़े में डालो\n"
     ]
    },
    {
     "name": "stderr",
     "output_type": "stream",
     "text": [
      "\n",
      "llama_print_timings:        load time =    4007.51 ms\n",
      "llama_print_timings:      sample time =       1.71 ms /    18 runs   (    0.10 ms per token, 10501.75 tokens per second)\n",
      "llama_print_timings: prompt eval time =     115.47 ms /    25 tokens (    4.62 ms per token,   216.51 tokens per second)\n",
      "llama_print_timings:        eval time =     420.65 ms /    17 runs   (   24.74 ms per token,    40.41 tokens per second)\n",
      "llama_print_timings:       total time =     562.20 ms /    42 tokens\n",
      "Llama.generate: prefix-match hit\n"
     ]
    },
    {
     "name": "stdout",
     "output_type": "stream",
     "text": [
      "--> testing fr: Jette le coca dans la poubelle.\n"
     ]
    },
    {
     "name": "stderr",
     "output_type": "stream",
     "text": [
      "\n",
      "llama_print_timings:        load time =    4007.51 ms\n",
      "llama_print_timings:      sample time =       2.29 ms /    23 runs   (    0.10 ms per token, 10039.28 tokens per second)\n",
      "llama_print_timings: prompt eval time =     112.05 ms /    14 tokens (    8.00 ms per token,   124.95 tokens per second)\n",
      "llama_print_timings:        eval time =     539.60 ms /    22 runs   (   24.53 ms per token,    40.77 tokens per second)\n",
      "llama_print_timings:       total time =     685.29 ms /    36 tokens\n",
      "Llama.generate: prefix-match hit\n"
     ]
    },
    {
     "name": "stdout",
     "output_type": "stream",
     "text": [
      "--> testing es: Tira la coca en la basura.\n"
     ]
    },
    {
     "name": "stderr",
     "output_type": "stream",
     "text": [
      "\n",
      "llama_print_timings:        load time =    4007.51 ms\n",
      "llama_print_timings:      sample time =       1.82 ms /    19 runs   (    0.10 ms per token, 10462.56 tokens per second)\n",
      "llama_print_timings: prompt eval time =     113.72 ms /    13 tokens (    8.75 ms per token,   114.32 tokens per second)\n",
      "llama_print_timings:        eval time =     446.34 ms /    18 runs   (   24.80 ms per token,    40.33 tokens per second)\n",
      "llama_print_timings:       total time =     586.84 ms /    31 tokens\n",
      "Llama.generate: prefix-match hit\n"
     ]
    },
    {
     "name": "stdout",
     "output_type": "stream",
     "text": [
      "--> testing it: Getta la coca nella spazzatura.\n"
     ]
    },
    {
     "name": "stderr",
     "output_type": "stream",
     "text": [
      "\n",
      "llama_print_timings:        load time =    4007.51 ms\n",
      "llama_print_timings:      sample time =       1.58 ms /    16 runs   (    0.10 ms per token, 10120.18 tokens per second)\n",
      "llama_print_timings: prompt eval time =     113.43 ms /    13 tokens (    8.73 ms per token,   114.61 tokens per second)\n",
      "llama_print_timings:        eval time =     369.92 ms /    15 runs   (   24.66 ms per token,    40.55 tokens per second)\n",
      "llama_print_timings:       total time =     505.40 ms /    28 tokens\n",
      "Llama.generate: prefix-match hit\n"
     ]
    },
    {
     "name": "stdout",
     "output_type": "stream",
     "text": [
      "--> testing hi-en: coke ko dustbin mein fenk do\n"
     ]
    },
    {
     "name": "stderr",
     "output_type": "stream",
     "text": [
      "\n",
      "llama_print_timings:        load time =    4007.51 ms\n",
      "llama_print_timings:      sample time =       1.89 ms /    16 runs   (    0.12 ms per token,  8447.73 tokens per second)\n",
      "llama_print_timings: prompt eval time =     112.16 ms /    13 tokens (    8.63 ms per token,   115.91 tokens per second)\n",
      "llama_print_timings:        eval time =     372.58 ms /    15 runs   (   24.84 ms per token,    40.26 tokens per second)\n",
      "llama_print_timings:       total time =     511.72 ms /    28 tokens\n",
      "Llama.generate: prefix-match hit\n"
     ]
    },
    {
     "name": "stdout",
     "output_type": "stream",
     "text": [
      "--> testing ms: Buang coke ke dalam tong sampah.\n"
     ]
    },
    {
     "name": "stderr",
     "output_type": "stream",
     "text": [
      "\n",
      "llama_print_timings:        load time =    4007.51 ms\n",
      "llama_print_timings:      sample time =       1.77 ms /    18 runs   (    0.10 ms per token, 10152.28 tokens per second)\n",
      "llama_print_timings: prompt eval time =     113.02 ms /    15 tokens (    7.53 ms per token,   132.72 tokens per second)\n",
      "llama_print_timings:        eval time =     420.61 ms /    17 runs   (   24.74 ms per token,    40.42 tokens per second)\n",
      "llama_print_timings:       total time =     558.95 ms /    32 tokens\n",
      "Llama.generate: prefix-match hit\n"
     ]
    },
    {
     "name": "stdout",
     "output_type": "stream",
     "text": [
      "--> testing ru: Выбросьте кока-колу в мусорное ведро\n"
     ]
    },
    {
     "name": "stderr",
     "output_type": "stream",
     "text": [
      "\n",
      "llama_print_timings:        load time =    4007.51 ms\n",
      "llama_print_timings:      sample time =       1.61 ms /    18 runs   (    0.09 ms per token, 11173.18 tokens per second)\n",
      "llama_print_timings: prompt eval time =     114.89 ms /    18 tokens (    6.38 ms per token,   156.67 tokens per second)\n",
      "llama_print_timings:        eval time =     422.39 ms /    17 runs   (   24.85 ms per token,    40.25 tokens per second)\n",
      "llama_print_timings:       total time =     562.60 ms /    35 tokens\n",
      "Llama.generate: prefix-match hit\n"
     ]
    },
    {
     "name": "stdout",
     "output_type": "stream",
     "text": [
      "--> testing cn: 把可乐扔进垃圾桶\n"
     ]
    },
    {
     "name": "stderr",
     "output_type": "stream",
     "text": [
      "\n",
      "llama_print_timings:        load time =    4007.51 ms\n",
      "llama_print_timings:      sample time =       1.65 ms /    18 runs   (    0.09 ms per token, 10895.88 tokens per second)\n",
      "llama_print_timings: prompt eval time =     115.44 ms /    22 tokens (    5.25 ms per token,   190.58 tokens per second)\n",
      "llama_print_timings:        eval time =     423.24 ms /    17 runs   (   24.90 ms per token,    40.17 tokens per second)\n",
      "llama_print_timings:       total time =     563.89 ms /    39 tokens\n",
      "Llama.generate: prefix-match hit\n"
     ]
    },
    {
     "name": "stdout",
     "output_type": "stream",
     "text": [
      "average inference: 554.3ms\n",
      "------------\n",
      "--> testing en: grab the soldering iron\n"
     ]
    },
    {
     "name": "stderr",
     "output_type": "stream",
     "text": [
      "\n",
      "llama_print_timings:        load time =    4007.51 ms\n",
      "llama_print_timings:      sample time =       0.93 ms /    10 runs   (    0.09 ms per token, 10775.86 tokens per second)\n",
      "llama_print_timings: prompt eval time =     110.75 ms /     9 tokens (   12.31 ms per token,    81.27 tokens per second)\n",
      "llama_print_timings:        eval time =     222.11 ms /     9 runs   (   24.68 ms per token,    40.52 tokens per second)\n",
      "llama_print_timings:       total time =     346.45 ms /    18 tokens\n",
      "Llama.generate: prefix-match hit\n"
     ]
    },
    {
     "name": "stdout",
     "output_type": "stream",
     "text": [
      "--> testing hi: सोल्डरिंग आयरन पकड़ो\n"
     ]
    },
    {
     "name": "stderr",
     "output_type": "stream",
     "text": [
      "\n",
      "llama_print_timings:        load time =    4007.51 ms\n",
      "llama_print_timings:      sample time =       1.32 ms /    13 runs   (    0.10 ms per token,  9848.48 tokens per second)\n",
      "llama_print_timings: prompt eval time =     115.56 ms /    24 tokens (    4.82 ms per token,   207.68 tokens per second)\n",
      "llama_print_timings:        eval time =     299.01 ms /    12 runs   (   24.92 ms per token,    40.13 tokens per second)\n",
      "llama_print_timings:       total time =     432.86 ms /    36 tokens\n",
      "Llama.generate: prefix-match hit\n"
     ]
    },
    {
     "name": "stdout",
     "output_type": "stream",
     "text": [
      "--> testing fr: Attrape le fer à souder.\n"
     ]
    },
    {
     "name": "stderr",
     "output_type": "stream",
     "text": [
      "\n",
      "llama_print_timings:        load time =    4007.51 ms\n",
      "llama_print_timings:      sample time =       0.99 ms /    10 runs   (    0.10 ms per token, 10070.49 tokens per second)\n",
      "llama_print_timings: prompt eval time =     112.76 ms /    12 tokens (    9.40 ms per token,   106.42 tokens per second)\n",
      "llama_print_timings:        eval time =     221.15 ms /     9 runs   (   24.57 ms per token,    40.70 tokens per second)\n",
      "llama_print_timings:       total time =     348.66 ms /    21 tokens\n",
      "Llama.generate: prefix-match hit\n"
     ]
    },
    {
     "name": "stdout",
     "output_type": "stream",
     "text": [
      "--> testing es: Agarra el soldador.\n"
     ]
    },
    {
     "name": "stderr",
     "output_type": "stream",
     "text": [
      "\n",
      "llama_print_timings:        load time =    4007.51 ms\n",
      "llama_print_timings:      sample time =       0.86 ms /     9 runs   (    0.10 ms per token, 10465.12 tokens per second)\n",
      "llama_print_timings: prompt eval time =     112.50 ms /    10 tokens (   11.25 ms per token,    88.89 tokens per second)\n",
      "llama_print_timings:        eval time =     197.87 ms /     8 runs   (   24.73 ms per token,    40.43 tokens per second)\n",
      "llama_print_timings:       total time =     322.95 ms /    18 tokens\n",
      "Llama.generate: prefix-match hit\n"
     ]
    },
    {
     "name": "stdout",
     "output_type": "stream",
     "text": [
      "--> testing it: Prendi il saldatore.\n"
     ]
    },
    {
     "name": "stderr",
     "output_type": "stream",
     "text": [
      "\n",
      "llama_print_timings:        load time =    4007.51 ms\n",
      "llama_print_timings:      sample time =       1.02 ms /    10 runs   (    0.10 ms per token,  9842.52 tokens per second)\n",
      "llama_print_timings: prompt eval time =     112.22 ms /    10 tokens (   11.22 ms per token,    89.11 tokens per second)\n",
      "llama_print_timings:        eval time =     227.93 ms /     9 runs   (   25.33 ms per token,    39.49 tokens per second)\n",
      "llama_print_timings:       total time =     355.30 ms /    19 tokens\n",
      "Llama.generate: prefix-match hit\n"
     ]
    },
    {
     "name": "stdout",
     "output_type": "stream",
     "text": [
      "--> testing hi-en: soldering iron pakdo\n"
     ]
    },
    {
     "name": "stderr",
     "output_type": "stream",
     "text": [
      "\n",
      "llama_print_timings:        load time =    4007.51 ms\n",
      "llama_print_timings:      sample time =       2.73 ms /    26 runs   (    0.10 ms per token,  9541.28 tokens per second)\n",
      "llama_print_timings: prompt eval time =     111.55 ms /     9 tokens (   12.39 ms per token,    80.68 tokens per second)\n",
      "llama_print_timings:        eval time =     618.22 ms /    25 runs   (   24.73 ms per token,    40.44 tokens per second)\n",
      "llama_print_timings:       total time =     771.03 ms /    34 tokens\n",
      "Llama.generate: prefix-match hit\n"
     ]
    },
    {
     "name": "stdout",
     "output_type": "stream",
     "text": [
      "--> testing ms: Pegang seterika pemateri.\n"
     ]
    },
    {
     "name": "stderr",
     "output_type": "stream",
     "text": [
      "\n",
      "llama_print_timings:        load time =    4007.51 ms\n",
      "llama_print_timings:      sample time =       1.25 ms /    13 runs   (    0.10 ms per token, 10366.83 tokens per second)\n",
      "llama_print_timings: prompt eval time =     112.95 ms /    13 tokens (    8.69 ms per token,   115.10 tokens per second)\n",
      "llama_print_timings:        eval time =     295.98 ms /    12 runs   (   24.67 ms per token,    40.54 tokens per second)\n",
      "llama_print_timings:       total time =     426.86 ms /    25 tokens\n",
      "Llama.generate: prefix-match hit\n"
     ]
    },
    {
     "name": "stdout",
     "output_type": "stream",
     "text": [
      "--> testing ru: Возьмите паяльник\n"
     ]
    },
    {
     "name": "stderr",
     "output_type": "stream",
     "text": [
      "\n",
      "llama_print_timings:        load time =    4007.51 ms\n",
      "llama_print_timings:      sample time =       0.80 ms /     8 runs   (    0.10 ms per token, 10012.52 tokens per second)\n",
      "llama_print_timings: prompt eval time =     111.92 ms /    11 tokens (   10.17 ms per token,    98.29 tokens per second)\n",
      "llama_print_timings:        eval time =     174.03 ms /     7 runs   (   24.86 ms per token,    40.22 tokens per second)\n",
      "llama_print_timings:       total time =     296.97 ms /    18 tokens\n",
      "Llama.generate: prefix-match hit\n"
     ]
    },
    {
     "name": "stdout",
     "output_type": "stream",
     "text": [
      "--> testing cn: 拿烙铁\n"
     ]
    },
    {
     "name": "stderr",
     "output_type": "stream",
     "text": [
      "\n",
      "llama_print_timings:        load time =    4007.51 ms\n",
      "llama_print_timings:      sample time =       0.97 ms /    10 runs   (    0.10 ms per token, 10341.26 tokens per second)\n",
      "llama_print_timings: prompt eval time =     111.30 ms /    13 tokens (    8.56 ms per token,   116.80 tokens per second)\n",
      "llama_print_timings:        eval time =     222.76 ms /     9 runs   (   24.75 ms per token,    40.40 tokens per second)\n",
      "llama_print_timings:       total time =     348.22 ms /    22 tokens\n",
      "Llama.generate: prefix-match hit\n"
     ]
    },
    {
     "name": "stdout",
     "output_type": "stream",
     "text": [
      "average inference: 408.3ms\n",
      "------------\n",
      "--> testing en: grab the bottle\n"
     ]
    },
    {
     "name": "stderr",
     "output_type": "stream",
     "text": [
      "\n",
      "llama_print_timings:        load time =    4007.51 ms\n",
      "llama_print_timings:      sample time =       0.84 ms /     9 runs   (    0.09 ms per token, 10727.06 tokens per second)\n",
      "llama_print_timings: prompt eval time =     110.41 ms /     7 tokens (   15.77 ms per token,    63.40 tokens per second)\n",
      "llama_print_timings:        eval time =     197.76 ms /     8 runs   (   24.72 ms per token,    40.45 tokens per second)\n",
      "llama_print_timings:       total time =     320.34 ms /    15 tokens\n",
      "Llama.generate: prefix-match hit\n"
     ]
    },
    {
     "name": "stdout",
     "output_type": "stream",
     "text": [
      "--> testing hi: बोतल को पकड़ो\n"
     ]
    },
    {
     "name": "stderr",
     "output_type": "stream",
     "text": [
      "\n",
      "llama_print_timings:        load time =    4007.51 ms\n",
      "llama_print_timings:      sample time =       2.02 ms /    21 runs   (    0.10 ms per token, 10401.19 tokens per second)\n",
      "llama_print_timings: prompt eval time =     112.41 ms /    17 tokens (    6.61 ms per token,   151.23 tokens per second)\n",
      "llama_print_timings:        eval time =     497.66 ms /    20 runs   (   24.88 ms per token,    40.19 tokens per second)\n",
      "llama_print_timings:       total time =     639.89 ms /    37 tokens\n",
      "Llama.generate: prefix-match hit\n"
     ]
    },
    {
     "name": "stdout",
     "output_type": "stream",
     "text": [
      "--> testing fr: Attrape la bouteille.\n"
     ]
    },
    {
     "name": "stderr",
     "output_type": "stream",
     "text": [
      "\n",
      "llama_print_timings:        load time =    4007.51 ms\n",
      "llama_print_timings:      sample time =       0.86 ms /     9 runs   (    0.10 ms per token, 10465.12 tokens per second)\n",
      "llama_print_timings: prompt eval time =     111.33 ms /    11 tokens (   10.12 ms per token,    98.80 tokens per second)\n",
      "llama_print_timings:        eval time =     197.38 ms /     8 runs   (   24.67 ms per token,    40.53 tokens per second)\n",
      "llama_print_timings:       total time =     321.53 ms /    19 tokens\n",
      "Llama.generate: prefix-match hit\n"
     ]
    },
    {
     "name": "stdout",
     "output_type": "stream",
     "text": [
      "--> testing es: Agarra la botella.\n"
     ]
    },
    {
     "name": "stderr",
     "output_type": "stream",
     "text": [
      "\n",
      "llama_print_timings:        load time =    4007.51 ms\n",
      "llama_print_timings:      sample time =       0.89 ms /     9 runs   (    0.10 ms per token, 10123.73 tokens per second)\n",
      "llama_print_timings: prompt eval time =     111.77 ms /    10 tokens (   11.18 ms per token,    89.47 tokens per second)\n",
      "llama_print_timings:        eval time =     196.51 ms /     8 runs   (   24.56 ms per token,    40.71 tokens per second)\n",
      "llama_print_timings:       total time =     321.36 ms /    18 tokens\n",
      "Llama.generate: prefix-match hit\n"
     ]
    },
    {
     "name": "stdout",
     "output_type": "stream",
     "text": [
      "--> testing it: Prendi la bottiglia.\n"
     ]
    },
    {
     "name": "stderr",
     "output_type": "stream",
     "text": [
      "\n",
      "llama_print_timings:        load time =    4007.51 ms\n",
      "llama_print_timings:      sample time =       0.87 ms /     9 runs   (    0.10 ms per token, 10380.62 tokens per second)\n",
      "llama_print_timings: prompt eval time =     111.23 ms /     9 tokens (   12.36 ms per token,    80.91 tokens per second)\n",
      "llama_print_timings:        eval time =     198.00 ms /     8 runs   (   24.75 ms per token,    40.40 tokens per second)\n",
      "llama_print_timings:       total time =     322.66 ms /    17 tokens\n",
      "Llama.generate: prefix-match hit\n"
     ]
    },
    {
     "name": "stdout",
     "output_type": "stream",
     "text": [
      "--> testing hi-en: bottle pakdo\n"
     ]
    },
    {
     "name": "stderr",
     "output_type": "stream",
     "text": [
      "\n",
      "llama_print_timings:        load time =    4007.51 ms\n",
      "llama_print_timings:      sample time =       2.65 ms /    24 runs   (    0.11 ms per token,  9070.29 tokens per second)\n",
      "llama_print_timings: prompt eval time =     108.77 ms /     7 tokens (   15.54 ms per token,    64.36 tokens per second)\n",
      "llama_print_timings:        eval time =     568.81 ms /    23 runs   (   24.73 ms per token,    40.44 tokens per second)\n",
      "llama_print_timings:       total time =     717.54 ms /    30 tokens\n",
      "Llama.generate: prefix-match hit\n"
     ]
    },
    {
     "name": "stdout",
     "output_type": "stream",
     "text": [
      "--> testing ms: Pegang botol.\n"
     ]
    },
    {
     "name": "stderr",
     "output_type": "stream",
     "text": [
      "\n",
      "llama_print_timings:        load time =    4007.51 ms\n",
      "llama_print_timings:      sample time =       0.88 ms /     9 runs   (    0.10 ms per token, 10227.27 tokens per second)\n",
      "llama_print_timings: prompt eval time =     109.67 ms /     8 tokens (   13.71 ms per token,    72.94 tokens per second)\n",
      "llama_print_timings:        eval time =     197.89 ms /     8 runs   (   24.74 ms per token,    40.43 tokens per second)\n",
      "llama_print_timings:       total time =     320.36 ms /    16 tokens\n",
      "Llama.generate: prefix-match hit\n"
     ]
    },
    {
     "name": "stdout",
     "output_type": "stream",
     "text": [
      "--> testing ru: Возьмите бутылку\n"
     ]
    },
    {
     "name": "stderr",
     "output_type": "stream",
     "text": [
      "\n",
      "llama_print_timings:        load time =    4007.51 ms\n",
      "llama_print_timings:      sample time =       0.89 ms /     9 runs   (    0.10 ms per token, 10169.49 tokens per second)\n",
      "llama_print_timings: prompt eval time =     112.00 ms /    11 tokens (   10.18 ms per token,    98.21 tokens per second)\n",
      "llama_print_timings:        eval time =     197.54 ms /     8 runs   (   24.69 ms per token,    40.50 tokens per second)\n",
      "llama_print_timings:       total time =     322.20 ms /    19 tokens\n",
      "Llama.generate: prefix-match hit\n"
     ]
    },
    {
     "name": "stdout",
     "output_type": "stream",
     "text": [
      "--> testing cn: 拿水瓶\n"
     ]
    },
    {
     "name": "stderr",
     "output_type": "stream",
     "text": [
      "\n",
      "llama_print_timings:        load time =    4007.51 ms\n",
      "llama_print_timings:      sample time =       0.89 ms /     9 runs   (    0.10 ms per token, 10135.14 tokens per second)\n",
      "llama_print_timings: prompt eval time =     112.41 ms /    11 tokens (   10.22 ms per token,    97.86 tokens per second)\n",
      "llama_print_timings:        eval time =     198.08 ms /     8 runs   (   24.76 ms per token,    40.39 tokens per second)\n",
      "llama_print_timings:       total time =     323.29 ms /    19 tokens\n",
      "Llama.generate: prefix-match hit\n"
     ]
    },
    {
     "name": "stdout",
     "output_type": "stream",
     "text": [
      "average inference: 403.6ms\n",
      "------------\n",
      "--> testing en: Pick up the fallen pencil\n"
     ]
    },
    {
     "name": "stderr",
     "output_type": "stream",
     "text": [
      "\n",
      "llama_print_timings:        load time =    4007.51 ms\n",
      "llama_print_timings:      sample time =       0.76 ms /     8 runs   (    0.10 ms per token, 10526.32 tokens per second)\n",
      "llama_print_timings: prompt eval time =     111.93 ms /    10 tokens (   11.19 ms per token,    89.34 tokens per second)\n",
      "llama_print_timings:        eval time =     174.16 ms /     7 runs   (   24.88 ms per token,    40.19 tokens per second)\n",
      "llama_print_timings:       total time =     297.20 ms /    17 tokens\n",
      "Llama.generate: prefix-match hit\n"
     ]
    },
    {
     "name": "stdout",
     "output_type": "stream",
     "text": [
      "--> testing hi: गिरी हुई पेंसिल उठाओ\n"
     ]
    },
    {
     "name": "stderr",
     "output_type": "stream",
     "text": [
      "\n",
      "llama_print_timings:        load time =    4007.51 ms\n",
      "llama_print_timings:      sample time =       1.77 ms /    18 runs   (    0.10 ms per token, 10146.56 tokens per second)\n",
      "llama_print_timings: prompt eval time =     111.70 ms /    32 tokens (    3.49 ms per token,   286.48 tokens per second)\n",
      "llama_print_timings:        eval time =     421.26 ms /    17 runs   (   24.78 ms per token,    40.35 tokens per second)\n",
      "llama_print_timings:       total time =     558.12 ms /    49 tokens\n",
      "Llama.generate: prefix-match hit\n"
     ]
    },
    {
     "name": "stdout",
     "output_type": "stream",
     "text": [
      "--> testing fr: Ramasse le crayon tombé.\n"
     ]
    },
    {
     "name": "stderr",
     "output_type": "stream",
     "text": [
      "\n",
      "llama_print_timings:        load time =    4007.51 ms\n",
      "llama_print_timings:      sample time =       1.46 ms /    15 runs   (    0.10 ms per token, 10259.92 tokens per second)\n",
      "llama_print_timings: prompt eval time =     112.35 ms /    12 tokens (    9.36 ms per token,   106.81 tokens per second)\n",
      "llama_print_timings:        eval time =     345.14 ms /    14 runs   (   24.65 ms per token,    40.56 tokens per second)\n",
      "llama_print_timings:       total time =     478.82 ms /    26 tokens\n",
      "Llama.generate: prefix-match hit\n"
     ]
    },
    {
     "name": "stdout",
     "output_type": "stream",
     "text": [
      "--> testing es: Recoge el lápiz que se ha caído.\n"
     ]
    },
    {
     "name": "stderr",
     "output_type": "stream",
     "text": [
      "\n",
      "llama_print_timings:        load time =    4007.51 ms\n",
      "llama_print_timings:      sample time =       1.89 ms /    19 runs   (    0.10 ms per token, 10042.28 tokens per second)\n",
      "llama_print_timings: prompt eval time =     113.61 ms /    15 tokens (    7.57 ms per token,   132.03 tokens per second)\n",
      "llama_print_timings:        eval time =     446.94 ms /    18 runs   (   24.83 ms per token,    40.27 tokens per second)\n",
      "llama_print_timings:       total time =     587.59 ms /    33 tokens\n",
      "Llama.generate: prefix-match hit\n"
     ]
    },
    {
     "name": "stdout",
     "output_type": "stream",
     "text": [
      "--> testing it: Raccogli la matita caduta.\n"
     ]
    },
    {
     "name": "stderr",
     "output_type": "stream",
     "text": [
      "\n",
      "llama_print_timings:        load time =    4007.51 ms\n",
      "llama_print_timings:      sample time =       2.13 ms /    14 runs   (    0.15 ms per token,  6585.14 tokens per second)\n",
      "llama_print_timings: prompt eval time =     112.59 ms /    12 tokens (    9.38 ms per token,   106.58 tokens per second)\n",
      "llama_print_timings:        eval time =     323.76 ms /    13 runs   (   24.90 ms per token,    40.15 tokens per second)\n",
      "llama_print_timings:       total time =     461.51 ms /    25 tokens\n",
      "Llama.generate: prefix-match hit\n"
     ]
    },
    {
     "name": "stdout",
     "output_type": "stream",
     "text": [
      "--> testing hi-en: giri hui pencil uthao\n"
     ]
    },
    {
     "name": "stderr",
     "output_type": "stream",
     "text": [
      "\n",
      "llama_print_timings:        load time =    4007.51 ms\n",
      "llama_print_timings:      sample time =       1.93 ms /    18 runs   (    0.11 ms per token,  9311.95 tokens per second)\n",
      "llama_print_timings: prompt eval time =     112.30 ms /    13 tokens (    8.64 ms per token,   115.76 tokens per second)\n",
      "llama_print_timings:        eval time =     421.00 ms /    17 runs   (   24.76 ms per token,    40.38 tokens per second)\n",
      "llama_print_timings:       total time =     560.72 ms /    30 tokens\n",
      "Llama.generate: prefix-match hit\n"
     ]
    },
    {
     "name": "stdout",
     "output_type": "stream",
     "text": [
      "--> testing ms: Ambil pensel yang terjatuh.\n"
     ]
    },
    {
     "name": "stderr",
     "output_type": "stream",
     "text": [
      "\n",
      "llama_print_timings:        load time =    4007.51 ms\n",
      "llama_print_timings:      sample time =       2.61 ms /    26 runs   (    0.10 ms per token,  9957.87 tokens per second)\n",
      "llama_print_timings: prompt eval time =     111.37 ms /    14 tokens (    7.95 ms per token,   125.71 tokens per second)\n",
      "llama_print_timings:        eval time =     616.75 ms /    25 runs   (   24.67 ms per token,    40.54 tokens per second)\n",
      "llama_print_timings:       total time =     766.07 ms /    39 tokens\n",
      "Llama.generate: prefix-match hit\n"
     ]
    },
    {
     "name": "stdout",
     "output_type": "stream",
     "text": [
      "--> testing ru: Поднимите упавший карандаш\n"
     ]
    },
    {
     "name": "stderr",
     "output_type": "stream",
     "text": [
      "\n",
      "llama_print_timings:        load time =    4007.51 ms\n",
      "llama_print_timings:      sample time =       2.13 ms /    22 runs   (    0.10 ms per token, 10314.11 tokens per second)\n",
      "llama_print_timings: prompt eval time =     112.81 ms /    13 tokens (    8.68 ms per token,   115.24 tokens per second)\n",
      "llama_print_timings:        eval time =     520.09 ms /    21 runs   (   24.77 ms per token,    40.38 tokens per second)\n",
      "llama_print_timings:       total time =     664.54 ms /    34 tokens\n",
      "Llama.generate: prefix-match hit\n"
     ]
    },
    {
     "name": "stdout",
     "output_type": "stream",
     "text": [
      "--> testing cn: 捡起掉在地上的铅笔\n"
     ]
    },
    {
     "name": "stderr",
     "output_type": "stream",
     "text": [
      "\n",
      "llama_print_timings:        load time =    4007.51 ms\n",
      "llama_print_timings:      sample time =       2.35 ms /    27 runs   (    0.09 ms per token, 11474.71 tokens per second)\n",
      "llama_print_timings: prompt eval time =     114.82 ms /    21 tokens (    5.47 ms per token,   182.90 tokens per second)\n",
      "llama_print_timings:        eval time =     643.53 ms /    26 runs   (   24.75 ms per token,    40.40 tokens per second)\n",
      "llama_print_timings:       total time =     796.77 ms /    47 tokens\n",
      "Llama.generate: prefix-match hit\n"
     ]
    },
    {
     "name": "stdout",
     "output_type": "stream",
     "text": [
      "average inference: 577.5ms\n",
      "------------\n",
      "--> testing en: Grab the remote and toss it on the couch\n"
     ]
    },
    {
     "name": "stderr",
     "output_type": "stream",
     "text": [
      "\n",
      "llama_print_timings:        load time =    4007.51 ms\n",
      "llama_print_timings:      sample time =       3.21 ms /    36 runs   (    0.09 ms per token, 11221.95 tokens per second)\n",
      "llama_print_timings: prompt eval time =     112.96 ms /    13 tokens (    8.69 ms per token,   115.08 tokens per second)\n",
      "llama_print_timings:        eval time =     871.15 ms /    35 runs   (   24.89 ms per token,    40.18 tokens per second)\n",
      "llama_print_timings:       total time =    1034.15 ms /    48 tokens\n",
      "Llama.generate: prefix-match hit\n"
     ]
    },
    {
     "name": "stdout",
     "output_type": "stream",
     "text": [
      "--> testing hi: रिमोट पकड़ो और सोफ़े पर फेंक दो\n"
     ]
    },
    {
     "name": "stderr",
     "output_type": "stream",
     "text": [
      "\n",
      "llama_print_timings:        load time =    4007.51 ms\n",
      "llama_print_timings:      sample time =       1.17 ms /    12 runs   (    0.10 ms per token, 10291.60 tokens per second)\n",
      "llama_print_timings: prompt eval time =     191.61 ms /    41 tokens (    4.67 ms per token,   213.98 tokens per second)\n",
      "llama_print_timings:        eval time =     273.71 ms /    11 runs   (   24.88 ms per token,    40.19 tokens per second)\n",
      "llama_print_timings:       total time =     481.89 ms /    52 tokens\n",
      "Llama.generate: prefix-match hit\n"
     ]
    },
    {
     "name": "stdout",
     "output_type": "stream",
     "text": [
      "--> testing fr: Attrape la télécommande et jette-la sur le canapé.\n"
     ]
    },
    {
     "name": "stderr",
     "output_type": "stream",
     "text": [
      "\n",
      "llama_print_timings:        load time =    4007.51 ms\n",
      "llama_print_timings:      sample time =       2.46 ms /    27 runs   (    0.09 ms per token, 10989.01 tokens per second)\n",
      "llama_print_timings: prompt eval time =     114.90 ms /    21 tokens (    5.47 ms per token,   182.77 tokens per second)\n",
      "llama_print_timings:        eval time =     645.08 ms /    26 runs   (   24.81 ms per token,    40.31 tokens per second)\n",
      "llama_print_timings:       total time =     798.06 ms /    47 tokens\n",
      "Llama.generate: prefix-match hit\n"
     ]
    },
    {
     "name": "stdout",
     "output_type": "stream",
     "text": [
      "--> testing es: Coge el mando a distancia y tíralo en el sofá.\n"
     ]
    },
    {
     "name": "stderr",
     "output_type": "stream",
     "text": [
      "\n",
      "llama_print_timings:        load time =    4007.51 ms\n",
      "llama_print_timings:      sample time =       3.04 ms /    28 runs   (    0.11 ms per token,  9201.45 tokens per second)\n",
      "llama_print_timings: prompt eval time =     115.06 ms /    22 tokens (    5.23 ms per token,   191.20 tokens per second)\n",
      "llama_print_timings:        eval time =     668.72 ms /    27 runs   (   24.77 ms per token,    40.38 tokens per second)\n",
      "llama_print_timings:       total time =     828.66 ms /    49 tokens\n",
      "Llama.generate: prefix-match hit\n"
     ]
    },
    {
     "name": "stdout",
     "output_type": "stream",
     "text": [
      "--> testing it: Prendi il telecomando e gettalo sul divano.\n"
     ]
    },
    {
     "name": "stderr",
     "output_type": "stream",
     "text": [
      "\n",
      "llama_print_timings:        load time =    4007.51 ms\n",
      "llama_print_timings:      sample time =       2.04 ms /    21 runs   (    0.10 ms per token, 10294.12 tokens per second)\n",
      "llama_print_timings: prompt eval time =     113.74 ms /    17 tokens (    6.69 ms per token,   149.47 tokens per second)\n",
      "llama_print_timings:        eval time =     492.93 ms /    20 runs   (   24.65 ms per token,    40.57 tokens per second)\n",
      "llama_print_timings:       total time =     635.94 ms /    37 tokens\n",
      "Llama.generate: prefix-match hit\n"
     ]
    },
    {
     "name": "stdout",
     "output_type": "stream",
     "text": [
      "--> testing hi-en: remote uthao and sofa pe phenko\n"
     ]
    },
    {
     "name": "stderr",
     "output_type": "stream",
     "text": [
      "\n",
      "llama_print_timings:        load time =    4007.51 ms\n",
      "llama_print_timings:      sample time =       1.89 ms /    19 runs   (    0.10 ms per token, 10031.68 tokens per second)\n",
      "llama_print_timings: prompt eval time =     111.34 ms /    13 tokens (    8.56 ms per token,   116.76 tokens per second)\n",
      "llama_print_timings:        eval time =     443.55 ms /    18 runs   (   24.64 ms per token,    40.58 tokens per second)\n",
      "llama_print_timings:       total time =     581.71 ms /    31 tokens\n",
      "Llama.generate: prefix-match hit\n"
     ]
    },
    {
     "name": "stdout",
     "output_type": "stream",
     "text": [
      "--> testing ms: Ambil remote dan campakkannya ke atas sofa.\n"
     ]
    },
    {
     "name": "stderr",
     "output_type": "stream",
     "text": [
      "\n",
      "llama_print_timings:        load time =    4007.51 ms\n",
      "llama_print_timings:      sample time =       1.65 ms /    17 runs   (    0.10 ms per token, 10328.07 tokens per second)\n",
      "llama_print_timings: prompt eval time =     113.79 ms /    18 tokens (    6.32 ms per token,   158.19 tokens per second)\n",
      "llama_print_timings:        eval time =     394.17 ms /    16 runs   (   24.64 ms per token,    40.59 tokens per second)\n",
      "llama_print_timings:       total time =     531.70 ms /    34 tokens\n",
      "Llama.generate: prefix-match hit\n"
     ]
    },
    {
     "name": "stdout",
     "output_type": "stream",
     "text": [
      "--> testing ru: Возьмите пульт и бросьте его на диван\n"
     ]
    },
    {
     "name": "stderr",
     "output_type": "stream",
     "text": [
      "\n",
      "llama_print_timings:        load time =    4007.51 ms\n",
      "llama_print_timings:      sample time =       1.24 ms /    14 runs   (    0.09 ms per token, 11290.32 tokens per second)\n",
      "llama_print_timings: prompt eval time =     114.34 ms /    18 tokens (    6.35 ms per token,   157.43 tokens per second)\n",
      "llama_print_timings:        eval time =     322.73 ms /    13 runs   (   24.83 ms per token,    40.28 tokens per second)\n",
      "llama_print_timings:       total time =     456.78 ms /    31 tokens\n",
      "Llama.generate: prefix-match hit\n"
     ]
    },
    {
     "name": "stdout",
     "output_type": "stream",
     "text": [
      "--> testing cn: 拿遥控器扔到沙发上\n"
     ]
    },
    {
     "name": "stderr",
     "output_type": "stream",
     "text": [
      "\n",
      "llama_print_timings:        load time =    4007.51 ms\n",
      "llama_print_timings:      sample time =       1.29 ms /    14 runs   (    0.09 ms per token, 10869.57 tokens per second)\n",
      "llama_print_timings: prompt eval time =     114.05 ms /    19 tokens (    6.00 ms per token,   166.60 tokens per second)\n",
      "llama_print_timings:        eval time =     321.47 ms /    13 runs   (   24.73 ms per token,    40.44 tokens per second)\n",
      "llama_print_timings:       total time =     455.30 ms /    32 tokens\n",
      "Llama.generate: prefix-match hit\n"
     ]
    },
    {
     "name": "stdout",
     "output_type": "stream",
     "text": [
      "average inference: 647.9ms\n",
      "------------\n",
      "--> testing en: Lift the book and lay it on the bedside table\n"
     ]
    },
    {
     "name": "stderr",
     "output_type": "stream",
     "text": [
      "\n",
      "llama_print_timings:        load time =    4007.51 ms\n",
      "llama_print_timings:      sample time =       1.91 ms /    20 runs   (    0.10 ms per token, 10476.69 tokens per second)\n",
      "llama_print_timings: prompt eval time =     112.91 ms /    15 tokens (    7.53 ms per token,   132.85 tokens per second)\n",
      "llama_print_timings:        eval time =     469.78 ms /    19 runs   (   24.73 ms per token,    40.44 tokens per second)\n",
      "llama_print_timings:       total time =     611.57 ms /    34 tokens\n",
      "Llama.generate: prefix-match hit\n"
     ]
    },
    {
     "name": "stdout",
     "output_type": "stream",
     "text": [
      "--> testing hi: किताब उठाओ और बिस्तर के ऊपर रख दो\n"
     ]
    },
    {
     "name": "stderr",
     "output_type": "stream",
     "text": [
      "\n",
      "llama_print_timings:        load time =    4007.51 ms\n",
      "llama_print_timings:      sample time =       1.14 ms /    12 runs   (    0.09 ms per token, 10563.38 tokens per second)\n",
      "llama_print_timings: prompt eval time =     192.57 ms /    47 tokens (    4.10 ms per token,   244.07 tokens per second)\n",
      "llama_print_timings:        eval time =     271.84 ms /    11 runs   (   24.71 ms per token,    40.46 tokens per second)\n",
      "llama_print_timings:       total time =     481.51 ms /    58 tokens\n",
      "Llama.generate: prefix-match hit\n"
     ]
    },
    {
     "name": "stdout",
     "output_type": "stream",
     "text": [
      "--> testing fr: Soulève le livre et pose-le sur la table de chevet.\n"
     ]
    },
    {
     "name": "stderr",
     "output_type": "stream",
     "text": [
      "\n",
      "llama_print_timings:        load time =    4007.51 ms\n",
      "llama_print_timings:      sample time =       2.22 ms /    23 runs   (    0.10 ms per token, 10379.06 tokens per second)\n",
      "llama_print_timings: prompt eval time =     114.68 ms /    18 tokens (    6.37 ms per token,   156.96 tokens per second)\n",
      "llama_print_timings:        eval time =     545.10 ms /    22 runs   (   24.78 ms per token,    40.36 tokens per second)\n",
      "llama_print_timings:       total time =     691.90 ms /    40 tokens\n",
      "Llama.generate: prefix-match hit\n"
     ]
    },
    {
     "name": "stdout",
     "output_type": "stream",
     "text": [
      "--> testing es: Levanta el libro y déjalo en la mesita de noche.\n"
     ]
    },
    {
     "name": "stderr",
     "output_type": "stream",
     "text": [
      "\n",
      "llama_print_timings:        load time =    4007.51 ms\n",
      "llama_print_timings:      sample time =       2.25 ms /    20 runs   (    0.11 ms per token,  8873.11 tokens per second)\n",
      "llama_print_timings: prompt eval time =     114.81 ms /    19 tokens (    6.04 ms per token,   165.49 tokens per second)\n",
      "llama_print_timings:        eval time =     472.85 ms /    19 runs   (   24.89 ms per token,    40.18 tokens per second)\n",
      "llama_print_timings:       total time =     620.75 ms /    38 tokens\n",
      "Llama.generate: prefix-match hit\n"
     ]
    },
    {
     "name": "stdout",
     "output_type": "stream",
     "text": [
      "--> testing it: Solleva il libro e poggialo sul comodino.\n"
     ]
    },
    {
     "name": "stderr",
     "output_type": "stream",
     "text": [
      "\n",
      "llama_print_timings:        load time =    4007.51 ms\n",
      "llama_print_timings:      sample time =       1.18 ms /    13 runs   (    0.09 ms per token, 11063.83 tokens per second)\n",
      "llama_print_timings: prompt eval time =     114.14 ms /    18 tokens (    6.34 ms per token,   157.70 tokens per second)\n",
      "llama_print_timings:        eval time =     296.81 ms /    12 runs   (   24.73 ms per token,    40.43 tokens per second)\n",
      "llama_print_timings:       total time =     429.08 ms /    30 tokens\n",
      "Llama.generate: prefix-match hit\n"
     ]
    },
    {
     "name": "stdout",
     "output_type": "stream",
     "text": [
      "--> testing hi-en: pustak uthao and bedside table pe rakho\n"
     ]
    },
    {
     "name": "stderr",
     "output_type": "stream",
     "text": [
      "\n",
      "llama_print_timings:        load time =    4007.51 ms\n",
      "llama_print_timings:      sample time =       1.33 ms /    14 runs   (    0.10 ms per token, 10510.51 tokens per second)\n",
      "llama_print_timings: prompt eval time =     112.18 ms /    17 tokens (    6.60 ms per token,   151.54 tokens per second)\n",
      "llama_print_timings:        eval time =     321.38 ms /    13 runs   (   24.72 ms per token,    40.45 tokens per second)\n",
      "llama_print_timings:       total time =     453.08 ms /    30 tokens\n",
      "Llama.generate: prefix-match hit\n"
     ]
    },
    {
     "name": "stdout",
     "output_type": "stream",
     "text": [
      "--> testing ms: Angkat buku dan letakkannya di atas meja tepi katil.\n"
     ]
    },
    {
     "name": "stderr",
     "output_type": "stream",
     "text": [
      "\n",
      "llama_print_timings:        load time =    4007.51 ms\n",
      "llama_print_timings:      sample time =       1.04 ms /    13 runs   (    0.08 ms per token, 12476.01 tokens per second)\n",
      "llama_print_timings: prompt eval time =     116.68 ms /    24 tokens (    4.86 ms per token,   205.69 tokens per second)\n",
      "llama_print_timings:        eval time =     297.02 ms /    12 runs   (   24.75 ms per token,    40.40 tokens per second)\n",
      "llama_print_timings:       total time =     431.83 ms /    36 tokens\n",
      "Llama.generate: prefix-match hit\n"
     ]
    },
    {
     "name": "stdout",
     "output_type": "stream",
     "text": [
      "--> testing ru: Поднимите книгу и положите ее на тумбочку\n"
     ]
    },
    {
     "name": "stderr",
     "output_type": "stream",
     "text": [
      "\n",
      "llama_print_timings:        load time =    4007.51 ms\n",
      "llama_print_timings:      sample time =       1.16 ms /    14 runs   (    0.08 ms per token, 12058.57 tokens per second)\n",
      "llama_print_timings: prompt eval time =     114.70 ms /    20 tokens (    5.74 ms per token,   174.36 tokens per second)\n",
      "llama_print_timings:        eval time =     320.89 ms /    13 runs   (   24.68 ms per token,    40.51 tokens per second)\n",
      "llama_print_timings:       total time =     455.14 ms /    33 tokens\n",
      "Llama.generate: prefix-match hit\n"
     ]
    },
    {
     "name": "stdout",
     "output_type": "stream",
     "text": [
      "--> testing cn: 抬起书本，放到床头柜上\n"
     ]
    },
    {
     "name": "stderr",
     "output_type": "stream",
     "text": [
      "\n",
      "llama_print_timings:        load time =    4007.51 ms\n",
      "llama_print_timings:      sample time =       1.25 ms /    14 runs   (    0.09 ms per token, 11217.95 tokens per second)\n",
      "llama_print_timings: prompt eval time =     115.12 ms /    21 tokens (    5.48 ms per token,   182.41 tokens per second)\n",
      "llama_print_timings:        eval time =     321.47 ms /    13 runs   (   24.73 ms per token,    40.44 tokens per second)\n",
      "llama_print_timings:       total time =     455.96 ms /    34 tokens\n",
      "Llama.generate: prefix-match hit\n"
     ]
    },
    {
     "name": "stdout",
     "output_type": "stream",
     "text": [
      "average inference: 517.4ms\n",
      "------------\n",
      "--> testing en: Reach for the sunglasses sitting on the table.\n"
     ]
    },
    {
     "name": "stderr",
     "output_type": "stream",
     "text": [
      "\n",
      "llama_print_timings:        load time =    4007.51 ms\n",
      "llama_print_timings:      sample time =       1.46 ms /    15 runs   (    0.10 ms per token, 10309.28 tokens per second)\n",
      "llama_print_timings: prompt eval time =     113.46 ms /    16 tokens (    7.09 ms per token,   141.02 tokens per second)\n",
      "llama_print_timings:        eval time =     344.29 ms /    14 runs   (   24.59 ms per token,    40.66 tokens per second)\n",
      "llama_print_timings:       total time =     479.21 ms /    30 tokens\n",
      "Llama.generate: prefix-match hit\n"
     ]
    },
    {
     "name": "stdout",
     "output_type": "stream",
     "text": [
      "--> testing hi: मेज़ पर बैठे सनग्लास को छूने के लिए हाथ बढ़ाओ\n"
     ]
    },
    {
     "name": "stderr",
     "output_type": "stream",
     "text": [
      "\n",
      "llama_print_timings:        load time =    4007.51 ms\n",
      "llama_print_timings:      sample time =       1.35 ms /    15 runs   (    0.09 ms per token, 11144.13 tokens per second)\n",
      "llama_print_timings: prompt eval time =     199.83 ms /    59 tokens (    3.39 ms per token,   295.25 tokens per second)\n",
      "llama_print_timings:        eval time =     350.97 ms /    14 runs   (   25.07 ms per token,    39.89 tokens per second)\n",
      "llama_print_timings:       total time =     571.84 ms /    73 tokens\n",
      "Llama.generate: prefix-match hit\n"
     ]
    },
    {
     "name": "stdout",
     "output_type": "stream",
     "text": [
      "--> testing fr: Attrape les lunettes de soleil posées sur la table.\n"
     ]
    },
    {
     "name": "stderr",
     "output_type": "stream",
     "text": [
      "\n",
      "llama_print_timings:        load time =    4007.51 ms\n",
      "llama_print_timings:      sample time =       1.74 ms /    18 runs   (    0.10 ms per token, 10368.66 tokens per second)\n",
      "llama_print_timings: prompt eval time =     114.96 ms /    18 tokens (    6.39 ms per token,   156.57 tokens per second)\n",
      "llama_print_timings:        eval time =     420.34 ms /    17 runs   (   24.73 ms per token,    40.44 tokens per second)\n",
      "llama_print_timings:       total time =     560.43 ms /    35 tokens\n",
      "Llama.generate: prefix-match hit\n"
     ]
    },
    {
     "name": "stdout",
     "output_type": "stream",
     "text": [
      "--> testing es: Coge las gafas de sol que están en la mesa.\n"
     ]
    },
    {
     "name": "stderr",
     "output_type": "stream",
     "text": [
      "\n",
      "llama_print_timings:        load time =    4007.51 ms\n",
      "llama_print_timings:      sample time =       1.68 ms /    15 runs   (    0.11 ms per token,  8939.21 tokens per second)\n",
      "llama_print_timings: prompt eval time =     114.19 ms /    18 tokens (    6.34 ms per token,   157.64 tokens per second)\n",
      "llama_print_timings:        eval time =     347.41 ms /    14 runs   (   24.82 ms per token,    40.30 tokens per second)\n",
      "llama_print_timings:       total time =     486.98 ms /    32 tokens\n",
      "Llama.generate: prefix-match hit\n"
     ]
    },
    {
     "name": "stdout",
     "output_type": "stream",
     "text": [
      "--> testing it: Prendi gli occhiali da sole che sono sul tavolo.\n"
     ]
    },
    {
     "name": "stderr",
     "output_type": "stream",
     "text": [
      "\n",
      "llama_print_timings:        load time =    4007.51 ms\n",
      "llama_print_timings:      sample time =       2.05 ms /    22 runs   (    0.09 ms per token, 10710.81 tokens per second)\n",
      "llama_print_timings: prompt eval time =     114.05 ms /    18 tokens (    6.34 ms per token,   157.83 tokens per second)\n",
      "llama_print_timings:        eval time =     519.12 ms /    21 runs   (   24.72 ms per token,    40.45 tokens per second)\n",
      "llama_print_timings:       total time =     663.68 ms /    39 tokens\n",
      "Llama.generate: prefix-match hit\n"
     ]
    },
    {
     "name": "stdout",
     "output_type": "stream",
     "text": [
      "--> testing hi-en: table pe rakhe hue sunglasses le lo\n"
     ]
    },
    {
     "name": "stderr",
     "output_type": "stream",
     "text": [
      "\n",
      "llama_print_timings:        load time =    4007.51 ms\n",
      "llama_print_timings:      sample time =       1.69 ms /    18 runs   (    0.09 ms per token, 10625.74 tokens per second)\n",
      "llama_print_timings: prompt eval time =     112.40 ms /    16 tokens (    7.03 ms per token,   142.34 tokens per second)\n",
      "llama_print_timings:        eval time =     417.98 ms /    17 runs   (   24.59 ms per token,    40.67 tokens per second)\n",
      "llama_print_timings:       total time =     556.46 ms /    33 tokens\n",
      "Llama.generate: prefix-match hit\n"
     ]
    },
    {
     "name": "stdout",
     "output_type": "stream",
     "text": [
      "--> testing ms: Ambil cermin mata hitam yang ada di atas meja.\n"
     ]
    },
    {
     "name": "stderr",
     "output_type": "stream",
     "text": [
      "\n",
      "llama_print_timings:        load time =    4007.51 ms\n",
      "llama_print_timings:      sample time =       2.12 ms /    22 runs   (    0.10 ms per token, 10377.36 tokens per second)\n",
      "llama_print_timings: prompt eval time =     114.66 ms /    22 tokens (    5.21 ms per token,   191.88 tokens per second)\n",
      "llama_print_timings:        eval time =     518.93 ms /    21 runs   (   24.71 ms per token,    40.47 tokens per second)\n",
      "llama_print_timings:       total time =     664.43 ms /    43 tokens\n",
      "Llama.generate: prefix-match hit\n"
     ]
    },
    {
     "name": "stdout",
     "output_type": "stream",
     "text": [
      "--> testing ru: Возьмите солнцезащитные очки, которые лежат на столе\n"
     ]
    },
    {
     "name": "stderr",
     "output_type": "stream",
     "text": [
      "\n",
      "llama_print_timings:        load time =    4007.51 ms\n",
      "llama_print_timings:      sample time =       1.18 ms /    15 runs   (    0.08 ms per token, 12690.36 tokens per second)\n",
      "llama_print_timings: prompt eval time =     118.17 ms /    24 tokens (    4.92 ms per token,   203.10 tokens per second)\n",
      "llama_print_timings:        eval time =     349.21 ms /    14 runs   (   24.94 ms per token,    40.09 tokens per second)\n",
      "llama_print_timings:       total time =     488.23 ms /    38 tokens\n",
      "Llama.generate: prefix-match hit\n"
     ]
    },
    {
     "name": "stdout",
     "output_type": "stream",
     "text": [
      "--> testing cn: 拿放在桌子上的太阳眼镜\n"
     ]
    },
    {
     "name": "stderr",
     "output_type": "stream",
     "text": [
      "\n",
      "llama_print_timings:        load time =    4007.51 ms\n",
      "llama_print_timings:      sample time =       1.24 ms /    14 runs   (    0.09 ms per token, 11263.07 tokens per second)\n",
      "llama_print_timings: prompt eval time =     115.50 ms /    23 tokens (    5.02 ms per token,   199.13 tokens per second)\n",
      "llama_print_timings:        eval time =     322.00 ms /    13 runs   (   24.77 ms per token,    40.37 tokens per second)\n",
      "llama_print_timings:       total time =     456.81 ms /    36 tokens\n",
      "Llama.generate: prefix-match hit\n"
     ]
    },
    {
     "name": "stdout",
     "output_type": "stream",
     "text": [
      "average inference: 550.4ms\n",
      "------------\n",
      "--> testing en: Grasp the towel and hang it on the hook\n"
     ]
    },
    {
     "name": "stderr",
     "output_type": "stream",
     "text": [
      "\n",
      "llama_print_timings:        load time =    4007.51 ms\n",
      "llama_print_timings:      sample time =       1.54 ms /    16 runs   (    0.10 ms per token, 10376.13 tokens per second)\n",
      "llama_print_timings: prompt eval time =     113.32 ms /    14 tokens (    8.09 ms per token,   123.54 tokens per second)\n",
      "llama_print_timings:        eval time =     372.19 ms /    15 runs   (   24.81 ms per token,    40.30 tokens per second)\n",
      "llama_print_timings:       total time =     508.05 ms /    29 tokens\n",
      "Llama.generate: prefix-match hit\n"
     ]
    },
    {
     "name": "stdout",
     "output_type": "stream",
     "text": [
      "--> testing hi: तौलिया पकड़ो और हुक पर लटका दो\n"
     ]
    },
    {
     "name": "stderr",
     "output_type": "stream",
     "text": [
      "\n",
      "llama_print_timings:        load time =    4007.51 ms\n",
      "llama_print_timings:      sample time =       2.23 ms /    23 runs   (    0.10 ms per token, 10300.04 tokens per second)\n",
      "llama_print_timings: prompt eval time =     190.52 ms /    38 tokens (    5.01 ms per token,   199.46 tokens per second)\n",
      "llama_print_timings:        eval time =     545.99 ms /    22 runs   (   24.82 ms per token,    40.29 tokens per second)\n",
      "llama_print_timings:       total time =     768.13 ms /    60 tokens\n",
      "Llama.generate: prefix-match hit\n"
     ]
    },
    {
     "name": "stdout",
     "output_type": "stream",
     "text": [
      "--> testing fr: Saisis la serviette et accroche-la au crochet.\n"
     ]
    },
    {
     "name": "stderr",
     "output_type": "stream",
     "text": [
      "\n",
      "llama_print_timings:        load time =    4007.51 ms\n",
      "llama_print_timings:      sample time =       1.29 ms /    13 runs   (    0.10 ms per token, 10108.86 tokens per second)\n",
      "llama_print_timings: prompt eval time =     115.25 ms /    20 tokens (    5.76 ms per token,   173.53 tokens per second)\n",
      "llama_print_timings:        eval time =     303.16 ms /    12 runs   (   25.26 ms per token,    39.58 tokens per second)\n",
      "llama_print_timings:       total time =     438.68 ms /    32 tokens\n",
      "Llama.generate: prefix-match hit\n"
     ]
    },
    {
     "name": "stdout",
     "output_type": "stream",
     "text": [
      "--> testing es: Toma la toalla y cuélgala en el gancho.\n"
     ]
    },
    {
     "name": "stderr",
     "output_type": "stream",
     "text": [
      "\n",
      "llama_print_timings:        load time =    4007.51 ms\n",
      "llama_print_timings:      sample time =       2.03 ms /    20 runs   (    0.10 ms per token,  9842.52 tokens per second)\n",
      "llama_print_timings: prompt eval time =     114.42 ms /    18 tokens (    6.36 ms per token,   157.32 tokens per second)\n",
      "llama_print_timings:        eval time =     470.49 ms /    19 runs   (   24.76 ms per token,    40.38 tokens per second)\n",
      "llama_print_timings:       total time =     615.09 ms /    37 tokens\n",
      "Llama.generate: prefix-match hit\n"
     ]
    },
    {
     "name": "stdout",
     "output_type": "stream",
     "text": [
      "--> testing it: Afferra l'asciugamano e appendilo al gancio.\n"
     ]
    },
    {
     "name": "stderr",
     "output_type": "stream",
     "text": [
      "\n",
      "llama_print_timings:        load time =    4007.51 ms\n",
      "llama_print_timings:      sample time =       1.90 ms /    20 runs   (    0.09 ms per token, 10537.41 tokens per second)\n",
      "llama_print_timings: prompt eval time =     113.98 ms /    20 tokens (    5.70 ms per token,   175.47 tokens per second)\n",
      "llama_print_timings:        eval time =     469.61 ms /    19 runs   (   24.72 ms per token,    40.46 tokens per second)\n",
      "llama_print_timings:       total time =     611.53 ms /    39 tokens\n",
      "Llama.generate: prefix-match hit\n"
     ]
    },
    {
     "name": "stdout",
     "output_type": "stream",
     "text": [
      "--> testing hi-en: towel pakdo and hook pe taango\n"
     ]
    },
    {
     "name": "stderr",
     "output_type": "stream",
     "text": [
      "\n",
      "llama_print_timings:        load time =    4007.51 ms\n",
      "llama_print_timings:      sample time =       2.59 ms /    27 runs   (    0.10 ms per token, 10432.77 tokens per second)\n",
      "llama_print_timings: prompt eval time =     111.97 ms /    12 tokens (    9.33 ms per token,   107.17 tokens per second)\n",
      "llama_print_timings:        eval time =     642.49 ms /    26 runs   (   24.71 ms per token,    40.47 tokens per second)\n",
      "llama_print_timings:       total time =     791.73 ms /    38 tokens\n",
      "Llama.generate: prefix-match hit\n"
     ]
    },
    {
     "name": "stdout",
     "output_type": "stream",
     "text": [
      "--> testing ms: Pegang tuala dan gantungkannya pada penyangkut.\n"
     ]
    },
    {
     "name": "stderr",
     "output_type": "stream",
     "text": [
      "\n",
      "llama_print_timings:        load time =    4007.51 ms\n",
      "llama_print_timings:      sample time =       2.54 ms /    26 runs   (    0.10 ms per token, 10220.13 tokens per second)\n",
      "llama_print_timings: prompt eval time =     114.60 ms /    23 tokens (    4.98 ms per token,   200.69 tokens per second)\n",
      "llama_print_timings:        eval time =     619.01 ms /    25 runs   (   24.76 ms per token,    40.39 tokens per second)\n",
      "llama_print_timings:       total time =     770.75 ms /    48 tokens\n",
      "Llama.generate: prefix-match hit\n"
     ]
    },
    {
     "name": "stdout",
     "output_type": "stream",
     "text": [
      "--> testing ru: Возьмите полотенце и повесьте его на крючок\n"
     ]
    },
    {
     "name": "stderr",
     "output_type": "stream",
     "text": [
      "\n",
      "llama_print_timings:        load time =    4007.51 ms\n",
      "llama_print_timings:      sample time =       1.09 ms /    13 runs   (    0.08 ms per token, 11959.52 tokens per second)\n",
      "llama_print_timings: prompt eval time =     114.68 ms /    20 tokens (    5.73 ms per token,   174.40 tokens per second)\n",
      "llama_print_timings:        eval time =     295.80 ms /    12 runs   (   24.65 ms per token,    40.57 tokens per second)\n",
      "llama_print_timings:       total time =     428.68 ms /    32 tokens\n",
      "Llama.generate: prefix-match hit\n"
     ]
    },
    {
     "name": "stdout",
     "output_type": "stream",
     "text": [
      "--> testing cn: 拿毛巾把它挂在钩子上\n"
     ]
    },
    {
     "name": "stderr",
     "output_type": "stream",
     "text": [
      "\n",
      "llama_print_timings:        load time =    4007.51 ms\n",
      "llama_print_timings:      sample time =       2.41 ms /    24 runs   (    0.10 ms per token,  9958.51 tokens per second)\n",
      "llama_print_timings: prompt eval time =     116.57 ms /    28 tokens (    4.16 ms per token,   240.20 tokens per second)\n",
      "llama_print_timings:        eval time =     567.20 ms /    23 runs   (   24.66 ms per token,    40.55 tokens per second)\n",
      "llama_print_timings:       total time =     721.52 ms /    51 tokens\n",
      "Llama.generate: prefix-match hit\n"
     ]
    },
    {
     "name": "stdout",
     "output_type": "stream",
     "text": [
      "average inference: 631.0ms\n",
      "------------\n",
      "--> testing en: Reach for the jacket and drape it over the chair.\n"
     ]
    },
    {
     "name": "stderr",
     "output_type": "stream",
     "text": [
      "\n",
      "llama_print_timings:        load time =    4007.51 ms\n",
      "llama_print_timings:      sample time =       1.49 ms /    15 runs   (    0.10 ms per token, 10053.62 tokens per second)\n",
      "llama_print_timings: prompt eval time =     112.80 ms /    17 tokens (    6.64 ms per token,   150.71 tokens per second)\n",
      "llama_print_timings:        eval time =     346.94 ms /    14 runs   (   24.78 ms per token,    40.35 tokens per second)\n",
      "llama_print_timings:       total time =     483.55 ms /    31 tokens\n",
      "Llama.generate: prefix-match hit\n"
     ]
    },
    {
     "name": "stdout",
     "output_type": "stream",
     "text": [
      "--> testing hi: जैकेट के लिए हाथ बढ़ाओ और कुर्सी पर ढाल दो\n"
     ]
    },
    {
     "name": "stderr",
     "output_type": "stream",
     "text": [
      "\n",
      "llama_print_timings:        load time =    4007.51 ms\n",
      "llama_print_timings:      sample time =       2.58 ms /    27 runs   (    0.10 ms per token, 10465.12 tokens per second)\n",
      "llama_print_timings: prompt eval time =     195.53 ms /    56 tokens (    3.49 ms per token,   286.40 tokens per second)\n",
      "llama_print_timings:        eval time =     655.72 ms /    26 runs   (   25.22 ms per token,    39.65 tokens per second)\n",
      "llama_print_timings:       total time =     894.43 ms /    82 tokens\n",
      "Llama.generate: prefix-match hit\n"
     ]
    },
    {
     "name": "stdout",
     "output_type": "stream",
     "text": [
      "--> testing fr: Attrape la veste et drape-la sur la chaise.\n"
     ]
    },
    {
     "name": "stderr",
     "output_type": "stream",
     "text": [
      "\n",
      "llama_print_timings:        load time =    4007.51 ms\n",
      "llama_print_timings:      sample time =       1.88 ms /    19 runs   (    0.10 ms per token, 10106.38 tokens per second)\n",
      "llama_print_timings: prompt eval time =     114.61 ms /    19 tokens (    6.03 ms per token,   165.78 tokens per second)\n",
      "llama_print_timings:        eval time =     446.02 ms /    18 runs   (   24.78 ms per token,    40.36 tokens per second)\n",
      "llama_print_timings:       total time =     587.22 ms /    37 tokens\n",
      "Llama.generate: prefix-match hit\n"
     ]
    },
    {
     "name": "stdout",
     "output_type": "stream",
     "text": [
      "--> testing es: Coge la chaqueta y colócala sobre la silla.\n"
     ]
    },
    {
     "name": "stderr",
     "output_type": "stream",
     "text": [
      "\n",
      "llama_print_timings:        load time =    4007.51 ms\n",
      "llama_print_timings:      sample time =       1.43 ms /    15 runs   (    0.10 ms per token, 10460.25 tokens per second)\n",
      "llama_print_timings: prompt eval time =     113.97 ms /    18 tokens (    6.33 ms per token,   157.94 tokens per second)\n",
      "llama_print_timings:        eval time =     346.94 ms /    14 runs   (   24.78 ms per token,    40.35 tokens per second)\n",
      "llama_print_timings:       total time =     482.17 ms /    32 tokens\n",
      "Llama.generate: prefix-match hit\n"
     ]
    },
    {
     "name": "stdout",
     "output_type": "stream",
     "text": [
      "--> testing it: Prendi la giacca e drappeggiala sulla sedia.\n"
     ]
    },
    {
     "name": "stderr",
     "output_type": "stream",
     "text": [
      "\n",
      "llama_print_timings:        load time =    4007.51 ms\n",
      "llama_print_timings:      sample time =       1.75 ms /    18 runs   (    0.10 ms per token, 10268.11 tokens per second)\n",
      "llama_print_timings: prompt eval time =     114.24 ms /    20 tokens (    5.71 ms per token,   175.07 tokens per second)\n",
      "llama_print_timings:        eval time =     416.55 ms /    17 runs   (   24.50 ms per token,    40.81 tokens per second)\n",
      "llama_print_timings:       total time =     557.47 ms /    37 tokens\n",
      "Llama.generate: prefix-match hit\n"
     ]
    },
    {
     "name": "stdout",
     "output_type": "stream",
     "text": [
      "--> testing hi-en: jacket pakdo and kursi pe latkao\n"
     ]
    },
    {
     "name": "stderr",
     "output_type": "stream",
     "text": [
      "\n",
      "llama_print_timings:        load time =    4007.51 ms\n",
      "llama_print_timings:      sample time =       2.86 ms /    29 runs   (    0.10 ms per token, 10136.32 tokens per second)\n",
      "llama_print_timings: prompt eval time =     112.84 ms /    14 tokens (    8.06 ms per token,   124.07 tokens per second)\n",
      "llama_print_timings:        eval time =     691.94 ms /    28 runs   (   24.71 ms per token,    40.47 tokens per second)\n",
      "llama_print_timings:       total time =     846.13 ms /    42 tokens\n",
      "Llama.generate: prefix-match hit\n"
     ]
    },
    {
     "name": "stdout",
     "output_type": "stream",
     "text": [
      "--> testing ms: Ambil jaket dan sangkutkannya di atas kerusi.\n"
     ]
    },
    {
     "name": "stderr",
     "output_type": "stream",
     "text": [
      "\n",
      "llama_print_timings:        load time =    4007.51 ms\n",
      "llama_print_timings:      sample time =       1.22 ms /    13 runs   (    0.09 ms per token, 10638.30 tokens per second)\n",
      "llama_print_timings: prompt eval time =     115.11 ms /    21 tokens (    5.48 ms per token,   182.43 tokens per second)\n",
      "llama_print_timings:        eval time =     296.23 ms /    12 runs   (   24.69 ms per token,    40.51 tokens per second)\n",
      "llama_print_timings:       total time =     429.40 ms /    33 tokens\n",
      "Llama.generate: prefix-match hit\n"
     ]
    },
    {
     "name": "stdout",
     "output_type": "stream",
     "text": [
      "--> testing ru: Возьмите куртку и накиньте ее на стул\n"
     ]
    },
    {
     "name": "stderr",
     "output_type": "stream",
     "text": [
      "\n",
      "llama_print_timings:        load time =    4007.51 ms\n",
      "llama_print_timings:      sample time =       1.34 ms /    14 runs   (    0.10 ms per token, 10416.67 tokens per second)\n",
      "llama_print_timings: prompt eval time =     115.00 ms /    19 tokens (    6.05 ms per token,   165.21 tokens per second)\n",
      "llama_print_timings:        eval time =     321.26 ms /    13 runs   (   24.71 ms per token,    40.47 tokens per second)\n",
      "llama_print_timings:       total time =     456.46 ms /    32 tokens\n",
      "Llama.generate: prefix-match hit\n"
     ]
    },
    {
     "name": "stdout",
     "output_type": "stream",
     "text": [
      "--> testing cn: 拿夹克衫把它披在椅子上\n"
     ]
    },
    {
     "name": "stderr",
     "output_type": "stream",
     "text": [
      "\n",
      "llama_print_timings:        load time =    4007.51 ms\n",
      "llama_print_timings:      sample time =       3.40 ms /    39 runs   (    0.09 ms per token, 11487.48 tokens per second)\n",
      "llama_print_timings: prompt eval time =     117.91 ms /    29 tokens (    4.07 ms per token,   245.95 tokens per second)\n",
      "llama_print_timings:        eval time =     941.83 ms /    38 runs   (   24.79 ms per token,    40.35 tokens per second)\n",
      "llama_print_timings:       total time =    1113.47 ms /    67 tokens\n",
      "Llama.generate: prefix-match hit\n"
     ]
    },
    {
     "name": "stdout",
     "output_type": "stream",
     "text": [
      "average inference: 652.8ms\n",
      "------------\n",
      "--> testing en: Would you mind fetching that book from the shelf and placing it on the coffee table, please?\n"
     ]
    },
    {
     "name": "stderr",
     "output_type": "stream",
     "text": [
      "\n",
      "llama_print_timings:        load time =    4007.51 ms\n",
      "llama_print_timings:      sample time =       2.75 ms /    27 runs   (    0.10 ms per token,  9818.18 tokens per second)\n",
      "llama_print_timings: prompt eval time =     116.61 ms /    24 tokens (    4.86 ms per token,   205.82 tokens per second)\n",
      "llama_print_timings:        eval time =     644.87 ms /    26 runs   (   24.80 ms per token,    40.32 tokens per second)\n",
      "llama_print_timings:       total time =     804.77 ms /    50 tokens\n",
      "Llama.generate: prefix-match hit\n"
     ]
    },
    {
     "name": "stdout",
     "output_type": "stream",
     "text": [
      "--> testing hi: क्या आप उस किताब को शेल्फ से लेकर कॉफी टेबल पर रख सकते हैं?\n"
     ]
    },
    {
     "name": "stderr",
     "output_type": "stream",
     "text": [
      "\n",
      "llama_print_timings:        load time =    4007.51 ms\n",
      "llama_print_timings:      sample time =       3.01 ms /    35 runs   (    0.09 ms per token, 11616.33 tokens per second)\n",
      "llama_print_timings: prompt eval time =     278.25 ms /    71 tokens (    3.92 ms per token,   255.16 tokens per second)\n",
      "llama_print_timings:        eval time =     852.80 ms /    34 runs   (   25.08 ms per token,    39.87 tokens per second)\n",
      "llama_print_timings:       total time =    1180.34 ms /   105 tokens\n",
      "Llama.generate: prefix-match hit\n"
     ]
    },
    {
     "name": "stdout",
     "output_type": "stream",
     "text": [
      "--> testing fr: Pourriez-vous avoir la gentillesse de prendre ce livre sur l'étagère et de le poser sur la table basse, s'il vous plaît ?\n"
     ]
    },
    {
     "name": "stderr",
     "output_type": "stream",
     "text": [
      "\n",
      "llama_print_timings:        load time =    4007.51 ms\n",
      "llama_print_timings:      sample time =       2.03 ms /    25 runs   (    0.08 ms per token, 12327.42 tokens per second)\n",
      "llama_print_timings: prompt eval time =     194.66 ms /    41 tokens (    4.75 ms per token,   210.63 tokens per second)\n",
      "llama_print_timings:        eval time =     594.39 ms /    24 runs   (   24.77 ms per token,    40.38 tokens per second)\n",
      "llama_print_timings:       total time =     824.03 ms /    65 tokens\n",
      "Llama.generate: prefix-match hit\n"
     ]
    },
    {
     "name": "stdout",
     "output_type": "stream",
     "text": [
      "--> testing es: ¿Te importaría coger ese libro del estante y ponerlo en la mesa de centro, por favor?\n"
     ]
    },
    {
     "name": "stderr",
     "output_type": "stream",
     "text": [
      "\n",
      "llama_print_timings:        load time =    4007.51 ms\n",
      "llama_print_timings:      sample time =       1.03 ms /    13 runs   (    0.08 ms per token, 12658.23 tokens per second)\n",
      "llama_print_timings: prompt eval time =     118.48 ms /    29 tokens (    4.09 ms per token,   244.76 tokens per second)\n",
      "llama_print_timings:        eval time =     296.69 ms /    12 runs   (   24.72 ms per token,    40.45 tokens per second)\n",
      "llama_print_timings:       total time =     433.50 ms /    41 tokens\n",
      "Llama.generate: prefix-match hit\n"
     ]
    },
    {
     "name": "stdout",
     "output_type": "stream",
     "text": [
      "--> testing it: Ti dispiace prendere quel libro dallo scaffale e metterlo sul tavolino, per favore?\n"
     ]
    },
    {
     "name": "stderr",
     "output_type": "stream",
     "text": [
      "\n",
      "llama_print_timings:        load time =    4007.51 ms\n",
      "llama_print_timings:      sample time =       2.34 ms /    29 runs   (    0.08 ms per token, 12403.76 tokens per second)\n",
      "llama_print_timings: prompt eval time =     118.56 ms /    30 tokens (    3.95 ms per token,   253.04 tokens per second)\n",
      "llama_print_timings:        eval time =     692.81 ms /    28 runs   (   24.74 ms per token,    40.42 tokens per second)\n",
      "llama_print_timings:       total time =     852.35 ms /    58 tokens\n",
      "Llama.generate: prefix-match hit\n"
     ]
    },
    {
     "name": "stdout",
     "output_type": "stream",
     "text": [
      "--> testing hi-en: kya aap woh book shelf se lekar coffee table pe rakh sakte hain, please?\n"
     ]
    },
    {
     "name": "stderr",
     "output_type": "stream",
     "text": [
      "\n",
      "llama_print_timings:        load time =    4007.51 ms\n",
      "llama_print_timings:      sample time =       1.67 ms /    21 runs   (    0.08 ms per token, 12574.85 tokens per second)\n",
      "llama_print_timings: prompt eval time =     116.37 ms /    27 tokens (    4.31 ms per token,   232.02 tokens per second)\n",
      "llama_print_timings:        eval time =     494.68 ms /    20 runs   (   24.73 ms per token,    40.43 tokens per second)\n",
      "llama_print_timings:       total time =     640.17 ms /    47 tokens\n",
      "Llama.generate: prefix-match hit\n"
     ]
    },
    {
     "name": "stdout",
     "output_type": "stream",
     "text": [
      "--> testing ms: Bolehkah anda tolong ambil buku itu dari rak dan letakkannya di atas meja kopi, sila? (Bolehkan anda tolong ambil buku itu dari rak dan letakkannya di atas meja kopi, sila?)\n"
     ]
    },
    {
     "name": "stderr",
     "output_type": "stream",
     "text": [
      "\n",
      "llama_print_timings:        load time =    4007.51 ms\n",
      "llama_print_timings:      sample time =       2.06 ms /    24 runs   (    0.09 ms per token, 11661.81 tokens per second)\n",
      "llama_print_timings: prompt eval time =     280.50 ms /    75 tokens (    3.74 ms per token,   267.37 tokens per second)\n",
      "llama_print_timings:        eval time =     575.96 ms /    23 runs   (   25.04 ms per token,    39.93 tokens per second)\n",
      "llama_print_timings:       total time =     889.99 ms /    98 tokens\n",
      "Llama.generate: prefix-match hit\n"
     ]
    },
    {
     "name": "stdout",
     "output_type": "stream",
     "text": [
      "--> testing ru: Не могли бы вы взять эту книгу с полки и положить ее на журнальный столик, пожалуйста?\n"
     ]
    },
    {
     "name": "stderr",
     "output_type": "stream",
     "text": [
      "\n",
      "llama_print_timings:        load time =    4007.51 ms\n",
      "llama_print_timings:      sample time =       2.03 ms /    25 runs   (    0.08 ms per token, 12315.27 tokens per second)\n",
      "llama_print_timings: prompt eval time =     191.93 ms /    35 tokens (    5.48 ms per token,   182.36 tokens per second)\n",
      "llama_print_timings:        eval time =     596.58 ms /    24 runs   (   24.86 ms per token,    40.23 tokens per second)\n",
      "llama_print_timings:       total time =     823.41 ms /    59 tokens\n",
      "Llama.generate: prefix-match hit\n"
     ]
    },
    {
     "name": "stdout",
     "output_type": "stream",
     "text": [
      "--> testing cn: 请问可以麻烦您把那个架子上的书拿下来放到茶几上吗\n"
     ]
    },
    {
     "name": "stderr",
     "output_type": "stream",
     "text": [
      "\n",
      "llama_print_timings:        load time =    4007.51 ms\n",
      "llama_print_timings:      sample time =       1.19 ms /    14 runs   (    0.08 ms per token, 11814.35 tokens per second)\n",
      "llama_print_timings: prompt eval time =     194.16 ms /    42 tokens (    4.62 ms per token,   216.32 tokens per second)\n",
      "llama_print_timings:        eval time =     318.76 ms /    13 runs   (   24.52 ms per token,    40.78 tokens per second)\n",
      "llama_print_timings:       total time =     533.47 ms /    55 tokens\n",
      "Llama.generate: prefix-match hit\n"
     ]
    },
    {
     "name": "stdout",
     "output_type": "stream",
     "text": [
      "average inference: 778.4ms\n",
      "------------\n",
      "--> testing en: Please put the dish in the dishwasher\n"
     ]
    },
    {
     "name": "stderr",
     "output_type": "stream",
     "text": [
      "\n",
      "llama_print_timings:        load time =    4007.51 ms\n",
      "llama_print_timings:      sample time =       1.98 ms /    17 runs   (    0.12 ms per token,  8607.59 tokens per second)\n",
      "llama_print_timings: prompt eval time =     112.56 ms /    15 tokens (    7.50 ms per token,   133.26 tokens per second)\n",
      "llama_print_timings:        eval time =     396.43 ms /    16 runs   (   24.78 ms per token,    40.36 tokens per second)\n",
      "llama_print_timings:       total time =     537.60 ms /    31 tokens\n",
      "Llama.generate: prefix-match hit\n"
     ]
    },
    {
     "name": "stdout",
     "output_type": "stream",
     "text": [
      "--> testing hi: कृपया डिश को डिशवॉशर में डालें\n"
     ]
    },
    {
     "name": "stderr",
     "output_type": "stream",
     "text": [
      "\n",
      "llama_print_timings:        load time =    4007.51 ms\n",
      "llama_print_timings:      sample time =       2.07 ms /    22 runs   (    0.09 ms per token, 10607.52 tokens per second)\n",
      "llama_print_timings: prompt eval time =     190.74 ms /    38 tokens (    5.02 ms per token,   199.23 tokens per second)\n",
      "llama_print_timings:        eval time =     522.93 ms /    21 runs   (   24.90 ms per token,    40.16 tokens per second)\n",
      "llama_print_timings:       total time =     744.75 ms /    59 tokens\n",
      "Llama.generate: prefix-match hit\n"
     ]
    },
    {
     "name": "stdout",
     "output_type": "stream",
     "text": [
      "--> testing fr: Veuillez mettre le plat au lave-vaisselle, s'il vous plaît.\n"
     ]
    },
    {
     "name": "stderr",
     "output_type": "stream",
     "text": [
      "\n",
      "llama_print_timings:        load time =    4007.51 ms\n",
      "llama_print_timings:      sample time =       1.43 ms /    18 runs   (    0.08 ms per token, 12622.72 tokens per second)\n",
      "llama_print_timings: prompt eval time =     117.68 ms /    26 tokens (    4.53 ms per token,   220.94 tokens per second)\n",
      "llama_print_timings:        eval time =     420.32 ms /    17 runs   (   24.72 ms per token,    40.45 tokens per second)\n",
      "llama_print_timings:       total time =     563.34 ms /    43 tokens\n",
      "Llama.generate: prefix-match hit\n"
     ]
    },
    {
     "name": "stdout",
     "output_type": "stream",
     "text": [
      "--> testing es: Por favor, pon el plato en el lavavajillas.\n"
     ]
    },
    {
     "name": "stderr",
     "output_type": "stream",
     "text": [
      "\n",
      "llama_print_timings:        load time =    4007.51 ms\n",
      "llama_print_timings:      sample time =       1.54 ms /    16 runs   (    0.10 ms per token, 10416.67 tokens per second)\n",
      "llama_print_timings: prompt eval time =     114.03 ms /    17 tokens (    6.71 ms per token,   149.08 tokens per second)\n",
      "llama_print_timings:        eval time =     369.35 ms /    15 runs   (   24.62 ms per token,    40.61 tokens per second)\n",
      "llama_print_timings:       total time =     506.28 ms /    32 tokens\n",
      "Llama.generate: prefix-match hit\n"
     ]
    },
    {
     "name": "stdout",
     "output_type": "stream",
     "text": [
      "--> testing it: Per favore, metti il piatto in lavastoviglie.\n"
     ]
    },
    {
     "name": "stderr",
     "output_type": "stream",
     "text": [
      "\n",
      "llama_print_timings:        load time =    4007.51 ms\n",
      "llama_print_timings:      sample time =       1.48 ms /    17 runs   (    0.09 ms per token, 11478.73 tokens per second)\n",
      "llama_print_timings: prompt eval time =     114.95 ms /    20 tokens (    5.75 ms per token,   174.00 tokens per second)\n",
      "llama_print_timings:        eval time =     394.75 ms /    16 runs   (   24.67 ms per token,    40.53 tokens per second)\n",
      "llama_print_timings:       total time =     533.18 ms /    36 tokens\n",
      "Llama.generate: prefix-match hit\n"
     ]
    },
    {
     "name": "stdout",
     "output_type": "stream",
     "text": [
      "--> testing hi-en: kripya, bartan ko dishwasher mein rakhen\n"
     ]
    },
    {
     "name": "stderr",
     "output_type": "stream",
     "text": [
      "\n",
      "llama_print_timings:        load time =    4007.51 ms\n",
      "llama_print_timings:      sample time =       1.41 ms /    18 runs   (    0.08 ms per token, 12802.28 tokens per second)\n",
      "llama_print_timings: prompt eval time =     114.53 ms /    22 tokens (    5.21 ms per token,   192.09 tokens per second)\n",
      "llama_print_timings:        eval time =     421.51 ms /    17 runs   (   24.79 ms per token,    40.33 tokens per second)\n",
      "llama_print_timings:       total time =     560.90 ms /    39 tokens\n",
      "Llama.generate: prefix-match hit\n"
     ]
    },
    {
     "name": "stdout",
     "output_type": "stream",
     "text": [
      "--> testing ms: Silakan masukkan pinggan ke dalam mesin basuh pinggan mangkuk.\n"
     ]
    },
    {
     "name": "stderr",
     "output_type": "stream",
     "text": [
      "\n",
      "llama_print_timings:        load time =    4007.51 ms\n",
      "llama_print_timings:      sample time =       1.88 ms /    21 runs   (    0.09 ms per token, 11194.03 tokens per second)\n",
      "llama_print_timings: prompt eval time =     116.83 ms /    24 tokens (    4.87 ms per token,   205.43 tokens per second)\n",
      "llama_print_timings:        eval time =     494.86 ms /    20 runs   (   24.74 ms per token,    40.42 tokens per second)\n",
      "llama_print_timings:       total time =     641.45 ms /    44 tokens\n",
      "Llama.generate: prefix-match hit\n"
     ]
    },
    {
     "name": "stdout",
     "output_type": "stream",
     "text": [
      "--> testing ru: Пожалуйста, поставьте посуду в посудомоечную машину\n"
     ]
    },
    {
     "name": "stderr",
     "output_type": "stream",
     "text": [
      "\n",
      "llama_print_timings:        load time =    4007.51 ms\n",
      "llama_print_timings:      sample time =       1.33 ms /    17 runs   (    0.08 ms per token, 12820.51 tokens per second)\n",
      "llama_print_timings: prompt eval time =     118.39 ms /    27 tokens (    4.38 ms per token,   228.05 tokens per second)\n",
      "llama_print_timings:        eval time =     397.50 ms /    16 runs   (   24.84 ms per token,    40.25 tokens per second)\n",
      "llama_print_timings:       total time =     539.42 ms /    43 tokens\n",
      "Llama.generate: prefix-match hit\n"
     ]
    },
    {
     "name": "stdout",
     "output_type": "stream",
     "text": [
      "--> testing cn: 请把盘子放进洗碗机\n"
     ]
    },
    {
     "name": "stderr",
     "output_type": "stream",
     "text": [
      "\n",
      "llama_print_timings:        load time =    4007.51 ms\n",
      "llama_print_timings:      sample time =       3.23 ms /    30 runs   (    0.11 ms per token,  9285.05 tokens per second)\n",
      "llama_print_timings: prompt eval time =     113.56 ms /    21 tokens (    5.41 ms per token,   184.92 tokens per second)\n",
      "llama_print_timings:        eval time =     720.62 ms /    29 runs   (   24.85 ms per token,    40.24 tokens per second)\n",
      "llama_print_timings:       total time =     881.24 ms /    50 tokens\n",
      "Llama.generate: prefix-match hit\n"
     ]
    },
    {
     "name": "stdout",
     "output_type": "stream",
     "text": [
      "average inference: 614.9ms\n",
      "------------\n",
      "--> testing en: Bin the banana peel\n"
     ]
    },
    {
     "name": "stderr",
     "output_type": "stream",
     "text": [
      "\n",
      "llama_print_timings:        load time =    4007.51 ms\n",
      "llama_print_timings:      sample time =       1.40 ms /    15 runs   (    0.09 ms per token, 10721.94 tokens per second)\n",
      "llama_print_timings: prompt eval time =     111.61 ms /     9 tokens (   12.40 ms per token,    80.64 tokens per second)\n",
      "llama_print_timings:        eval time =     344.77 ms /    14 runs   (   24.63 ms per token,    40.61 tokens per second)\n",
      "llama_print_timings:       total time =     478.01 ms /    23 tokens\n",
      "Llama.generate: prefix-match hit\n"
     ]
    },
    {
     "name": "stdout",
     "output_type": "stream",
     "text": [
      "--> testing hi: केले की छिलका कूड़े में डाल दो\n"
     ]
    },
    {
     "name": "stderr",
     "output_type": "stream",
     "text": [
      "\n",
      "llama_print_timings:        load time =    4007.51 ms\n",
      "llama_print_timings:      sample time =       3.05 ms /    32 runs   (    0.10 ms per token, 10498.69 tokens per second)\n",
      "llama_print_timings: prompt eval time =     189.68 ms /    36 tokens (    5.27 ms per token,   189.80 tokens per second)\n",
      "llama_print_timings:        eval time =     773.50 ms /    31 runs   (   24.95 ms per token,    40.08 tokens per second)\n",
      "llama_print_timings:       total time =    1008.47 ms /    67 tokens\n",
      "Llama.generate: prefix-match hit\n"
     ]
    },
    {
     "name": "stdout",
     "output_type": "stream",
     "text": [
      "--> testing fr: Jette la peau de banane à la poubelle.\n"
     ]
    },
    {
     "name": "stderr",
     "output_type": "stream",
     "text": [
      "\n",
      "llama_print_timings:        load time =    4007.51 ms\n",
      "llama_print_timings:      sample time =       2.04 ms /    21 runs   (    0.10 ms per token, 10304.22 tokens per second)\n",
      "llama_print_timings: prompt eval time =     112.34 ms /    17 tokens (    6.61 ms per token,   151.33 tokens per second)\n",
      "llama_print_timings:        eval time =     494.06 ms /    20 runs   (   24.70 ms per token,    40.48 tokens per second)\n",
      "llama_print_timings:       total time =     635.95 ms /    37 tokens\n",
      "Llama.generate: prefix-match hit\n"
     ]
    },
    {
     "name": "stdout",
     "output_type": "stream",
     "text": [
      "--> testing es: Tira la cáscara de plátano a la basura.\n"
     ]
    },
    {
     "name": "stderr",
     "output_type": "stream",
     "text": [
      "\n",
      "llama_print_timings:        load time =    4007.51 ms\n",
      "llama_print_timings:      sample time =       3.21 ms /    34 runs   (    0.09 ms per token, 10598.50 tokens per second)\n",
      "llama_print_timings: prompt eval time =     113.14 ms /    19 tokens (    5.95 ms per token,   167.94 tokens per second)\n",
      "llama_print_timings:        eval time =     815.51 ms /    33 runs   (   24.71 ms per token,    40.47 tokens per second)\n",
      "llama_print_timings:       total time =     976.91 ms /    52 tokens\n",
      "Llama.generate: prefix-match hit\n"
     ]
    },
    {
     "name": "stdout",
     "output_type": "stream",
     "text": [
      "--> testing it: Getta la buccia di banana nella spazzatura.\n"
     ]
    },
    {
     "name": "stderr",
     "output_type": "stream",
     "text": [
      "\n",
      "llama_print_timings:        load time =    4007.51 ms\n",
      "llama_print_timings:      sample time =       1.73 ms /    18 runs   (    0.10 ms per token, 10428.74 tokens per second)\n",
      "llama_print_timings: prompt eval time =     112.46 ms /    17 tokens (    6.62 ms per token,   151.16 tokens per second)\n",
      "llama_print_timings:        eval time =     420.33 ms /    17 runs   (   24.73 ms per token,    40.44 tokens per second)\n",
      "llama_print_timings:       total time =     557.93 ms /    34 tokens\n",
      "Llama.generate: prefix-match hit\n"
     ]
    },
    {
     "name": "stdout",
     "output_type": "stream",
     "text": [
      "--> testing hi-en: kela ke chilke ko dustbin mein fenk do\n"
     ]
    },
    {
     "name": "stderr",
     "output_type": "stream",
     "text": [
      "\n",
      "llama_print_timings:        load time =    4007.51 ms\n",
      "llama_print_timings:      sample time =       2.59 ms /    27 runs   (    0.10 ms per token, 10428.74 tokens per second)\n",
      "llama_print_timings: prompt eval time =     112.39 ms /    17 tokens (    6.61 ms per token,   151.26 tokens per second)\n",
      "llama_print_timings:        eval time =     639.17 ms /    26 runs   (   24.58 ms per token,    40.68 tokens per second)\n",
      "llama_print_timings:       total time =     790.59 ms /    43 tokens\n",
      "Llama.generate: prefix-match hit\n"
     ]
    },
    {
     "name": "stdout",
     "output_type": "stream",
     "text": [
      "--> testing ms: Buang kulit pisang ke dalam tong sampah.\n"
     ]
    },
    {
     "name": "stderr",
     "output_type": "stream",
     "text": [
      "\n",
      "llama_print_timings:        load time =    4007.51 ms\n",
      "llama_print_timings:      sample time =       1.66 ms /    18 runs   (    0.09 ms per token, 10863.01 tokens per second)\n",
      "llama_print_timings: prompt eval time =     112.99 ms /    18 tokens (    6.28 ms per token,   159.30 tokens per second)\n",
      "llama_print_timings:        eval time =     419.36 ms /    17 runs   (   24.67 ms per token,    40.54 tokens per second)\n",
      "llama_print_timings:       total time =     557.49 ms /    35 tokens\n",
      "Llama.generate: prefix-match hit\n"
     ]
    },
    {
     "name": "stdout",
     "output_type": "stream",
     "text": [
      "--> testing ru: Выбросьте банановую кожуру в мусорное ведро\n"
     ]
    },
    {
     "name": "stderr",
     "output_type": "stream",
     "text": [
      "\n",
      "llama_print_timings:        load time =    4007.51 ms\n",
      "llama_print_timings:      sample time =       1.60 ms /    17 runs   (    0.09 ms per token, 10618.36 tokens per second)\n",
      "llama_print_timings: prompt eval time =     114.94 ms /    20 tokens (    5.75 ms per token,   174.01 tokens per second)\n",
      "llama_print_timings:        eval time =     397.73 ms /    16 runs   (   24.86 ms per token,    40.23 tokens per second)\n",
      "llama_print_timings:       total time =     541.19 ms /    36 tokens\n",
      "Llama.generate: prefix-match hit\n"
     ]
    },
    {
     "name": "stdout",
     "output_type": "stream",
     "text": [
      "--> testing cn: 把香蕉皮扔进垃圾桶\n"
     ]
    },
    {
     "name": "stderr",
     "output_type": "stream",
     "text": [
      "\n",
      "llama_print_timings:        load time =    4007.51 ms\n",
      "llama_print_timings:      sample time =       1.51 ms /    17 runs   (    0.09 ms per token, 11250.83 tokens per second)\n",
      "llama_print_timings: prompt eval time =     116.47 ms /    27 tokens (    4.31 ms per token,   231.82 tokens per second)\n",
      "llama_print_timings:        eval time =     395.28 ms /    16 runs   (   24.70 ms per token,    40.48 tokens per second)\n",
      "llama_print_timings:       total time =     535.65 ms /    43 tokens\n"
     ]
    },
    {
     "name": "stdout",
     "output_type": "stream",
     "text": [
      "average inference: 678.5ms\n",
      "------------\n"
     ]
    }
   ],
   "source": [
    "RESULTS_2 = []\n",
    "\n",
    "for qblock in QUESTIONS:\n",
    "    inference_times = []\n",
    "    block_result = {\n",
    "        'task': qblock['qset']['en'],\n",
    "        'ans': qblock['ans']\n",
    "    }\n",
    "    for (lang, q) in qblock['qset'].items():\n",
    "        if q == '':\n",
    "            continue\n",
    "        \n",
    "        print('--> testing %s: %s' % (lang, q))\n",
    "        start_time = time.perf_counter()\n",
    "        output = llm(\n",
    "            prompt=getPrompt2(q),\n",
    "            max_tokens=160,  # Generate up to 256 tokens\n",
    "            stop=[\"<|end|>\"],\n",
    "            echo=False,\n",
    "            temperature=0.4\n",
    "        )\n",
    "        end_time = time.perf_counter()\n",
    "        inference_times.append( (end_time-start_time)*1000 )\n",
    "        # print(\"inference time: %.1fms\\n\" % ((end_time-start_time)*1000,))\n",
    "        \n",
    "        llmAns = processLLMOutput(output['choices'][0]['text'])\n",
    "        block_result[lang+'_raw'] = llmAns\n",
    "        block_result[lang] = llmAns == qblock['ans'] and isValidPython(llmAns)\n",
    "\n",
    "    block_result['avg_inference_ms'] = round(sum(inference_times)/len(inference_times), 1)\n",
    "    RESULTS_2.append(block_result)\n",
    "    print('average inference: %.1fms' % block_result['avg_inference_ms'])\n",
    "\n",
    "    print('------------')"
   ]
  },
  {
   "cell_type": "code",
   "execution_count": 242,
   "metadata": {},
   "outputs": [
    {
     "data": {
      "text/html": [
       "<div>\n",
       "<style scoped>\n",
       "    .dataframe tbody tr th:only-of-type {\n",
       "        vertical-align: middle;\n",
       "    }\n",
       "\n",
       "    .dataframe tbody tr th {\n",
       "        vertical-align: top;\n",
       "    }\n",
       "\n",
       "    .dataframe thead th {\n",
       "        text-align: right;\n",
       "    }\n",
       "</style>\n",
       "<table border=\"1\" class=\"dataframe\">\n",
       "  <thead>\n",
       "    <tr style=\"text-align: right;\">\n",
       "      <th></th>\n",
       "      <th>task</th>\n",
       "      <th>ans</th>\n",
       "      <th>en_raw</th>\n",
       "      <th>en</th>\n",
       "      <th>hi_raw</th>\n",
       "      <th>hi</th>\n",
       "      <th>fr_raw</th>\n",
       "      <th>fr</th>\n",
       "      <th>es_raw</th>\n",
       "      <th>es</th>\n",
       "      <th>it_raw</th>\n",
       "      <th>it</th>\n",
       "      <th>hi-en_raw</th>\n",
       "      <th>hi-en</th>\n",
       "      <th>ms_raw</th>\n",
       "      <th>ms</th>\n",
       "      <th>ru_raw</th>\n",
       "      <th>ru</th>\n",
       "      <th>cn_raw</th>\n",
       "      <th>cn</th>\n",
       "      <th>avg_inference_ms</th>\n",
       "    </tr>\n",
       "  </thead>\n",
       "  <tbody>\n",
       "    <tr>\n",
       "      <th>1</th>\n",
       "      <td>pick the ball and place on the table</td>\n",
       "      <td>action.pick_place(\"ball\", \"table\")</td>\n",
       "      <td>action.pick_place(\"ball\", \"table\")</td>\n",
       "      <td>True</td>\n",
       "      <td>action.pick(\"gift\")</td>\n",
       "      <td>False</td>\n",
       "      <td>action.pick(\"ball\")</td>\n",
       "      <td>False</td>\n",
       "      <td>action.pick_place(\"ball\", \"table\")</td>\n",
       "      <td>True</td>\n",
       "      <td>action.pick(\"palla\")</td>\n",
       "      <td>False</td>\n",
       "      <td>action.pick(\"uthao\")</td>\n",
       "      <td>False</td>\n",
       "      <td>action.pick(\"bola\")</td>\n",
       "      <td>False</td>\n",
       "      <td>action.pick_place(\"\", \"\")</td>\n",
       "      <td>False</td>\n",
       "      <td>action.pick(\"ball\")</td>\n",
       "      <td>False</td>\n",
       "      <td>578.3</td>\n",
       "    </tr>\n",
       "    <tr>\n",
       "      <th>2</th>\n",
       "      <td>pick the red ball and place in the blue box</td>\n",
       "      <td>action.pick_place(\"red ball\", \"blue box\")</td>\n",
       "      <td>action.pick_place(\"red ball\", \"blue box\")</td>\n",
       "      <td>True</td>\n",
       "      <td>action.pick_place(\"ball\", \"blue box\")</td>\n",
       "      <td>False</td>\n",
       "      <td>action.pick(\"red ball\")</td>\n",
       "      <td>False</td>\n",
       "      <td>action.pick_place(\"red ball\", \"blue box\")</td>\n",
       "      <td>True</td>\n",
       "      <td>action.pick(\"red ball\")</td>\n",
       "      <td>False</td>\n",
       "      <td>action.pick_place(\"ball\", \"box\")</td>\n",
       "      <td>False</td>\n",
       "      <td>action.pick_place(\"red ball\", \"blue box\")</td>\n",
       "      <td>True</td>\n",
       "      <td>action.pick_place(\"red ball\", \"blue box\")</td>\n",
       "      <td>True</td>\n",
       "      <td>action.pick(\"red ball\")</td>\n",
       "      <td>False</td>\n",
       "      <td>534.6</td>\n",
       "    </tr>\n",
       "    <tr>\n",
       "      <th>3</th>\n",
       "      <td>pickup the tennis ball and place on the table</td>\n",
       "      <td>action.pick_place(\"tennis ball\", \"table\")</td>\n",
       "      <td>action.pick_place(\"tennis ball\", \"table\")</td>\n",
       "      <td>True</td>\n",
       "      <td>action.pick(\" \")</td>\n",
       "      <td>False</td>\n",
       "      <td>action.pick_place(\"tennis ball\", \"table\")</td>\n",
       "      <td>True</td>\n",
       "      <td>action.pick_place(\"tennis ball\", \"table\")</td>\n",
       "      <td>True</td>\n",
       "      <td>action.pick(\"tennis ball\")</td>\n",
       "      <td>False</td>\n",
       "      <td>action.pick(\"tennis ball\")</td>\n",
       "      <td>False</td>\n",
       "      <td>action.pick_place(\"tennis ball\", \"table\")</td>\n",
       "      <td>True</td>\n",
       "      <td>action.pick_place(\"tennis ball\", \"table\")</td>\n",
       "      <td>True</td>\n",
       "      <td>action.pick_place(\"tennis ball\", \"table\")</td>\n",
       "      <td>True</td>\n",
       "      <td>613.9</td>\n",
       "    </tr>\n",
       "    <tr>\n",
       "      <th>4</th>\n",
       "      <td>pickup the banana and dance</td>\n",
       "      <td>action.pick(\"banana\")</td>\n",
       "      <td>action.pick_place(\"banana\")</td>\n",
       "      <td>False</td>\n",
       "      <td>action.pick_place(\"kala\", \"above\")</td>\n",
       "      <td>False</td>\n",
       "      <td>action.pick(\"banana\")</td>\n",
       "      <td>True</td>\n",
       "      <td>action.pick(\"platano\")</td>\n",
       "      <td>False</td>\n",
       "      <td>action.pick(\"banana\")</td>\n",
       "      <td>True</td>\n",
       "      <td>action.pick(\"karo\")</td>\n",
       "      <td>False</td>\n",
       "      <td>action.pick(\"pisang\")</td>\n",
       "      <td>False</td>\n",
       "      <td>action.pick(\"banana\")</td>\n",
       "      <td>True</td>\n",
       "      <td>action.pick(\"banana\")</td>\n",
       "      <td>True</td>\n",
       "      <td>537.5</td>\n",
       "    </tr>\n",
       "    <tr>\n",
       "      <th>5</th>\n",
       "      <td>put the ball in the box</td>\n",
       "      <td>action.pick_place(\"ball\", \"box\")</td>\n",
       "      <td>action.pick_place(\"ball\", \"box\")</td>\n",
       "      <td>True</td>\n",
       "      <td>action.pick_place(\"bag\", \"box\")</td>\n",
       "      <td>False</td>\n",
       "      <td>action.pick_place(\"ball\", \"box\")</td>\n",
       "      <td>True</td>\n",
       "      <td>action.pick_place(\"pelota\", \"caja\")</td>\n",
       "      <td>False</td>\n",
       "      <td>action.pick_place(\"ball\", \"box\")</td>\n",
       "      <td>True</td>\n",
       "      <td>action.pick(\"ball\")</td>\n",
       "      <td>False</td>\n",
       "      <td>action.pick_place(\"ball\", \"container\")</td>\n",
       "      <td>False</td>\n",
       "      <td>action.pick_place(\"\", \"\")</td>\n",
       "      <td>False</td>\n",
       "      <td>action.pick_place(\"ball\", \"box\")</td>\n",
       "      <td>True</td>\n",
       "      <td>437.0</td>\n",
       "    </tr>\n",
       "    <tr>\n",
       "      <th>6</th>\n",
       "      <td>put the bread in tiffin</td>\n",
       "      <td>action.pick_place(\"bread\", \"tiffin\")</td>\n",
       "      <td>action.pick_place(\"bread\", \"tiffin\")</td>\n",
       "      <td>True</td>\n",
       "      <td>action.pick_place(\"breed\", \"pocket\")</td>\n",
       "      <td>False</td>\n",
       "      <td>action.pick_place(\"bread\", \"tiffin\")</td>\n",
       "      <td>True</td>\n",
       "      <td>action.pick_place(\"pan\", \"fiambrera\")</td>\n",
       "      <td>False</td>\n",
       "      <td>action.pick_place(\"pan\", \"lunch box\")</td>\n",
       "      <td>False</td>\n",
       "      <td>action.pick(\"bread\")</td>\n",
       "      <td>False</td>\n",
       "      <td>action.pick_place(\"roti\", \"tiffin\")</td>\n",
       "      <td>False</td>\n",
       "      <td>action.pick_place(\"bread\", \"lunch box\")</td>\n",
       "      <td>False</td>\n",
       "      <td>action.pick_place(\"\", \"\")</td>\n",
       "      <td>False</td>\n",
       "      <td>504.9</td>\n",
       "    </tr>\n",
       "    <tr>\n",
       "      <th>7</th>\n",
       "      <td>put the flower pot on the table</td>\n",
       "      <td>action.pick_place(\"flower pot\", \"table\")</td>\n",
       "      <td>action.pick_place(\"flower pot\", \"table\")</td>\n",
       "      <td>True</td>\n",
       "      <td>action.pick_place(\"flower bouquet\", \"table\")</td>\n",
       "      <td>False</td>\n",
       "      <td>action.pick(\"pot of flowers\")</td>\n",
       "      <td>False</td>\n",
       "      <td>action.pick_place(\"maceta\", \"mesa\")</td>\n",
       "      <td>False</td>\n",
       "      <td>action.pick_place(\"vaso di fiori\", \"tavolo\")</td>\n",
       "      <td>False</td>\n",
       "      <td>action.pick_place(\"flower pot\", \"table\")</td>\n",
       "      <td>True</td>\n",
       "      <td>action.pick_place(\"flower pot\", \"table\")</td>\n",
       "      <td>True</td>\n",
       "      <td>action.pick_place(\"colored pot\", \"table\")</td>\n",
       "      <td>False</td>\n",
       "      <td>action.pick_place(\"flower vase\", \"table\")</td>\n",
       "      <td>False</td>\n",
       "      <td>528.0</td>\n",
       "    </tr>\n",
       "    <tr>\n",
       "      <th>8</th>\n",
       "      <td>keep the apple on the plate</td>\n",
       "      <td>action.pick_place(\"apple\", \"plate\")</td>\n",
       "      <td>action.pick_place(\"apple\", \"plate\")</td>\n",
       "      <td>True</td>\n",
       "      <td>action.pick_place(\"apple\", \"plate\")</td>\n",
       "      <td>True</td>\n",
       "      <td>action.pick_place(\"apple\", \"plate\")</td>\n",
       "      <td>True</td>\n",
       "      <td>action.pick_place(\"apple\", \"plate\")</td>\n",
       "      <td>True</td>\n",
       "      <td>action.pick_place(\"apple\", \"plate\")</td>\n",
       "      <td>True</td>\n",
       "      <td>action.pick(\"plate\")</td>\n",
       "      <td>False</td>\n",
       "      <td>action.pick_place(\"epal di atas pinggan\", \"sto...</td>\n",
       "      <td>False</td>\n",
       "      <td>action.pick(\"apple\")</td>\n",
       "      <td>False</td>\n",
       "      <td>action.pick_place(\"apple\", \"plate\")</td>\n",
       "      <td>True</td>\n",
       "      <td>458.7</td>\n",
       "    </tr>\n",
       "    <tr>\n",
       "      <th>9</th>\n",
       "      <td>place the bread in the tiffin</td>\n",
       "      <td>action.pick_place(\"bread\", \"tiffin\")</td>\n",
       "      <td>action.pick_place(\"bread\", \"tiffin\")</td>\n",
       "      <td>True</td>\n",
       "      <td>action.pick(\"bread\")</td>\n",
       "      <td>False</td>\n",
       "      <td>action.pick_place(\"bread\", \"tiffin\")</td>\n",
       "      <td>True</td>\n",
       "      <td>action.pick_place(\"pan\", \"fiambrera\")</td>\n",
       "      <td>False</td>\n",
       "      <td>action.pick_place(\"pane\", \"scatola del pranzo\")</td>\n",
       "      <td>False</td>\n",
       "      <td>action.pick_place(\"bread\", \"tiffin\")</td>\n",
       "      <td>True</td>\n",
       "      <td>action.pick_place(\"roti\", \"tiffin\")</td>\n",
       "      <td>False</td>\n",
       "      <td>action.pick_place(\"bread\", \"lunchbox\")</td>\n",
       "      <td>False</td>\n",
       "      <td>action.pick_place(\"\", \"\")</td>\n",
       "      <td>False</td>\n",
       "      <td>517.2</td>\n",
       "    </tr>\n",
       "    <tr>\n",
       "      <th>10</th>\n",
       "      <td>throw the coke in the bin</td>\n",
       "      <td>action.pick_place(\"coke\", \"bin\")</td>\n",
       "      <td>action.pick_place(\"coke\", \"bin\")</td>\n",
       "      <td>True</td>\n",
       "      <td>action.pick_place(\"\", \"\")</td>\n",
       "      <td>False</td>\n",
       "      <td>action.pick(\"coca\")</td>\n",
       "      <td>False</td>\n",
       "      <td>action.pick(\"coca\")</td>\n",
       "      <td>False</td>\n",
       "      <td>action.pick(\"coca\")</td>\n",
       "      <td>False</td>\n",
       "      <td>action.pick(\"coke\")</td>\n",
       "      <td>False</td>\n",
       "      <td>action.pick(\"coke\")</td>\n",
       "      <td>False</td>\n",
       "      <td>action.pick(\"cocoa\")</td>\n",
       "      <td>False</td>\n",
       "      <td>action.pick_place(\"coca-cola\", \"garbage can\")</td>\n",
       "      <td>False</td>\n",
       "      <td>554.3</td>\n",
       "    </tr>\n",
       "    <tr>\n",
       "      <th>11</th>\n",
       "      <td>grab the soldering iron</td>\n",
       "      <td>action.pick(\"soldering iron\")</td>\n",
       "      <td>action.pick(\"soldering iron\")</td>\n",
       "      <td>True</td>\n",
       "      <td>action.pick(\"soldiering aaron pack\")</td>\n",
       "      <td>False</td>\n",
       "      <td>action.pick(\"fer  souder\")</td>\n",
       "      <td>False</td>\n",
       "      <td>action.pick(\"soldador\")</td>\n",
       "      <td>False</td>\n",
       "      <td>action.pick(\"soldering iron\")</td>\n",
       "      <td>True</td>\n",
       "      <td>action.pick(\"soldering iron\")</td>\n",
       "      <td>True</td>\n",
       "      <td>action.pick(\"seterika pemateri\")</td>\n",
       "      <td>False</td>\n",
       "      <td>action.pick(\"pastry\")</td>\n",
       "      <td>False</td>\n",
       "      <td>action.pick(\"red-hot iron\")</td>\n",
       "      <td>False</td>\n",
       "      <td>408.3</td>\n",
       "    </tr>\n",
       "    <tr>\n",
       "      <th>12</th>\n",
       "      <td>grab the bottle</td>\n",
       "      <td>action.pick(\"bottle\")</td>\n",
       "      <td>action.pick(\"bottle\")</td>\n",
       "      <td>True</td>\n",
       "      <td>action.pick_place(\"bottle\", \"location where bo...</td>\n",
       "      <td>False</td>\n",
       "      <td>action.pick(\"bottle\")</td>\n",
       "      <td>True</td>\n",
       "      <td>action.pick(\"botell\")</td>\n",
       "      <td>False</td>\n",
       "      <td>action.pick(\"bottle\")</td>\n",
       "      <td>True</td>\n",
       "      <td>action.pick(\"bottle\")</td>\n",
       "      <td>True</td>\n",
       "      <td>action.pick(\"bottle\")</td>\n",
       "      <td>True</td>\n",
       "      <td>action.pick(\"bottle\")</td>\n",
       "      <td>True</td>\n",
       "      <td>action.pick(\"water bottle\")</td>\n",
       "      <td>False</td>\n",
       "      <td>403.6</td>\n",
       "    </tr>\n",
       "    <tr>\n",
       "      <th>13</th>\n",
       "      <td>Pick up the fallen pencil</td>\n",
       "      <td>action.pick(\"pencil\")</td>\n",
       "      <td>action.pick(\"pencil\")</td>\n",
       "      <td>True</td>\n",
       "      <td>action.pick(\"pencil\")</td>\n",
       "      <td>True</td>\n",
       "      <td>action.pick(\"crayon\")</td>\n",
       "      <td>False</td>\n",
       "      <td>action.pick(\"lapel\")</td>\n",
       "      <td>False</td>\n",
       "      <td>action.pick(\"matita\")</td>\n",
       "      <td>False</td>\n",
       "      <td>action.pick(\"pencil\")</td>\n",
       "      <td>True</td>\n",
       "      <td>action.pick(\"pensel\")</td>\n",
       "      <td>False</td>\n",
       "      <td>action.pick(\"fallen pencil\")</td>\n",
       "      <td>False</td>\n",
       "      <td>action.pick_place(\"steel pen\", \"ground\")</td>\n",
       "      <td>False</td>\n",
       "      <td>577.5</td>\n",
       "    </tr>\n",
       "    <tr>\n",
       "      <th>14</th>\n",
       "      <td>Grab the remote and toss it on the couch</td>\n",
       "      <td>action.pick_place(\"remote\", \"couch\")</td>\n",
       "      <td>action.pick(\"remote\")</td>\n",
       "      <td>False</td>\n",
       "      <td>pick_place(\"rimot\", \"sofe\")</td>\n",
       "      <td>False</td>\n",
       "      <td>action.pick(\"television remote control\")</td>\n",
       "      <td>False</td>\n",
       "      <td>action.pick(\"mando a distancia\")</td>\n",
       "      <td>False</td>\n",
       "      <td>action.pick(\"telecomando\")</td>\n",
       "      <td>False</td>\n",
       "      <td>action.pick(\"uthao\")</td>\n",
       "      <td>False</td>\n",
       "      <td>action.pick(\"remote\")</td>\n",
       "      <td>False</td>\n",
       "      <td>action.pick_place(\"puppet\", \"sofa\")</td>\n",
       "      <td>False</td>\n",
       "      <td>action.pick_place(\"remote control\", \"sofa\")</td>\n",
       "      <td>False</td>\n",
       "      <td>647.9</td>\n",
       "    </tr>\n",
       "    <tr>\n",
       "      <th>15</th>\n",
       "      <td>Lift the book and lay it on the bedside table</td>\n",
       "      <td>action.pick_place(\"book\", \"bedside table\")</td>\n",
       "      <td>action.pick(\"book\")</td>\n",
       "      <td>False</td>\n",
       "      <td>action.pick_place(\"book\", \"bed\")</td>\n",
       "      <td>False</td>\n",
       "      <td>action.pick(\"livre\")</td>\n",
       "      <td>False</td>\n",
       "      <td>action.pick(\"libro\")</td>\n",
       "      <td>False</td>\n",
       "      <td>action.pick_place(\"book\", \"nightstand\")</td>\n",
       "      <td>False</td>\n",
       "      <td>action.pick_place(\"book\", \"bedside table\")</td>\n",
       "      <td>True</td>\n",
       "      <td>action.pick_place(\"book\", \"table edge\")</td>\n",
       "      <td>False</td>\n",
       "      <td>action.pick_place(\"book\", \"bedside table\")</td>\n",
       "      <td>True</td>\n",
       "      <td>action.pick_place(\"book\", \"bedside table\")</td>\n",
       "      <td>True</td>\n",
       "      <td>517.4</td>\n",
       "    </tr>\n",
       "    <tr>\n",
       "      <th>16</th>\n",
       "      <td>Reach for the sunglasses sitting on the table.</td>\n",
       "      <td>action.pick_place(\"sunglasses\", \"table\")</td>\n",
       "      <td>action.pick_place(\"sunglasses\", \"table\")</td>\n",
       "      <td>True</td>\n",
       "      <td>action.pick_place(\"sansa\", \"desk\")</td>\n",
       "      <td>False</td>\n",
       "      <td>action.pick(\"sunglasses\")</td>\n",
       "      <td>False</td>\n",
       "      <td>action.pick_place(\"sunglasses\", \"table\")</td>\n",
       "      <td>True</td>\n",
       "      <td>action.pick(\"sunglasses\")</td>\n",
       "      <td>False</td>\n",
       "      <td>action.pick(\"sunglasses\")</td>\n",
       "      <td>False</td>\n",
       "      <td>action.pick(\"cermin mata hitam\")</td>\n",
       "      <td>False</td>\n",
       "      <td>action.pick_place(\"sun protection glasses\", \"t...</td>\n",
       "      <td>False</td>\n",
       "      <td>action.pick_place(\"sun glasses\", \"table\")</td>\n",
       "      <td>False</td>\n",
       "      <td>550.4</td>\n",
       "    </tr>\n",
       "    <tr>\n",
       "      <th>17</th>\n",
       "      <td>Grasp the towel and hang it on the hook</td>\n",
       "      <td>action.pick_place(\"towel\", \"hook\")</td>\n",
       "      <td>action.pick(\"towel\")</td>\n",
       "      <td>False</td>\n",
       "      <td>action.pick(\"taoliya\")</td>\n",
       "      <td>False</td>\n",
       "      <td>action.pick_place(\"towel\", \"hook\")</td>\n",
       "      <td>True</td>\n",
       "      <td>action.pick(\"towel\")</td>\n",
       "      <td>False</td>\n",
       "      <td>action.pick(\"asciugamano\")</td>\n",
       "      <td>False</td>\n",
       "      <td>action.pick(\"towel\")</td>\n",
       "      <td>False</td>\n",
       "      <td>action.pick(\"tuala\")</td>\n",
       "      <td>False</td>\n",
       "      <td>action.pick_place(\"towel\", \"hook\")</td>\n",
       "      <td>True</td>\n",
       "      <td>action.pick(\"\")</td>\n",
       "      <td>False</td>\n",
       "      <td>631.0</td>\n",
       "    </tr>\n",
       "    <tr>\n",
       "      <th>18</th>\n",
       "      <td>Reach for the jacket and drape it over the chair.</td>\n",
       "      <td>action.pick_place(\"jacket\", \"chair\")</td>\n",
       "      <td>action.pick(\"jacket\")</td>\n",
       "      <td>False</td>\n",
       "      <td>action.pick_place(\"hand\", \"jacket\")</td>\n",
       "      <td>False</td>\n",
       "      <td>action.pick(\"vest\")</td>\n",
       "      <td>False</td>\n",
       "      <td>action.pick_place(\"chaqueta\", \"silla\")</td>\n",
       "      <td>False</td>\n",
       "      <td>action.pick(\"giacca\")</td>\n",
       "      <td>False</td>\n",
       "      <td>action.pick_place(\"jacket padded\", \"seat\")</td>\n",
       "      <td>False</td>\n",
       "      <td>action.pick_place(\"jacket\", \"table\")</td>\n",
       "      <td>False</td>\n",
       "      <td>action.pick_place(\"jacket\", \"stool\")</td>\n",
       "      <td>False</td>\n",
       "      <td>action.pick(\"\")</td>\n",
       "      <td>False</td>\n",
       "      <td>652.8</td>\n",
       "    </tr>\n",
       "    <tr>\n",
       "      <th>19</th>\n",
       "      <td>Would you mind fetching that book from the she...</td>\n",
       "      <td>action.pick_place(\"book\", \"coffee table\")</td>\n",
       "      <td>action.pick_place(\"book\", \"shelf\")</td>\n",
       "      <td>False</td>\n",
       "      <td>action.pick(\"book\")</td>\n",
       "      <td>False</td>\n",
       "      <td>action.pick_place(\"book\", \"shelf\")</td>\n",
       "      <td>False</td>\n",
       "      <td>action.pick_place(\"book\", \"center table\")</td>\n",
       "      <td>False</td>\n",
       "      <td>action.pick_place(\"that book\", \"shelf\")</td>\n",
       "      <td>False</td>\n",
       "      <td>action.pick(\"book\")</td>\n",
       "      <td>False</td>\n",
       "      <td>action.pick_place(\"book\", \"rack\")</td>\n",
       "      <td>False</td>\n",
       "      <td>action.pick_place(\"book\", \"shelf\")</td>\n",
       "      <td>False</td>\n",
       "      <td>action.pick_place(\"books\", \"teacup\")</td>\n",
       "      <td>False</td>\n",
       "      <td>778.4</td>\n",
       "    </tr>\n",
       "    <tr>\n",
       "      <th>20</th>\n",
       "      <td>Please put the dish in the dishwasher</td>\n",
       "      <td>action.pick_place(\"dish\", \"dishwasher\")</td>\n",
       "      <td>action.pick_place(\"dish\", \"dishwasher\")</td>\n",
       "      <td>True</td>\n",
       "      <td>action.pick(\"disks\")</td>\n",
       "      <td>False</td>\n",
       "      <td>action.pick_place(\"plat\", \"lave-vaisselle\")</td>\n",
       "      <td>False</td>\n",
       "      <td>action.pick_place(\"plate\", \"dishwasher\")</td>\n",
       "      <td>False</td>\n",
       "      <td>action.pick_place(\"piatto\", \"lavastoviglie\")</td>\n",
       "      <td>False</td>\n",
       "      <td>action.pick_place(\"bartan\", \"dishwasher\")</td>\n",
       "      <td>False</td>\n",
       "      <td>action.pick_place(\"pinggan\", \"mesin basuh ping...</td>\n",
       "      <td>False</td>\n",
       "      <td>action.pick_place(\"dishes\", \"dishwasher\")</td>\n",
       "      <td>False</td>\n",
       "      <td>action.pick_place(\"plate\", \"sink\")</td>\n",
       "      <td>False</td>\n",
       "      <td>614.9</td>\n",
       "    </tr>\n",
       "    <tr>\n",
       "      <th>21</th>\n",
       "      <td>Bin the banana peel</td>\n",
       "      <td>action.pick_place(\"banana peel\", \"bin\")</td>\n",
       "      <td>action.pick_place(\"banana peel\", \"bin\")</td>\n",
       "      <td>True</td>\n",
       "      <td>action.pick_place(\"kale leaves\", \"pocket\")</td>\n",
       "      <td>False</td>\n",
       "      <td>action.pick(\"skin of banana\")</td>\n",
       "      <td>False</td>\n",
       "      <td>action.pick(\"cscara de pltano\")</td>\n",
       "      <td>False</td>\n",
       "      <td>action.pick(\"banana peel\")</td>\n",
       "      <td>False</td>\n",
       "      <td>action.pick(\"dustbin\")</td>\n",
       "      <td>False</td>\n",
       "      <td>action.pick_place(\"skin of banana\", \"trash bin\")</td>\n",
       "      <td>False</td>\n",
       "      <td>action.pick_place(\"banana peel\", \"trash bin\")</td>\n",
       "      <td>False</td>\n",
       "      <td>action.pick_place(\"banana peel\", \"trash can\")</td>\n",
       "      <td>False</td>\n",
       "      <td>678.5</td>\n",
       "    </tr>\n",
       "  </tbody>\n",
       "</table>\n",
       "</div>"
      ],
      "text/plain": [
       "                                                 task  \\\n",
       "1                pick the ball and place on the table   \n",
       "2         pick the red ball and place in the blue box   \n",
       "3       pickup the tennis ball and place on the table   \n",
       "4                         pickup the banana and dance   \n",
       "5                             put the ball in the box   \n",
       "6                             put the bread in tiffin   \n",
       "7                     put the flower pot on the table   \n",
       "8                         keep the apple on the plate   \n",
       "9                       place the bread in the tiffin   \n",
       "10                          throw the coke in the bin   \n",
       "11                            grab the soldering iron   \n",
       "12                                    grab the bottle   \n",
       "13                          Pick up the fallen pencil   \n",
       "14           Grab the remote and toss it on the couch   \n",
       "15      Lift the book and lay it on the bedside table   \n",
       "16     Reach for the sunglasses sitting on the table.   \n",
       "17            Grasp the towel and hang it on the hook   \n",
       "18  Reach for the jacket and drape it over the chair.   \n",
       "19  Would you mind fetching that book from the she...   \n",
       "20              Please put the dish in the dishwasher   \n",
       "21                                Bin the banana peel   \n",
       "\n",
       "                                           ans  \\\n",
       "1           action.pick_place(\"ball\", \"table\")   \n",
       "2    action.pick_place(\"red ball\", \"blue box\")   \n",
       "3    action.pick_place(\"tennis ball\", \"table\")   \n",
       "4                        action.pick(\"banana\")   \n",
       "5             action.pick_place(\"ball\", \"box\")   \n",
       "6         action.pick_place(\"bread\", \"tiffin\")   \n",
       "7     action.pick_place(\"flower pot\", \"table\")   \n",
       "8          action.pick_place(\"apple\", \"plate\")   \n",
       "9         action.pick_place(\"bread\", \"tiffin\")   \n",
       "10            action.pick_place(\"coke\", \"bin\")   \n",
       "11               action.pick(\"soldering iron\")   \n",
       "12                       action.pick(\"bottle\")   \n",
       "13                       action.pick(\"pencil\")   \n",
       "14        action.pick_place(\"remote\", \"couch\")   \n",
       "15  action.pick_place(\"book\", \"bedside table\")   \n",
       "16    action.pick_place(\"sunglasses\", \"table\")   \n",
       "17          action.pick_place(\"towel\", \"hook\")   \n",
       "18        action.pick_place(\"jacket\", \"chair\")   \n",
       "19   action.pick_place(\"book\", \"coffee table\")   \n",
       "20     action.pick_place(\"dish\", \"dishwasher\")   \n",
       "21     action.pick_place(\"banana peel\", \"bin\")   \n",
       "\n",
       "                                       en_raw     en  \\\n",
       "1          action.pick_place(\"ball\", \"table\")   True   \n",
       "2   action.pick_place(\"red ball\", \"blue box\")   True   \n",
       "3   action.pick_place(\"tennis ball\", \"table\")   True   \n",
       "4                 action.pick_place(\"banana\")  False   \n",
       "5            action.pick_place(\"ball\", \"box\")   True   \n",
       "6        action.pick_place(\"bread\", \"tiffin\")   True   \n",
       "7    action.pick_place(\"flower pot\", \"table\")   True   \n",
       "8         action.pick_place(\"apple\", \"plate\")   True   \n",
       "9        action.pick_place(\"bread\", \"tiffin\")   True   \n",
       "10           action.pick_place(\"coke\", \"bin\")   True   \n",
       "11              action.pick(\"soldering iron\")   True   \n",
       "12                      action.pick(\"bottle\")   True   \n",
       "13                      action.pick(\"pencil\")   True   \n",
       "14                      action.pick(\"remote\")  False   \n",
       "15                        action.pick(\"book\")  False   \n",
       "16   action.pick_place(\"sunglasses\", \"table\")   True   \n",
       "17                       action.pick(\"towel\")  False   \n",
       "18                      action.pick(\"jacket\")  False   \n",
       "19         action.pick_place(\"book\", \"shelf\")  False   \n",
       "20    action.pick_place(\"dish\", \"dishwasher\")   True   \n",
       "21    action.pick_place(\"banana peel\", \"bin\")   True   \n",
       "\n",
       "                                               hi_raw     hi  \\\n",
       "1                                 action.pick(\"gift\")  False   \n",
       "2               action.pick_place(\"ball\", \"blue box\")  False   \n",
       "3                                    action.pick(\" \")  False   \n",
       "4                  action.pick_place(\"kala\", \"above\")  False   \n",
       "5                     action.pick_place(\"bag\", \"box\")  False   \n",
       "6                action.pick_place(\"breed\", \"pocket\")  False   \n",
       "7        action.pick_place(\"flower bouquet\", \"table\")  False   \n",
       "8                 action.pick_place(\"apple\", \"plate\")   True   \n",
       "9                                action.pick(\"bread\")  False   \n",
       "10                          action.pick_place(\"\", \"\")  False   \n",
       "11               action.pick(\"soldiering aaron pack\")  False   \n",
       "12  action.pick_place(\"bottle\", \"location where bo...  False   \n",
       "13                              action.pick(\"pencil\")   True   \n",
       "14                        pick_place(\"rimot\", \"sofe\")  False   \n",
       "15                   action.pick_place(\"book\", \"bed\")  False   \n",
       "16                 action.pick_place(\"sansa\", \"desk\")  False   \n",
       "17                             action.pick(\"taoliya\")  False   \n",
       "18                action.pick_place(\"hand\", \"jacket\")  False   \n",
       "19                                action.pick(\"book\")  False   \n",
       "20                               action.pick(\"disks\")  False   \n",
       "21         action.pick_place(\"kale leaves\", \"pocket\")  False   \n",
       "\n",
       "                                         fr_raw     fr  \\\n",
       "1                           action.pick(\"ball\")  False   \n",
       "2                       action.pick(\"red ball\")  False   \n",
       "3     action.pick_place(\"tennis ball\", \"table\")   True   \n",
       "4                         action.pick(\"banana\")   True   \n",
       "5              action.pick_place(\"ball\", \"box\")   True   \n",
       "6          action.pick_place(\"bread\", \"tiffin\")   True   \n",
       "7                 action.pick(\"pot of flowers\")  False   \n",
       "8           action.pick_place(\"apple\", \"plate\")   True   \n",
       "9          action.pick_place(\"bread\", \"tiffin\")   True   \n",
       "10                          action.pick(\"coca\")  False   \n",
       "11                   action.pick(\"fer  souder\")  False   \n",
       "12                        action.pick(\"bottle\")   True   \n",
       "13                        action.pick(\"crayon\")  False   \n",
       "14     action.pick(\"television remote control\")  False   \n",
       "15                         action.pick(\"livre\")  False   \n",
       "16                    action.pick(\"sunglasses\")  False   \n",
       "17           action.pick_place(\"towel\", \"hook\")   True   \n",
       "18                          action.pick(\"vest\")  False   \n",
       "19           action.pick_place(\"book\", \"shelf\")  False   \n",
       "20  action.pick_place(\"plat\", \"lave-vaisselle\")  False   \n",
       "21                action.pick(\"skin of banana\")  False   \n",
       "\n",
       "                                       es_raw     es  \\\n",
       "1          action.pick_place(\"ball\", \"table\")   True   \n",
       "2   action.pick_place(\"red ball\", \"blue box\")   True   \n",
       "3   action.pick_place(\"tennis ball\", \"table\")   True   \n",
       "4                      action.pick(\"platano\")  False   \n",
       "5         action.pick_place(\"pelota\", \"caja\")  False   \n",
       "6       action.pick_place(\"pan\", \"fiambrera\")  False   \n",
       "7         action.pick_place(\"maceta\", \"mesa\")  False   \n",
       "8         action.pick_place(\"apple\", \"plate\")   True   \n",
       "9       action.pick_place(\"pan\", \"fiambrera\")  False   \n",
       "10                        action.pick(\"coca\")  False   \n",
       "11                    action.pick(\"soldador\")  False   \n",
       "12                      action.pick(\"botell\")  False   \n",
       "13                       action.pick(\"lapel\")  False   \n",
       "14           action.pick(\"mando a distancia\")  False   \n",
       "15                       action.pick(\"libro\")  False   \n",
       "16   action.pick_place(\"sunglasses\", \"table\")   True   \n",
       "17                       action.pick(\"towel\")  False   \n",
       "18     action.pick_place(\"chaqueta\", \"silla\")  False   \n",
       "19  action.pick_place(\"book\", \"center table\")  False   \n",
       "20   action.pick_place(\"plate\", \"dishwasher\")  False   \n",
       "21            action.pick(\"cscara de pltano\")  False   \n",
       "\n",
       "                                             it_raw     it  \\\n",
       "1                              action.pick(\"palla\")  False   \n",
       "2                           action.pick(\"red ball\")  False   \n",
       "3                        action.pick(\"tennis ball\")  False   \n",
       "4                             action.pick(\"banana\")   True   \n",
       "5                  action.pick_place(\"ball\", \"box\")   True   \n",
       "6             action.pick_place(\"pan\", \"lunch box\")  False   \n",
       "7      action.pick_place(\"vaso di fiori\", \"tavolo\")  False   \n",
       "8               action.pick_place(\"apple\", \"plate\")   True   \n",
       "9   action.pick_place(\"pane\", \"scatola del pranzo\")  False   \n",
       "10                              action.pick(\"coca\")  False   \n",
       "11                    action.pick(\"soldering iron\")   True   \n",
       "12                            action.pick(\"bottle\")   True   \n",
       "13                            action.pick(\"matita\")  False   \n",
       "14                       action.pick(\"telecomando\")  False   \n",
       "15          action.pick_place(\"book\", \"nightstand\")  False   \n",
       "16                        action.pick(\"sunglasses\")  False   \n",
       "17                       action.pick(\"asciugamano\")  False   \n",
       "18                            action.pick(\"giacca\")  False   \n",
       "19          action.pick_place(\"that book\", \"shelf\")  False   \n",
       "20     action.pick_place(\"piatto\", \"lavastoviglie\")  False   \n",
       "21                       action.pick(\"banana peel\")  False   \n",
       "\n",
       "                                     hi-en_raw  hi-en  \\\n",
       "1                         action.pick(\"uthao\")  False   \n",
       "2             action.pick_place(\"ball\", \"box\")  False   \n",
       "3                   action.pick(\"tennis ball\")  False   \n",
       "4                          action.pick(\"karo\")  False   \n",
       "5                          action.pick(\"ball\")  False   \n",
       "6                         action.pick(\"bread\")  False   \n",
       "7     action.pick_place(\"flower pot\", \"table\")   True   \n",
       "8                         action.pick(\"plate\")  False   \n",
       "9         action.pick_place(\"bread\", \"tiffin\")   True   \n",
       "10                         action.pick(\"coke\")  False   \n",
       "11               action.pick(\"soldering iron\")   True   \n",
       "12                       action.pick(\"bottle\")   True   \n",
       "13                       action.pick(\"pencil\")   True   \n",
       "14                        action.pick(\"uthao\")  False   \n",
       "15  action.pick_place(\"book\", \"bedside table\")   True   \n",
       "16                   action.pick(\"sunglasses\")  False   \n",
       "17                        action.pick(\"towel\")  False   \n",
       "18  action.pick_place(\"jacket padded\", \"seat\")  False   \n",
       "19                         action.pick(\"book\")  False   \n",
       "20   action.pick_place(\"bartan\", \"dishwasher\")  False   \n",
       "21                      action.pick(\"dustbin\")  False   \n",
       "\n",
       "                                               ms_raw     ms  \\\n",
       "1                                 action.pick(\"bola\")  False   \n",
       "2           action.pick_place(\"red ball\", \"blue box\")   True   \n",
       "3           action.pick_place(\"tennis ball\", \"table\")   True   \n",
       "4                               action.pick(\"pisang\")  False   \n",
       "5              action.pick_place(\"ball\", \"container\")  False   \n",
       "6                 action.pick_place(\"roti\", \"tiffin\")  False   \n",
       "7            action.pick_place(\"flower pot\", \"table\")   True   \n",
       "8   action.pick_place(\"epal di atas pinggan\", \"sto...  False   \n",
       "9                 action.pick_place(\"roti\", \"tiffin\")  False   \n",
       "10                                action.pick(\"coke\")  False   \n",
       "11                   action.pick(\"seterika pemateri\")  False   \n",
       "12                              action.pick(\"bottle\")   True   \n",
       "13                              action.pick(\"pensel\")  False   \n",
       "14                              action.pick(\"remote\")  False   \n",
       "15            action.pick_place(\"book\", \"table edge\")  False   \n",
       "16                   action.pick(\"cermin mata hitam\")  False   \n",
       "17                               action.pick(\"tuala\")  False   \n",
       "18               action.pick_place(\"jacket\", \"table\")  False   \n",
       "19                  action.pick_place(\"book\", \"rack\")  False   \n",
       "20  action.pick_place(\"pinggan\", \"mesin basuh ping...  False   \n",
       "21   action.pick_place(\"skin of banana\", \"trash bin\")  False   \n",
       "\n",
       "                                               ru_raw     ru  \\\n",
       "1                           action.pick_place(\"\", \"\")  False   \n",
       "2           action.pick_place(\"red ball\", \"blue box\")   True   \n",
       "3           action.pick_place(\"tennis ball\", \"table\")   True   \n",
       "4                               action.pick(\"banana\")   True   \n",
       "5                           action.pick_place(\"\", \"\")  False   \n",
       "6             action.pick_place(\"bread\", \"lunch box\")  False   \n",
       "7           action.pick_place(\"colored pot\", \"table\")  False   \n",
       "8                                action.pick(\"apple\")  False   \n",
       "9              action.pick_place(\"bread\", \"lunchbox\")  False   \n",
       "10                               action.pick(\"cocoa\")  False   \n",
       "11                              action.pick(\"pastry\")  False   \n",
       "12                              action.pick(\"bottle\")   True   \n",
       "13                       action.pick(\"fallen pencil\")  False   \n",
       "14                action.pick_place(\"puppet\", \"sofa\")  False   \n",
       "15         action.pick_place(\"book\", \"bedside table\")   True   \n",
       "16  action.pick_place(\"sun protection glasses\", \"t...  False   \n",
       "17                 action.pick_place(\"towel\", \"hook\")   True   \n",
       "18               action.pick_place(\"jacket\", \"stool\")  False   \n",
       "19                 action.pick_place(\"book\", \"shelf\")  False   \n",
       "20          action.pick_place(\"dishes\", \"dishwasher\")  False   \n",
       "21      action.pick_place(\"banana peel\", \"trash bin\")  False   \n",
       "\n",
       "                                           cn_raw     cn  avg_inference_ms  \n",
       "1                             action.pick(\"ball\")  False             578.3  \n",
       "2                         action.pick(\"red ball\")  False             534.6  \n",
       "3       action.pick_place(\"tennis ball\", \"table\")   True             613.9  \n",
       "4                           action.pick(\"banana\")   True             537.5  \n",
       "5                action.pick_place(\"ball\", \"box\")   True             437.0  \n",
       "6                       action.pick_place(\"\", \"\")  False             504.9  \n",
       "7       action.pick_place(\"flower vase\", \"table\")  False             528.0  \n",
       "8             action.pick_place(\"apple\", \"plate\")   True             458.7  \n",
       "9                       action.pick_place(\"\", \"\")  False             517.2  \n",
       "10  action.pick_place(\"coca-cola\", \"garbage can\")  False             554.3  \n",
       "11                    action.pick(\"red-hot iron\")  False             408.3  \n",
       "12                    action.pick(\"water bottle\")  False             403.6  \n",
       "13       action.pick_place(\"steel pen\", \"ground\")  False             577.5  \n",
       "14    action.pick_place(\"remote control\", \"sofa\")  False             647.9  \n",
       "15     action.pick_place(\"book\", \"bedside table\")   True             517.4  \n",
       "16      action.pick_place(\"sun glasses\", \"table\")  False             550.4  \n",
       "17                                action.pick(\"\")  False             631.0  \n",
       "18                                action.pick(\"\")  False             652.8  \n",
       "19           action.pick_place(\"books\", \"teacup\")  False             778.4  \n",
       "20             action.pick_place(\"plate\", \"sink\")  False             614.9  \n",
       "21  action.pick_place(\"banana peel\", \"trash can\")  False             678.5  "
      ]
     },
     "metadata": {},
     "output_type": "display_data"
    },
    {
     "name": "stdout",
     "output_type": "stream",
     "text": [
      "=== RESULT ===\n",
      "en: 15/21 = 71.4%\n",
      "hi: 2/21 = 9.5%\n",
      "fr: 8/21 = 38.1%\n",
      "es: 5/21 = 23.8%\n",
      "it: 5/21 = 23.8%\n",
      "hi-en: 6/21 = 28.6%\n",
      "ms: 4/21 = 19.0%\n",
      "ru: 6/21 = 28.6%\n",
      "cn: 5/21 = 23.8%\n"
     ]
    }
   ],
   "source": [
    "pd.set_option('display.max_columns', None)\n",
    "RESULTS2_DF = pd.DataFrame(RESULTS_2)\n",
    "RESULTS2_DF.index += 1 # to count from 1\n",
    "display(RESULTS2_DF)\n",
    "\n",
    "correct_count = {}\n",
    "for lang in QUESTIONS[0]['qset']:\n",
    "    correct_count[lang] = 0\n",
    "\n",
    "num_of_questions = len(QUESTIONS)\n",
    "\n",
    "print('=== RESULT ===')\n",
    "for lang in correct_count:\n",
    "    if not lang in RESULTS2_DF.columns:\n",
    "        continue\n",
    "\n",
    "    correct_count[lang] = RESULTS2_DF[lang].sum()\n",
    "    print('%s: %d/%d = %.1f%%' % (lang, correct_count[lang], num_of_questions, (correct_count[lang]/num_of_questions)*100))\n"
   ]
  },
  {
   "cell_type": "markdown",
   "metadata": {},
   "source": [
    "## Export Result"
   ]
  },
  {
   "cell_type": "code",
   "execution_count": 252,
   "metadata": {},
   "outputs": [],
   "source": [
    "# RESULTS_DF.to_csv(path_or_buf='./llm_results/phi3mini-q4-result1.csv')\n",
    "# RESULTS2_DF.to_csv(path_or_buf='./llm_results/phi3mini-q4-result2.csv')\n",
    "\n",
    "PROMPTS_TEMPLATE = {\n",
    "    'prompt1': [getPrompt('--TASK HERE--')],\n",
    "    'prompt2': [getPrompt2('--TASK HERE--')]\n",
    "}\n",
    "PROMPTS_TEMPLATE_DF = pd.DataFrame(data=PROMPTS_TEMPLATE)\n",
    "\n",
    "with pd.ExcelWriter(path='./llm_results/phi3mini-q4-results.xlsx') as writer:\n",
    "    PROMPTS_TEMPLATE_DF.to_excel(writer, sheet_name='prompts-template')\n",
    "    RESULTS_DF.to_excel(writer, sheet_name='prompt1-result')\n",
    "    RESULTS2_DF.to_excel(writer, sheet_name='prompt2-result')\n"
   ]
  },
  {
   "cell_type": "markdown",
   "metadata": {},
   "source": [
    "## Dynamic Translation Insertion"
   ]
  },
  {
   "cell_type": "code",
   "execution_count": 162,
   "metadata": {},
   "outputs": [],
   "source": [
    "def insertTranslationToQuestions(translations: list, lang_code: str) -> None:\n",
    "    if len(translations) != len(QUESTIONS):\n",
    "        print('Length mismatch')\n",
    "        return None\n",
    "    \n",
    "    i = 0\n",
    "    for qblock in QUESTIONS:\n",
    "        qblock['qset'][lang_code] = translations[i]\n",
    "        i += 1\n",
    "    \n",
    "    return None"
   ]
  },
  {
   "cell_type": "code",
   "execution_count": 125,
   "metadata": {},
   "outputs": [
    {
     "data": {
      "text/plain": [
       "['pick the ball and place on the table',\n",
       " 'pick the red ball and place in the blue box',\n",
       " 'pickup the tennis ball and place on the table',\n",
       " 'pickup the banana and dance',\n",
       " 'put the ball in the box',\n",
       " 'put the bread in tiffin',\n",
       " 'put the flower pot on the table',\n",
       " 'keep the apple on the plate',\n",
       " 'place the bread in the tiffin',\n",
       " 'throw the coke in the bin',\n",
       " 'grab the soldering iron',\n",
       " 'grab the bottle',\n",
       " 'Pick up the fallen pencil',\n",
       " 'Grab the remote and toss it on the couch',\n",
       " 'Lift the book and lay it on the bedside table',\n",
       " 'Reach for the sunglasses sitting on the table.',\n",
       " 'Grasp the towel and hang it on the hook',\n",
       " 'Reach for the jacket and drape it over the chair.',\n",
       " 'Would you mind fetching that book from the shelf and placing it on the coffee table, please?',\n",
       " 'Please put the dish in the dishwasher',\n",
       " 'Bin the banana peel']"
      ]
     },
     "execution_count": 125,
     "metadata": {},
     "output_type": "execute_result"
    }
   ],
   "source": [
    "# print en questions to insert in translator AI.\n",
    "temp = []\n",
    "for qblock in QUESTIONS:\n",
    "    temp.append(qblock['qset']['en'])\n",
    "\n",
    "temp"
   ]
  },
  {
   "cell_type": "code",
   "execution_count": 209,
   "metadata": {},
   "outputs": [],
   "source": [
    "# translated by google bard\n",
    "fr_bard = [\n",
    "    \"Ramasse la balle et pose-la sur la table.\",  # pick the ball and place on the table\n",
    "    \"Ramasse la balle rouge et mets-la dans la boîte bleue.\",  # pick the red ball and place in the blue box\n",
    "    \"Ramasse la balle de tennis et pose-la sur la table.\",  # pickup the tennis ball and place on the table\n",
    "    \"Ramasse la banane et danse.\",  # pickup the banana and dance (unchanged)\n",
    "    \" Mets la balle dans la boîte.\",  # put the ball in the box\n",
    "    \" Mets le pain dans le tiffin.\",  # put the bread in tiffin (assuming tiffin is a lunchbox)\n",
    "    \"Pose le pot de fleurs sur la table.\",  # put the flower pot on the table\n",
    "    \"Garde la pomme sur l'assiette.\",  # keep the apple on the plate\n",
    "    \"Place le pain dans le tiffin.\",  # place the bread in the tiffin\n",
    "    \"Jette le coca dans la poubelle.\",  # throw the coke in the bin\n",
    "    \"Attrape le fer à souder.\",  # grab the soldering iron\n",
    "    \"Attrape la bouteille.\",  # grab the bottle\n",
    "    \"Ramasse le crayon tombé.\",  # Pick up the fallen pencil\n",
    "    \"Attrape la télécommande et jette-la sur le canapé.\",  # Grab the remote and toss it on the couch\n",
    "    \"Soulève le livre et pose-le sur la table de chevet.\",  # Lift the book and lay it on the bedside table\n",
    "    \"Attrape les lunettes de soleil posées sur la table.\",  # Reach for the sunglasses sitting on the table\n",
    "    \"Saisis la serviette et accroche-la au crochet.\",  # Grasp the towel and hang it on the hook\n",
    "    \"Attrape la veste et drape-la sur la chaise.\",  # Reach for the jacket and drape it over the chair\n",
    "    \"Pourriez-vous avoir la gentillesse de prendre ce livre sur l'étagère et de le poser sur la table basse, s'il vous plaît ?\",  # Would you mind fetching that book from the shelf and placing it on the coffee table, please?\n",
    "    \"Veuillez mettre le plat au lave-vaisselle, s'il vous plaît.\",  # Please put the dish in the dishwasher\n",
    "    \"Jette la peau de banane à la poubelle.\",  # Bin the banana peel\n",
    "]\n",
    "\n",
    "fr_chatgpt = [\n",
    "    'Prenez la balle et placez-la sur la table',\n",
    "    'Prenez la balle rouge et placez-la dans la boîte bleue',\n",
    "    'Prenez la balle de tennis et placez-la sur la table',\n",
    "    'Prenez la banane et dansez',\n",
    "    'Mettez la balle dans la boîte',\n",
    "    'Mettez le pain dans la boîte à lunch',\n",
    "    'Placez le pot de fleurs sur la table',\n",
    "    'Gardez la pomme sur l\\'assiette',\n",
    "    'Placez le pain dans la boîte à lunch',\n",
    "    'Jetez le Coca à la poubelle',\n",
    "    'Attrapez le fer à souder',\n",
    "    'Attrapez la bouteille',\n",
    "    'Ramassez le crayon tombé',\n",
    "    'Attrapez la télécommande et jetez-la sur le canapé',\n",
    "    'Soulevez le livre et posez-le sur la table de chevet',\n",
    "    'Attrapez les lunettes de soleil posées sur la table.',\n",
    "    'Saisissez la serviette et accrochez-la au crochet',\n",
    "    'Attrapez la veste et posez-la sur la chaise.',\n",
    "    'Pourriez-vous aller chercher ce livre sur l\\'étagère et le mettre sur la table basse, s\\'il vous plaît?',\n",
    "    'S\\'il vous plaît, mettez la vaisselle dans le lave-vaisselle',\n",
    "    'Jetez l\\'épluchure de banane à la poubelle'\n",
    "]\n",
    "\n",
    "es_bard = [\n",
    "    'Coge la pelota y colócala en la mesa.',\n",
    "    'Coge la pelota roja y colócala en la caja azul.',\n",
    "    'Recoge la pelota de tenis y colócala en la mesa.',\n",
    "    'Recoge el plátano y baila.',\n",
    "    'Pon la pelota en la caja.',\n",
    "    'Pon el pan en la fiambrera.',\n",
    "    'Pon la maceta en la mesa.',\n",
    "    'Deja la manzana en el plato.',\n",
    "    'Coloca el pan en la fiambrera.',\n",
    "    'Tira la coca en la basura.',\n",
    "    'Agarra el soldador.',\n",
    "    'Agarra la botella.',\n",
    "    'Recoge el lápiz que se ha caído.',\n",
    "    'Coge el mando a distancia y tíralo en el sofá.',\n",
    "    'Levanta el libro y déjalo en la mesita de noche.',\n",
    "    'Coge las gafas de sol que están en la mesa.',\n",
    "    'Toma la toalla y cuélgala en el gancho.',\n",
    "    'Coge la chaqueta y colócala sobre la silla.',\n",
    "    '¿Te importaría coger ese libro del estante y ponerlo en la mesa de centro, por favor?',\n",
    "    'Por favor, pon el plato en el lavavajillas.',\n",
    "    'Tira la cáscara de plátano a la basura.'\n",
    "]\n",
    "\n",
    "it_bard = [\n",
    "    'Prendi la palla e mettila sul tavolo.',\n",
    "    'Prendi la palla rossa e mettila nella scatola blu.',\n",
    "    'Raccogli la palla da tennis e mettila sul tavolo.',\n",
    "    'Raccogli la banana e balla.',\n",
    "    'Metti la palla nella scatola.',\n",
    "    'Metti il pane nella scatola del pranzo.',\n",
    "    'Metti il vaso di fiori sul tavolo.',\n",
    "    'Tieni la mela sul piatto.',\n",
    "    'Metti il pane nella scatola del pranzo.',\n",
    "    'Getta la coca nella spazzatura.',\n",
    "    'Prendi il saldatore.',\n",
    "    'Prendi la bottiglia.',\n",
    "    'Raccogli la matita caduta.',\n",
    "    'Prendi il telecomando e gettalo sul divano.',\n",
    "    'Solleva il libro e poggialo sul comodino.',\n",
    "    'Prendi gli occhiali da sole che sono sul tavolo.',\n",
    "    'Afferra l\\'asciugamano e appendilo al gancio.',\n",
    "    'Prendi la giacca e drappeggiala sulla sedia.',\n",
    "    'Ti dispiace prendere quel libro dallo scaffale e metterlo sul tavolino, per favore?',\n",
    "    'Per favore, metti il piatto in lavastoviglie.',\n",
    "    'Getta la buccia di banana nella spazzatura.'\n",
    "]\n",
    "\n",
    "hi_chatgpt = [\n",
    "    'गेंद उठाओ और मेज़ पर रखो',\n",
    "    'लाल गेंद उठाओ और नीली डिब्बे में रखो',\n",
    "    'टेनिस गेंद उठाओ और मेज़ पर रखो',\n",
    "    'केला उठाओ और नाचो',\n",
    "    'गेंद को डिब्बे में रखो',\n",
    "    'टिफिन में ब्रेड डालो',\n",
    "    'फूलदान को मेज़ पर रखो',\n",
    "    'सेब को प्लेट पर रखो',\n",
    "    'ब्रेड को टिफिन में रखो',\n",
    "    'कोक को कूड़े में डालो',\n",
    "    'सोल्डरिंग आयरन पकड़ो',\n",
    "    'बोतल को पकड़ो',\n",
    "    'गिरी हुई पेंसिल उठाओ',\n",
    "    'रिमोट पकड़ो और सोफ़े पर फेंक दो',\n",
    "    'किताब उठाओ और बिस्तर के ऊपर रख दो',\n",
    "    'मेज़ पर बैठे सनग्लास को छूने के लिए हाथ बढ़ाओ',\n",
    "    'तौलिया पकड़ो और हुक पर लटका दो',\n",
    "    'जैकेट के लिए हाथ बढ़ाओ और कुर्सी पर ढाल दो',\n",
    "    'क्या आप उस किताब को शेल्फ से लेकर कॉफी टेबल पर रख सकते हैं?',\n",
    "    'कृपया डिश को डिशवॉशर में डालें',\n",
    "    'केले की छिलका कूड़े में डाल दो'\n",
    "]\n",
    "\n",
    "hi_en_bard = [\n",
    "    'gend ko uthao aur table pe rakho',\n",
    "    'lal ball ko uthao aur neele box mein rakho',\n",
    "    'tennis ball pick karo and table pe rakho',\n",
    "    'kela pick karo and dance karo',\n",
    "    'ball box mein rakho',\n",
    "    'bread ko tiffin mein rakho',\n",
    "    'flower pot table pe rakho',\n",
    "    'seb plate pe rakho',\n",
    "    'bread ko tiffin mein rakho',\n",
    "    'coke ko dustbin mein fenk do',\n",
    "    'soldering iron pakdo',\n",
    "    'bottle pakdo',\n",
    "    'giri hui pencil uthao',\n",
    "    'remote uthao and sofa pe phenko',\n",
    "    'pustak uthao and bedside table pe rakho',\n",
    "    'table pe rakhe hue sunglasses le lo',\n",
    "    'towel pakdo and hook pe taango',\n",
    "    'jacket pakdo and kursi pe latkao',\n",
    "    'kya aap woh book shelf se lekar coffee table pe rakh sakte hain, please?',\n",
    "    'kripya, bartan ko dishwasher mein rakhen',\n",
    "    'kela ke chilke ko dustbin mein fenk do'\n",
    "]\n",
    "\n",
    "ms_bard = [\n",
    "    'Ambil bola dan letakkan di atas meja.',\n",
    "    'Ambil bola merah dan letakkan di dalam kotak biru.',\n",
    "    'Ambil bola tenis dan letakkan di atas meja.',\n",
    "    'Ambil pisang dan menari.',\n",
    "    'Masukkan bola ke dalam kotak.',\n",
    "    'Masukkan roti ke dalam tiffin.',\n",
    "    'Letakkan pasu bunga di atas meja.',\n",
    "    'Simpan epal di atas pinggan.',\n",
    "    'Letakkan roti ke dalam tiffin.',\n",
    "    'Buang coke ke dalam tong sampah.',\n",
    "    'Pegang seterika pemateri.',\n",
    "    'Pegang botol.',\n",
    "    'Ambil pensel yang terjatuh.',\n",
    "    'Ambil remote dan campakkannya ke atas sofa.',\n",
    "    'Angkat buku dan letakkannya di atas meja tepi katil.',\n",
    "    'Ambil cermin mata hitam yang ada di atas meja.',\n",
    "    'Pegang tuala dan gantungkannya pada penyangkut.',\n",
    "    'Ambil jaket dan sangkutkannya di atas kerusi.',\n",
    "    'Bolehkah anda tolong ambil buku itu dari rak dan letakkannya di atas meja kopi, sila? (Bolehkan anda tolong ambil buku itu dari rak dan letakkannya di atas meja kopi, sila?)',\n",
    "    'Silakan masukkan pinggan ke dalam mesin basuh pinggan mangkuk.',\n",
    "    'Buang kulit pisang ke dalam tong sampah.'\n",
    "]\n",
    "\n",
    "ru_bard = [\n",
    "    'Возьмите мяч и положите его на стол',\n",
    "    'Возьмите красный мяч и положите его в синюю коробку',\n",
    "    'Поднимите теннисный мяч и положите его на стол',\n",
    "    'Возьмите банан и потанцуйте',\n",
    "    'Положите мяч в коробку',\n",
    "    'Положите хлеб в ланч-бокс',\n",
    "    'Поставьте цветочный горшок на стол',\n",
    "    'Оставьте яблоко на тарелке',\n",
    "    'Положите хлеб в ланч-бокс',\n",
    "    'Выбросьте кока-колу в мусорное ведро',\n",
    "    'Возьмите паяльник',\n",
    "    'Возьмите бутылку',\n",
    "    'Поднимите упавший карандаш',\n",
    "    'Возьмите пульт и бросьте его на диван',\n",
    "    'Поднимите книгу и положите ее на тумбочку',\n",
    "    'Возьмите солнцезащитные очки, которые лежат на столе',\n",
    "    'Возьмите полотенце и повесьте его на крючок',\n",
    "    'Возьмите куртку и накиньте ее на стул',\n",
    "    'Не могли бы вы взять эту книгу с полки и положить ее на журнальный столик, пожалуйста?',\n",
    "    'Пожалуйста, поставьте посуду в посудомоечную машину',\n",
    "    'Выбросьте банановую кожуру в мусорное ведро'\n",
    "]\n",
    "\n",
    "cn_bard = [\n",
    "    '拿起球，放到桌子上',\n",
    "    '拿起红色的球，放到蓝色的盒子里',\n",
    "    '捡起网球，放到桌子上',\n",
    "    '拿起香蕉，然后跳舞',\n",
    "    '把球放到盒子里',\n",
    "    '把面包放到饭盒里',\n",
    "    '把花盆放到桌子上',\n",
    "    '把苹果放在盘子里',\n",
    "    '把面包放到饭盒里',\n",
    "    '把可乐扔进垃圾桶',\n",
    "    '拿烙铁',\n",
    "    '拿水瓶',\n",
    "    '捡起掉在地上的铅笔',\n",
    "    '拿遥控器扔到沙发上',\n",
    "    '抬起书本，放到床头柜上',\n",
    "    '拿放在桌子上的太阳眼镜',\n",
    "    '拿毛巾把它挂在钩子上',\n",
    "    '拿夹克衫把它披在椅子上',\n",
    "    '请问可以麻烦您把那个架子上的书拿下来放到茶几上吗',\n",
    "    '请把盘子放进洗碗机',\n",
    "    '把香蕉皮扔进垃圾桶'\n",
    "]\n"
   ]
  },
  {
   "cell_type": "code",
   "execution_count": 210,
   "metadata": {},
   "outputs": [],
   "source": [
    "insertTranslationToQuestions(fr_bard, 'fr')\n",
    "insertTranslationToQuestions(es_bard, 'es')\n",
    "insertTranslationToQuestions(it_bard, 'it')\n",
    "insertTranslationToQuestions(hi_chatgpt, 'hi')\n",
    "insertTranslationToQuestions(hi_en_bard, 'hi-en')\n",
    "insertTranslationToQuestions(ms_bard, 'ms')\n",
    "insertTranslationToQuestions(ru_bard, 'ru')\n",
    "insertTranslationToQuestions(cn_bard, 'cn')"
   ]
  },
  {
   "cell_type": "code",
   "execution_count": null,
   "metadata": {},
   "outputs": [],
   "source": []
  }
 ],
 "metadata": {
  "kernelspec": {
   "display_name": "kinovaAi",
   "language": "python",
   "name": "python3"
  },
  "language_info": {
   "codemirror_mode": {
    "name": "ipython",
    "version": 3
   },
   "file_extension": ".py",
   "mimetype": "text/x-python",
   "name": "python",
   "nbconvert_exporter": "python",
   "pygments_lexer": "ipython3",
   "version": "3.10.14"
  }
 },
 "nbformat": 4,
 "nbformat_minor": 2
}
